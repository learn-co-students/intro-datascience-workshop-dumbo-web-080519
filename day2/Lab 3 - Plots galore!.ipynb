{
 "cells": [
  {
   "cell_type": "markdown",
   "metadata": {},
   "source": [
    "For this lab, you are going to take the data you had been working on in the previous two labs and plot them!"
   ]
  },
  {
   "cell_type": "markdown",
   "metadata": {},
   "source": [
    "Here is the schema of the trip dataset, found in `trip_data_1_trimmed.csv`:\n",
    "\n",
    "* `medallion`: The ID of the cab being operated\n",
    "* `hack_license`: The ID of the person operating the cab\n",
    "* `vendor_id`: The type of vendor operating the cab, can either be `CMT` or `VTS`, no clue what these two types mean\n",
    "* `rate_code`: Designates the kind of ride this is, must be `1` through `6`, any other number is incorrect\n",
    "* `store_and_fwd_flag`: Can be either `Y`,`N`, or Nan\n",
    "* `pickup_datetime`: The time when the ride started\n",
    "* `dropoff_datetime`: The time when the ride ended\n",
    "* `passenger_count`: The number of passengers during the ride\n",
    "* `trip_time_in_secs`: How long the trip took\n",
    "* `trip_distance`: Distance of the trip, to the nearest 1/10 mile\n",
    "* `pickup_longitude`: Longitude of pickup location\n",
    "* `pickup_latitude`: Latitude of pickup location\n",
    "* `dropoff_longitude`: Longitude of dropoff location\n",
    "* `dropoff_latitude`: Latitude of dropoff location\n",
    "\n",
    "And here is the schema for the fare dataset, found in `fare_data_1_trimmed.csv`:\n",
    "\n",
    "* `medallion`: The ID of the cab being operated\n",
    "* `hack_license`: The ID of the person operating the cab\n",
    "* `vendor_id`: The type of vendor operating the cab, can either be `CMT` or `VTS`, no clue what these two types mean\n",
    "* `pickup_datetime`: The time when the ride started\n",
    "* `payment_type`: How the trip was paid, `UNK` stands for unknown, I have no idea what `NOC` stands for, but lets assume its some known way to pay\n",
    "* `fare_amount`: Base fare cost of the trip\n",
    "* `surcharge`: Additional charges that are not tolls\n",
    "* `mta_tax`: The mta has to get its cut, right? :)\n",
    "* `tip_amount`: How generous the rider(s) decided to be\n",
    "* `tolls_amount`: How much money you had to pay in tolls\n",
    "* `total_amount`: How much the trip cost, all in"
   ]
  },
  {
   "cell_type": "markdown",
   "metadata": {},
   "source": [
    "Answer the following questions (using plots!):\n",
    "\n",
    "1. Plot the distribution of fares paid in the dataset (histogram):\n",
    "  * Across all time\n",
    "  * For weekends versus weekdays - 1) stacked (overlaid) and 2) in separate graphs\n",
    "* Plot the average tip paid as a function of distance:\n",
    "  * As a scatter plot  - use `kind=\"scatter\"`\n",
    "  * By creating a categorical variable with 3 levels - < 2 miles, 2-5 miles, > 5 miles\n",
    "* Plot the average tip amount as a function of the time of day (get the closest end time, to the closest minute, for the `dropoff_datetime`\n",
    "  * On a per-borough basis (use the dropoff location as the borough)\n",
    "* Plot the overall average tip amount:\n",
    "  * On a per-dropoff borough basis (bar graph), with error bars (use the standard deviation for the error)\n",
    "  * On a per-pickup borough basis\n",
    "* Plot the distribution of hour-of-pickup:\n",
    "  * Across all time\n",
    "  * For weekends and weekdays separately\n",
    "* Plot the average number of passengers per ride across the whole dataset, to the closest hour (this should be a timeseries):\n",
    "* "
   ]
  }
 ],
 "metadata": {
  "kernelspec": {
   "display_name": "Python 2",
   "language": "python",
   "name": "python2"
  },
  "language_info": {
   "codemirror_mode": {
    "name": "ipython",
    "version": 2
   },
   "file_extension": ".py",
   "mimetype": "text/x-python",
   "name": "python",
   "nbconvert_exporter": "python",
   "pygments_lexer": "ipython2",
   "version": "2.7.6"
  }
 },
 "nbformat": 4,
 "nbformat_minor": 0
}
