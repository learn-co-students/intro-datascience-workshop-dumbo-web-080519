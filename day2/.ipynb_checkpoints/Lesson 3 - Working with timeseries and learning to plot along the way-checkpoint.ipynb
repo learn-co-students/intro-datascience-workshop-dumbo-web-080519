{
 "cells": [
  {
   "cell_type": "markdown",
   "metadata": {},
   "source": [
    "## DAY 2 AGENDA:\n",
    "  * **An overview of things learned on day 1/finish up day 1 labs if necessary**\n",
    "  * **Effectively working with timeseries and incomplete data**\n",
    "  * **Learning to plot**\n",
    "  * **More advanced table manipulations**"
   ]
  },
  {
   "cell_type": "markdown",
   "metadata": {},
   "source": [
    "**WELCOME TO DAY 2 OF THE INTRO TO DATA SCIENCE WORKSHOP!**\n",
    "\n",
    "I hope you've learned a few things so far about the power of **Python** and **pandas** when leveraged on datasets that can't be properly handled using traditional tabular analysis tools.\n",
    "\n",
    "Today, we are going to scale back the size of the data we are going to be working with a bit (Only 500K rows this time), but we are going to focus on a type of dataset that we haven't explicitly talked about just yet but that crops up in almost every analytical project, either in industry or in academia...\n",
    "\n",
    "###Timeseries!!\n",
    "\n",
    "While working with timeseries we are also going to use some of the really cool plotting functionality of **pandas** to make our analyses a lot more convincing to the more visual people you're going to be showing/delivering your analyses to.\n",
    "\n",
    "But before all of that, let's briefly go over what we've learned so far."
   ]
  },
  {
   "cell_type": "markdown",
   "metadata": {},
   "source": [
    "Over the course of the first day we learned how to do the following:\n",
    "\n",
    "In **Lesson 1** we learned how to:\n",
    "\n",
    "* View parts of the dataset quickly using `datasetName.head()` and `datasetName.tail()`\n",
    "* Get the format of every column of the dataset using `datasetName.dtypes`\n",
    "* Get all of the unique values of a specific column using `datasetName.unique()`\n",
    "* Select columns and rows based on specific criteria by generating and applying masks\n",
    "* Subselect entire portions of a dataset based on criteria\n",
    "* Delete columns we are not interested in using `del datasetName[columnName]`\n",
    "* Format columns with time data into a time format using `pandas.to_datetime()` that then allows us to access many aspects of the times using `datasetName[timeColumn].dt`\n",
    "* Get the overall size and shape of the dataset (excluding the `index`) using `datasetName.shape`\n",
    "* Get summary statistics about the dataset or about specific columns using `datasetName[optionalColumnNames].describe()`\n",
    "* Group data based on certain columns using `datasetName.groupby()` and work with groups using:\n",
    "  * Predefined functions like `groupedDatasetName.size()` directly on the grouped objects\n",
    "  * Other functions that are passed to `groupedDatasetName.agg(yourFunctionHere)` like `mean` and `std` or functions that you create yourself\n",
    "  * Filters that remove data you are not interested in and spits out a new filtered, ungrouped dataset using `groupedDatasetName.filter(yourFilterFunction)` where `yourFilterFunction` can either be an anonymous functions (`lambda x: your function condition(s)`) or a standard python function (`def yourFunctionName(yourInputs): return your function condition(s)`)\n",
    "* Compute correlations and correlation matrices between various numeric columns in a dataset using `datasetName[columnName].corr(otherColumn)` or `datasetName.corr()`.\n",
    "\n",
    "In **Lesson 2** we learned how to:\n",
    "\n",
    "* Use some basic `str` functionality to format columns with text and create new columns from the formatting/parsing of the `string` values found within them.\n",
    "* Convert categorical variables, stored as `string` types, into indicator variables\n",
    "* Join 2 datasets along one or multiple keys using `yourDataset.merge(yourOtherDataset,on=joinKeys)`\n",
    "* Look for inconsistent data and remove it from our dataset"
   ]
  },
  {
   "cell_type": "code",
   "execution_count": 1,
   "metadata": {
    "collapsed": true
   },
   "outputs": [],
   "source": [
    "import pandas as pd\n",
    "import numpy as np\n",
    "import matplotlib.pyplot as plt\n",
    "pd.options.display.mpl_style = 'default'\n",
    "%matplotlib inline"
   ]
  },
  {
   "cell_type": "code",
   "execution_count": 2,
   "metadata": {
    "collapsed": false
   },
   "outputs": [],
   "source": [
    "priceData = pd.read_csv(\"./Crowd-Sourced_Price_Collection_CSV.csv\",index_col=0)"
   ]
  },
  {
   "cell_type": "code",
   "execution_count": 3,
   "metadata": {
    "collapsed": false
   },
   "outputs": [
    {
     "data": {
      "text/plain": [
       "(506728, 234)"
      ]
     },
     "execution_count": 3,
     "metadata": {},
     "output_type": "execute_result"
    }
   ],
   "source": [
    "priceData.shape"
   ]
  },
  {
   "cell_type": "code",
   "execution_count": 6,
   "metadata": {
    "collapsed": false
   },
   "outputs": [],
   "source": [
    "priceData = priceData.dropna(axis=1)"
   ]
  },
  {
   "cell_type": "code",
   "execution_count": 42,
   "metadata": {
    "collapsed": false
   },
   "outputs": [
    {
     "data": {
      "text/html": [
       "<div style=\"max-height:1000px;max-width:1500px;overflow:auto;\">\n",
       "<table border=\"1\" class=\"dataframe\">\n",
       "  <thead>\n",
       "    <tr style=\"text-align: right;\">\n",
       "      <th></th>\n",
       "      <th>Country</th>\n",
       "      <th>Location_Code</th>\n",
       "      <th>Location_Name</th>\n",
       "      <th>Outlet_Code</th>\n",
       "      <th>Outlet_Type</th>\n",
       "      <th>Obs_Date_(yyyy-MM-dd)</th>\n",
       "      <th>Product_Code</th>\n",
       "      <th>Product_Name</th>\n",
       "      <th>Pref._Qty</th>\n",
       "      <th>Obs._Qty</th>\n",
       "      <th>Quantity</th>\n",
       "      <th>Obs._UoM_Code</th>\n",
       "      <th>Obs_Price</th>\n",
       "      <th>Conv._Price</th>\n",
       "      <th>Price_Type_Name</th>\n",
       "      <th>Rejected</th>\n",
       "      <th>Currency</th>\n",
       "      <th>Date</th>\n",
       "    </tr>\n",
       "    <tr>\n",
       "      <th>Line</th>\n",
       "      <th></th>\n",
       "      <th></th>\n",
       "      <th></th>\n",
       "      <th></th>\n",
       "      <th></th>\n",
       "      <th></th>\n",
       "      <th></th>\n",
       "      <th></th>\n",
       "      <th></th>\n",
       "      <th></th>\n",
       "      <th></th>\n",
       "      <th></th>\n",
       "      <th></th>\n",
       "      <th></th>\n",
       "      <th></th>\n",
       "      <th></th>\n",
       "      <th></th>\n",
       "      <th></th>\n",
       "    </tr>\n",
       "  </thead>\n",
       "  <tbody>\n",
       "    <tr>\n",
       "      <th>1</th>\n",
       "      <td> Bangladesh</td>\n",
       "      <td> 1</td>\n",
       "      <td> Alipur</td>\n",
       "      <td> 2570</td>\n",
       "      <td> Supermarket</td>\n",
       "      <td> 2012-03-16</td>\n",
       "      <td> 11</td>\n",
       "      <td>      Rice, long grain</td>\n",
       "      <td>   1</td>\n",
       "      <td>   1</td>\n",
       "      <td>  1 kg</td>\n",
       "      <td> 1</td>\n",
       "      <td> 1.322750</td>\n",
       "      <td> 1.322750</td>\n",
       "      <td> Regular price</td>\n",
       "      <td> 0</td>\n",
       "      <td> USD</td>\n",
       "      <td>2012-03-16</td>\n",
       "    </tr>\n",
       "    <tr>\n",
       "      <th>2</th>\n",
       "      <td> Bangladesh</td>\n",
       "      <td> 1</td>\n",
       "      <td> Alipur</td>\n",
       "      <td> 2570</td>\n",
       "      <td> Supermarket</td>\n",
       "      <td> 2012-03-16</td>\n",
       "      <td> 12</td>\n",
       "      <td>   Rice, white, broken</td>\n",
       "      <td>   1</td>\n",
       "      <td>   1</td>\n",
       "      <td>  1 kg</td>\n",
       "      <td> 1</td>\n",
       "      <td> 0.577200</td>\n",
       "      <td> 0.577200</td>\n",
       "      <td> Regular price</td>\n",
       "      <td> 0</td>\n",
       "      <td> USD</td>\n",
       "      <td>2012-03-16</td>\n",
       "    </tr>\n",
       "    <tr>\n",
       "      <th>3</th>\n",
       "      <td> Bangladesh</td>\n",
       "      <td> 1</td>\n",
       "      <td> Alipur</td>\n",
       "      <td> 2570</td>\n",
       "      <td> Supermarket</td>\n",
       "      <td> 2012-03-16</td>\n",
       "      <td> 12</td>\n",
       "      <td>   Rice, white, broken</td>\n",
       "      <td>   1</td>\n",
       "      <td>   1</td>\n",
       "      <td>  1 kg</td>\n",
       "      <td> 1</td>\n",
       "      <td> 0.577200</td>\n",
       "      <td> 0.577200</td>\n",
       "      <td> Regular price</td>\n",
       "      <td> 0</td>\n",
       "      <td> USD</td>\n",
       "      <td>2012-03-16</td>\n",
       "    </tr>\n",
       "    <tr>\n",
       "      <th>4</th>\n",
       "      <td> Bangladesh</td>\n",
       "      <td> 1</td>\n",
       "      <td> Alipur</td>\n",
       "      <td> 2570</td>\n",
       "      <td> Supermarket</td>\n",
       "      <td> 2012-03-16</td>\n",
       "      <td> 13</td>\n",
       "      <td> Cornflakes, Kellogg's</td>\n",
       "      <td> 500</td>\n",
       "      <td> 500</td>\n",
       "      <td> 500 g</td>\n",
       "      <td> 2</td>\n",
       "      <td> 4.930249</td>\n",
       "      <td> 4.930249</td>\n",
       "      <td> Regular price</td>\n",
       "      <td> 0</td>\n",
       "      <td> USD</td>\n",
       "      <td>2012-03-16</td>\n",
       "    </tr>\n",
       "    <tr>\n",
       "      <th>5</th>\n",
       "      <td> Bangladesh</td>\n",
       "      <td> 1</td>\n",
       "      <td> Alipur</td>\n",
       "      <td> 2570</td>\n",
       "      <td> Supermarket</td>\n",
       "      <td> 2012-03-16</td>\n",
       "      <td> 14</td>\n",
       "      <td>          Flour, wheat</td>\n",
       "      <td>   1</td>\n",
       "      <td>   1</td>\n",
       "      <td>  1 kg</td>\n",
       "      <td> 1</td>\n",
       "      <td> 0.360750</td>\n",
       "      <td> 0.360750</td>\n",
       "      <td> Regular price</td>\n",
       "      <td> 0</td>\n",
       "      <td> USD</td>\n",
       "      <td>2012-03-16</td>\n",
       "    </tr>\n",
       "  </tbody>\n",
       "</table>\n",
       "</div>"
      ],
      "text/plain": [
       "         Country  Location_Code Location_Name  Outlet_Code  Outlet_Type  \\\n",
       "Line                                                                      \n",
       "1     Bangladesh              1        Alipur         2570  Supermarket   \n",
       "2     Bangladesh              1        Alipur         2570  Supermarket   \n",
       "3     Bangladesh              1        Alipur         2570  Supermarket   \n",
       "4     Bangladesh              1        Alipur         2570  Supermarket   \n",
       "5     Bangladesh              1        Alipur         2570  Supermarket   \n",
       "\n",
       "     Obs_Date_(yyyy-MM-dd)  Product_Code           Product_Name  Pref._Qty  \\\n",
       "Line                                                                         \n",
       "1               2012-03-16            11       Rice, long grain          1   \n",
       "2               2012-03-16            12    Rice, white, broken          1   \n",
       "3               2012-03-16            12    Rice, white, broken          1   \n",
       "4               2012-03-16            13  Cornflakes, Kellogg's        500   \n",
       "5               2012-03-16            14           Flour, wheat          1   \n",
       "\n",
       "      Obs._Qty Quantity  Obs._UoM_Code  Obs_Price  Conv._Price  \\\n",
       "Line                                                             \n",
       "1            1     1 kg              1   1.322750     1.322750   \n",
       "2            1     1 kg              1   0.577200     0.577200   \n",
       "3            1     1 kg              1   0.577200     0.577200   \n",
       "4          500    500 g              2   4.930249     4.930249   \n",
       "5            1     1 kg              1   0.360750     0.360750   \n",
       "\n",
       "     Price_Type_Name  Rejected Currency       Date  \n",
       "Line                                                \n",
       "1      Regular price         0      USD 2012-03-16  \n",
       "2      Regular price         0      USD 2012-03-16  \n",
       "3      Regular price         0      USD 2012-03-16  \n",
       "4      Regular price         0      USD 2012-03-16  \n",
       "5      Regular price         0      USD 2012-03-16  "
      ]
     },
     "execution_count": 42,
     "metadata": {},
     "output_type": "execute_result"
    }
   ],
   "source": [
    "priceData.columns = priceData.columns.map(lambda x: x.replace(\" \",\"_\"))\n",
    "priceData.head()"
   ]
  },
  {
   "cell_type": "code",
   "execution_count": 8,
   "metadata": {
    "collapsed": false
   },
   "outputs": [],
   "source": [
    "priceData[\"Date\"] = pd.to_datetime(priceData[\"Obs_Date_(yyyy-MM-dd)\"],format=\"%Y-%m-%d\",unit='D')"
   ]
  },
  {
   "cell_type": "code",
   "execution_count": 12,
   "metadata": {
    "collapsed": false
   },
   "outputs": [],
   "source": [
    "countryAvgPrices = priceData.groupby([\"Country\",\"Date\"])[\"Conv._Price\"].aggregate([np.mean,np.std])"
   ]
  },
  {
   "cell_type": "code",
   "execution_count": 58,
   "metadata": {
    "collapsed": false
   },
   "outputs": [],
   "source": [
    "avgPrices = priceData.groupby(\"Date\")[\"Conv._Price\"].mean()"
   ]
  },
  {
   "cell_type": "code",
   "execution_count": 60,
   "metadata": {
    "collapsed": false
   },
   "outputs": [
    {
     "data": {
      "text/plain": [
       "<matplotlib.axes._subplots.AxesSubplot at 0x11643afd0>"
      ]
     },
     "execution_count": 60,
     "metadata": {},
     "output_type": "execute_result"
    },
    {
     "data": {
      "image/png": "[encoded data removed]",
      "text/plain": [
       "<matplotlib.figure.Figure at 0x11643f250>"
      ]
     },
     "metadata": {},
     "output_type": "display_data"
    }
   ],
   "source": [
    "pd.rolling_mean(avgPrices,10).plot()"
   ]
  },
  {
   "cell_type": "code",
   "execution_count": null,
   "metadata": {
    "collapsed": true
   },
   "outputs": [],
   "source": []
  },
  {
   "cell_type": "code",
   "execution_count": 5,
   "metadata": {
    "collapsed": false
   },
   "outputs": [
    {
     "ename": "NameError",
     "evalue": "name 'countryAvgPrices' is not defined",
     "output_type": "error",
     "traceback": [
      "\u001b[0;31m---------------------------------------------------------------------------\u001b[0m",
      "\u001b[0;31mNameError\u001b[0m                                 Traceback (most recent call last)",
      "\u001b[0;32m<ipython-input-5-90a42613a9b9>\u001b[0m in \u001b[0;36m<module>\u001b[0;34m()\u001b[0m\n\u001b[0;32m----> 1\u001b[0;31m \u001b[0mpd\u001b[0m\u001b[0;34m.\u001b[0m\u001b[0mrolling_mean\u001b[0m\u001b[0;34m(\u001b[0m\u001b[0mcountryAvgPrices\u001b[0m\u001b[0;34m.\u001b[0m\u001b[0munstack\u001b[0m\u001b[0;34m(\u001b[0m\u001b[0mlevel\u001b[0m\u001b[0;34m=\u001b[0m\u001b[0;36m0\u001b[0m\u001b[0;34m)\u001b[0m\u001b[0;34m[\u001b[0m\u001b[0;34m\"mean\"\u001b[0m\u001b[0;34m]\u001b[0m\u001b[0;34m,\u001b[0m\u001b[0;36m10\u001b[0m\u001b[0;34m)\u001b[0m\u001b[0;34m.\u001b[0m\u001b[0mplot\u001b[0m\u001b[0;34m(\u001b[0m\u001b[0mlegend\u001b[0m\u001b[0;34m=\u001b[0m\u001b[0mFalse\u001b[0m\u001b[0;34m)\u001b[0m\u001b[0;34m\u001b[0m\u001b[0m\n\u001b[0m",
      "\u001b[0;31mNameError\u001b[0m: name 'countryAvgPrices' is not defined"
     ]
    }
   ],
   "source": [
    "pd.rolling_mean(countryAvgPrices.unstack(level=0)[\"mean\"],10).plot(legend=False)"
   ]
  },
  {
   "cell_type": "code",
   "execution_count": 4,
   "metadata": {
    "collapsed": false
   },
   "outputs": [
    {
     "ename": "KeyError",
     "evalue": "'Conv._Price'",
     "output_type": "error",
     "traceback": [
      "\u001b[0;31m---------------------------------------------------------------------------\u001b[0m",
      "\u001b[0;31mKeyError\u001b[0m                                  Traceback (most recent call last)",
      "\u001b[0;32m<ipython-input-4-ed5a1cd135fe>\u001b[0m in \u001b[0;36m<module>\u001b[0;34m()\u001b[0m\n\u001b[0;32m----> 1\u001b[0;31m \u001b[0mpriceData\u001b[0m\u001b[0;34m[\u001b[0m\u001b[0;34m\"Conv._Price\"\u001b[0m\u001b[0;34m]\u001b[0m\u001b[0;34m.\u001b[0m\u001b[0mplot\u001b[0m\u001b[0;34m(\u001b[0m\u001b[0mkind\u001b[0m\u001b[0;34m=\u001b[0m\u001b[0;34m\"kde\"\u001b[0m\u001b[0;34m)\u001b[0m\u001b[0;34m\u001b[0m\u001b[0m\n\u001b[0m",
      "\u001b[0;32m/usr/local/lib/python2.7/site-packages/pandas/core/frame.pyc\u001b[0m in \u001b[0;36m__getitem__\u001b[0;34m(self, key)\u001b[0m\n\u001b[1;32m   1778\u001b[0m             \u001b[0;32mreturn\u001b[0m \u001b[0mself\u001b[0m\u001b[0;34m.\u001b[0m\u001b[0m_getitem_multilevel\u001b[0m\u001b[0;34m(\u001b[0m\u001b[0mkey\u001b[0m\u001b[0;34m)\u001b[0m\u001b[0;34m\u001b[0m\u001b[0m\n\u001b[1;32m   1779\u001b[0m         \u001b[0;32melse\u001b[0m\u001b[0;34m:\u001b[0m\u001b[0;34m\u001b[0m\u001b[0m\n\u001b[0;32m-> 1780\u001b[0;31m             \u001b[0;32mreturn\u001b[0m \u001b[0mself\u001b[0m\u001b[0;34m.\u001b[0m\u001b[0m_getitem_column\u001b[0m\u001b[0;34m(\u001b[0m\u001b[0mkey\u001b[0m\u001b[0;34m)\u001b[0m\u001b[0;34m\u001b[0m\u001b[0m\n\u001b[0m\u001b[1;32m   1781\u001b[0m \u001b[0;34m\u001b[0m\u001b[0m\n\u001b[1;32m   1782\u001b[0m     \u001b[0;32mdef\u001b[0m \u001b[0m_getitem_column\u001b[0m\u001b[0;34m(\u001b[0m\u001b[0mself\u001b[0m\u001b[0;34m,\u001b[0m \u001b[0mkey\u001b[0m\u001b[0;34m)\u001b[0m\u001b[0;34m:\u001b[0m\u001b[0;34m\u001b[0m\u001b[0m\n",
      "\u001b[0;32m/usr/local/lib/python2.7/site-packages/pandas/core/frame.pyc\u001b[0m in \u001b[0;36m_getitem_column\u001b[0;34m(self, key)\u001b[0m\n\u001b[1;32m   1785\u001b[0m         \u001b[0;31m# get column\u001b[0m\u001b[0;34m\u001b[0m\u001b[0;34m\u001b[0m\u001b[0m\n\u001b[1;32m   1786\u001b[0m         \u001b[0;32mif\u001b[0m \u001b[0mself\u001b[0m\u001b[0;34m.\u001b[0m\u001b[0mcolumns\u001b[0m\u001b[0;34m.\u001b[0m\u001b[0mis_unique\u001b[0m\u001b[0;34m:\u001b[0m\u001b[0;34m\u001b[0m\u001b[0m\n\u001b[0;32m-> 1787\u001b[0;31m             \u001b[0;32mreturn\u001b[0m \u001b[0mself\u001b[0m\u001b[0;34m.\u001b[0m\u001b[0m_get_item_cache\u001b[0m\u001b[0;34m(\u001b[0m\u001b[0mkey\u001b[0m\u001b[0;34m)\u001b[0m\u001b[0;34m\u001b[0m\u001b[0m\n\u001b[0m\u001b[1;32m   1788\u001b[0m \u001b[0;34m\u001b[0m\u001b[0m\n\u001b[1;32m   1789\u001b[0m         \u001b[0;31m# duplicate columns & possible reduce dimensionaility\u001b[0m\u001b[0;34m\u001b[0m\u001b[0;34m\u001b[0m\u001b[0m\n",
      "\u001b[0;32m/usr/local/lib/python2.7/site-packages/pandas/core/generic.pyc\u001b[0m in \u001b[0;36m_get_item_cache\u001b[0;34m(self, item)\u001b[0m\n\u001b[1;32m   1066\u001b[0m         \u001b[0mres\u001b[0m \u001b[0;34m=\u001b[0m \u001b[0mcache\u001b[0m\u001b[0;34m.\u001b[0m\u001b[0mget\u001b[0m\u001b[0;34m(\u001b[0m\u001b[0mitem\u001b[0m\u001b[0;34m)\u001b[0m\u001b[0;34m\u001b[0m\u001b[0m\n\u001b[1;32m   1067\u001b[0m         \u001b[0;32mif\u001b[0m \u001b[0mres\u001b[0m \u001b[0;32mis\u001b[0m \u001b[0mNone\u001b[0m\u001b[0;34m:\u001b[0m\u001b[0;34m\u001b[0m\u001b[0m\n\u001b[0;32m-> 1068\u001b[0;31m             \u001b[0mvalues\u001b[0m \u001b[0;34m=\u001b[0m \u001b[0mself\u001b[0m\u001b[0;34m.\u001b[0m\u001b[0m_data\u001b[0m\u001b[0;34m.\u001b[0m\u001b[0mget\u001b[0m\u001b[0;34m(\u001b[0m\u001b[0mitem\u001b[0m\u001b[0;34m)\u001b[0m\u001b[0;34m\u001b[0m\u001b[0m\n\u001b[0m\u001b[1;32m   1069\u001b[0m             \u001b[0mres\u001b[0m \u001b[0;34m=\u001b[0m \u001b[0mself\u001b[0m\u001b[0;34m.\u001b[0m\u001b[0m_box_item_values\u001b[0m\u001b[0;34m(\u001b[0m\u001b[0mitem\u001b[0m\u001b[0;34m,\u001b[0m \u001b[0mvalues\u001b[0m\u001b[0;34m)\u001b[0m\u001b[0;34m\u001b[0m\u001b[0m\n\u001b[1;32m   1070\u001b[0m             \u001b[0mcache\u001b[0m\u001b[0;34m[\u001b[0m\u001b[0mitem\u001b[0m\u001b[0;34m]\u001b[0m \u001b[0;34m=\u001b[0m \u001b[0mres\u001b[0m\u001b[0;34m\u001b[0m\u001b[0m\n",
      "\u001b[0;32m/usr/local/lib/python2.7/site-packages/pandas/core/internals.pyc\u001b[0m in \u001b[0;36mget\u001b[0;34m(self, item, fastpath)\u001b[0m\n\u001b[1;32m   2847\u001b[0m \u001b[0;34m\u001b[0m\u001b[0m\n\u001b[1;32m   2848\u001b[0m             \u001b[0;32mif\u001b[0m \u001b[0;32mnot\u001b[0m \u001b[0misnull\u001b[0m\u001b[0;34m(\u001b[0m\u001b[0mitem\u001b[0m\u001b[0;34m)\u001b[0m\u001b[0;34m:\u001b[0m\u001b[0;34m\u001b[0m\u001b[0m\n\u001b[0;32m-> 2849\u001b[0;31m                 \u001b[0mloc\u001b[0m \u001b[0;34m=\u001b[0m \u001b[0mself\u001b[0m\u001b[0;34m.\u001b[0m\u001b[0mitems\u001b[0m\u001b[0;34m.\u001b[0m\u001b[0mget_loc\u001b[0m\u001b[0;34m(\u001b[0m\u001b[0mitem\u001b[0m\u001b[0;34m)\u001b[0m\u001b[0;34m\u001b[0m\u001b[0m\n\u001b[0m\u001b[1;32m   2850\u001b[0m             \u001b[0;32melse\u001b[0m\u001b[0;34m:\u001b[0m\u001b[0;34m\u001b[0m\u001b[0m\n\u001b[1;32m   2851\u001b[0m                 \u001b[0mindexer\u001b[0m \u001b[0;34m=\u001b[0m \u001b[0mnp\u001b[0m\u001b[0;34m.\u001b[0m\u001b[0marange\u001b[0m\u001b[0;34m(\u001b[0m\u001b[0mlen\u001b[0m\u001b[0;34m(\u001b[0m\u001b[0mself\u001b[0m\u001b[0;34m.\u001b[0m\u001b[0mitems\u001b[0m\u001b[0;34m)\u001b[0m\u001b[0;34m)\u001b[0m\u001b[0;34m[\u001b[0m\u001b[0misnull\u001b[0m\u001b[0;34m(\u001b[0m\u001b[0mself\u001b[0m\u001b[0;34m.\u001b[0m\u001b[0mitems\u001b[0m\u001b[0;34m)\u001b[0m\u001b[0;34m]\u001b[0m\u001b[0;34m\u001b[0m\u001b[0m\n",
      "\u001b[0;32m/usr/local/lib/python2.7/site-packages/pandas/core/index.pyc\u001b[0m in \u001b[0;36mget_loc\u001b[0;34m(self, key)\u001b[0m\n\u001b[1;32m   1400\u001b[0m         \u001b[0mloc\u001b[0m \u001b[0;34m:\u001b[0m \u001b[0mint\u001b[0m \u001b[0;32mif\u001b[0m \u001b[0munique\u001b[0m \u001b[0mindex\u001b[0m\u001b[0;34m,\u001b[0m \u001b[0mpossibly\u001b[0m \u001b[0mslice\u001b[0m \u001b[0;32mor\u001b[0m \u001b[0mmask\u001b[0m \u001b[0;32mif\u001b[0m \u001b[0;32mnot\u001b[0m\u001b[0;34m\u001b[0m\u001b[0m\n\u001b[1;32m   1401\u001b[0m         \"\"\"\n\u001b[0;32m-> 1402\u001b[0;31m         \u001b[0;32mreturn\u001b[0m \u001b[0mself\u001b[0m\u001b[0;34m.\u001b[0m\u001b[0m_engine\u001b[0m\u001b[0;34m.\u001b[0m\u001b[0mget_loc\u001b[0m\u001b[0;34m(\u001b[0m\u001b[0m_values_from_object\u001b[0m\u001b[0;34m(\u001b[0m\u001b[0mkey\u001b[0m\u001b[0;34m)\u001b[0m\u001b[0;34m)\u001b[0m\u001b[0;34m\u001b[0m\u001b[0m\n\u001b[0m\u001b[1;32m   1403\u001b[0m \u001b[0;34m\u001b[0m\u001b[0m\n\u001b[1;32m   1404\u001b[0m     \u001b[0;32mdef\u001b[0m \u001b[0mget_value\u001b[0m\u001b[0;34m(\u001b[0m\u001b[0mself\u001b[0m\u001b[0;34m,\u001b[0m \u001b[0mseries\u001b[0m\u001b[0;34m,\u001b[0m \u001b[0mkey\u001b[0m\u001b[0;34m)\u001b[0m\u001b[0;34m:\u001b[0m\u001b[0;34m\u001b[0m\u001b[0m\n",
      "\u001b[0;32mpandas/index.pyx\u001b[0m in \u001b[0;36mpandas.index.IndexEngine.get_loc (pandas/index.c:3807)\u001b[0;34m()\u001b[0m\n",
      "\u001b[0;32mpandas/index.pyx\u001b[0m in \u001b[0;36mpandas.index.IndexEngine.get_loc (pandas/index.c:3687)\u001b[0;34m()\u001b[0m\n",
      "\u001b[0;32mpandas/hashtable.pyx\u001b[0m in \u001b[0;36mpandas.hashtable.PyObjectHashTable.get_item (pandas/hashtable.c:12310)\u001b[0;34m()\u001b[0m\n",
      "\u001b[0;32mpandas/hashtable.pyx\u001b[0m in \u001b[0;36mpandas.hashtable.PyObjectHashTable.get_item (pandas/hashtable.c:12261)\u001b[0;34m()\u001b[0m\n",
      "\u001b[0;31mKeyError\u001b[0m: 'Conv._Price'"
     ]
    }
   ],
   "source": [
    "priceData[\"Conv._Price\"].plot(kind=\"kde\")"
   ]
  },
  {
   "cell_type": "code",
   "execution_count": 55,
   "metadata": {
    "collapsed": false
   },
   "outputs": [
    {
     "data": {
      "text/plain": [
       "array(['USD'], dtype=object)"
      ]
     },
     "execution_count": 55,
     "metadata": {},
     "output_type": "execute_result"
    }
   ],
   "source": [
    "priceData.Currency"
   ]
  },
  {
   "cell_type": "code",
   "execution_count": null,
   "metadata": {
    "collapsed": true
   },
   "outputs": [],
   "source": []
  }
 ],
 "metadata": {
  "kernelspec": {
   "display_name": "Python 2",
   "language": "python",
   "name": "python2"
  },
  "language_info": {
   "codemirror_mode": {
    "name": "ipython",
    "version": 2
   },
   "file_extension": ".py",
   "mimetype": "text/x-python",
   "name": "python",
   "nbconvert_exporter": "python",
   "pygments_lexer": "ipython2",
   "version": "2.7.6"
  }
 },
 "nbformat": 4,
 "nbformat_minor": 0
}
