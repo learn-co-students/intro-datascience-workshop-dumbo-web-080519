{
 "cells": [
  {
   "cell_type": "markdown",
   "metadata": {},
   "source": [
    "## WEEKEND 2 AGENDA:\n",
    "  * **An overview of things learned on weekend 1, finish up if necessary**\n",
    "  * **Intro to effectively working with timeseries and incomplete data**\n",
    "  * **Learning to plot**\n",
    "  * **More advanced table manipulations and pipelines**\n",
    "  * **A few common data transformations for machine learning pipelines**\n",
    "  * **A brief intro to supervised learning using recommender systems**"
   ]
  },
  {
   "cell_type": "markdown",
   "metadata": {},
   "source": [
    "**WELCOME TO WEEKEND 2 OF THE INTRO TO DATA SCIENCE WORKSHOP!**\n",
    "\n",
    "I hope you've learned a few things so far about the power of **Python** and **pandas** when leveraged on datasets that can't be properly handled using traditional tabular analysis tools like excel."
   ]
  },
  {
   "cell_type": "markdown",
   "metadata": {},
   "source": [
    "### Overview of what we've learned so far (and a refresher on python containers)"
   ]
  },
  {
   "cell_type": "markdown",
   "metadata": {},
   "source": [
    "## Lists\n",
    "\n",
    "A list is an ordered, indexable collection of data. Lets say you have collected some price and count data that looks like this:\n",
    "\n",
    "    prices:\n",
    "     25.31\n",
    "     33.23\n",
    "     20.16\n",
    "     11.11\n",
    "     14.33\n",
    "\n",
    "    counts:\n",
    "     10\n",
    "     5\n",
    "     3\n",
    "     40\n",
    "     1\n",
    "\n",
    "We can create lists of the voltages and the currents like this:"
   ]
  },
  {
   "cell_type": "code",
   "execution_count": 231,
   "metadata": {
    "collapsed": false
   },
   "outputs": [
    {
     "name": "stdout",
     "output_type": "stream",
     "text": [
      "[25.31, 33.23, 20.16, 11.11, 14.33]\n",
      "[10, 5, 3, 40, 1]\n"
     ]
    }
   ],
   "source": [
    "prices = [25.31,33.23,20.16,11.11,14.33]\n",
    "counts = [10,5,3,40,1]\n",
    "print prices\n",
    "print counts"
   ]
  },
  {
   "cell_type": "markdown",
   "metadata": {},
   "source": [
    "Indexing on lists starts at 0 and ends at n-1, where n is the size of the list. You can also index from the back to the front."
   ]
  },
  {
   "cell_type": "code",
   "execution_count": 232,
   "metadata": {
    "collapsed": false
   },
   "outputs": [
    {
     "name": "stdout",
     "output_type": "stream",
     "text": [
      "First price: 25.31\n",
      "Next to last price: 40\n",
      "14.33\n"
     ]
    }
   ],
   "source": [
    "print \"First price:\", prices[0]#get first price\n",
    "print \"Next to last price:\", counts[3]#get last count\n",
    "print prices[-1] #you can also index from the back of the list"
   ]
  },
  {
   "cell_type": "markdown",
   "metadata": {},
   "source": [
    "## Tuples\n",
    "\n",
    "Tuples are another of Python's basic container data types. They are very similar to lists but with one major difference. Tuples are **immutable**. Once data is placed into a tuple, the tuple cannot be changed. You define a tuple as follows:"
   ]
  },
  {
   "cell_type": "code",
   "execution_count": 233,
   "metadata": {
    "collapsed": true
   },
   "outputs": [],
   "source": [
    "my_tuple = (\"red\", \"white\", \"blue\")"
   ]
  },
  {
   "cell_type": "markdown",
   "metadata": {},
   "source": [
    "You can slice and index the tuple exactly like you would a list. Tuples are used in the inner workings of python, and a tuple can be used as a key in a dictionary, whereas a list cannot as we will see in a moment.\n",
    "\n",
    "See if you can retrieve the third element of `my_tuple`:"
   ]
  },
  {
   "cell_type": "code",
   "execution_count": 234,
   "metadata": {
    "collapsed": true
   },
   "outputs": [],
   "source": [
    "#Your code here"
   ]
  },
  {
   "cell_type": "markdown",
   "metadata": {},
   "source": [
    "## Dictionaries\n",
    "\n",
    "A Python dictionary is an unordered collection of key-value pairs."
   ]
  },
  {
   "cell_type": "code",
   "execution_count": 235,
   "metadata": {
    "collapsed": true
   },
   "outputs": [],
   "source": [
    "data_dict = {\"experiment\": \"sergey vs. data science\",\n",
    "        \"run\": 47,\n",
    "        \"score\": 372.756, \n",
    "        \"values1\": [-1.0, -0.5, 0.0, 0.5, 1.0], \n",
    "        \"values2\": [-2.0, -1.0, 0.0, 1.0, 2.0],\n",
    "        }"
   ]
  },
  {
   "cell_type": "markdown",
   "metadata": {},
   "source": [
    "This data structure is better because you no longer have to remember that the run number is in the second position of the list, you just refer directly to \"run\". `run` is referred to as a key:"
   ]
  },
  {
   "cell_type": "code",
   "execution_count": 236,
   "metadata": {
    "collapsed": false
   },
   "outputs": [
    {
     "name": "stdout",
     "output_type": "stream",
     "text": [
      "Keys:  ['values1', 'experiment', 'run', 'score', 'values2']\n",
      "Values:  [[-1.0, -0.5, 0.0, 0.5, 1.0], 'sergey vs. data science', 47, 372.756, [-2.0, -1.0, 0.0, 1.0, 2.0]]\n"
     ]
    }
   ],
   "source": [
    "print \"Keys: \", data_dict.keys()\n",
    "print \"Values: \", data_dict.values()\n"
   ]
  },
  {
   "cell_type": "markdown",
   "metadata": {},
   "source": [
    "Over the course of the first weekend we learned how to do the following:\n",
    "\n",
    "In **Lesson 1** we learned:\n",
    "* There are 2 basic data types in **pandas** - `DataFrame` and `Series` objects\n",
    "* They can be accessed in similar ways, however, `DataFrame` objects are effectively collections of `Series` objects\n",
    "* You can query them in a variety of ways, and can be accessed via their indices in the object, or via raw indexing\n",
    "* You will love both of these objects to no end by the end of the course\n",
    "\n",
    "In **Lesson 2** we learned how to:\n",
    "\n",
    "* Load data in correctly into a `DataFrame` object using `pandas.read_csv()`\n",
    "* View parts of the dataset quickly using `datasetName.head()` and `datasetName.tail()`\n",
    "* Get the format of every column of the dataset using `datasetName.dtypes`\n",
    "* Get all of the unique values of a specific column using `datasetName.unique()`\n",
    "* Select columns and rows based on specific criteria by generating and applying masks\n",
    "* Subselect entire portions of a dataset based on criteria\n",
    "* Delete columns we are not interested in using `del datasetName[columnName]`\n",
    "* Format columns with time data into a time format using `pandas.to_datetime()` that then allows us to access many aspects of the times using `datasetName[timeColumn].dt`\n",
    "* Get the overall size and shape of the dataset (excluding the `index`) using `datasetName.shape`\n",
    "* Get summary statistics about the dataset or about specific columns using `datasetName[optionalColumnNames].describe()`\n",
    "* Group data based on certain columns using `datasetName.groupby()` and work with groups using:\n",
    "  * Predefined functions like `groupedDatasetName.size()` directly on the grouped objects\n",
    "  * Other functions that are passed to `groupedDatasetName.agg(yourFunctionHere)` like `mean` and `std` or functions that you create yourself\n",
    "  * Filters that remove data you are not interested in and spits out a new filtered, ungrouped dataset using `groupedDatasetName.filter(yourFilterFunction)` where `yourFilterFunction` can either be an anonymous function (`lambda x: your function condition(s)`) or a standard python function (`def yourFunctionName(yourInputs): return your function condition(s)`)\n",
    "* Compute correlations and correlation matrices between various numeric columns in a dataset using `datasetName[columnName].corr(otherColumn)` or `datasetName.corr()`.\n",
    "\n",
    "In **Lesson 3** we learned how to:\n",
    "\n",
    "* Use some basic `str` functionality to format columns with text and create new columns from the formatting/parsing of the `string` values found within them.\n",
    "* Convert categorical variables, stored as `string` types, into indicator variables using `get_dummies()`\n",
    "* Convert numerical variables into categorical variables through discretization using `cut()`\n",
    "* Join 2 datasets along one or multiple keys using `yourDataset.merge(yourOtherDataset,on=joinKeys)`\n",
    "* Look for inconsistent data and remove it from our dataset\n",
    "\n",
    "Gaze upon all that you've learned thus far and marvel at your progress!\n",
    "\n",
    "...\n",
    "\n",
    "Ok, thats enough, lets learn to work with timeseries and how to plot them."
   ]
  },
  {
   "cell_type": "markdown",
   "metadata": {},
   "source": [
    "###Data Frames are effectively dictionaries on steroids.\n",
    "\n",
    "####tabular data structure\n",
    "####ordered collection of columns\n",
    "####each column can be of a different type - numeric, string, boolean\n",
    "####row and column index"
   ]
  },
  {
   "cell_type": "code",
   "execution_count": 237,
   "metadata": {
    "collapsed": true
   },
   "outputs": [],
   "source": [
    "import pandas as pd\n",
    "import numpy as np"
   ]
  },
  {
   "cell_type": "code",
   "execution_count": 238,
   "metadata": {
    "collapsed": false
   },
   "outputs": [
    {
     "name": "stdout",
     "output_type": "stream",
     "text": [
      "   population   state  year\n",
      "0         1.5    Ohio  2000\n",
      "1         1.7    Ohio  2001\n",
      "2         3.6    Ohio  2002\n",
      "3         2.4  Nevada  2001\n",
      "4         2.9  Nevada  2002\n"
     ]
    }
   ],
   "source": [
    "data = {'state': ['Ohio', 'Ohio', 'Ohio', 'Nevada', 'Nevada'],\n",
    "        'year': [2000, 2001, 2002, 2001, 2002],\n",
    "        'population': [1.5, 1.7, 3.6, 2.4, 2.9]}\n",
    "df = pd.DataFrame(data)\n",
    "print df"
   ]
  },
  {
   "cell_type": "code",
   "execution_count": 170,
   "metadata": {
    "collapsed": false
   },
   "outputs": [
    {
     "name": "stdout",
     "output_type": "stream",
     "text": [
      "   population   state\n",
      "0         1.5    Ohio\n",
      "1         1.7    Ohio\n",
      "2         3.6    Ohio\n",
      "3         2.4  Nevada\n",
      "4         2.9  Nevada\n",
      "   population   state\n",
      "0         1.5    Ohio\n",
      "1         1.7    Ohio\n",
      "2         3.6    Ohio\n",
      "3         2.4  Nevada\n",
      "4         2.9  Nevada\n",
      "   population   state\n",
      "0         1.5    Ohio\n",
      "1         1.7    Ohio\n",
      "2         3.6    Ohio\n",
      "3         2.4  Nevada\n",
      "4         2.9  Nevada\n"
     ]
    }
   ],
   "source": [
    "#You can access values in a dataframe in a variety of ways\n",
    "print df[[0,1]]\n",
    "print df.ix[:,0:2]\n",
    "print df[[\"population\",\"state\"]]"
   ]
  },
  {
   "cell_type": "code",
   "execution_count": 160,
   "metadata": {
    "collapsed": false
   },
   "outputs": [
    {
     "data": {
      "text/plain": [
       "pandas.core.frame.DataFrame"
      ]
     },
     "execution_count": 160,
     "metadata": {},
     "output_type": "execute_result"
    }
   ],
   "source": [
    "type(df)"
   ]
  },
  {
   "cell_type": "markdown",
   "metadata": {},
   "source": [
    "####Each column in a dataframe is a Series, which is a pandas data structure in it's own right.\n",
    "####There are a variety of notations used to access the columns of a data frame"
   ]
  },
  {
   "cell_type": "code",
   "execution_count": 162,
   "metadata": {
    "collapsed": false
   },
   "outputs": [
    {
     "name": "stdout",
     "output_type": "stream",
     "text": [
      "0    1.5\n",
      "1    1.7\n",
      "2    3.6\n",
      "3    2.4\n",
      "4    2.9\n",
      "Name: population, dtype: float64\n"
     ]
    }
   ],
   "source": [
    "type(df[\"population\"])\n",
    "print df.population"
   ]
  },
  {
   "cell_type": "markdown",
   "metadata": {},
   "source": [
    "###Heres another example dataframe:"
   ]
  },
  {
   "cell_type": "code",
   "execution_count": 174,
   "metadata": {
    "collapsed": false
   },
   "outputs": [
    {
     "name": "stdout",
     "output_type": "stream",
     "text": [
      "DatetimeIndex(['2014-01-01', '2014-01-02', '2014-01-03', '2014-01-04',\n",
      "               '2014-01-05', '2014-01-06'],\n",
      "              dtype='datetime64[ns]', freq='D', tz=None)\n"
     ]
    }
   ],
   "source": [
    "dates = pd.date_range('20140101',periods=6)\n",
    "print dates\n",
    "type(dates)\n",
    "dates[2]\n",
    "\n",
    "df2 = pd.DataFrame(np.random.randn(6,4),index=dates,columns=list('ABCD'))"
   ]
  },
  {
   "cell_type": "code",
   "execution_count": 175,
   "metadata": {
    "collapsed": false
   },
   "outputs": [
    {
     "data": {
      "text/plain": [
       "A    float64\n",
       "B    float64\n",
       "C    float64\n",
       "D    float64\n",
       "dtype: object"
      ]
     },
     "execution_count": 175,
     "metadata": {},
     "output_type": "execute_result"
    }
   ],
   "source": [
    "# You can access a dataframe's datatypes like this\n",
    "df2.dtypes"
   ]
  },
  {
   "cell_type": "markdown",
   "metadata": {},
   "source": [
    "## Viewing Data"
   ]
  },
  {
   "cell_type": "code",
   "execution_count": 181,
   "metadata": {
    "collapsed": false
   },
   "outputs": [
    {
     "data": {
      "text/html": [
       "<div>\n",
       "<table border=\"1\" class=\"dataframe\">\n",
       "  <thead>\n",
       "    <tr style=\"text-align: right;\">\n",
       "      <th></th>\n",
       "      <th>A</th>\n",
       "      <th>B</th>\n",
       "      <th>C</th>\n",
       "      <th>D</th>\n",
       "    </tr>\n",
       "  </thead>\n",
       "  <tbody>\n",
       "    <tr>\n",
       "      <th>2014-01-01</th>\n",
       "      <td>0.960801</td>\n",
       "      <td>1.171381</td>\n",
       "      <td>0.525141</td>\n",
       "      <td>-0.329779</td>\n",
       "    </tr>\n",
       "    <tr>\n",
       "      <th>2014-01-02</th>\n",
       "      <td>-0.627231</td>\n",
       "      <td>-0.079685</td>\n",
       "      <td>0.671225</td>\n",
       "      <td>-0.674530</td>\n",
       "    </tr>\n",
       "    <tr>\n",
       "      <th>2014-01-03</th>\n",
       "      <td>0.690754</td>\n",
       "      <td>0.396934</td>\n",
       "      <td>-0.504431</td>\n",
       "      <td>1.596217</td>\n",
       "    </tr>\n",
       "    <tr>\n",
       "      <th>2014-01-04</th>\n",
       "      <td>-0.418247</td>\n",
       "      <td>0.131490</td>\n",
       "      <td>2.068749</td>\n",
       "      <td>0.765621</td>\n",
       "    </tr>\n",
       "    <tr>\n",
       "      <th>2014-01-05</th>\n",
       "      <td>0.709363</td>\n",
       "      <td>0.391902</td>\n",
       "      <td>0.047590</td>\n",
       "      <td>-0.795258</td>\n",
       "    </tr>\n",
       "  </tbody>\n",
       "</table>\n",
       "</div>"
      ],
      "text/plain": [
       "                   A         B         C         D\n",
       "2014-01-01  0.960801  1.171381  0.525141 -0.329779\n",
       "2014-01-02 -0.627231 -0.079685  0.671225 -0.674530\n",
       "2014-01-03  0.690754  0.396934 -0.504431  1.596217\n",
       "2014-01-04 -0.418247  0.131490  2.068749  0.765621\n",
       "2014-01-05  0.709363  0.391902  0.047590 -0.795258"
      ]
     },
     "execution_count": 181,
     "metadata": {},
     "output_type": "execute_result"
    }
   ],
   "source": [
    "df2.head()"
   ]
  },
  {
   "cell_type": "code",
   "execution_count": 182,
   "metadata": {
    "collapsed": false
   },
   "outputs": [
    {
     "data": {
      "text/html": [
       "<div>\n",
       "<table border=\"1\" class=\"dataframe\">\n",
       "  <thead>\n",
       "    <tr style=\"text-align: right;\">\n",
       "      <th></th>\n",
       "      <th>A</th>\n",
       "      <th>B</th>\n",
       "      <th>C</th>\n",
       "      <th>D</th>\n",
       "    </tr>\n",
       "  </thead>\n",
       "  <tbody>\n",
       "    <tr>\n",
       "      <th>2014-01-02</th>\n",
       "      <td>-0.627231</td>\n",
       "      <td>-0.079685</td>\n",
       "      <td>0.671225</td>\n",
       "      <td>-0.674530</td>\n",
       "    </tr>\n",
       "    <tr>\n",
       "      <th>2014-01-03</th>\n",
       "      <td>0.690754</td>\n",
       "      <td>0.396934</td>\n",
       "      <td>-0.504431</td>\n",
       "      <td>1.596217</td>\n",
       "    </tr>\n",
       "    <tr>\n",
       "      <th>2014-01-04</th>\n",
       "      <td>-0.418247</td>\n",
       "      <td>0.131490</td>\n",
       "      <td>2.068749</td>\n",
       "      <td>0.765621</td>\n",
       "    </tr>\n",
       "    <tr>\n",
       "      <th>2014-01-05</th>\n",
       "      <td>0.709363</td>\n",
       "      <td>0.391902</td>\n",
       "      <td>0.047590</td>\n",
       "      <td>-0.795258</td>\n",
       "    </tr>\n",
       "    <tr>\n",
       "      <th>2014-01-06</th>\n",
       "      <td>-1.365953</td>\n",
       "      <td>-1.001444</td>\n",
       "      <td>0.969324</td>\n",
       "      <td>1.410294</td>\n",
       "    </tr>\n",
       "  </tbody>\n",
       "</table>\n",
       "</div>"
      ],
      "text/plain": [
       "                   A         B         C         D\n",
       "2014-01-02 -0.627231 -0.079685  0.671225 -0.674530\n",
       "2014-01-03  0.690754  0.396934 -0.504431  1.596217\n",
       "2014-01-04 -0.418247  0.131490  2.068749  0.765621\n",
       "2014-01-05  0.709363  0.391902  0.047590 -0.795258\n",
       "2014-01-06 -1.365953 -1.001444  0.969324  1.410294"
      ]
     },
     "execution_count": 182,
     "metadata": {},
     "output_type": "execute_result"
    }
   ],
   "source": [
    "df2.tail()"
   ]
  },
  {
   "cell_type": "code",
   "execution_count": 183,
   "metadata": {
    "collapsed": false
   },
   "outputs": [
    {
     "data": {
      "text/plain": [
       "DatetimeIndex(['2014-01-01', '2014-01-02', '2014-01-03', '2014-01-04',\n",
       "               '2014-01-05', '2014-01-06'],\n",
       "              dtype='datetime64[ns]', freq='D', tz=None)"
      ]
     },
     "execution_count": 183,
     "metadata": {},
     "output_type": "execute_result"
    }
   ],
   "source": [
    "df2.index"
   ]
  },
  {
   "cell_type": "code",
   "execution_count": 185,
   "metadata": {
    "collapsed": false
   },
   "outputs": [
    {
     "data": {
      "text/html": [
       "<div>\n",
       "<table border=\"1\" class=\"dataframe\">\n",
       "  <thead>\n",
       "    <tr style=\"text-align: right;\">\n",
       "      <th></th>\n",
       "      <th>A</th>\n",
       "      <th>B</th>\n",
       "      <th>C</th>\n",
       "      <th>D</th>\n",
       "    </tr>\n",
       "  </thead>\n",
       "  <tbody>\n",
       "    <tr>\n",
       "      <th>count</th>\n",
       "      <td>6.000000</td>\n",
       "      <td>6.000000</td>\n",
       "      <td>6.000000</td>\n",
       "      <td>6.000000</td>\n",
       "    </tr>\n",
       "    <tr>\n",
       "      <th>mean</th>\n",
       "      <td>-0.008419</td>\n",
       "      <td>0.168430</td>\n",
       "      <td>0.629600</td>\n",
       "      <td>0.328761</td>\n",
       "    </tr>\n",
       "    <tr>\n",
       "      <th>std</th>\n",
       "      <td>0.931367</td>\n",
       "      <td>0.712684</td>\n",
       "      <td>0.874525</td>\n",
       "      <td>1.064959</td>\n",
       "    </tr>\n",
       "    <tr>\n",
       "      <th>min</th>\n",
       "      <td>-1.365953</td>\n",
       "      <td>-1.001444</td>\n",
       "      <td>-0.504431</td>\n",
       "      <td>-0.795258</td>\n",
       "    </tr>\n",
       "    <tr>\n",
       "      <th>25%</th>\n",
       "      <td>-0.574985</td>\n",
       "      <td>-0.026891</td>\n",
       "      <td>0.166978</td>\n",
       "      <td>-0.588342</td>\n",
       "    </tr>\n",
       "    <tr>\n",
       "      <th>50%</th>\n",
       "      <td>0.136253</td>\n",
       "      <td>0.261696</td>\n",
       "      <td>0.598183</td>\n",
       "      <td>0.217921</td>\n",
       "    </tr>\n",
       "    <tr>\n",
       "      <th>75%</th>\n",
       "      <td>0.704711</td>\n",
       "      <td>0.395676</td>\n",
       "      <td>0.894800</td>\n",
       "      <td>1.249126</td>\n",
       "    </tr>\n",
       "    <tr>\n",
       "      <th>max</th>\n",
       "      <td>0.960801</td>\n",
       "      <td>1.171381</td>\n",
       "      <td>2.068749</td>\n",
       "      <td>1.596217</td>\n",
       "    </tr>\n",
       "  </tbody>\n",
       "</table>\n",
       "</div>"
      ],
      "text/plain": [
       "              A         B         C         D\n",
       "count  6.000000  6.000000  6.000000  6.000000\n",
       "mean  -0.008419  0.168430  0.629600  0.328761\n",
       "std    0.931367  0.712684  0.874525  1.064959\n",
       "min   -1.365953 -1.001444 -0.504431 -0.795258\n",
       "25%   -0.574985 -0.026891  0.166978 -0.588342\n",
       "50%    0.136253  0.261696  0.598183  0.217921\n",
       "75%    0.704711  0.395676  0.894800  1.249126\n",
       "max    0.960801  1.171381  2.068749  1.596217"
      ]
     },
     "execution_count": 185,
     "metadata": {},
     "output_type": "execute_result"
    }
   ],
   "source": [
    "df2.describe()"
   ]
  },
  {
   "cell_type": "markdown",
   "metadata": {},
   "source": [
    "You can sort along a specific column:"
   ]
  },
  {
   "cell_type": "code",
   "execution_count": 186,
   "metadata": {
    "collapsed": false
   },
   "outputs": [
    {
     "data": {
      "text/html": [
       "<div>\n",
       "<table border=\"1\" class=\"dataframe\">\n",
       "  <thead>\n",
       "    <tr style=\"text-align: right;\">\n",
       "      <th></th>\n",
       "      <th>A</th>\n",
       "      <th>B</th>\n",
       "      <th>C</th>\n",
       "      <th>D</th>\n",
       "    </tr>\n",
       "  </thead>\n",
       "  <tbody>\n",
       "    <tr>\n",
       "      <th>2014-01-06</th>\n",
       "      <td>-1.365953</td>\n",
       "      <td>-1.001444</td>\n",
       "      <td>0.969324</td>\n",
       "      <td>1.410294</td>\n",
       "    </tr>\n",
       "    <tr>\n",
       "      <th>2014-01-02</th>\n",
       "      <td>-0.627231</td>\n",
       "      <td>-0.079685</td>\n",
       "      <td>0.671225</td>\n",
       "      <td>-0.674530</td>\n",
       "    </tr>\n",
       "    <tr>\n",
       "      <th>2014-01-04</th>\n",
       "      <td>-0.418247</td>\n",
       "      <td>0.131490</td>\n",
       "      <td>2.068749</td>\n",
       "      <td>0.765621</td>\n",
       "    </tr>\n",
       "    <tr>\n",
       "      <th>2014-01-05</th>\n",
       "      <td>0.709363</td>\n",
       "      <td>0.391902</td>\n",
       "      <td>0.047590</td>\n",
       "      <td>-0.795258</td>\n",
       "    </tr>\n",
       "    <tr>\n",
       "      <th>2014-01-03</th>\n",
       "      <td>0.690754</td>\n",
       "      <td>0.396934</td>\n",
       "      <td>-0.504431</td>\n",
       "      <td>1.596217</td>\n",
       "    </tr>\n",
       "    <tr>\n",
       "      <th>2014-01-01</th>\n",
       "      <td>0.960801</td>\n",
       "      <td>1.171381</td>\n",
       "      <td>0.525141</td>\n",
       "      <td>-0.329779</td>\n",
       "    </tr>\n",
       "  </tbody>\n",
       "</table>\n",
       "</div>"
      ],
      "text/plain": [
       "                   A         B         C         D\n",
       "2014-01-06 -1.365953 -1.001444  0.969324  1.410294\n",
       "2014-01-02 -0.627231 -0.079685  0.671225 -0.674530\n",
       "2014-01-04 -0.418247  0.131490  2.068749  0.765621\n",
       "2014-01-05  0.709363  0.391902  0.047590 -0.795258\n",
       "2014-01-03  0.690754  0.396934 -0.504431  1.596217\n",
       "2014-01-01  0.960801  1.171381  0.525141 -0.329779"
      ]
     },
     "execution_count": 186,
     "metadata": {},
     "output_type": "execute_result"
    }
   ],
   "source": [
    "df2.sort(columns='B')"
   ]
  },
  {
   "cell_type": "markdown",
   "metadata": {},
   "source": [
    "## Boolean Indexing"
   ]
  },
  {
   "cell_type": "code",
   "execution_count": 188,
   "metadata": {
    "collapsed": false
   },
   "outputs": [
    {
     "data": {
      "text/html": [
       "<div>\n",
       "<table border=\"1\" class=\"dataframe\">\n",
       "  <thead>\n",
       "    <tr style=\"text-align: right;\">\n",
       "      <th></th>\n",
       "      <th>A</th>\n",
       "      <th>B</th>\n",
       "      <th>C</th>\n",
       "      <th>D</th>\n",
       "    </tr>\n",
       "  </thead>\n",
       "  <tbody>\n",
       "    <tr>\n",
       "      <th>2014-01-02</th>\n",
       "      <td>-0.627231</td>\n",
       "      <td>-0.079685</td>\n",
       "      <td>0.671225</td>\n",
       "      <td>-0.674530</td>\n",
       "    </tr>\n",
       "    <tr>\n",
       "      <th>2014-01-04</th>\n",
       "      <td>-0.418247</td>\n",
       "      <td>0.131490</td>\n",
       "      <td>2.068749</td>\n",
       "      <td>0.765621</td>\n",
       "    </tr>\n",
       "    <tr>\n",
       "      <th>2014-01-06</th>\n",
       "      <td>-1.365953</td>\n",
       "      <td>-1.001444</td>\n",
       "      <td>0.969324</td>\n",
       "      <td>1.410294</td>\n",
       "    </tr>\n",
       "  </tbody>\n",
       "</table>\n",
       "</div>"
      ],
      "text/plain": [
       "                   A         B         C         D\n",
       "2014-01-02 -0.627231 -0.079685  0.671225 -0.674530\n",
       "2014-01-04 -0.418247  0.131490  2.068749  0.765621\n",
       "2014-01-06 -1.365953 -1.001444  0.969324  1.410294"
      ]
     },
     "execution_count": 188,
     "metadata": {},
     "output_type": "execute_result"
    }
   ],
   "source": [
    "df2[df2.A < 0] # Basically a 'where' operation"
   ]
  },
  {
   "cell_type": "markdown",
   "metadata": {},
   "source": [
    "## Missing Data"
   ]
  },
  {
   "cell_type": "code",
   "execution_count": 189,
   "metadata": {
    "collapsed": true
   },
   "outputs": [],
   "source": [
    "# Add a column with missing data\n",
    "df3 = df2.reindex(index=dates[0:4],columns=list(df2.columns) + ['E'])"
   ]
  },
  {
   "cell_type": "code",
   "execution_count": 190,
   "metadata": {
    "collapsed": false
   },
   "outputs": [
    {
     "data": {
      "text/html": [
       "<div>\n",
       "<table border=\"1\" class=\"dataframe\">\n",
       "  <thead>\n",
       "    <tr style=\"text-align: right;\">\n",
       "      <th></th>\n",
       "      <th>A</th>\n",
       "      <th>B</th>\n",
       "      <th>C</th>\n",
       "      <th>D</th>\n",
       "      <th>E</th>\n",
       "    </tr>\n",
       "  </thead>\n",
       "  <tbody>\n",
       "    <tr>\n",
       "      <th>2014-01-01</th>\n",
       "      <td>0.960801</td>\n",
       "      <td>1.171381</td>\n",
       "      <td>0.525141</td>\n",
       "      <td>-0.329779</td>\n",
       "      <td>NaN</td>\n",
       "    </tr>\n",
       "    <tr>\n",
       "      <th>2014-01-02</th>\n",
       "      <td>-0.627231</td>\n",
       "      <td>-0.079685</td>\n",
       "      <td>0.671225</td>\n",
       "      <td>-0.674530</td>\n",
       "      <td>NaN</td>\n",
       "    </tr>\n",
       "    <tr>\n",
       "      <th>2014-01-03</th>\n",
       "      <td>0.690754</td>\n",
       "      <td>0.396934</td>\n",
       "      <td>-0.504431</td>\n",
       "      <td>1.596217</td>\n",
       "      <td>NaN</td>\n",
       "    </tr>\n",
       "    <tr>\n",
       "      <th>2014-01-04</th>\n",
       "      <td>-0.418247</td>\n",
       "      <td>0.131490</td>\n",
       "      <td>2.068749</td>\n",
       "      <td>0.765621</td>\n",
       "      <td>NaN</td>\n",
       "    </tr>\n",
       "  </tbody>\n",
       "</table>\n",
       "</div>"
      ],
      "text/plain": [
       "                   A         B         C         D   E\n",
       "2014-01-01  0.960801  1.171381  0.525141 -0.329779 NaN\n",
       "2014-01-02 -0.627231 -0.079685  0.671225 -0.674530 NaN\n",
       "2014-01-03  0.690754  0.396934 -0.504431  1.596217 NaN\n",
       "2014-01-04 -0.418247  0.131490  2.068749  0.765621 NaN"
      ]
     },
     "execution_count": 190,
     "metadata": {},
     "output_type": "execute_result"
    }
   ],
   "source": [
    "df3"
   ]
  },
  {
   "cell_type": "code",
   "execution_count": 193,
   "metadata": {
    "collapsed": false
   },
   "outputs": [
    {
     "data": {
      "text/html": [
       "<div>\n",
       "<table border=\"1\" class=\"dataframe\">\n",
       "  <thead>\n",
       "    <tr style=\"text-align: right;\">\n",
       "      <th></th>\n",
       "      <th>A</th>\n",
       "      <th>B</th>\n",
       "      <th>C</th>\n",
       "      <th>D</th>\n",
       "      <th>E</th>\n",
       "    </tr>\n",
       "  </thead>\n",
       "  <tbody>\n",
       "    <tr>\n",
       "      <th>2014-01-01</th>\n",
       "      <td>False</td>\n",
       "      <td>False</td>\n",
       "      <td>False</td>\n",
       "      <td>False</td>\n",
       "      <td>True</td>\n",
       "    </tr>\n",
       "    <tr>\n",
       "      <th>2014-01-02</th>\n",
       "      <td>False</td>\n",
       "      <td>False</td>\n",
       "      <td>False</td>\n",
       "      <td>False</td>\n",
       "      <td>True</td>\n",
       "    </tr>\n",
       "    <tr>\n",
       "      <th>2014-01-03</th>\n",
       "      <td>False</td>\n",
       "      <td>False</td>\n",
       "      <td>False</td>\n",
       "      <td>False</td>\n",
       "      <td>True</td>\n",
       "    </tr>\n",
       "    <tr>\n",
       "      <th>2014-01-04</th>\n",
       "      <td>False</td>\n",
       "      <td>False</td>\n",
       "      <td>False</td>\n",
       "      <td>False</td>\n",
       "      <td>True</td>\n",
       "    </tr>\n",
       "  </tbody>\n",
       "</table>\n",
       "</div>"
      ],
      "text/plain": [
       "                A      B      C      D     E\n",
       "2014-01-01  False  False  False  False  True\n",
       "2014-01-02  False  False  False  False  True\n",
       "2014-01-03  False  False  False  False  True\n",
       "2014-01-04  False  False  False  False  True"
      ]
     },
     "execution_count": 193,
     "metadata": {},
     "output_type": "execute_result"
    }
   ],
   "source": [
    "# find where values are null\n",
    "pd.isnull(df3)"
   ]
  },
  {
   "cell_type": "markdown",
   "metadata": {},
   "source": [
    "## Simple Aggregations"
   ]
  },
  {
   "cell_type": "code",
   "execution_count": 198,
   "metadata": {
    "collapsed": false
   },
   "outputs": [
    {
     "name": "stdout",
     "output_type": "stream",
     "text": [
      "A   -0.008419\n",
      "B    0.168430\n",
      "C    0.629600\n",
      "D    0.328761\n",
      "dtype: float64\n",
      "2014-01-01    0.581886\n",
      "2014-01-02   -0.177555\n",
      "2014-01-03    0.544868\n",
      "2014-01-04    0.636903\n",
      "2014-01-05    0.088399\n",
      "2014-01-06    0.003055\n",
      "Freq: D, dtype: float64\n"
     ]
    }
   ],
   "source": [
    "print df2.mean() #mean per-column\n",
    "print df2.mean(axis=1) #mean per row"
   ]
  },
  {
   "cell_type": "markdown",
   "metadata": {},
   "source": [
    "## Applying functions"
   ]
  },
  {
   "cell_type": "code",
   "execution_count": 199,
   "metadata": {
    "collapsed": false
   },
   "outputs": [
    {
     "data": {
      "text/html": [
       "<div>\n",
       "<table border=\"1\" class=\"dataframe\">\n",
       "  <thead>\n",
       "    <tr style=\"text-align: right;\">\n",
       "      <th></th>\n",
       "      <th>A</th>\n",
       "      <th>B</th>\n",
       "      <th>C</th>\n",
       "      <th>D</th>\n",
       "    </tr>\n",
       "  </thead>\n",
       "  <tbody>\n",
       "    <tr>\n",
       "      <th>2014-01-01</th>\n",
       "      <td>0.960801</td>\n",
       "      <td>1.171381</td>\n",
       "      <td>0.525141</td>\n",
       "      <td>-0.329779</td>\n",
       "    </tr>\n",
       "    <tr>\n",
       "      <th>2014-01-02</th>\n",
       "      <td>-0.627231</td>\n",
       "      <td>-0.079685</td>\n",
       "      <td>0.671225</td>\n",
       "      <td>-0.674530</td>\n",
       "    </tr>\n",
       "    <tr>\n",
       "      <th>2014-01-03</th>\n",
       "      <td>0.690754</td>\n",
       "      <td>0.396934</td>\n",
       "      <td>-0.504431</td>\n",
       "      <td>1.596217</td>\n",
       "    </tr>\n",
       "    <tr>\n",
       "      <th>2014-01-04</th>\n",
       "      <td>-0.418247</td>\n",
       "      <td>0.131490</td>\n",
       "      <td>2.068749</td>\n",
       "      <td>0.765621</td>\n",
       "    </tr>\n",
       "    <tr>\n",
       "      <th>2014-01-05</th>\n",
       "      <td>0.709363</td>\n",
       "      <td>0.391902</td>\n",
       "      <td>0.047590</td>\n",
       "      <td>-0.795258</td>\n",
       "    </tr>\n",
       "    <tr>\n",
       "      <th>2014-01-06</th>\n",
       "      <td>-1.365953</td>\n",
       "      <td>-1.001444</td>\n",
       "      <td>0.969324</td>\n",
       "      <td>1.410294</td>\n",
       "    </tr>\n",
       "  </tbody>\n",
       "</table>\n",
       "</div>"
      ],
      "text/plain": [
       "                   A         B         C         D\n",
       "2014-01-01  0.960801  1.171381  0.525141 -0.329779\n",
       "2014-01-02 -0.627231 -0.079685  0.671225 -0.674530\n",
       "2014-01-03  0.690754  0.396934 -0.504431  1.596217\n",
       "2014-01-04 -0.418247  0.131490  2.068749  0.765621\n",
       "2014-01-05  0.709363  0.391902  0.047590 -0.795258\n",
       "2014-01-06 -1.365953 -1.001444  0.969324  1.410294"
      ]
     },
     "execution_count": 199,
     "metadata": {},
     "output_type": "execute_result"
    }
   ],
   "source": [
    "df2"
   ]
  },
  {
   "cell_type": "code",
   "execution_count": 200,
   "metadata": {
    "collapsed": false
   },
   "outputs": [
    {
     "data": {
      "text/html": [
       "<div>\n",
       "<table border=\"1\" class=\"dataframe\">\n",
       "  <thead>\n",
       "    <tr style=\"text-align: right;\">\n",
       "      <th></th>\n",
       "      <th>A</th>\n",
       "      <th>B</th>\n",
       "      <th>C</th>\n",
       "      <th>D</th>\n",
       "    </tr>\n",
       "  </thead>\n",
       "  <tbody>\n",
       "    <tr>\n",
       "      <th>2014-01-01</th>\n",
       "      <td>0.960801</td>\n",
       "      <td>1.171381</td>\n",
       "      <td>0.525141</td>\n",
       "      <td>-0.329779</td>\n",
       "    </tr>\n",
       "    <tr>\n",
       "      <th>2014-01-02</th>\n",
       "      <td>0.333570</td>\n",
       "      <td>1.091696</td>\n",
       "      <td>1.196366</td>\n",
       "      <td>-1.004309</td>\n",
       "    </tr>\n",
       "    <tr>\n",
       "      <th>2014-01-03</th>\n",
       "      <td>1.024324</td>\n",
       "      <td>1.488630</td>\n",
       "      <td>0.691935</td>\n",
       "      <td>0.591908</td>\n",
       "    </tr>\n",
       "    <tr>\n",
       "      <th>2014-01-04</th>\n",
       "      <td>0.606077</td>\n",
       "      <td>1.620119</td>\n",
       "      <td>2.760684</td>\n",
       "      <td>1.357529</td>\n",
       "    </tr>\n",
       "    <tr>\n",
       "      <th>2014-01-05</th>\n",
       "      <td>1.315440</td>\n",
       "      <td>2.012021</td>\n",
       "      <td>2.808274</td>\n",
       "      <td>0.562271</td>\n",
       "    </tr>\n",
       "    <tr>\n",
       "      <th>2014-01-06</th>\n",
       "      <td>-0.050513</td>\n",
       "      <td>1.010577</td>\n",
       "      <td>3.777598</td>\n",
       "      <td>1.972565</td>\n",
       "    </tr>\n",
       "  </tbody>\n",
       "</table>\n",
       "</div>"
      ],
      "text/plain": [
       "                   A         B         C         D\n",
       "2014-01-01  0.960801  1.171381  0.525141 -0.329779\n",
       "2014-01-02  0.333570  1.091696  1.196366 -1.004309\n",
       "2014-01-03  1.024324  1.488630  0.691935  0.591908\n",
       "2014-01-04  0.606077  1.620119  2.760684  1.357529\n",
       "2014-01-05  1.315440  2.012021  2.808274  0.562271\n",
       "2014-01-06 -0.050513  1.010577  3.777598  1.972565"
      ]
     },
     "execution_count": 200,
     "metadata": {},
     "output_type": "execute_result"
    }
   ],
   "source": [
    "df2.apply(np.cumsum) #when you apply the function here, you dont supply any parameters, you apply it unbound"
   ]
  },
  {
   "cell_type": "code",
   "execution_count": 205,
   "metadata": {
    "collapsed": false
   },
   "outputs": [
    {
     "data": {
      "text/plain": [
       "A    2.326754\n",
       "B    2.172825\n",
       "C    2.573181\n",
       "D    2.391475\n",
       "dtype: float64"
      ]
     },
     "execution_count": 205,
     "metadata": {},
     "output_type": "execute_result"
    }
   ],
   "source": [
    "df2.apply(lambda x: x.max() - x.min()) #Here the output is a series, whereas in the other case it was a dataframe, why?"
   ]
  },
  {
   "cell_type": "markdown",
   "metadata": {},
   "source": [
    "###Working with strings"
   ]
  },
  {
   "cell_type": "code",
   "execution_count": 207,
   "metadata": {
    "collapsed": false
   },
   "outputs": [
    {
     "name": "stdout",
     "output_type": "stream",
     "text": [
      "Original series:  0       A\n",
      "1       B\n",
      "2       C\n",
      "3    Aaba\n",
      "4    Baca\n",
      "5     NaN\n",
      "6    CABA\n",
      "7     dog\n",
      "8     cat\n",
      "dtype: object\n",
      "Operating on strings in series:  0       a\n",
      "1       b\n",
      "2       c\n",
      "3    aaba\n",
      "4    baca\n",
      "5     NaN\n",
      "6    caba\n",
      "7     dog\n",
      "8     cat\n",
      "dtype: object\n"
     ]
    }
   ],
   "source": [
    "# Built in string methods\n",
    "s = pd.Series(['A', 'B', 'C', 'Aaba', 'Baca', np.nan, 'CABA', 'dog', 'cat'])\n",
    "print \"Original series: \", s\n",
    "print \"Operating on strings in series: \", s.str.lower()"
   ]
  },
  {
   "cell_type": "markdown",
   "metadata": {},
   "source": [
    "##Grouping"
   ]
  },
  {
   "cell_type": "code",
   "execution_count": 208,
   "metadata": {
    "collapsed": false
   },
   "outputs": [
    {
     "data": {
      "text/html": [
       "<div>\n",
       "<table border=\"1\" class=\"dataframe\">\n",
       "  <thead>\n",
       "    <tr style=\"text-align: right;\">\n",
       "      <th></th>\n",
       "      <th>A</th>\n",
       "      <th>B</th>\n",
       "      <th>C</th>\n",
       "      <th>D</th>\n",
       "    </tr>\n",
       "  </thead>\n",
       "  <tbody>\n",
       "    <tr>\n",
       "      <th>0</th>\n",
       "      <td>foo</td>\n",
       "      <td>one</td>\n",
       "      <td>1.998232</td>\n",
       "      <td>0.721194</td>\n",
       "    </tr>\n",
       "    <tr>\n",
       "      <th>1</th>\n",
       "      <td>bar</td>\n",
       "      <td>one</td>\n",
       "      <td>0.733426</td>\n",
       "      <td>-0.119302</td>\n",
       "    </tr>\n",
       "    <tr>\n",
       "      <th>2</th>\n",
       "      <td>foo</td>\n",
       "      <td>two</td>\n",
       "      <td>-0.664899</td>\n",
       "      <td>2.080191</td>\n",
       "    </tr>\n",
       "    <tr>\n",
       "      <th>3</th>\n",
       "      <td>bar</td>\n",
       "      <td>three</td>\n",
       "      <td>-0.027390</td>\n",
       "      <td>1.339258</td>\n",
       "    </tr>\n",
       "    <tr>\n",
       "      <th>4</th>\n",
       "      <td>foo</td>\n",
       "      <td>two</td>\n",
       "      <td>0.585594</td>\n",
       "      <td>0.225102</td>\n",
       "    </tr>\n",
       "    <tr>\n",
       "      <th>5</th>\n",
       "      <td>bar</td>\n",
       "      <td>two</td>\n",
       "      <td>-1.870667</td>\n",
       "      <td>-1.100231</td>\n",
       "    </tr>\n",
       "    <tr>\n",
       "      <th>6</th>\n",
       "      <td>foo</td>\n",
       "      <td>one</td>\n",
       "      <td>1.603587</td>\n",
       "      <td>0.451163</td>\n",
       "    </tr>\n",
       "    <tr>\n",
       "      <th>7</th>\n",
       "      <td>foo</td>\n",
       "      <td>three</td>\n",
       "      <td>0.926215</td>\n",
       "      <td>0.678841</td>\n",
       "    </tr>\n",
       "  </tbody>\n",
       "</table>\n",
       "</div>"
      ],
      "text/plain": [
       "     A      B         C         D\n",
       "0  foo    one  1.998232  0.721194\n",
       "1  bar    one  0.733426 -0.119302\n",
       "2  foo    two -0.664899  2.080191\n",
       "3  bar  three -0.027390  1.339258\n",
       "4  foo    two  0.585594  0.225102\n",
       "5  bar    two -1.870667 -1.100231\n",
       "6  foo    one  1.603587  0.451163\n",
       "7  foo  three  0.926215  0.678841"
      ]
     },
     "execution_count": 208,
     "metadata": {},
     "output_type": "execute_result"
    }
   ],
   "source": [
    "df4 = pd.DataFrame({'A' : ['foo', 'bar', 'foo', 'bar',\n",
    "                       'foo', 'bar', 'foo', 'foo'],\n",
    "                       'B' : ['one', 'one', 'two', 'three',\n",
    "                             'two', 'two', 'one', 'three'],\n",
    "                       'C' : np.random.randn(8),\n",
    "                       'D' : np.random.randn(8)})\n",
    "df4"
   ]
  },
  {
   "cell_type": "code",
   "execution_count": 209,
   "metadata": {
    "collapsed": false
   },
   "outputs": [
    {
     "data": {
      "text/html": [
       "<div>\n",
       "<table border=\"1\" class=\"dataframe\">\n",
       "  <thead>\n",
       "    <tr style=\"text-align: right;\">\n",
       "      <th></th>\n",
       "      <th></th>\n",
       "      <th>C</th>\n",
       "      <th>D</th>\n",
       "    </tr>\n",
       "    <tr>\n",
       "      <th>A</th>\n",
       "      <th>B</th>\n",
       "      <th></th>\n",
       "      <th></th>\n",
       "    </tr>\n",
       "  </thead>\n",
       "  <tbody>\n",
       "    <tr>\n",
       "      <th rowspan=\"3\" valign=\"top\">bar</th>\n",
       "      <th>one</th>\n",
       "      <td>0.733426</td>\n",
       "      <td>-0.119302</td>\n",
       "    </tr>\n",
       "    <tr>\n",
       "      <th>three</th>\n",
       "      <td>-0.027390</td>\n",
       "      <td>1.339258</td>\n",
       "    </tr>\n",
       "    <tr>\n",
       "      <th>two</th>\n",
       "      <td>-1.870667</td>\n",
       "      <td>-1.100231</td>\n",
       "    </tr>\n",
       "    <tr>\n",
       "      <th rowspan=\"3\" valign=\"top\">foo</th>\n",
       "      <th>one</th>\n",
       "      <td>3.601819</td>\n",
       "      <td>1.172357</td>\n",
       "    </tr>\n",
       "    <tr>\n",
       "      <th>three</th>\n",
       "      <td>0.926215</td>\n",
       "      <td>0.678841</td>\n",
       "    </tr>\n",
       "    <tr>\n",
       "      <th>two</th>\n",
       "      <td>-0.079305</td>\n",
       "      <td>2.305293</td>\n",
       "    </tr>\n",
       "  </tbody>\n",
       "</table>\n",
       "</div>"
      ],
      "text/plain": [
       "                  C         D\n",
       "A   B                        \n",
       "bar one    0.733426 -0.119302\n",
       "    three -0.027390  1.339258\n",
       "    two   -1.870667 -1.100231\n",
       "foo one    3.601819  1.172357\n",
       "    three  0.926215  0.678841\n",
       "    two   -0.079305  2.305293"
      ]
     },
     "execution_count": 209,
     "metadata": {},
     "output_type": "execute_result"
    }
   ],
   "source": [
    "df4.groupby(['A','B']).sum()"
   ]
  },
  {
   "cell_type": "markdown",
   "metadata": {},
   "source": [
    "##Concatenating pieces"
   ]
  },
  {
   "cell_type": "code",
   "execution_count": 216,
   "metadata": {
    "collapsed": false
   },
   "outputs": [
    {
     "data": {
      "text/plain": [
       "array([[-1.14296105,  0.83337485, -0.16338536,  2.52067546],\n",
       "       [-0.82269406,  1.2160463 , -0.13902902,  0.58724569],\n",
       "       [-0.76717535, -0.42665718,  1.41911439,  1.15532216],\n",
       "       [ 0.73444478, -0.44160454, -1.27873869, -0.19217871],\n",
       "       [ 0.36245202,  0.75947756,  0.3588593 ,  2.07224147],\n",
       "       [-0.35176726, -1.69557511, -0.18890609, -0.30754481],\n",
       "       [-0.12622954,  1.3145355 ,  0.15903419,  1.04072445],\n",
       "       [-1.37594285,  0.42907178, -0.25153442, -0.20532171],\n",
       "       [-0.38739266,  1.30997449, -0.43488732, -0.92147005],\n",
       "       [-1.83588412, -1.8789914 ,  0.62343605,  0.63299324]])"
      ]
     },
     "execution_count": 216,
     "metadata": {},
     "output_type": "execute_result"
    }
   ],
   "source": [
    "np.random.randn(10,4)"
   ]
  },
  {
   "cell_type": "code",
   "execution_count": 217,
   "metadata": {
    "collapsed": false
   },
   "outputs": [
    {
     "data": {
      "text/html": [
       "<div>\n",
       "<table border=\"1\" class=\"dataframe\">\n",
       "  <thead>\n",
       "    <tr style=\"text-align: right;\">\n",
       "      <th></th>\n",
       "      <th>0</th>\n",
       "      <th>1</th>\n",
       "      <th>2</th>\n",
       "      <th>3</th>\n",
       "    </tr>\n",
       "  </thead>\n",
       "  <tbody>\n",
       "    <tr>\n",
       "      <th>0</th>\n",
       "      <td>-2.041897</td>\n",
       "      <td>-1.209262</td>\n",
       "      <td>-0.646355</td>\n",
       "      <td>0.637010</td>\n",
       "    </tr>\n",
       "    <tr>\n",
       "      <th>1</th>\n",
       "      <td>-0.076819</td>\n",
       "      <td>-2.289804</td>\n",
       "      <td>-0.724763</td>\n",
       "      <td>-0.374453</td>\n",
       "    </tr>\n",
       "    <tr>\n",
       "      <th>2</th>\n",
       "      <td>-1.728321</td>\n",
       "      <td>-1.180203</td>\n",
       "      <td>0.626506</td>\n",
       "      <td>0.023966</td>\n",
       "    </tr>\n",
       "    <tr>\n",
       "      <th>3</th>\n",
       "      <td>0.851832</td>\n",
       "      <td>1.062758</td>\n",
       "      <td>-0.385286</td>\n",
       "      <td>0.738367</td>\n",
       "    </tr>\n",
       "    <tr>\n",
       "      <th>4</th>\n",
       "      <td>-0.924217</td>\n",
       "      <td>1.570674</td>\n",
       "      <td>0.257635</td>\n",
       "      <td>-0.729136</td>\n",
       "    </tr>\n",
       "    <tr>\n",
       "      <th>5</th>\n",
       "      <td>1.477720</td>\n",
       "      <td>0.279673</td>\n",
       "      <td>-0.822543</td>\n",
       "      <td>-1.835085</td>\n",
       "    </tr>\n",
       "    <tr>\n",
       "      <th>6</th>\n",
       "      <td>0.439104</td>\n",
       "      <td>0.112922</td>\n",
       "      <td>-0.743189</td>\n",
       "      <td>-0.189266</td>\n",
       "    </tr>\n",
       "    <tr>\n",
       "      <th>7</th>\n",
       "      <td>-1.569584</td>\n",
       "      <td>-0.952367</td>\n",
       "      <td>0.126604</td>\n",
       "      <td>0.859859</td>\n",
       "    </tr>\n",
       "    <tr>\n",
       "      <th>8</th>\n",
       "      <td>-1.234078</td>\n",
       "      <td>-0.916723</td>\n",
       "      <td>0.562158</td>\n",
       "      <td>-0.441334</td>\n",
       "    </tr>\n",
       "    <tr>\n",
       "      <th>9</th>\n",
       "      <td>1.858314</td>\n",
       "      <td>-1.020991</td>\n",
       "      <td>0.060013</td>\n",
       "      <td>1.270094</td>\n",
       "    </tr>\n",
       "  </tbody>\n",
       "</table>\n",
       "</div>"
      ],
      "text/plain": [
       "          0         1         2         3\n",
       "0 -2.041897 -1.209262 -0.646355  0.637010\n",
       "1 -0.076819 -2.289804 -0.724763 -0.374453\n",
       "2 -1.728321 -1.180203  0.626506  0.023966\n",
       "3  0.851832  1.062758 -0.385286  0.738367\n",
       "4 -0.924217  1.570674  0.257635 -0.729136\n",
       "5  1.477720  0.279673 -0.822543 -1.835085\n",
       "6  0.439104  0.112922 -0.743189 -0.189266\n",
       "7 -1.569584 -0.952367  0.126604  0.859859\n",
       "8 -1.234078 -0.916723  0.562158 -0.441334\n",
       "9  1.858314 -1.020991  0.060013  1.270094"
      ]
     },
     "execution_count": 217,
     "metadata": {},
     "output_type": "execute_result"
    }
   ],
   "source": [
    "#Concatenating pandas objects together\n",
    "df5 = pd.DataFrame(np.random.randn(10,4))\n",
    "df5"
   ]
  },
  {
   "cell_type": "code",
   "execution_count": 218,
   "metadata": {
    "collapsed": false
   },
   "outputs": [
    {
     "data": {
      "text/plain": [
       "[          0         1         2         3\n",
       " 0 -2.041897 -1.209262 -0.646355  0.637010\n",
       " 1 -0.076819 -2.289804 -0.724763 -0.374453\n",
       " 2 -1.728321 -1.180203  0.626506  0.023966,\n",
       "           0         1         2         3\n",
       " 3  0.851832  1.062758 -0.385286  0.738367\n",
       " 4 -0.924217  1.570674  0.257635 -0.729136\n",
       " 5  1.477720  0.279673 -0.822543 -1.835085\n",
       " 6  0.439104  0.112922 -0.743189 -0.189266,\n",
       "           0         1         2         3\n",
       " 7 -1.569584 -0.952367  0.126604  0.859859\n",
       " 8 -1.234078 -0.916723  0.562158 -0.441334\n",
       " 9  1.858314 -1.020991  0.060013  1.270094]"
      ]
     },
     "execution_count": 218,
     "metadata": {},
     "output_type": "execute_result"
    }
   ],
   "source": [
    "# Break it into pieces\n",
    "pieces = [df5[:3], df5[3:7],df5[7:]]\n",
    "pieces"
   ]
  },
  {
   "cell_type": "code",
   "execution_count": 214,
   "metadata": {
    "collapsed": false
   },
   "outputs": [
    {
     "data": {
      "text/html": [
       "<div>\n",
       "<table border=\"1\" class=\"dataframe\">\n",
       "  <thead>\n",
       "    <tr style=\"text-align: right;\">\n",
       "      <th></th>\n",
       "      <th>0</th>\n",
       "      <th>1</th>\n",
       "      <th>2</th>\n",
       "      <th>3</th>\n",
       "    </tr>\n",
       "  </thead>\n",
       "  <tbody>\n",
       "    <tr>\n",
       "      <th>0</th>\n",
       "      <td>0.419084</td>\n",
       "      <td>-0.897757</td>\n",
       "      <td>0.286845</td>\n",
       "      <td>1.024689</td>\n",
       "    </tr>\n",
       "    <tr>\n",
       "      <th>1</th>\n",
       "      <td>0.676102</td>\n",
       "      <td>-0.434695</td>\n",
       "      <td>-0.132310</td>\n",
       "      <td>-1.651151</td>\n",
       "    </tr>\n",
       "    <tr>\n",
       "      <th>2</th>\n",
       "      <td>-1.127066</td>\n",
       "      <td>-0.257796</td>\n",
       "      <td>0.544062</td>\n",
       "      <td>-0.628465</td>\n",
       "    </tr>\n",
       "    <tr>\n",
       "      <th>3</th>\n",
       "      <td>0.018546</td>\n",
       "      <td>-0.867174</td>\n",
       "      <td>0.637350</td>\n",
       "      <td>-0.459063</td>\n",
       "    </tr>\n",
       "    <tr>\n",
       "      <th>4</th>\n",
       "      <td>-0.333693</td>\n",
       "      <td>-1.908270</td>\n",
       "      <td>-0.963644</td>\n",
       "      <td>-1.404210</td>\n",
       "    </tr>\n",
       "    <tr>\n",
       "      <th>5</th>\n",
       "      <td>-0.123689</td>\n",
       "      <td>-1.973577</td>\n",
       "      <td>0.604741</td>\n",
       "      <td>0.208593</td>\n",
       "    </tr>\n",
       "    <tr>\n",
       "      <th>6</th>\n",
       "      <td>-1.142666</td>\n",
       "      <td>-0.389683</td>\n",
       "      <td>0.566603</td>\n",
       "      <td>1.631587</td>\n",
       "    </tr>\n",
       "    <tr>\n",
       "      <th>7</th>\n",
       "      <td>0.594018</td>\n",
       "      <td>-1.560414</td>\n",
       "      <td>-1.557318</td>\n",
       "      <td>-1.395482</td>\n",
       "    </tr>\n",
       "    <tr>\n",
       "      <th>8</th>\n",
       "      <td>-1.404587</td>\n",
       "      <td>0.402270</td>\n",
       "      <td>0.113107</td>\n",
       "      <td>-0.867286</td>\n",
       "    </tr>\n",
       "    <tr>\n",
       "      <th>9</th>\n",
       "      <td>-0.518196</td>\n",
       "      <td>-1.063976</td>\n",
       "      <td>-1.378926</td>\n",
       "      <td>-1.348535</td>\n",
       "    </tr>\n",
       "  </tbody>\n",
       "</table>\n",
       "</div>"
      ],
      "text/plain": [
       "          0         1         2         3\n",
       "0  0.419084 -0.897757  0.286845  1.024689\n",
       "1  0.676102 -0.434695 -0.132310 -1.651151\n",
       "2 -1.127066 -0.257796  0.544062 -0.628465\n",
       "3  0.018546 -0.867174  0.637350 -0.459063\n",
       "4 -0.333693 -1.908270 -0.963644 -1.404210\n",
       "5 -0.123689 -1.973577  0.604741  0.208593\n",
       "6 -1.142666 -0.389683  0.566603  1.631587\n",
       "7  0.594018 -1.560414 -1.557318 -1.395482\n",
       "8 -1.404587  0.402270  0.113107 -0.867286\n",
       "9 -0.518196 -1.063976 -1.378926 -1.348535"
      ]
     },
     "execution_count": 214,
     "metadata": {},
     "output_type": "execute_result"
    }
   ],
   "source": [
    "pd.concat(pieces)"
   ]
  },
  {
   "cell_type": "code",
   "execution_count": 215,
   "metadata": {
    "collapsed": false
   },
   "outputs": [
    {
     "data": {
      "text/html": [
       "<div>\n",
       "<table border=\"1\" class=\"dataframe\">\n",
       "  <thead>\n",
       "    <tr style=\"text-align: right;\">\n",
       "      <th></th>\n",
       "      <th>0</th>\n",
       "      <th>1</th>\n",
       "      <th>2</th>\n",
       "      <th>3</th>\n",
       "      <th>0</th>\n",
       "      <th>1</th>\n",
       "      <th>2</th>\n",
       "      <th>3</th>\n",
       "      <th>0</th>\n",
       "      <th>1</th>\n",
       "      <th>2</th>\n",
       "      <th>3</th>\n",
       "    </tr>\n",
       "  </thead>\n",
       "  <tbody>\n",
       "    <tr>\n",
       "      <th>0</th>\n",
       "      <td>0.419084</td>\n",
       "      <td>-0.897757</td>\n",
       "      <td>0.286845</td>\n",
       "      <td>1.024689</td>\n",
       "      <td>NaN</td>\n",
       "      <td>NaN</td>\n",
       "      <td>NaN</td>\n",
       "      <td>NaN</td>\n",
       "      <td>NaN</td>\n",
       "      <td>NaN</td>\n",
       "      <td>NaN</td>\n",
       "      <td>NaN</td>\n",
       "    </tr>\n",
       "    <tr>\n",
       "      <th>1</th>\n",
       "      <td>0.676102</td>\n",
       "      <td>-0.434695</td>\n",
       "      <td>-0.132310</td>\n",
       "      <td>-1.651151</td>\n",
       "      <td>NaN</td>\n",
       "      <td>NaN</td>\n",
       "      <td>NaN</td>\n",
       "      <td>NaN</td>\n",
       "      <td>NaN</td>\n",
       "      <td>NaN</td>\n",
       "      <td>NaN</td>\n",
       "      <td>NaN</td>\n",
       "    </tr>\n",
       "    <tr>\n",
       "      <th>2</th>\n",
       "      <td>-1.127066</td>\n",
       "      <td>-0.257796</td>\n",
       "      <td>0.544062</td>\n",
       "      <td>-0.628465</td>\n",
       "      <td>NaN</td>\n",
       "      <td>NaN</td>\n",
       "      <td>NaN</td>\n",
       "      <td>NaN</td>\n",
       "      <td>NaN</td>\n",
       "      <td>NaN</td>\n",
       "      <td>NaN</td>\n",
       "      <td>NaN</td>\n",
       "    </tr>\n",
       "    <tr>\n",
       "      <th>3</th>\n",
       "      <td>NaN</td>\n",
       "      <td>NaN</td>\n",
       "      <td>NaN</td>\n",
       "      <td>NaN</td>\n",
       "      <td>0.018546</td>\n",
       "      <td>-0.867174</td>\n",
       "      <td>0.637350</td>\n",
       "      <td>-0.459063</td>\n",
       "      <td>NaN</td>\n",
       "      <td>NaN</td>\n",
       "      <td>NaN</td>\n",
       "      <td>NaN</td>\n",
       "    </tr>\n",
       "    <tr>\n",
       "      <th>4</th>\n",
       "      <td>NaN</td>\n",
       "      <td>NaN</td>\n",
       "      <td>NaN</td>\n",
       "      <td>NaN</td>\n",
       "      <td>-0.333693</td>\n",
       "      <td>-1.908270</td>\n",
       "      <td>-0.963644</td>\n",
       "      <td>-1.404210</td>\n",
       "      <td>NaN</td>\n",
       "      <td>NaN</td>\n",
       "      <td>NaN</td>\n",
       "      <td>NaN</td>\n",
       "    </tr>\n",
       "    <tr>\n",
       "      <th>5</th>\n",
       "      <td>NaN</td>\n",
       "      <td>NaN</td>\n",
       "      <td>NaN</td>\n",
       "      <td>NaN</td>\n",
       "      <td>-0.123689</td>\n",
       "      <td>-1.973577</td>\n",
       "      <td>0.604741</td>\n",
       "      <td>0.208593</td>\n",
       "      <td>NaN</td>\n",
       "      <td>NaN</td>\n",
       "      <td>NaN</td>\n",
       "      <td>NaN</td>\n",
       "    </tr>\n",
       "    <tr>\n",
       "      <th>6</th>\n",
       "      <td>NaN</td>\n",
       "      <td>NaN</td>\n",
       "      <td>NaN</td>\n",
       "      <td>NaN</td>\n",
       "      <td>-1.142666</td>\n",
       "      <td>-0.389683</td>\n",
       "      <td>0.566603</td>\n",
       "      <td>1.631587</td>\n",
       "      <td>NaN</td>\n",
       "      <td>NaN</td>\n",
       "      <td>NaN</td>\n",
       "      <td>NaN</td>\n",
       "    </tr>\n",
       "    <tr>\n",
       "      <th>7</th>\n",
       "      <td>NaN</td>\n",
       "      <td>NaN</td>\n",
       "      <td>NaN</td>\n",
       "      <td>NaN</td>\n",
       "      <td>NaN</td>\n",
       "      <td>NaN</td>\n",
       "      <td>NaN</td>\n",
       "      <td>NaN</td>\n",
       "      <td>0.594018</td>\n",
       "      <td>-1.560414</td>\n",
       "      <td>-1.557318</td>\n",
       "      <td>-1.395482</td>\n",
       "    </tr>\n",
       "    <tr>\n",
       "      <th>8</th>\n",
       "      <td>NaN</td>\n",
       "      <td>NaN</td>\n",
       "      <td>NaN</td>\n",
       "      <td>NaN</td>\n",
       "      <td>NaN</td>\n",
       "      <td>NaN</td>\n",
       "      <td>NaN</td>\n",
       "      <td>NaN</td>\n",
       "      <td>-1.404587</td>\n",
       "      <td>0.402270</td>\n",
       "      <td>0.113107</td>\n",
       "      <td>-0.867286</td>\n",
       "    </tr>\n",
       "    <tr>\n",
       "      <th>9</th>\n",
       "      <td>NaN</td>\n",
       "      <td>NaN</td>\n",
       "      <td>NaN</td>\n",
       "      <td>NaN</td>\n",
       "      <td>NaN</td>\n",
       "      <td>NaN</td>\n",
       "      <td>NaN</td>\n",
       "      <td>NaN</td>\n",
       "      <td>-0.518196</td>\n",
       "      <td>-1.063976</td>\n",
       "      <td>-1.378926</td>\n",
       "      <td>-1.348535</td>\n",
       "    </tr>\n",
       "  </tbody>\n",
       "</table>\n",
       "</div>"
      ],
      "text/plain": [
       "          0         1         2         3         0         1         2  \\\n",
       "0  0.419084 -0.897757  0.286845  1.024689       NaN       NaN       NaN   \n",
       "1  0.676102 -0.434695 -0.132310 -1.651151       NaN       NaN       NaN   \n",
       "2 -1.127066 -0.257796  0.544062 -0.628465       NaN       NaN       NaN   \n",
       "3       NaN       NaN       NaN       NaN  0.018546 -0.867174  0.637350   \n",
       "4       NaN       NaN       NaN       NaN -0.333693 -1.908270 -0.963644   \n",
       "5       NaN       NaN       NaN       NaN -0.123689 -1.973577  0.604741   \n",
       "6       NaN       NaN       NaN       NaN -1.142666 -0.389683  0.566603   \n",
       "7       NaN       NaN       NaN       NaN       NaN       NaN       NaN   \n",
       "8       NaN       NaN       NaN       NaN       NaN       NaN       NaN   \n",
       "9       NaN       NaN       NaN       NaN       NaN       NaN       NaN   \n",
       "\n",
       "          3         0         1         2         3  \n",
       "0       NaN       NaN       NaN       NaN       NaN  \n",
       "1       NaN       NaN       NaN       NaN       NaN  \n",
       "2       NaN       NaN       NaN       NaN       NaN  \n",
       "3 -0.459063       NaN       NaN       NaN       NaN  \n",
       "4 -1.404210       NaN       NaN       NaN       NaN  \n",
       "5  0.208593       NaN       NaN       NaN       NaN  \n",
       "6  1.631587       NaN       NaN       NaN       NaN  \n",
       "7       NaN  0.594018 -1.560414 -1.557318 -1.395482  \n",
       "8       NaN -1.404587  0.402270  0.113107 -0.867286  \n",
       "9       NaN -0.518196 -1.063976 -1.378926 -1.348535  "
      ]
     },
     "execution_count": 215,
     "metadata": {},
     "output_type": "execute_result"
    }
   ],
   "source": [
    "pd.concat(pieces,axis=1)"
   ]
  },
  {
   "cell_type": "code",
   "execution_count": 219,
   "metadata": {
    "collapsed": false
   },
   "outputs": [
    {
     "data": {
      "text/html": [
       "<div>\n",
       "<table border=\"1\" class=\"dataframe\">\n",
       "  <thead>\n",
       "    <tr style=\"text-align: right;\">\n",
       "      <th></th>\n",
       "      <th>0_x</th>\n",
       "      <th>1_x</th>\n",
       "      <th>2_x</th>\n",
       "      <th>3_x</th>\n",
       "      <th>0_y</th>\n",
       "      <th>1_y</th>\n",
       "      <th>2_y</th>\n",
       "      <th>3_y</th>\n",
       "    </tr>\n",
       "  </thead>\n",
       "  <tbody>\n",
       "    <tr>\n",
       "      <th>0</th>\n",
       "      <td>-2.041897</td>\n",
       "      <td>-1.209262</td>\n",
       "      <td>-0.646355</td>\n",
       "      <td>0.637010</td>\n",
       "      <td>-2.041897</td>\n",
       "      <td>-1.209262</td>\n",
       "      <td>-0.646355</td>\n",
       "      <td>0.637010</td>\n",
       "    </tr>\n",
       "    <tr>\n",
       "      <th>1</th>\n",
       "      <td>-0.076819</td>\n",
       "      <td>-2.289804</td>\n",
       "      <td>-0.724763</td>\n",
       "      <td>-0.374453</td>\n",
       "      <td>-0.076819</td>\n",
       "      <td>-2.289804</td>\n",
       "      <td>-0.724763</td>\n",
       "      <td>-0.374453</td>\n",
       "    </tr>\n",
       "    <tr>\n",
       "      <th>2</th>\n",
       "      <td>-1.728321</td>\n",
       "      <td>-1.180203</td>\n",
       "      <td>0.626506</td>\n",
       "      <td>0.023966</td>\n",
       "      <td>-1.728321</td>\n",
       "      <td>-1.180203</td>\n",
       "      <td>0.626506</td>\n",
       "      <td>0.023966</td>\n",
       "    </tr>\n",
       "    <tr>\n",
       "      <th>3</th>\n",
       "      <td>0.851832</td>\n",
       "      <td>1.062758</td>\n",
       "      <td>-0.385286</td>\n",
       "      <td>0.738367</td>\n",
       "      <td>0.851832</td>\n",
       "      <td>1.062758</td>\n",
       "      <td>-0.385286</td>\n",
       "      <td>0.738367</td>\n",
       "    </tr>\n",
       "    <tr>\n",
       "      <th>4</th>\n",
       "      <td>-0.924217</td>\n",
       "      <td>1.570674</td>\n",
       "      <td>0.257635</td>\n",
       "      <td>-0.729136</td>\n",
       "      <td>-0.924217</td>\n",
       "      <td>1.570674</td>\n",
       "      <td>0.257635</td>\n",
       "      <td>-0.729136</td>\n",
       "    </tr>\n",
       "    <tr>\n",
       "      <th>5</th>\n",
       "      <td>1.477720</td>\n",
       "      <td>0.279673</td>\n",
       "      <td>-0.822543</td>\n",
       "      <td>-1.835085</td>\n",
       "      <td>1.477720</td>\n",
       "      <td>0.279673</td>\n",
       "      <td>-0.822543</td>\n",
       "      <td>-1.835085</td>\n",
       "    </tr>\n",
       "    <tr>\n",
       "      <th>6</th>\n",
       "      <td>0.439104</td>\n",
       "      <td>0.112922</td>\n",
       "      <td>-0.743189</td>\n",
       "      <td>-0.189266</td>\n",
       "      <td>0.439104</td>\n",
       "      <td>0.112922</td>\n",
       "      <td>-0.743189</td>\n",
       "      <td>-0.189266</td>\n",
       "    </tr>\n",
       "    <tr>\n",
       "      <th>7</th>\n",
       "      <td>-1.569584</td>\n",
       "      <td>-0.952367</td>\n",
       "      <td>0.126604</td>\n",
       "      <td>0.859859</td>\n",
       "      <td>-1.569584</td>\n",
       "      <td>-0.952367</td>\n",
       "      <td>0.126604</td>\n",
       "      <td>0.859859</td>\n",
       "    </tr>\n",
       "    <tr>\n",
       "      <th>8</th>\n",
       "      <td>-1.234078</td>\n",
       "      <td>-0.916723</td>\n",
       "      <td>0.562158</td>\n",
       "      <td>-0.441334</td>\n",
       "      <td>-1.234078</td>\n",
       "      <td>-0.916723</td>\n",
       "      <td>0.562158</td>\n",
       "      <td>-0.441334</td>\n",
       "    </tr>\n",
       "    <tr>\n",
       "      <th>9</th>\n",
       "      <td>1.858314</td>\n",
       "      <td>-1.020991</td>\n",
       "      <td>0.060013</td>\n",
       "      <td>1.270094</td>\n",
       "      <td>1.858314</td>\n",
       "      <td>-1.020991</td>\n",
       "      <td>0.060013</td>\n",
       "      <td>1.270094</td>\n",
       "    </tr>\n",
       "  </tbody>\n",
       "</table>\n",
       "</div>"
      ],
      "text/plain": [
       "        0_x       1_x       2_x       3_x       0_y       1_y       2_y  \\\n",
       "0 -2.041897 -1.209262 -0.646355  0.637010 -2.041897 -1.209262 -0.646355   \n",
       "1 -0.076819 -2.289804 -0.724763 -0.374453 -0.076819 -2.289804 -0.724763   \n",
       "2 -1.728321 -1.180203  0.626506  0.023966 -1.728321 -1.180203  0.626506   \n",
       "3  0.851832  1.062758 -0.385286  0.738367  0.851832  1.062758 -0.385286   \n",
       "4 -0.924217  1.570674  0.257635 -0.729136 -0.924217  1.570674  0.257635   \n",
       "5  1.477720  0.279673 -0.822543 -1.835085  1.477720  0.279673 -0.822543   \n",
       "6  0.439104  0.112922 -0.743189 -0.189266  0.439104  0.112922 -0.743189   \n",
       "7 -1.569584 -0.952367  0.126604  0.859859 -1.569584 -0.952367  0.126604   \n",
       "8 -1.234078 -0.916723  0.562158 -0.441334 -1.234078 -0.916723  0.562158   \n",
       "9  1.858314 -1.020991  0.060013  1.270094  1.858314 -1.020991  0.060013   \n",
       "\n",
       "        3_y  \n",
       "0  0.637010  \n",
       "1 -0.374453  \n",
       "2  0.023966  \n",
       "3  0.738367  \n",
       "4 -0.729136  \n",
       "5 -1.835085  \n",
       "6 -0.189266  \n",
       "7  0.859859  \n",
       "8 -0.441334  \n",
       "9  1.270094  "
      ]
     },
     "execution_count": 219,
     "metadata": {},
     "output_type": "execute_result"
    }
   ],
   "source": [
    "df5.merge(df5,left_index=True,right_index=True)"
   ]
  },
  {
   "cell_type": "markdown",
   "metadata": {},
   "source": [
    "##Reshaping"
   ]
  },
  {
   "cell_type": "code",
   "execution_count": 220,
   "metadata": {
    "collapsed": false
   },
   "outputs": [
    {
     "data": {
      "text/html": [
       "<div>\n",
       "<table border=\"1\" class=\"dataframe\">\n",
       "  <thead>\n",
       "    <tr style=\"text-align: right;\">\n",
       "      <th></th>\n",
       "      <th>A</th>\n",
       "      <th>B</th>\n",
       "      <th>C</th>\n",
       "      <th>D</th>\n",
       "    </tr>\n",
       "  </thead>\n",
       "  <tbody>\n",
       "    <tr>\n",
       "      <th>0</th>\n",
       "      <td>foo</td>\n",
       "      <td>one</td>\n",
       "      <td>1.998232</td>\n",
       "      <td>0.721194</td>\n",
       "    </tr>\n",
       "    <tr>\n",
       "      <th>1</th>\n",
       "      <td>bar</td>\n",
       "      <td>one</td>\n",
       "      <td>0.733426</td>\n",
       "      <td>-0.119302</td>\n",
       "    </tr>\n",
       "    <tr>\n",
       "      <th>2</th>\n",
       "      <td>foo</td>\n",
       "      <td>two</td>\n",
       "      <td>-0.664899</td>\n",
       "      <td>2.080191</td>\n",
       "    </tr>\n",
       "    <tr>\n",
       "      <th>3</th>\n",
       "      <td>bar</td>\n",
       "      <td>three</td>\n",
       "      <td>-0.027390</td>\n",
       "      <td>1.339258</td>\n",
       "    </tr>\n",
       "    <tr>\n",
       "      <th>4</th>\n",
       "      <td>foo</td>\n",
       "      <td>two</td>\n",
       "      <td>0.585594</td>\n",
       "      <td>0.225102</td>\n",
       "    </tr>\n",
       "    <tr>\n",
       "      <th>5</th>\n",
       "      <td>bar</td>\n",
       "      <td>two</td>\n",
       "      <td>-1.870667</td>\n",
       "      <td>-1.100231</td>\n",
       "    </tr>\n",
       "    <tr>\n",
       "      <th>6</th>\n",
       "      <td>foo</td>\n",
       "      <td>one</td>\n",
       "      <td>1.603587</td>\n",
       "      <td>0.451163</td>\n",
       "    </tr>\n",
       "    <tr>\n",
       "      <th>7</th>\n",
       "      <td>foo</td>\n",
       "      <td>three</td>\n",
       "      <td>0.926215</td>\n",
       "      <td>0.678841</td>\n",
       "    </tr>\n",
       "  </tbody>\n",
       "</table>\n",
       "</div>"
      ],
      "text/plain": [
       "     A      B         C         D\n",
       "0  foo    one  1.998232  0.721194\n",
       "1  bar    one  0.733426 -0.119302\n",
       "2  foo    two -0.664899  2.080191\n",
       "3  bar  three -0.027390  1.339258\n",
       "4  foo    two  0.585594  0.225102\n",
       "5  bar    two -1.870667 -1.100231\n",
       "6  foo    one  1.603587  0.451163\n",
       "7  foo  three  0.926215  0.678841"
      ]
     },
     "execution_count": 220,
     "metadata": {},
     "output_type": "execute_result"
    }
   ],
   "source": [
    "df4"
   ]
  },
  {
   "cell_type": "code",
   "execution_count": 225,
   "metadata": {
    "collapsed": false
   },
   "outputs": [
    {
     "data": {
      "text/html": [
       "<div>\n",
       "<table border=\"1\" class=\"dataframe\">\n",
       "  <thead>\n",
       "    <tr style=\"text-align: right;\">\n",
       "      <th></th>\n",
       "      <th></th>\n",
       "      <th>C</th>\n",
       "      <th>D</th>\n",
       "    </tr>\n",
       "    <tr>\n",
       "      <th>A</th>\n",
       "      <th>B</th>\n",
       "      <th></th>\n",
       "      <th></th>\n",
       "    </tr>\n",
       "  </thead>\n",
       "  <tbody>\n",
       "    <tr>\n",
       "      <th rowspan=\"3\" valign=\"top\">bar</th>\n",
       "      <th>one</th>\n",
       "      <td>0.733426</td>\n",
       "      <td>-0.119302</td>\n",
       "    </tr>\n",
       "    <tr>\n",
       "      <th>three</th>\n",
       "      <td>-0.027390</td>\n",
       "      <td>1.339258</td>\n",
       "    </tr>\n",
       "    <tr>\n",
       "      <th>two</th>\n",
       "      <td>-1.870667</td>\n",
       "      <td>-1.100231</td>\n",
       "    </tr>\n",
       "    <tr>\n",
       "      <th rowspan=\"3\" valign=\"top\">foo</th>\n",
       "      <th>one</th>\n",
       "      <td>3.601819</td>\n",
       "      <td>1.172357</td>\n",
       "    </tr>\n",
       "    <tr>\n",
       "      <th>three</th>\n",
       "      <td>0.926215</td>\n",
       "      <td>0.678841</td>\n",
       "    </tr>\n",
       "    <tr>\n",
       "      <th>two</th>\n",
       "      <td>-0.079305</td>\n",
       "      <td>2.305293</td>\n",
       "    </tr>\n",
       "  </tbody>\n",
       "</table>\n",
       "</div>"
      ],
      "text/plain": [
       "                  C         D\n",
       "A   B                        \n",
       "bar one    0.733426 -0.119302\n",
       "    three -0.027390  1.339258\n",
       "    two   -1.870667 -1.100231\n",
       "foo one    3.601819  1.172357\n",
       "    three  0.926215  0.678841\n",
       "    two   -0.079305  2.305293"
      ]
     },
     "execution_count": 225,
     "metadata": {},
     "output_type": "execute_result"
    }
   ],
   "source": [
    "sums = df4.groupby([\"A\",\"B\"]).sum()\n",
    "sums"
   ]
  },
  {
   "cell_type": "code",
   "execution_count": 226,
   "metadata": {
    "collapsed": false
   },
   "outputs": [
    {
     "data": {
      "text/html": [
       "<div>\n",
       "<table border=\"1\" class=\"dataframe\">\n",
       "  <thead>\n",
       "    <tr>\n",
       "      <th></th>\n",
       "      <th colspan=\"3\" halign=\"left\">C</th>\n",
       "      <th colspan=\"3\" halign=\"left\">D</th>\n",
       "    </tr>\n",
       "    <tr>\n",
       "      <th>B</th>\n",
       "      <th>one</th>\n",
       "      <th>three</th>\n",
       "      <th>two</th>\n",
       "      <th>one</th>\n",
       "      <th>three</th>\n",
       "      <th>two</th>\n",
       "    </tr>\n",
       "    <tr>\n",
       "      <th>A</th>\n",
       "      <th></th>\n",
       "      <th></th>\n",
       "      <th></th>\n",
       "      <th></th>\n",
       "      <th></th>\n",
       "      <th></th>\n",
       "    </tr>\n",
       "  </thead>\n",
       "  <tbody>\n",
       "    <tr>\n",
       "      <th>bar</th>\n",
       "      <td>0.733426</td>\n",
       "      <td>-0.027390</td>\n",
       "      <td>-1.870667</td>\n",
       "      <td>-0.119302</td>\n",
       "      <td>1.339258</td>\n",
       "      <td>-1.100231</td>\n",
       "    </tr>\n",
       "    <tr>\n",
       "      <th>foo</th>\n",
       "      <td>3.601819</td>\n",
       "      <td>0.926215</td>\n",
       "      <td>-0.079305</td>\n",
       "      <td>1.172357</td>\n",
       "      <td>0.678841</td>\n",
       "      <td>2.305293</td>\n",
       "    </tr>\n",
       "  </tbody>\n",
       "</table>\n",
       "</div>"
      ],
      "text/plain": [
       "            C                             D                    \n",
       "B         one     three       two       one     three       two\n",
       "A                                                              \n",
       "bar  0.733426 -0.027390 -1.870667 -0.119302  1.339258 -1.100231\n",
       "foo  3.601819  0.926215 -0.079305  1.172357  0.678841  2.305293"
      ]
     },
     "execution_count": 226,
     "metadata": {},
     "output_type": "execute_result"
    }
   ],
   "source": [
    "sums.unstack()"
   ]
  },
  {
   "cell_type": "code",
   "execution_count": 227,
   "metadata": {
    "collapsed": false
   },
   "outputs": [
    {
     "data": {
      "text/html": [
       "<div>\n",
       "<table border=\"1\" class=\"dataframe\">\n",
       "  <thead>\n",
       "    <tr>\n",
       "      <th></th>\n",
       "      <th colspan=\"2\" halign=\"left\">C</th>\n",
       "      <th colspan=\"2\" halign=\"left\">D</th>\n",
       "    </tr>\n",
       "    <tr>\n",
       "      <th>A</th>\n",
       "      <th>bar</th>\n",
       "      <th>foo</th>\n",
       "      <th>bar</th>\n",
       "      <th>foo</th>\n",
       "    </tr>\n",
       "    <tr>\n",
       "      <th>B</th>\n",
       "      <th></th>\n",
       "      <th></th>\n",
       "      <th></th>\n",
       "      <th></th>\n",
       "    </tr>\n",
       "  </thead>\n",
       "  <tbody>\n",
       "    <tr>\n",
       "      <th>one</th>\n",
       "      <td>0.733426</td>\n",
       "      <td>3.601819</td>\n",
       "      <td>-0.119302</td>\n",
       "      <td>1.172357</td>\n",
       "    </tr>\n",
       "    <tr>\n",
       "      <th>three</th>\n",
       "      <td>-0.027390</td>\n",
       "      <td>0.926215</td>\n",
       "      <td>1.339258</td>\n",
       "      <td>0.678841</td>\n",
       "    </tr>\n",
       "    <tr>\n",
       "      <th>two</th>\n",
       "      <td>-1.870667</td>\n",
       "      <td>-0.079305</td>\n",
       "      <td>-1.100231</td>\n",
       "      <td>2.305293</td>\n",
       "    </tr>\n",
       "  </tbody>\n",
       "</table>\n",
       "</div>"
      ],
      "text/plain": [
       "              C                   D          \n",
       "A           bar       foo       bar       foo\n",
       "B                                            \n",
       "one    0.733426  3.601819 -0.119302  1.172357\n",
       "three -0.027390  0.926215  1.339258  0.678841\n",
       "two   -1.870667 -0.079305 -1.100231  2.305293"
      ]
     },
     "execution_count": 227,
     "metadata": {},
     "output_type": "execute_result"
    }
   ],
   "source": [
    "sums.unstack(level=0)"
   ]
  },
  {
   "cell_type": "code",
   "execution_count": 228,
   "metadata": {
    "collapsed": false
   },
   "outputs": [
    {
     "data": {
      "text/html": [
       "<div>\n",
       "<table border=\"1\" class=\"dataframe\">\n",
       "  <thead>\n",
       "    <tr style=\"text-align: right;\">\n",
       "      <th></th>\n",
       "      <th>A</th>\n",
       "      <th>B</th>\n",
       "      <th>C</th>\n",
       "      <th>D</th>\n",
       "    </tr>\n",
       "  </thead>\n",
       "  <tbody>\n",
       "    <tr>\n",
       "      <th>0</th>\n",
       "      <td>foo</td>\n",
       "      <td>one</td>\n",
       "      <td>1.998232</td>\n",
       "      <td>0.721194</td>\n",
       "    </tr>\n",
       "    <tr>\n",
       "      <th>1</th>\n",
       "      <td>bar</td>\n",
       "      <td>one</td>\n",
       "      <td>0.733426</td>\n",
       "      <td>-0.119302</td>\n",
       "    </tr>\n",
       "    <tr>\n",
       "      <th>2</th>\n",
       "      <td>foo</td>\n",
       "      <td>two</td>\n",
       "      <td>-0.664899</td>\n",
       "      <td>2.080191</td>\n",
       "    </tr>\n",
       "    <tr>\n",
       "      <th>3</th>\n",
       "      <td>bar</td>\n",
       "      <td>three</td>\n",
       "      <td>-0.027390</td>\n",
       "      <td>1.339258</td>\n",
       "    </tr>\n",
       "    <tr>\n",
       "      <th>4</th>\n",
       "      <td>foo</td>\n",
       "      <td>two</td>\n",
       "      <td>0.585594</td>\n",
       "      <td>0.225102</td>\n",
       "    </tr>\n",
       "    <tr>\n",
       "      <th>5</th>\n",
       "      <td>bar</td>\n",
       "      <td>two</td>\n",
       "      <td>-1.870667</td>\n",
       "      <td>-1.100231</td>\n",
       "    </tr>\n",
       "    <tr>\n",
       "      <th>6</th>\n",
       "      <td>foo</td>\n",
       "      <td>one</td>\n",
       "      <td>1.603587</td>\n",
       "      <td>0.451163</td>\n",
       "    </tr>\n",
       "    <tr>\n",
       "      <th>7</th>\n",
       "      <td>foo</td>\n",
       "      <td>three</td>\n",
       "      <td>0.926215</td>\n",
       "      <td>0.678841</td>\n",
       "    </tr>\n",
       "  </tbody>\n",
       "</table>\n",
       "</div>"
      ],
      "text/plain": [
       "     A      B         C         D\n",
       "0  foo    one  1.998232  0.721194\n",
       "1  bar    one  0.733426 -0.119302\n",
       "2  foo    two -0.664899  2.080191\n",
       "3  bar  three -0.027390  1.339258\n",
       "4  foo    two  0.585594  0.225102\n",
       "5  bar    two -1.870667 -1.100231\n",
       "6  foo    one  1.603587  0.451163\n",
       "7  foo  three  0.926215  0.678841"
      ]
     },
     "execution_count": 228,
     "metadata": {},
     "output_type": "execute_result"
    }
   ],
   "source": [
    "df4"
   ]
  },
  {
   "cell_type": "code",
   "execution_count": 230,
   "metadata": {
    "collapsed": false
   },
   "outputs": [
    {
     "data": {
      "text/html": [
       "<div>\n",
       "<table border=\"1\" class=\"dataframe\">\n",
       "  <thead>\n",
       "    <tr style=\"text-align: right;\">\n",
       "      <th></th>\n",
       "      <th>A</th>\n",
       "      <th>B</th>\n",
       "      <th>columns_original_name</th>\n",
       "      <th>columns_original_value</th>\n",
       "    </tr>\n",
       "  </thead>\n",
       "  <tbody>\n",
       "    <tr>\n",
       "      <th>0</th>\n",
       "      <td>foo</td>\n",
       "      <td>one</td>\n",
       "      <td>C</td>\n",
       "      <td>1.998232</td>\n",
       "    </tr>\n",
       "    <tr>\n",
       "      <th>1</th>\n",
       "      <td>bar</td>\n",
       "      <td>one</td>\n",
       "      <td>C</td>\n",
       "      <td>0.733426</td>\n",
       "    </tr>\n",
       "    <tr>\n",
       "      <th>2</th>\n",
       "      <td>foo</td>\n",
       "      <td>two</td>\n",
       "      <td>C</td>\n",
       "      <td>-0.664899</td>\n",
       "    </tr>\n",
       "    <tr>\n",
       "      <th>3</th>\n",
       "      <td>bar</td>\n",
       "      <td>three</td>\n",
       "      <td>C</td>\n",
       "      <td>-0.027390</td>\n",
       "    </tr>\n",
       "    <tr>\n",
       "      <th>4</th>\n",
       "      <td>foo</td>\n",
       "      <td>two</td>\n",
       "      <td>C</td>\n",
       "      <td>0.585594</td>\n",
       "    </tr>\n",
       "    <tr>\n",
       "      <th>5</th>\n",
       "      <td>bar</td>\n",
       "      <td>two</td>\n",
       "      <td>C</td>\n",
       "      <td>-1.870667</td>\n",
       "    </tr>\n",
       "    <tr>\n",
       "      <th>6</th>\n",
       "      <td>foo</td>\n",
       "      <td>one</td>\n",
       "      <td>C</td>\n",
       "      <td>1.603587</td>\n",
       "    </tr>\n",
       "    <tr>\n",
       "      <th>7</th>\n",
       "      <td>foo</td>\n",
       "      <td>three</td>\n",
       "      <td>C</td>\n",
       "      <td>0.926215</td>\n",
       "    </tr>\n",
       "    <tr>\n",
       "      <th>8</th>\n",
       "      <td>foo</td>\n",
       "      <td>one</td>\n",
       "      <td>D</td>\n",
       "      <td>0.721194</td>\n",
       "    </tr>\n",
       "    <tr>\n",
       "      <th>9</th>\n",
       "      <td>bar</td>\n",
       "      <td>one</td>\n",
       "      <td>D</td>\n",
       "      <td>-0.119302</td>\n",
       "    </tr>\n",
       "    <tr>\n",
       "      <th>10</th>\n",
       "      <td>foo</td>\n",
       "      <td>two</td>\n",
       "      <td>D</td>\n",
       "      <td>2.080191</td>\n",
       "    </tr>\n",
       "    <tr>\n",
       "      <th>11</th>\n",
       "      <td>bar</td>\n",
       "      <td>three</td>\n",
       "      <td>D</td>\n",
       "      <td>1.339258</td>\n",
       "    </tr>\n",
       "    <tr>\n",
       "      <th>12</th>\n",
       "      <td>foo</td>\n",
       "      <td>two</td>\n",
       "      <td>D</td>\n",
       "      <td>0.225102</td>\n",
       "    </tr>\n",
       "    <tr>\n",
       "      <th>13</th>\n",
       "      <td>bar</td>\n",
       "      <td>two</td>\n",
       "      <td>D</td>\n",
       "      <td>-1.100231</td>\n",
       "    </tr>\n",
       "    <tr>\n",
       "      <th>14</th>\n",
       "      <td>foo</td>\n",
       "      <td>one</td>\n",
       "      <td>D</td>\n",
       "      <td>0.451163</td>\n",
       "    </tr>\n",
       "    <tr>\n",
       "      <th>15</th>\n",
       "      <td>foo</td>\n",
       "      <td>three</td>\n",
       "      <td>D</td>\n",
       "      <td>0.678841</td>\n",
       "    </tr>\n",
       "  </tbody>\n",
       "</table>\n",
       "</div>"
      ],
      "text/plain": [
       "      A      B columns_original_name  columns_original_value\n",
       "0   foo    one                     C                1.998232\n",
       "1   bar    one                     C                0.733426\n",
       "2   foo    two                     C               -0.664899\n",
       "3   bar  three                     C               -0.027390\n",
       "4   foo    two                     C                0.585594\n",
       "5   bar    two                     C               -1.870667\n",
       "6   foo    one                     C                1.603587\n",
       "7   foo  three                     C                0.926215\n",
       "8   foo    one                     D                0.721194\n",
       "9   bar    one                     D               -0.119302\n",
       "10  foo    two                     D                2.080191\n",
       "11  bar  three                     D                1.339258\n",
       "12  foo    two                     D                0.225102\n",
       "13  bar    two                     D               -1.100231\n",
       "14  foo    one                     D                0.451163\n",
       "15  foo  three                     D                0.678841"
      ]
     },
     "execution_count": 230,
     "metadata": {},
     "output_type": "execute_result"
    }
   ],
   "source": [
    "pd.melt(df4,id_vars=[\"A\",\"B\"],value_vars=[\"C\",\"D\"],var_name=\"columns_original_name\",value_name=\"columns_original_value\")"
   ]
  },
  {
   "cell_type": "markdown",
   "metadata": {},
   "source": [
    "# Other resources:\n",
    "\n",
    "Name | Description\n",
    "--- | ---\n",
    "[Official Pandas Tutorials](http://pandas.pydata.org/pandas-docs/stable/tutorials.html) | Wes & Company's selection of tutorials and lectures\n",
    "[Julia Evans Pandas Cookbook](https://github.com/jvns/pandas-cookbook) | Great resource with examples from weather, bikes and 311 calls\n",
    "[Learn Pandas Tutorials](https://bitbucket.org/hrojas/learn-pandas) | A great series of Pandas tutorials from Dave Rojas\n",
    "[Research Computing Python Data PYNBs](https://github.com/ResearchComputing/Meetup-Fall-2013/tree/master/python) | A super awesome set of python notebooks from a meetup-based course exclusively devoted to pandas"
   ]
  }
 ],
 "metadata": {
  "kernelspec": {
   "display_name": "Python 2",
   "language": "python",
   "name": "python2"
  },
  "language_info": {
   "codemirror_mode": {
    "name": "ipython",
    "version": 2
   },
   "file_extension": ".py",
   "mimetype": "text/x-python",
   "name": "python",
   "nbconvert_exporter": "python",
   "pygments_lexer": "ipython2",
   "version": "2.7.9"
  }
 },
 "nbformat": 4,
 "nbformat_minor": 0
}
