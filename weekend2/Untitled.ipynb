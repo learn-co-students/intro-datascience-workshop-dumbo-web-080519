{
 "cells": [
  {
   "cell_type": "code",
   "execution_count": 1,
   "metadata": {
    "collapsed": true
   },
   "outputs": [],
   "source": [
    "import pandas as pd\n",
    "import numpy as np"
   ]
  },
  {
   "cell_type": "code",
   "execution_count": 10,
   "metadata": {
    "collapsed": false
   },
   "outputs": [],
   "source": [
    "ratingData = pd.read_csv(\"../weekend1/movieData/ratings.dat\",sep = \"::\",names = ['UserID','MovieID','Rating','Timestamp'])\n",
    "ratingData.Timestamp = pd.to_datetime(ratingData.Timestamp, unit=\"s\")"
   ]
  },
  {
   "cell_type": "code",
   "execution_count": 11,
   "metadata": {
    "collapsed": false
   },
   "outputs": [
    {
     "data": {
      "text/html": [
       "<div style=\"max-height:1000px;max-width:1500px;overflow:auto;\">\n",
       "<table border=\"1\" class=\"dataframe\">\n",
       "  <thead>\n",
       "    <tr style=\"text-align: right;\">\n",
       "      <th></th>\n",
       "      <th>UserID</th>\n",
       "      <th>MovieID</th>\n",
       "      <th>Rating</th>\n",
       "      <th>Timestamp</th>\n",
       "    </tr>\n",
       "  </thead>\n",
       "  <tbody>\n",
       "    <tr>\n",
       "      <th>0</th>\n",
       "      <td>1</td>\n",
       "      <td>1193</td>\n",
       "      <td>5</td>\n",
       "      <td>2000-12-31 22:12:40</td>\n",
       "    </tr>\n",
       "    <tr>\n",
       "      <th>1</th>\n",
       "      <td>1</td>\n",
       "      <td>661</td>\n",
       "      <td>3</td>\n",
       "      <td>2000-12-31 22:35:09</td>\n",
       "    </tr>\n",
       "    <tr>\n",
       "      <th>2</th>\n",
       "      <td>1</td>\n",
       "      <td>914</td>\n",
       "      <td>3</td>\n",
       "      <td>2000-12-31 22:32:48</td>\n",
       "    </tr>\n",
       "    <tr>\n",
       "      <th>3</th>\n",
       "      <td>1</td>\n",
       "      <td>3408</td>\n",
       "      <td>4</td>\n",
       "      <td>2000-12-31 22:04:35</td>\n",
       "    </tr>\n",
       "    <tr>\n",
       "      <th>4</th>\n",
       "      <td>1</td>\n",
       "      <td>2355</td>\n",
       "      <td>5</td>\n",
       "      <td>2001-01-06 23:38:11</td>\n",
       "    </tr>\n",
       "  </tbody>\n",
       "</table>\n",
       "</div>"
      ],
      "text/plain": [
       "   UserID  MovieID  Rating           Timestamp\n",
       "0       1     1193       5 2000-12-31 22:12:40\n",
       "1       1      661       3 2000-12-31 22:35:09\n",
       "2       1      914       3 2000-12-31 22:32:48\n",
       "3       1     3408       4 2000-12-31 22:04:35\n",
       "4       1     2355       5 2001-01-06 23:38:11"
      ]
     },
     "execution_count": 11,
     "metadata": {},
     "output_type": "execute_result"
    }
   ],
   "source": [
    "ratingData.head()"
   ]
  },
  {
   "cell_type": "code",
   "execution_count": 6,
   "metadata": {
    "collapsed": false
   },
   "outputs": [],
   "source": []
  },
  {
   "cell_type": "code",
   "execution_count": 7,
   "metadata": {
    "collapsed": false
   },
   "outputs": [
    {
     "data": {
      "text/plain": [
       "0         2000-12-31 22:12:40\n",
       "1         2000-12-31 22:35:09\n",
       "2         2000-12-31 22:32:48\n",
       "3         2000-12-31 22:04:35\n",
       "4         2001-01-06 23:38:11\n",
       "5         2000-12-31 22:37:48\n",
       "6         2000-12-31 22:33:59\n",
       "7         2000-12-31 22:11:59\n",
       "8         2000-12-31 22:37:48\n",
       "9         2000-12-31 22:22:48\n",
       "10        2001-01-06 23:37:48\n",
       "11        2000-12-31 22:29:12\n",
       "12        2000-12-31 22:38:01\n",
       "13        2000-12-31 22:35:24\n",
       "14        2000-12-31 22:29:13\n",
       "15        2000-12-31 22:36:28\n",
       "16        2001-01-06 23:37:48\n",
       "17        2000-12-31 22:29:37\n",
       "18        2000-12-31 22:28:33\n",
       "19        2000-12-31 22:33:59\n",
       "20        2000-12-31 22:36:45\n",
       "21        2000-12-31 22:12:40\n",
       "22        2000-12-31 22:00:55\n",
       "23        2001-01-06 23:36:35\n",
       "24        2000-12-31 22:01:43\n",
       "25        2001-01-06 23:39:11\n",
       "26        2000-12-31 22:32:33\n",
       "27        2000-12-31 22:00:55\n",
       "28        2001-01-06 23:35:39\n",
       "29        2001-01-06 23:37:48\n",
       "                  ...        \n",
       "1000179   2000-04-25 23:16:24\n",
       "1000180   2000-04-26 02:17:35\n",
       "1000181   2000-04-25 23:22:52\n",
       "1000182   2000-05-07 16:41:18\n",
       "1000183   2000-06-14 08:34:14\n",
       "1000184   2000-04-26 02:19:29\n",
       "1000185   2000-04-26 02:33:58\n",
       "1000186   2000-04-25 23:10:19\n",
       "1000187   2000-04-26 02:31:34\n",
       "1000188   2000-07-28 23:58:54\n",
       "1000189   2000-05-07 16:26:35\n",
       "1000190   2000-04-26 02:28:33\n",
       "1000191   2000-07-28 23:59:42\n",
       "1000192   2000-04-25 23:06:17\n",
       "1000193   2000-04-26 02:14:48\n",
       "1000194   2000-07-28 23:59:59\n",
       "1000195   2000-04-26 02:20:48\n",
       "1000196   2000-04-25 23:19:06\n",
       "1000197   2000-04-26 02:14:48\n",
       "1000198   2000-04-26 02:32:54\n",
       "1000199   2000-04-26 02:30:07\n",
       "1000200   2000-04-25 23:15:19\n",
       "1000201   2000-05-07 16:35:22\n",
       "1000202   2000-04-25 23:23:16\n",
       "1000203   2000-04-26 02:18:38\n",
       "1000204   2000-04-26 02:35:41\n",
       "1000205   2000-04-25 23:21:27\n",
       "1000206   2000-04-25 23:19:06\n",
       "1000207   2000-04-26 02:20:48\n",
       "1000208   2000-04-26 02:19:29\n",
       "Name: Timestamp, dtype: datetime64[ns]"
      ]
     },
     "execution_count": 7,
     "metadata": {},
     "output_type": "execute_result"
    }
   ],
   "source": [
    "ratingData.Timestamp"
   ]
  },
  {
   "cell_type": "code",
   "execution_count": null,
   "metadata": {
    "collapsed": true
   },
   "outputs": [],
   "source": []
  }
 ],
 "metadata": {
  "kernelspec": {
   "display_name": "Python 2",
   "language": "python",
   "name": "python2"
  },
  "language_info": {
   "codemirror_mode": {
    "name": "ipython",
    "version": 2
   },
   "file_extension": ".py",
   "mimetype": "text/x-python",
   "name": "python",
   "nbconvert_exporter": "python",
   "pygments_lexer": "ipython2",
   "version": "2.7.9"
  }
 },
 "nbformat": 4,
 "nbformat_minor": 0
}
