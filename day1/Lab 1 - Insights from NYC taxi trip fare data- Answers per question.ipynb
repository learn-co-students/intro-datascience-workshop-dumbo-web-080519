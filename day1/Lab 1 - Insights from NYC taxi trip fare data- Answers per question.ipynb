{
 "cells": [
  {
   "cell_type": "markdown",
   "metadata": {},
   "source": [
    "For this lab, you will be using the `trip_fare_1_trimmed.csv` file found in the `day1` folder that you should have received when you signed up for this course.\n",
    "\n",
    "This dataset contains a very large number of distinct trips taken in cabs in the NYC area in 2013 (5 million of them, to be exact!).\n",
    "\n",
    "The dataset contains the following information at the top of the file (this is called the header):\n",
    "\n",
    "* `medallion`: The ID of the cab being operated\n",
    "* `hack_license`: The ID of the person operating the cab\n",
    "* `vendor_id`: The type of vendor operating the cab, can either be `CMT` or `VTS`, no clue what these two types mean\n",
    "* `pickup_datetime`: The time when the ride started\n",
    "* `payment_type`: How the trip was paid, `UNK` stands for unknown, I have no idea what `NOC` stands for, but lets assume its some known way to pay\n",
    "* `fare_amount`: Base fare cost of the trip\n",
    "* `surcharge`: Additional charges that are not tolls\n",
    "* `mta_tax`: The mta has to get its cut, right? :)\n",
    "* `tip_amount`: How generous the rider(s) decided to be\n",
    "* `tolls_amount`: How much money you had to pay in tolls\n",
    "* `total_amount`: How much the trip cost, all in"
   ]
  },
  {
   "cell_type": "markdown",
   "metadata": {},
   "source": [
    "Phew, That's a lot of info!\n",
    "\n",
    "Here is the assignment:\n",
    "\n",
    "1. What was the most expensive/least expensive trip taken?\n",
    "* Does the overall `total_amount` paid per ride correlate with `tip_amount` per ride?\n",
    "* Does it correlate when you remove all rides with unknown `payment_type`?\n",
    "* Calculate the average cost of a trip in this dataset given the following conditions:\n",
    "  1. Across the whole dataset\n",
    "  2. Across the whole dataset when the `payment_type` is known (not `UNK`)\n",
    "  3. For each `payment_type`\n",
    "  4. Which `payment_type` had the highest average cost?\n",
    "  5. Which `payment_type` had the largest spread in how much people paid (largest standard deviation)?\n",
    "  6. Which `payment_type` had the most generous people (had the highest average tip), including unknown payment types?\n",
    "  7. What hour in the day were people most generous, on average, when they got into a cab?\n",
    "  8. What hour of the day did people fluctuate the most in terms of tips? That is, do some hours lead to unpredictable tip amounts? \n",
    "* Which person (`hack_license`) made the most money:\n",
    "  1. In total\n",
    "  2. On a per-trip basis, given that they took at least 20 trips\n",
    "* Does the number of trips a given cabbie takes (her/his experience) correlate with how well she/he is tipped? If so, in what direction?\n",
    "* Does the number of times a given cab is used correlate with how well the person driving the cab is tipped? That is, are there \"lucky\" cabs?\n",
    "* Which `vendor_id` had the higher average `surcharge` on a per-hour basis?\n",
    "* Which hour in the day: \n",
    "  1. Did people most frequently take rides?\n",
    "  2. Did people least frequently take rides?\n",
    "  3. Had the largest number of unique cabs on the street?\n",
    "  4. Had the least number of cabs in the street?\n",
    "  5. What is the average number of cabs on the streets in NYC in each quarter of the day (at least in this dataset?)?"
   ]
  },
  {
   "cell_type": "markdown",
   "metadata": {},
   "source": [
    "Use the rest of this notebook to work through all these questions. \n",
    "\n",
    "I will be coming around to everyone to help/guide you in your data science quest!\n",
    "\n",
    "If you can tackle all of these questions, then you've learned a lot already! \n",
    "\n",
    "If not, don't worry, this stuff is hard and I will gladly help/guide you through all of this.\n",
    "\n",
    "but take charge of your learning!\n",
    "\n",
    "This means:\n",
    "\n",
    "* Ask a neighbor to help if you don't understand something. \n",
    "* If your neighbor can't help you, try using:\n",
    "  * the interactive documentation I showed you how to use earlier\n",
    "  * [pandas documentation](http://pandas.pydata.org/pandas-docs/stable/index.html)\n",
    "  * [google](http://www.google.com)\n",
    "  * [stackoverflow](http://stackoverflow.com) to see if someone in the internet ether has had a similar problem before\n",
    "  * if none of this works, then I will gladly help you\n",
    "* This will accomplish at least two things:\n",
    "  * It will get you to use online resources and take charge of your learning\n",
    "  * Get you to learn alternative approaches (those I did not show you today) to solving your problem"
   ]
  },
  {
   "cell_type": "markdown",
   "metadata": {},
   "source": [
    "I've started the bare-bones script for you by:\n",
    "\n",
    "* importing what I ~~think~~ know you will need\n",
    "* loading the dataset into a variable called `fareData` that stores the data as a `DataFrame` object (you might need to change the path to where the file is located on your system)\n",
    "* formatting the timestamp for you so that you don't have to figure out how to do it, because spending 30+ minutes  (or more) trying to figure it out is not the point of the assignment. This way, all of the functions in `fareData.pickup_datetime.dt` can immediately be used on the `pickup_datetime` column your dataset.\n",
    "\n",
    "The rest I leave to you. Happy hacking!"
   ]
  },
  {
   "cell_type": "code",
   "execution_count": 1,
   "metadata": {
    "collapsed": true
   },
   "outputs": [],
   "source": [
    "import pandas as pd\n",
    "import numpy as np"
   ]
  },
  {
   "cell_type": "code",
   "execution_count": 2,
   "metadata": {
    "collapsed": false
   },
   "outputs": [
    {
     "data": {
      "text/plain": [
       "medallion                  object\n",
       "hack_license               object\n",
       "vendor_id                  object\n",
       "pickup_datetime    datetime64[ns]\n",
       "payment_type               object\n",
       "fare_amount               float64\n",
       "surcharge                 float64\n",
       "mta_tax                   float64\n",
       "tip_amount                float64\n",
       "tolls_amount              float64\n",
       "total_amount              float64\n",
       "dtype: object"
      ]
     },
     "execution_count": 2,
     "metadata": {},
     "output_type": "execute_result"
    }
   ],
   "source": [
    "#fareData.pickup_datetime.dt.\n",
    "fareData = pd.read_csv(\"/Users/sergey.fogelson/code/flatiron_school/intro-datascience-workshop/day1/nycTaxiData/trip_fare_1_trimmed.csv\")\n",
    "fareData.pickup_datetime = pd.to_datetime(fareData.pickup_datetime,format=\"%Y-%m-%d %H:%M:%S\")\n",
    "fareData.dtypes #this is to confirm that the pickup_datetime column, as well as all of the other\n",
    "# columns, are in the appropriate formats (pickup_datetime should be in datetime64 format)\n",
    "# if it isn't something is wrong, and we need to figure what that is"
   ]
  },
  {
   "cell_type": "code",
   "execution_count": 3,
   "metadata": {
    "collapsed": true
   },
   "outputs": [],
   "source": [
    "#1. What was the most expensive/least expensive trip taken?\n",
    "mostExpensiveTrip = fareData[fareData.total_amount == fareData.total_amount.max()]\n",
    "leastExpensiveTrip = fareData[fareData.total_amount == fareData.total_amount.min()]"
   ]
  },
  {
   "cell_type": "code",
   "execution_count": 4,
   "metadata": {
    "collapsed": false
   },
   "outputs": [],
   "source": [
    "#2. Does the overall `total_amount` paid per ride correlate with `tip_amount` per ride?\n",
    "totalToTipCorr = fareData.total_amount.corr(fareData.tip_amount)"
   ]
  },
  {
   "cell_type": "code",
   "execution_count": 5,
   "metadata": {
    "collapsed": false
   },
   "outputs": [],
   "source": [
    "#3. Does it correlate when you remove all rides with unknown `payment_type`?\n",
    "fareDataNoUnk = fareData[fareData.payment_type!=\"UNK\"]\n",
    "totalToTipCorrNoUnk = fareDataNoUnk.total_amount.corr(fareDataNoUnk.tip_amount)"
   ]
  },
  {
   "cell_type": "code",
   "execution_count": 6,
   "metadata": {
    "collapsed": false
   },
   "outputs": [
    {
     "name": "stdout",
     "output_type": "stream",
     "text": [
      "The payment type with the highest average cost was:\n",
      "payment_type\n",
      "UNK             21.172428\n",
      "Name: total_amount, dtype: float64\n",
      "The largest spread in payment type was:\n",
      "payment_type\n",
      "UNK             19.028116\n",
      "Name: total_amount, dtype: float64\n",
      "The most generous payment type was:\n",
      "payment_type\n",
      "UNK             3.262124\n",
      "Name: tip_amount, dtype: float64\n",
      "The hour with the most generous tippers was:\n",
      "hour\n",
      "5       2.458814\n",
      "Name: tip_amount, dtype: float64\n",
      "The hour with the most unpredictable tippers was:\n",
      "hour\n",
      "5       3.526782\n",
      "Name: tip_amount, dtype: float64\n"
     ]
    }
   ],
   "source": [
    "#4.* Calculate the average cost of a trip in this dataset given the following conditions:\n",
    "  #1. Across the whole dataset:\n",
    "avgTripCost = fareData.total_amount.mean()\n",
    "  #2. Across the whole dataset when the `payment_type` is known (not `UNK`):\n",
    "avgTripCostNoUnk = fareDataNoUnk.total_amount.mean()\n",
    "  #3. For each `payment_type`\n",
    "avgTripCostPerPaymentType = fareData.groupby(\"payment_type\")[\"total_amount\"].mean()\n",
    "  #4. Which `payment_type` had the highest average cost?\n",
    "print \"The payment type with the highest average cost was:\"\n",
    "print avgTripCostPerPaymentType[avgTripCostPerPaymentType==avgTripCostPerPaymentType.max()]\n",
    "  #5. Which `payment_type` had the largest spread in how much people paid (largest standard deviation)?\n",
    "stdTripCostPerPaymentType = fareData.groupby(\"payment_type\")[\"total_amount\"].std()\n",
    "print \"The largest spread in payment type was:\"\n",
    "print stdTripCostPerPaymentType[stdTripCostPerPaymentType==stdTripCostPerPaymentType.max()]\n",
    "  #6. Which `payment_type` had the most generous people (had the highest average tip), including unknown payment types?\n",
    "avgTipPerPaymentType = fareData.groupby(\"payment_type\")[\"tip_amount\"].mean()\n",
    "print \"The most generous payment type was:\"\n",
    "print avgTipPerPaymentType[avgTipPerPaymentType==avgTipPerPaymentType.max()]\n",
    "  #7. What hour in the day were people most generous, on average, when they got into a cab?\n",
    "fareData[\"hour\"] = fareData.pickup_datetime.dt.hour\n",
    "avgTipPerHour = fareData.groupby(\"hour\")[\"tip_amount\"].mean()\n",
    "print \"The hour with the most generous tippers was:\"\n",
    "print avgTipPerHour[avgTipPerHour==avgTipPerHour.max()]\n",
    "  #8. What hour of the day did people fluctuate the most in terms of tips? That is, do some hours lead to unpredictable tip amounts?\n",
    "stdTipPerHour = fareData.groupby(\"hour\")[\"tip_amount\"].std()\n",
    "print \"The hour with the most unpredictable tippers was:\"\n",
    "print stdTipPerHour[stdTipPerHour==stdTipPerHour.max()]"
   ]
  },
  {
   "cell_type": "code",
   "execution_count": 11,
   "metadata": {
    "collapsed": false
   },
   "outputs": [
    {
     "name": "stdout",
     "output_type": "stream",
     "text": [
      "The driver that made the most money was:\n",
      "hack_license\n",
      "CFCD208495D565EF66E7DFF9F98764DA    10255.17\n",
      "Name: total_amount, dtype: float64\n",
      "The person that made the most money, given they made at least 20 trips was:\n",
      "hack_license\n",
      "CFCD208495D565EF66E7DFF9F98764DA    10255.17\n",
      "Name: total_amount, dtype: float64\n",
      "Here is the correlation matrix of tips to number of trips per driver:\n",
      "          size      mean\n",
      "size  1.000000 -0.251093\n",
      "mean -0.251093  1.000000\n",
      "Here is the correlation matrix of tips to number of trips per car:\n",
      "          size      mean\n",
      "size  1.000000 -0.225064\n",
      "mean -0.225064  1.000000\n",
      "vendor_id       CMT       VTS\n",
      "hour                         \n",
      "0          0.488799  0.490631\n",
      "1          0.491713  0.492930\n",
      "2          0.493461  0.494573\n",
      "3          0.491010  0.492072\n",
      "4          0.477923  0.484048\n",
      "5          0.419006  0.457251\n",
      "6          0.005230  0.000000\n",
      "7          0.000843  0.000000\n",
      "8          0.000978  0.000000\n",
      "9          0.000870  0.000000\n",
      "10         0.000778  0.000000\n",
      "11         0.000882  0.000009\n",
      "12         0.000733  0.000008\n",
      "13         0.000764  0.000004\n",
      "14         0.000950  0.000000\n",
      "15         0.030672  0.000182\n",
      "16         0.632444  0.606434\n",
      "17         0.681222  0.644271\n",
      "18         0.715679  0.685934\n",
      "19         0.716266  0.703975\n",
      "20         0.494116  0.490006\n",
      "21         0.489661  0.490136\n",
      "22         0.489203  0.490460\n",
      "23         0.488383  0.489448\n",
      "The hour with the most rides is:\n",
      "hour\n",
      "19      321171\n",
      "dtype: int64\n",
      "The hour with the fewest rides is:\n",
      "hour\n",
      "5       51066\n",
      "dtype: int64\n",
      "The hour with the most unique cabs on the street:\n",
      "hour\n",
      "18      13164\n",
      "dtype: int64\n",
      "The hour with the fewest unique cabs on the street:\n",
      "hour\n",
      "5       9184\n",
      "dtype: int64\n"
     ]
    }
   ],
   "source": [
    "#* Which person (`hack_license`) made the most money:\n",
    "  #1. In total\n",
    "totalAmount = fareData.groupby(\"hack_license\")[\"total_amount\"].sum()\n",
    "print \"The driver that made the most money was:\"\n",
    "print totalAmount[totalAmount==totalAmount.max()]\n",
    "  #2. On a per-trip basis, given that they took at least 20 trips\n",
    "minNumTripsData = fareData.groupby(\"hack_license\").filter(lambda x: x.shape[0] >= 20)\n",
    "print \"The person that made the most money, given they made at least 20 trips was:\"\n",
    "totalAmountFiltered = minNumTripsData.groupby(\"hack_license\")[\"total_amount\"].sum()\n",
    "print totalAmountFiltered[totalAmountFiltered==totalAmountFiltered.max()]"
   ]
  },
  {
   "cell_type": "code",
   "execution_count": null,
   "metadata": {
    "collapsed": true
   },
   "outputs": [],
   "source": [
    "#* Does the number of trips a given cabbie takes (her/his experience) correlate with how well she/he is tipped? If so, in what direction?\n",
    "print \"Here is the correlation matrix of tips to number of trips per driver:\"\n",
    "hackGroupsSummary = fareData.groupby(\"hack_license\")[\"tip_amount\"].agg([np.size, np.mean])\n",
    "print hackGroupsSummary.corr()"
   ]
  },
  {
   "cell_type": "code",
   "execution_count": null,
   "metadata": {
    "collapsed": true
   },
   "outputs": [],
   "source": [
    "#* Does the number of times a given cab is used correlate with how well the person driving the cab is tipped? That is, are there \"lucky\" cabs?\n",
    "taxiGroupsSummary = fareData.groupby(\"medallion\")[\"tip_amount\"].agg([np.size, np.mean])\n",
    "print \"Here is the correlation matrix of tips to number of trips per car:\"\n",
    "print taxiGroupsSummary.corr()"
   ]
  },
  {
   "cell_type": "code",
   "execution_count": 15,
   "metadata": {
    "collapsed": false
   },
   "outputs": [
    {
     "name": "stdout",
     "output_type": "stream",
     "text": [
      "The vendor with the highest average surcharge per-hour is:\n",
      "vendor_id\n",
      "CMT          0.317149\n",
      "dtype: float64\n"
     ]
    }
   ],
   "source": [
    "#* Which `vendor_id` had the highest average `surcharge` on a per-hour basis?\n",
    "perVendorMeans = fareData.groupby([\"vendor_id\",\"hour\"])[\"surcharge\"].mean().unstack(level=1)\n",
    "perVendorMeans = perVendorMeans.mean(axis=1)\n",
    "print \"The vendor with the highest average surcharge per-hour is:\"\n",
    "print perVendorMeans[perVendorMeans==perVendorMeans.max()]"
   ]
  },
  {
   "cell_type": "code",
   "execution_count": 17,
   "metadata": {
    "collapsed": false
   },
   "outputs": [
    {
     "name": "stdout",
     "output_type": "stream",
     "text": [
      "The hour with the most rides is:\n",
      "hour\n",
      "19      321171\n",
      "dtype: int64\n",
      "The hour with the fewest rides is:\n",
      "hour\n",
      "5       51066\n",
      "dtype: int64\n",
      "The hour with the most unique cabs on the street:\n",
      "hour\n",
      "18      13164\n",
      "dtype: int64\n",
      "The hour with the fewest unique cabs on the street:\n",
      "hour\n",
      "5       9184\n",
      "dtype: int64\n",
      "quarterDay\n",
      "(-1, 5]       131.156250\n",
      "(5, 11]       135.520833\n",
      "(11, 17]      138.916667\n",
      "(17, inf]     137.864583\n",
      "dtype: float64\n"
     ]
    }
   ],
   "source": [
    "#* Which hour in the day: \n",
    "#  1. Did people most frequently take rides?\n",
    "hourGroups = fareData.groupby(\"hour\")\n",
    "hourGroupsSizes = hourGroups.size()\n",
    "print \"The hour with the most rides is:\"\n",
    "print hourGroupsSizes[hourGroupsSizes==hourGroupsSizes.max()]\n",
    "#  2. Did people least frequently take rides?\n",
    "print \"The hour with the fewest rides is:\"\n",
    "print hourGroupsSizes[hourGroupsSizes==hourGroupsSizes.min()]\n",
    "#  3. Had the largest number of unique cabs on the street?\n",
    "uniqueCabsHour = fareData.drop_duplicates([\"medallion\",\"hour\"])\n",
    "uniqueCabsPerHour = uniqueCabsHour.groupby(\"hour\").size()\n",
    "print \"The hour with the most unique cabs on the street:\"\n",
    "print uniqueCabsPerHour[uniqueCabsPerHour==uniqueCabsPerHour.max()]\n",
    "#  4. Had the least number of cabs in the street?\n",
    "print \"The hour with the fewest unique cabs on the street:\"\n",
    "print uniqueCabsPerHour[uniqueCabsPerHour==uniqueCabsPerHour.min()]\n",
    "del uniqueCabsHour\n",
    "#  5. What is the average number of cabs on the streets in NYC in each quarter of the day (at least in this dataset?)?\n",
    "fareData[\"quarterDay\"] = pd.cut(fareData.hour,[-1,5,11,17,np.inf])\n",
    "earliestDay = fareData.pickup_datetime.dt.dayofyear.min()\n",
    "lastDay = fareData.pickup_datetime.dt.dayofyear.max()\n",
    "totalQuarters = (lastDay-earliestDay)*4\n",
    "uniqueCabsQuarterDay = fareData.drop_duplicates([\"medallion\",\"quarterDay\"])\n",
    "print \"The number of unique cabs per quarter of the day in this dataset is:\"\n",
    "print uniqueCabsQuarterDay.groupby(\"quarterDay\").size()/totalQuarters"
   ]
  }
 ],
 "metadata": {
  "kernelspec": {
   "display_name": "Python 2",
   "language": "python",
   "name": "python2"
  },
  "language_info": {
   "codemirror_mode": {
    "name": "ipython",
    "version": 2
   },
   "file_extension": ".py",
   "mimetype": "text/x-python",
   "name": "python",
   "nbconvert_exporter": "python",
   "pygments_lexer": "ipython2",
   "version": "2.7.6"
  }
 },
 "nbformat": 4,
 "nbformat_minor": 0
}
