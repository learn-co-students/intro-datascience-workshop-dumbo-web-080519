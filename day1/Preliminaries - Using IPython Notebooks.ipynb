{
 "cells": [
  {
   "cell_type": "markdown",
   "metadata": {},
   "source": [
    "## DAY 1 AGENDA:\n",
    "  * **Brief introduction to how to use IPython Notebooks effectively**\n",
    "  * **Explore the Movielens 1M rating dataset**\n",
    "  * **Work with NYC Taxi Fare Data**\n",
    "  * **Explore more of the Movielens 1M rating dataset**\n",
    "  * **Work with more of the NYC Taxi Fare Data**"
   ]
  },
  {
   "cell_type": "markdown",
   "metadata": {},
   "source": [
    "**GOOD MORNING, AND WELCOME TO INTRO TO DATA SCIENCE!**\n",
    "\n",
    "My name is Sergey, and I'll be your guide for the next 14 hours (**!!**) as you learn to manipulate and transform large-scale (**>100K rows!!**) data that your typical data analysis (**hmrmhmEXCELhrmrhmhmr**) tools cannot handle.\n",
    "\n",
    "We will be using **Python**, a popular and powerful programming language, and **pandas**, one of the most popular (if not the most popular) data analysis packages in **Python**.\n",
    "\n",
    "To be fully up to speed you need the latest versions of the following packages installed and working in your python environment (the links lead to the installation instructions):\n",
    "\n",
    "* [**pandas version 0.15**](http://pandas.pydata.org/pandas-docs/stable/install.html)\n",
    "* [**ipython with the notebook extension**](http://ipython.org/install.html)\n",
    "\n",
    "Installing both of these will get you all of the other necessary dependencies (Numpy, Scipy, etc.) that these packages depend on.\n",
    "\n",
    "**Now that we have what we need, lets get started!**"
   ]
  },
  {
   "cell_type": "markdown",
   "metadata": {},
   "source": [
    "We will be using **IPython Notebooks** exclusively during this course. **Ipython Notebooks are an incredibly useful learning and experimentation tool**, so we will briefly go over how to use some parts of them here."
   ]
  },
  {
   "cell_type": "markdown",
   "metadata": {},
   "source": [
    "Directly below this cell we have a typical ipython notebook **Code Cell**.\n",
    "\n",
    "The cell that you are reading this in right now (so meta!) is called a **Markdown Cell** and is used for notes or instructions about the code found in the notebook. \n",
    "\n",
    "So, in a markdown cell no code can be executed. To switch between cell types, you can click on the **Cell** tab at the head of the notebook, then click **Cell Type**, and then choose the type you want. \n",
    "\n",
    "(The third cell type,**Raw NBConvert**, converts the cell into raw text, which means no pretty formatting like in **Markdown Cells** and no ability to execute **Python** code like in **Code Cells**. We will steer clear of **Raw NBConvert**)\n",
    "\n",
    "By default, every new cell created starts as a **Code Cell**. Inside of a **Code Cell** you can write any **Python** code you would like.\n",
    "\n",
    "In our case, we ask **Python** to print a welcome message to the screen. (`print \"Welcome to Intro to Data Science!\"`)\n",
    "\n",
    "When you write code in a **Code Cell** or markdown text in a **Markdown Cell**, you can execute it immediately, either by pressing ▶ in the menu at the top of the page, or by pressing *Shift+Enter*.\n",
    "\n",
    "Give it a shot:"
   ]
  },
  {
   "cell_type": "code",
   "execution_count": 10,
   "metadata": {
    "collapsed": false
   },
   "outputs": [
    {
     "name": "stdout",
     "output_type": "stream",
     "text": [
      "Welcome to Intro to Data Science!\n"
     ]
    }
   ],
   "source": [
    "print \"Welcome to Intro to Data Science!\""
   ]
  },
  {
   "cell_type": "markdown",
   "metadata": {},
   "source": [
    "If you change what you print inside of the cell, what Python executes when you run the cell will change:"
   ]
  },
  {
   "cell_type": "code",
   "execution_count": 11,
   "metadata": {
    "collapsed": false
   },
   "outputs": [
    {
     "name": "stdout",
     "output_type": "stream",
     "text": [
      "0\n",
      "1\n",
      "2\n",
      "3\n",
      "4\n",
      "5\n",
      "6\n",
      "7\n",
      "8\n",
      "9\n"
     ]
    }
   ],
   "source": [
    "for i in range(10):\n",
    "    print i"
   ]
  },
  {
   "cell_type": "markdown",
   "metadata": {},
   "source": [
    "As you can see, that printed the numbers 0-9 inclusive to the screen, one per line. \n",
    "\n",
    "Hopefully this doesn't come as a surprise to you after the course you took last week (or, if you are familiar with **Python** and didn't take the first course, it shouldn't come as a suprise to you at all!).\n",
    "\n",
    "If you want to add a new cell, just press the **+** button on the top left of this page.\n",
    "\n",
    "If you want to remove that cell, select it, and the press the **scissors** icon."
   ]
  },
  {
   "cell_type": "markdown",
   "metadata": {},
   "source": [
    "But this is definitely not the reason we are using **IPython Notebooks**. Notebooks are *powerful* because they can:\n",
    "\n",
    "* **autocomplete or suggest autocompletions of functions, objects, and variable names for you**\n",
    "\n",
    "* **tell you exactly what a function does (as long as it has documentation available)**\n",
    "\n",
    "* **let you share your code or analytical pipeline with others, instead of just giving them some finished product where they have no idea how you got from a (some data) -> b (some conclusion)**"
   ]
  },
  {
   "cell_type": "markdown",
   "metadata": {},
   "source": [
    "So, lets begin with how to use **IPython Notebooks** to **autocomplete or suggest autocompletions of functions, objects, and variable names for you**"
   ]
  },
  {
   "cell_type": "markdown",
   "metadata": {},
   "source": [
    "Lets say you forgot (or didn't know) how the `range()` function was spelled, but you knew it started with `ra`. \n",
    "\n",
    "First off, as soon as you start typing `range`, you can press `tab` and the notebook **will give you a list of suggestions of functions or names of variables that have been created since the session started that start with the same set of letters.** \n",
    "\n",
    "So, you can just type `ra` and press `tab` and the notebook will generate a popup of every function, variable, or object that starts with `ra` that is currently available! \n",
    "(You should see `raise`, `range`, and `raw_input`, all functions that start with `ra`~)!\n",
    "\n",
    "You can then immediately scroll to `range` and hit enter and the function name will be autocompleted for you. Try it:"
   ]
  },
  {
   "cell_type": "code",
   "execution_count": 12,
   "metadata": {
    "collapsed": false
   },
   "outputs": [
    {
     "data": {
      "text/plain": [
       "<function range>"
      ]
     },
     "execution_count": 12,
     "metadata": {},
     "output_type": "execute_result"
    }
   ],
   "source": [
    "range"
   ]
  },
  {
   "cell_type": "markdown",
   "metadata": {},
   "source": [
    "Obviously, that was a contrived example, but hopefully it shows you how you can use the notebook to **autocomplete functions or variable names**, especially in times when you forget exactly how something is spelled or called. \n",
    "\n",
    "Just type the first couple of letters of what youre looking for and hit `tab` and the **notebook** will do the rest!"
   ]
  },
  {
   "cell_type": "markdown",
   "metadata": {},
   "source": [
    "Now comes one of the other incredibly useful functions of the **IPython Notebook** (I use this constantly, and I expect all of you to as well): \n",
    "\n",
    "**tell you exactly what a function does as well as the kinds of input the function accepts (as long as it has documentation available)**"
   ]
  },
  {
   "cell_type": "markdown",
   "metadata": {},
   "source": [
    "Lets say you forgot how the `range` function worked (it's early on a saturday morning, for example, and your brain isn't exactly on).\n",
    "\n",
    "Well, what you can do is type (or autocomplete the function) and then either hold `Shift + tab` or press `Shift+(tab-tab-tab)`and you will get the full documentation for the function to appear at the bottom of your notebook. \n",
    "\n",
    "You can even have it open in its own page by clicking on the little arrow in the upper right corner of the documentation, and it will open in a separate tab!\n",
    "\n",
    "Try it (hold `Shift+tab` below):"
   ]
  },
  {
   "cell_type": "code",
   "execution_count": 13,
   "metadata": {
    "collapsed": false
   },
   "outputs": [
    {
     "data": {
      "text/plain": [
       "<function range>"
      ]
     },
     "execution_count": 13,
     "metadata": {},
     "output_type": "execute_result"
    }
   ],
   "source": [
    "range"
   ]
  },
  {
   "cell_type": "markdown",
   "metadata": {},
   "source": [
    "One more thing about notebooks:\n",
    "\n",
    "You don't have to constantly create new cells to experiment in, and can actually have your very own pure coding window where you try different code snippets/approaches.\n",
    "\n",
    "To enable this window, create a single **Code Cell** and execute the following magic function in it:\n",
    "\n",
    "`%qtconsole`\n",
    "\n",
    "As soon as you do, the notebook will open up a separate **IPython** execution window that is tied to your current notebook session. \n",
    "\n",
    "**All of the variables and imported modules youve used (or will make in the future) are immediately available in this window, and any variables/imports you make in that window are also immediately available in the IPython notebook.**"
   ]
  },
  {
   "cell_type": "code",
   "execution_count": 1,
   "metadata": {
    "collapsed": true
   },
   "outputs": [],
   "source": [
    "%qtconsole"
   ]
  },
  {
   "cell_type": "markdown",
   "metadata": {},
   "source": [
    "The last useful point of **IPython Notebooks** should be obvious to you:\n",
    "\n",
    "**let you share your code or analytical pipeline with others, instead of just giving them some finished product where they have no idea how you got from a (some data) -> b (some conclusion)**\n",
    "\n",
    "Once you've completed some analysis in a notebook, you can simply save it and email it to a colleague (remember to also give her/him all of the data it uses) or host it somewhere online and provide a link to it (along with all the data it requires)."
   ]
  },
  {
   "cell_type": "markdown",
   "metadata": {},
   "source": [
    "**However,** if you want to take all of the beautiful code you've written and convert it out of the notebook and into a python script, then that's cool too! Here's how you would do that:\n",
    "\n",
    "`ipython nbconvert --to python YOURNOTEBOOKNAME.ipynb`\n",
    "\n",
    "There are other formats you can convert your notebook into, like:\n",
    "\n",
    "* `html`\n",
    "* `latex`\n",
    "* slides that you can serve on the internet\n",
    "\n",
    "[Here's the link explaining how to do those (and more!)](http://ipython.org/ipython-doc/stable/notebook/nbconvert.html)"
   ]
  },
  {
   "cell_type": "markdown",
   "metadata": {},
   "source": [
    "That's all we will go over in terms of the **IPython noteboook**, although there's lots more for you to [explore.](http://ipython.org/ipython-doc/stable/notebook/index.html) \n",
    "\n",
    "Now, we aren't here to learn about the intricacies of the **IPython notebook**, but rather to **learn to work with actual data**, so lets get to it!"
   ]
  }
 ],
 "metadata": {
  "language_info": {
   "codemirror_mode": {
    "name": "ipython",
    "version": 2
   },
   "file_extension": ".py",
   "mimetype": "text/x-python",
   "name": "python",
   "nbconvert_exporter": "python",
   "pygments_lexer": "ipython2",
   "version": "2.7.6"
  }
 },
 "nbformat": 4,
 "nbformat_minor": 0
}
