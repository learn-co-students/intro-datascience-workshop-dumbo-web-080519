{
 "cells": [
  {
   "cell_type": "markdown",
   "metadata": {},
   "source": [
    "For this lab, you will be using the `trip_fare_1_trimmed.csv` file found in the `day1` folder that you should have received when you signed up for this course.\n",
    "\n",
    "This dataset contains a very large number of distinct trips taken in cabs in the NYC area in 2013 (5 million of them, to be exact!).\n",
    "\n",
    "The dataset contains the following information at the top of the file (this is called the header):\n",
    "\n",
    "* `medallion`: The ID of the cab being operated\n",
    "* `hack_license`: The ID of the person operating the cab\n",
    "* `vendor_id`: The type of vendor operating the cab, can either be `CMT` or `VTS`, no clue what these two types mean\n",
    "* `pickup_datetime`: The time when the ride started\n",
    "* `payment_type`: How the trip was paid, `UNK` stands for unknown, I have no idea what `NOC` stands for, but lets assume its some known way to pay\n",
    "* `fare_amount`: Base fare cost of the trip\n",
    "* `surcharge`: Additional charges that are not tolls\n",
    "* `mta_tax`: The mta has to get its cut, right? :)\n",
    "* `tip_amount`: How generous the rider(s) decided to be\n",
    "* `tolls_amount`: How much money you had to pay in tolls\n",
    "* `total_amount`: How much the trip cost, all in"
   ]
  },
  {
   "cell_type": "markdown",
   "metadata": {},
   "source": [
    "Phew, That's a lot of info!\n",
    "\n",
    "Here is the assignment:\n",
    "\n",
    "1. What was the most expensive/least expensive trip taken?\n",
    "* Does the overall `total_amount` correlate with `tip_amount`?\n",
    "* Does it correlate when you remove all unknown `payment_type` rides?\n",
    "* Calculate the average cost of a trip in this dataset given the following conditions:\n",
    "  1. Across the whole dataset\n",
    "  2. Across the whole dataset when the `payment_type` is known (not `UNK`)\n",
    "  3. For each `payment_type`\n",
    "  4. Which `payment_type` had the highest average cost?\n",
    "  5. Which `payment_type` had the largest spread in how much people paid?\n",
    "  6. Which `payment_type` had the most generous people (had the highest average tip), including unknown payment types?\n",
    "  7. What hour in the day were people most generous, on average, when they got into the cab?\n",
    "  8. What hour of the day did people fluctuate the most in terms of tips? That is, do some hours lead to unpredictable tip amounts? \n",
    "* Which person (`vendor_id`) made the most money:\n",
    "  1. In total\n",
    "  2. On a per-trip basis, given that they took at least 20 trips\n",
    "* Does the number of trips a given cabbie takes (her/his experience) correlate with how well she/he is tipped? If so, in what direction?\n",
    "* Does the number of times a given cab is used correlate with how well the person driving the cab is tipped? That is, are there \"lucky\" cabs?\n",
    "* Which `vendor_id` had the higher average `surcharge` on a per-hour basis?\n",
    "* Which hour in the day: \n",
    "  1. Did people most frequently take rides?\n",
    "  2. Did people least frequently take rides?\n",
    "  3. Had the largest number of unique cabs on the street?\n",
    "  4. Had the least number of cabs in the street?\n",
    "  5. What is the average number of cabs on the streets in NYC in each quarter of the day (at least in this dataset?"
   ]
  },
  {
   "cell_type": "markdown",
   "metadata": {},
   "source": [
    "Use the rest of this notebook to work through all these questions. \n",
    "\n",
    "I will be coming around to everyone to help/guide you in your data science quest!\n",
    "\n",
    "If you can tackle all of these questions, then you've learned a lot already! \n",
    "\n",
    "If not, don't worry, this stuff is hard and I will gladly help/guide you through all of this.\n",
    "\n",
    "but take charge of your learning!\n",
    "\n",
    "This means:\n",
    "\n",
    "* Ask a neighbor to help if you don't understand something. \n",
    "* If your neighbor can't help you, try using:\n",
    "  * the interactive documentation I showed you how to use earlier\n",
    "  * [pandas documentation](http://pandas.pydata.org/pandas-docs/stable/index.html)\n",
    "  * [google](http://www.google.com)\n",
    "  * [stackoverflow](http://stackoverflow.com) to see if someone in the internet ether has had a similar problem before\n",
    "  * if none of this works, then I will gladly help you\n",
    "* This will accomplish at least two things:\n",
    "  * It will get you to use online resources and take charge of your learning\n",
    "  * Get you to learn alternative approaches (those I did not show you today) to solving your problem"
   ]
  },
  {
   "cell_type": "markdown",
   "metadata": {},
   "source": [
    "I've started the bare-bones script for you by:\n",
    "\n",
    "* importing what I ~~think~~ know you will need\n",
    "* loading the dataset into a variable called `fareData` that stores the data as a `DataFrame` object (you might need to change the path to where the file is located on your system)\n",
    "* formatting the timestamp for you so that you don't have to figure out how to do it, because spending 30+ minutes  (or more) trying to figure it out is not the point of the assignment. This way, all of the functions in `fareData.pickup_datetime.dt` can immediately be used on the `pickup_datetime` column your dataset.\n",
    "\n",
    "The rest I leave to you. Happy hacking!"
   ]
  },
  {
   "cell_type": "code",
   "execution_count": 55,
   "metadata": {
    "collapsed": true
   },
   "outputs": [],
   "source": [
    "import pandas as pd\n",
    "import numpy as np"
   ]
  },
  {
   "cell_type": "code",
   "execution_count": 54,
   "metadata": {
    "collapsed": false
   },
   "outputs": [
    {
     "data": {
      "text/plain": [
       "medallion                  object\n",
       "hack_license               object\n",
       "vendor_id                  object\n",
       "pickup_datetime    datetime64[ns]\n",
       "payment_type               object\n",
       "fare_amount               float64\n",
       "surcharge                 float64\n",
       "mta_tax                   float64\n",
       "tip_amount                float64\n",
       "tolls_amount              float64\n",
       "total_amount              float64\n",
       "dtype: object"
      ]
     },
     "execution_count": 54,
     "metadata": {},
     "output_type": "execute_result"
    }
   ],
   "source": [
    "#fareData.pickup_datetime.dt.\n",
    "fareData = pd.read_csv(\"./day1/trip_fare_1_trimmed.csv\")\n",
    "fareData.pickup_datetime = pd.to_datetime(fareData.pickup_datetime,format=\"%Y-%m-%d %H:%M:%S\")\n",
    "fareData.dtypes #this is to confirm that the pickup_datetime column, as well as all of the other\n",
    "# columns, are in the appropriate formats (pickup_datetime should be in datetime64 format)\n",
    "# if it isn't something is wrong, and we need to figure what that is"
   ]
  },
  {
   "cell_type": "code",
   "execution_count": null,
   "metadata": {
    "collapsed": true
   },
   "outputs": [],
   "source": []
  }
 ],
 "metadata": {
  "kernelspec": {
   "display_name": "Python 2",
   "language": "python",
   "name": "python2"
  },
  "language_info": {
   "codemirror_mode": {
    "name": "ipython",
    "version": 2
   },
   "file_extension": ".py",
   "mimetype": "text/x-python",
   "name": "python",
   "nbconvert_exporter": "python",
   "pygments_lexer": "ipython2",
   "version": "2.7.6"
  }
 },
 "nbformat": 4,
 "nbformat_minor": 0
}
