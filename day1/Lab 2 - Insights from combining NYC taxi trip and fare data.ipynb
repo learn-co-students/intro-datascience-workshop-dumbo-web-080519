{
 "cells": [
  {
   "cell_type": "markdown",
   "metadata": {},
   "source": [
    "For this lab, you are going to be combining the fare data you used in **Lab 1** with some trip data about those same exact taxi rides.\n",
    "\n",
    "Here is the schema of the trip dataset, found in `trip_data_1_trimmed.csv`:\n",
    "\n",
    "* `medallion`: The ID of the cab being operated\n",
    "* `hack_license`: The ID of the person operating the cab\n",
    "* `vendor_id`: The type of vendor operating the cab, can either be `CMT` or `VTS`, no clue what these two types mean\n",
    "* `rate_code`: Designates the kind of ride this is, must be `1` through `6`, any other number is incorrect\n",
    "* `store_and_fwd_flag`: Can be either `Y`,`N`, or Nan\n",
    "* `pickup_datetime`: The time when the ride started\n",
    "* `dropoff_datetime`: The time when the ride ended\n",
    "* `passenger_count`: The number of passengers during the ride\n",
    "* `trip_time_in_secs`: How long the trip took\n",
    "* `trip_distance`: Distance of the trip, to the nearest 1/10 mile\n",
    "* `pickup_longitude`: Longitude of pickup location\n",
    "* `pickup_latitude`: Latitude of pickup location\n",
    "* `dropoff_longitude`: Longitude of dropoff location\n",
    "* `dropoff_latitude`: Latitude of dropoff location\n",
    "\n",
    "And here is the schema for the fare dataset, as a refresher (you're going to be using it too :)), foud in `fare_data_1_trimmed.csv`:\n",
    "\n",
    "* `medallion`: The ID of the cab being operated\n",
    "* `hack_license`: The ID of the person operating the cab\n",
    "* `vendor_id`: The type of vendor operating the cab, can either be `CMT` or `VTS`, no clue what these two types mean\n",
    "* `pickup_datetime`: The time when the ride started\n",
    "* `payment_type`: How the trip was paid, `UNK` stands for unknown, I have no idea what `NOC` stands for, but lets assume its some known way to pay\n",
    "* `fare_amount`: Base fare cost of the trip\n",
    "* `surcharge`: Additional charges that are not tolls\n",
    "* `mta_tax`: The mta has to get its cut, right? :)\n",
    "* `tip_amount`: How generous the rider(s) decided to be\n",
    "* `tolls_amount`: How much money you had to pay in tolls\n",
    "* `total_amount`: How much the trip cost, all in\n",
    "\n",
    "One final piece of information you will need, the approximate latitude/longitude bounds of a bounding box centered around each borough in NYC:\n",
    "\n",
    "* Queens,40.800760,40.542920,-73.700272,-73.962616\n",
    "* Manhattan,40.874663,40.701293,-73.910759,-74.018721\n",
    "* Bronx,40.915255,40.785743,-73.765274,-73.933406\n",
    "* Brooklyn,40.739877,40.57042,-73.864754,-74.04344\n",
    "* Staten Island,40.651812,40.477399,-74.034547,-74.259090"
   ]
  },
  {
   "cell_type": "markdown",
   "metadata": {},
   "source": [
    "So, as was the case with the last lab, you are going to be tasked with answering a whole slew of questions about these data, except the questions here should be significantly more challenging.\n",
    "\n",
    "Before beginning, please:\n",
    "\n",
    "1. Remove any rides that did not have an appropriate `rate_code` \n",
    "* Convert pickup and dropoff locations from latitude/longitude to (approximate) borough. This will be very challening. I suggest the following approach, although you can try others:\n",
    "  1. Calculate the eaxct center of each borough's bounding box\n",
    "  * Find the distance from the given ride's pickup/dropoff location and the center of each borough found in A. \n",
    "  * Pick the borough that had the smallest distance from the given location\n",
    "* Once this is done, join the `trip_data` and `fare_data` datasets together (you will need to join the datasets on more than one column)."
   ]
  },
  {
   "cell_type": "markdown",
   "metadata": {},
   "source": [
    "Once you've gotten the preprocessing out of the way, answer the following questions:\n",
    "\n",
    "1. What was the most common borough start location?\n",
    "  * End location?\n",
    "  * Pair of start/end locations? Excluding manhattan/manhattan?\n",
    "* Which driver (`hack_license`) carried the most passengers, on average?\n",
    "* Was there any relationship between (correlation) when a taxi ride ended (split the day into quarters) and the tip percentage on the fare?\n",
    "* Did the trip time correlate with the cost of the trip?\n",
    "  * What about the tip amount?\n",
    "* Which cab tended to generate the most revenue, on average, when picking people up in Manhattan?\n",
    "* What was the average cost of all of the trips that originated in Brooklyn?\n",
    "* Which driver made the most money overall? Assume the only money made was from tips.\n",
    "  * Which driver made the most money on average?\n",
    "  * Which driver made the most money in each borough?\n",
    "* What was the average trip distance and trip cost for intra-borough trips?\n",
    "  1. For inter-borough trips?\n",
    "* Which borough had the cheapest tippers (had the smallest average tip percentage)? Assume that if a trip starts within some borough, then that trip belongs in that borough.\n",
    "* Which driver logged the most miles in this dataset?"
   ]
  },
  {
   "cell_type": "code",
   "execution_count": 36,
   "metadata": {
    "collapsed": true
   },
   "outputs": [],
   "source": [
    "import pandas as pd\n",
    "%qtconsole"
   ]
  },
  {
   "cell_type": "code",
   "execution_count": 37,
   "metadata": {
    "collapsed": true
   },
   "outputs": [],
   "source": [
    "fareData = pd.read_csv(\"./nycTaxiData/trip_fare_1_trimmed.csv\")\n",
    "tripData = pd.read_csv(\"./nycTaxiData/trip_data_1_trimmed.csv\")"
   ]
  }
 ],
 "metadata": {
  "kernelspec": {
   "display_name": "Python 2",
   "language": "python",
   "name": "python2"
  },
  "language_info": {
   "codemirror_mode": {
    "name": "ipython",
    "version": 2
   },
   "file_extension": ".py",
   "mimetype": "text/x-python",
   "name": "python",
   "nbconvert_exporter": "python",
   "pygments_lexer": "ipython2",
   "version": "2.7.6"
  }
 },
 "nbformat": 4,
 "nbformat_minor": 0
}
