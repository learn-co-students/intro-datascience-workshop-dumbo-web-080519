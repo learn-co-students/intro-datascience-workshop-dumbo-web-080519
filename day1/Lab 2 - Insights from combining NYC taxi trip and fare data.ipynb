{
 "cells": [
  {
   "cell_type": "markdown",
   "metadata": {},
   "source": [
    "For this lab, you are going to be combining the fare data you used in **Lab 1** with some trip data about those same exact trips.\n",
    "\n",
    "Here is the schema of the trip dataset, found in `trip_data_1_trimmed.csv`:\n"
   ]
  },
  {
   "cell_type": "code",
   "execution_count": 1,
   "metadata": {
    "collapsed": true
   },
   "outputs": [],
   "source": [
    "import pandas as pd"
   ]
  },
  {
   "cell_type": "code",
   "execution_count": 30,
   "metadata": {
    "collapsed": true
   },
   "outputs": [],
   "source": [
    "#fareData = pd.read_csv(\"./nycTaxiData/trip_fare_1_trimmed.csv\")\n",
    "tripData = pd.read_csv(\"./nycTaxiData/trip_data_1.csv\",nrows = 5000001)"
   ]
  },
  {
   "cell_type": "code",
   "execution_count": 34,
   "metadata": {
    "collapsed": false
   },
   "outputs": [],
   "source": [
    "tripData.to_csv(\"./nycTaxiData/trip_data_1_trimmed.csv\",index=False)\n",
    "#tripData.dtypes"
   ]
  },
  {
   "cell_type": "code",
   "execution_count": 26,
   "metadata": {
    "collapsed": false
   },
   "outputs": [],
   "source": [
    "#fareData.to_csv(\"./nycTaxiData/trip_fare_1_trimmed.csv\",index=False)"
   ]
  },
  {
   "cell_type": "code",
   "execution_count": null,
   "metadata": {
    "collapsed": true
   },
   "outputs": [],
   "source": []
  }
 ],
 "metadata": {
  "kernelspec": {
   "display_name": "Python 2",
   "language": "python",
   "name": "python2"
  },
  "language_info": {
   "codemirror_mode": {
    "name": "ipython",
    "version": 2
   },
   "file_extension": ".py",
   "mimetype": "text/x-python",
   "name": "python",
   "nbconvert_exporter": "python",
   "pygments_lexer": "ipython2",
   "version": "2.7.6"
  }
 },
 "nbformat": 4,
 "nbformat_minor": 0
}
