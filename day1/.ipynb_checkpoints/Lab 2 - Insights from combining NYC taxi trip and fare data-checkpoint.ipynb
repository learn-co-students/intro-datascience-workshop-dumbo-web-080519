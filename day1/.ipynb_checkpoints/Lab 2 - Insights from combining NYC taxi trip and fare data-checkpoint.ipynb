{
 "cells": [
  {
   "cell_type": "markdown",
   "metadata": {},
   "source": [
    "For this lab, you are going to be combining the fare data you used in **Lab 1** with some trip data about those same exact taxi rides.\n",
    "\n",
    "Here is the schema of the trip dataset, found in `trip_data_1_trimmed.csv`:\n",
    "\n",
    "* `medallion`: The ID of the cab being operated\n",
    "* `hack_license`: The ID of the person operating the cab\n",
    "* `vendor_id`: The type of vendor operating the cab, can either be `CMT` or `VTS`, no clue what these two types mean\n",
    "* `rate_code`: Designates the kind of ride this is, must be `1` through `6`, any other number is incorrect\n",
    "* `store_and_fwd_flag`: Can be either `Y`,`N`, or Nan\n",
    "* `pickup_datetime`: The time when the ride started\n",
    "* `dropoff_datetime`: The time when the ride ended\n",
    "* `passenger_count`: The number of passengers during the ride\n",
    "* `trip_time_in_secs`: How long the trip took\n",
    "* `trip_distance`: Distance of the trip, to the nearest 1/10 mile\n",
    "* `pickup_longitude`: Longitude of pickup location\n",
    "* `pickup_latitude`: Latitude of pickup location\n",
    "* `dropoff_longitude`: Longitude of dropoff location\n",
    "* `dropoff_latitude`: Latitude of dropoff location\n",
    "\n",
    "And here is the schema for the fare dataset, as a refresher (you're going to be using it too :)), foud in `fare_data_1_trimmed.csv`:\n",
    "\n",
    "* `medallion`: The ID of the cab being operated\n",
    "* `hack_license`: The ID of the person operating the cab\n",
    "* `vendor_id`: The type of vendor operating the cab, can either be `CMT` or `VTS`, no clue what these two types mean\n",
    "* `pickup_datetime`: The time when the ride started\n",
    "* `payment_type`: How the trip was paid, `UNK` stands for unknown, I have no idea what `NOC` stands for, but lets assume its some known way to pay\n",
    "* `fare_amount`: Base fare cost of the trip\n",
    "* `surcharge`: Additional charges that are not tolls\n",
    "* `mta_tax`: The mta has to get its cut, right? :)\n",
    "* `tip_amount`: How generous the rider(s) decided to be\n",
    "* `tolls_amount`: How much money you had to pay in tolls\n",
    "* `total_amount`: How much the trip cost, all in\n",
    "\n",
    "One final piece of information you will need, the approximate latitude/longitude bounds of a bounding box centered around each borough in NYC:\n",
    "\n",
    "* Queens,40.800760,40.542920,-73.700272,-73.962616\n",
    "* Manhattan,40.874663,40.701293,-73.910759,-74.018721\n",
    "* Bronx,40.915255,40.785743,-73.765274,-73.933406\n",
    "* Brooklyn,40.739877,40.57042,-73.864754,-74.04344\n",
    "* Staten Island,40.651812,40.477399,-74.034547,-74.259090"
   ]
  },
  {
   "cell_type": "markdown",
   "metadata": {},
   "source": [
    "So, as was the case with the last lab, you are going to be tasked with answering a whole slew of questions about these data, except the questions here should be significantly more challenging.\n",
    "\n",
    "Before beginning, please:\n",
    "\n",
    "1. Remove any rides that did not have an appropriate `rate_code` \n",
    "* Convert pickup and dropoff locations from latitude/longitude to (approximate) borough. This will be very challening. I suggest the following approach, although you can try others:\n",
    "  1. Calculate the eaxct center of each borough's bounding box\n",
    "  * Find the distance from the given ride's pickup/dropoff location and the center of each borough found in A. \n",
    "  * Pick the borough that had the smallest distance from the given location\n",
    "* Once this is done, join the `trip_data` and `fare_data` datasets together (you will need to join the datasets on more than one column)."
   ]
  },
  {
   "cell_type": "markdown",
   "metadata": {},
   "source": [
    "Once you've gotten the preprocessing out of the way, answer the following questions:\n",
    "\n",
    "1. What was the most common borough start location?\n",
    "  * End location?\n",
    "  * Pair of start/end locations? Excluding manhattan/manhattan?\n",
    "* Which driver (`hack_license`) carried the most passengers, on average?\n",
    "* Was there any relationship between (correlation) when a taxi ride ended (split the day into quarters) and the tip percentage on the fare?\n",
    "* Did the trip time correlate with the cost of the trip?\n",
    "  * What about the tip amount?\n",
    "* Which cab tended to generate the most revenue, on average, when picking people up in manhattan?\n",
    "* What was the average cost of all of the trips that originated in Brooklyn?\n",
    "* What was the average trip distance for intra-borough trips?\n",
    "  1. For inter-borough trips?"
   ]
  },
  {
   "cell_type": "code",
   "execution_count": 36,
   "metadata": {
    "collapsed": true
   },
   "outputs": [],
   "source": [
    "import pandas as pd"
   ]
  },
  {
   "cell_type": "code",
   "execution_count": 37,
   "metadata": {
    "collapsed": true
   },
   "outputs": [],
   "source": [
    "fareData = pd.read_csv(\"./nycTaxiData/trip_fare_1_trimmed.csv\")\n",
    "tripData = pd.read_csv(\"./nycTaxiData/trip_data_1_trimmed.csv\")"
   ]
  },
  {
   "cell_type": "code",
   "execution_count": 40,
   "metadata": {
    "collapsed": false
   },
   "outputs": [
    {
     "data": {
      "text/html": [
       "<div style=\"max-height:1000px;max-width:1500px;overflow:auto;\">\n",
       "<table border=\"1\" class=\"dataframe\">\n",
       "  <thead>\n",
       "    <tr style=\"text-align: right;\">\n",
       "      <th></th>\n",
       "      <th>medallion</th>\n",
       "      <th>hack_license</th>\n",
       "      <th>vendor_id</th>\n",
       "      <th>rate_code</th>\n",
       "      <th>store_and_fwd_flag</th>\n",
       "      <th>pickup_datetime</th>\n",
       "      <th>dropoff_datetime</th>\n",
       "      <th>passenger_count</th>\n",
       "      <th>trip_time_in_secs</th>\n",
       "      <th>trip_distance</th>\n",
       "      <th>pickup_longitude</th>\n",
       "      <th>pickup_latitude</th>\n",
       "      <th>dropoff_longitude</th>\n",
       "      <th>dropoff_latitude</th>\n",
       "    </tr>\n",
       "  </thead>\n",
       "  <tbody>\n",
       "    <tr>\n",
       "      <th>0</th>\n",
       "      <td> 89D227B655E5C82AECF13C3F540D4CF4</td>\n",
       "      <td> BA96DE419E711691B9445D6A6307C170</td>\n",
       "      <td> CMT</td>\n",
       "      <td> 1</td>\n",
       "      <td> N</td>\n",
       "      <td> 2013-01-01 15:11:48</td>\n",
       "      <td> 2013-01-01 15:18:10</td>\n",
       "      <td> 4</td>\n",
       "      <td> 382</td>\n",
       "      <td> 1.0</td>\n",
       "      <td>-73.978165</td>\n",
       "      <td> 40.757977</td>\n",
       "      <td>-73.989838</td>\n",
       "      <td> 40.751171</td>\n",
       "    </tr>\n",
       "    <tr>\n",
       "      <th>1</th>\n",
       "      <td> 0BD7C8F5BA12B88E0B67BED28BEA73D8</td>\n",
       "      <td> 9FD8F69F0804BDB5549F40E9DA1BE472</td>\n",
       "      <td> CMT</td>\n",
       "      <td> 1</td>\n",
       "      <td> N</td>\n",
       "      <td> 2013-01-06 00:18:35</td>\n",
       "      <td> 2013-01-06 00:22:54</td>\n",
       "      <td> 1</td>\n",
       "      <td> 259</td>\n",
       "      <td> 1.5</td>\n",
       "      <td>-74.006683</td>\n",
       "      <td> 40.731781</td>\n",
       "      <td>-73.994499</td>\n",
       "      <td> 40.750660</td>\n",
       "    </tr>\n",
       "    <tr>\n",
       "      <th>2</th>\n",
       "      <td> 0BD7C8F5BA12B88E0B67BED28BEA73D8</td>\n",
       "      <td> 9FD8F69F0804BDB5549F40E9DA1BE472</td>\n",
       "      <td> CMT</td>\n",
       "      <td> 1</td>\n",
       "      <td> N</td>\n",
       "      <td> 2013-01-05 18:49:41</td>\n",
       "      <td> 2013-01-05 18:54:23</td>\n",
       "      <td> 1</td>\n",
       "      <td> 282</td>\n",
       "      <td> 1.1</td>\n",
       "      <td>-74.004707</td>\n",
       "      <td> 40.737770</td>\n",
       "      <td>-74.009834</td>\n",
       "      <td> 40.726002</td>\n",
       "    </tr>\n",
       "    <tr>\n",
       "      <th>3</th>\n",
       "      <td> DFD2202EE08F7A8DC9A57B02ACB81FE2</td>\n",
       "      <td> 51EE87E3205C985EF8431D850C786310</td>\n",
       "      <td> CMT</td>\n",
       "      <td> 1</td>\n",
       "      <td> N</td>\n",
       "      <td> 2013-01-07 23:54:15</td>\n",
       "      <td> 2013-01-07 23:58:20</td>\n",
       "      <td> 2</td>\n",
       "      <td> 244</td>\n",
       "      <td> 0.7</td>\n",
       "      <td>-73.974602</td>\n",
       "      <td> 40.759945</td>\n",
       "      <td>-73.984734</td>\n",
       "      <td> 40.759388</td>\n",
       "    </tr>\n",
       "    <tr>\n",
       "      <th>4</th>\n",
       "      <td> DFD2202EE08F7A8DC9A57B02ACB81FE2</td>\n",
       "      <td> 51EE87E3205C985EF8431D850C786310</td>\n",
       "      <td> CMT</td>\n",
       "      <td> 1</td>\n",
       "      <td> N</td>\n",
       "      <td> 2013-01-07 23:25:03</td>\n",
       "      <td> 2013-01-07 23:34:24</td>\n",
       "      <td> 1</td>\n",
       "      <td> 560</td>\n",
       "      <td> 2.1</td>\n",
       "      <td>-73.976250</td>\n",
       "      <td> 40.748528</td>\n",
       "      <td>-74.002586</td>\n",
       "      <td> 40.747868</td>\n",
       "    </tr>\n",
       "  </tbody>\n",
       "</table>\n",
       "</div>"
      ],
      "text/plain": [
       "                          medallion                      hack_license  \\\n",
       "0  89D227B655E5C82AECF13C3F540D4CF4  BA96DE419E711691B9445D6A6307C170   \n",
       "1  0BD7C8F5BA12B88E0B67BED28BEA73D8  9FD8F69F0804BDB5549F40E9DA1BE472   \n",
       "2  0BD7C8F5BA12B88E0B67BED28BEA73D8  9FD8F69F0804BDB5549F40E9DA1BE472   \n",
       "3  DFD2202EE08F7A8DC9A57B02ACB81FE2  51EE87E3205C985EF8431D850C786310   \n",
       "4  DFD2202EE08F7A8DC9A57B02ACB81FE2  51EE87E3205C985EF8431D850C786310   \n",
       "\n",
       "  vendor_id  rate_code store_and_fwd_flag      pickup_datetime  \\\n",
       "0       CMT          1                  N  2013-01-01 15:11:48   \n",
       "1       CMT          1                  N  2013-01-06 00:18:35   \n",
       "2       CMT          1                  N  2013-01-05 18:49:41   \n",
       "3       CMT          1                  N  2013-01-07 23:54:15   \n",
       "4       CMT          1                  N  2013-01-07 23:25:03   \n",
       "\n",
       "      dropoff_datetime  passenger_count  trip_time_in_secs  trip_distance  \\\n",
       "0  2013-01-01 15:18:10                4                382            1.0   \n",
       "1  2013-01-06 00:22:54                1                259            1.5   \n",
       "2  2013-01-05 18:54:23                1                282            1.1   \n",
       "3  2013-01-07 23:58:20                2                244            0.7   \n",
       "4  2013-01-07 23:34:24                1                560            2.1   \n",
       "\n",
       "   pickup_longitude  pickup_latitude  dropoff_longitude  dropoff_latitude  \n",
       "0        -73.978165        40.757977         -73.989838         40.751171  \n",
       "1        -74.006683        40.731781         -73.994499         40.750660  \n",
       "2        -74.004707        40.737770         -74.009834         40.726002  \n",
       "3        -73.974602        40.759945         -73.984734         40.759388  \n",
       "4        -73.976250        40.748528         -74.002586         40.747868  "
      ]
     },
     "execution_count": 40,
     "metadata": {},
     "output_type": "execute_result"
    }
   ],
   "source": [
    "tripData.head()"
   ]
  },
  {
   "cell_type": "code",
   "execution_count": 42,
   "metadata": {
    "collapsed": false
   },
   "outputs": [
    {
     "data": {
      "text/plain": [
       "array(['CMT', 'VTS'], dtype=object)"
      ]
     },
     "execution_count": 42,
     "metadata": {},
     "output_type": "execute_result"
    }
   ],
   "source": []
  },
  {
   "cell_type": "code",
   "execution_count": null,
   "metadata": {
    "collapsed": true
   },
   "outputs": [],
   "source": []
  }
 ],
 "metadata": {
  "kernelspec": {
   "display_name": "Python 2",
   "language": "python",
   "name": "python2"
  },
  "language_info": {
   "codemirror_mode": {
    "name": "ipython",
    "version": 2
   },
   "file_extension": ".py",
   "mimetype": "text/x-python",
   "name": "python",
   "nbconvert_exporter": "python",
   "pygments_lexer": "ipython2",
   "version": "2.7.6"
  }
 },
 "nbformat": 4,
 "nbformat_minor": 0
}
