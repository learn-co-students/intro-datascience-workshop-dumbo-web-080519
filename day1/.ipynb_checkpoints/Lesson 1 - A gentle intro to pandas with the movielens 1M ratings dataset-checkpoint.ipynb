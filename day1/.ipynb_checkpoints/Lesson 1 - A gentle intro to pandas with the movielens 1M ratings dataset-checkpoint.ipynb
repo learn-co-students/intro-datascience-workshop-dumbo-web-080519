{
 "cells": [
  {
   "cell_type": "markdown",
   "metadata": {},
   "source": [
    "Ok, now that we have the basics of **IPython Notebooks** down, lets get to work!"
   ]
  },
  {
   "cell_type": "markdown",
   "metadata": {},
   "source": [
    "As is almost always the case when working with **Python**, we are going to need more than just its basic functionality available to us as we develop our analytical pipelines. \n",
    "\n",
    "In order to have this additional functionality available (being able to use **pandas**), we will rely on a  couple `import` statements.\n",
    "\n",
    "Here they are:"
   ]
  },
  {
   "cell_type": "code",
   "execution_count": 1,
   "metadata": {
    "collapsed": true
   },
   "outputs": [],
   "source": [
    "import pandas as pd\n",
    "import numpy as np"
   ]
  },
  {
   "cell_type": "markdown",
   "metadata": {},
   "source": [
    "The code above did two things:\n",
    "\n",
    "* Loaded in all of the functionality that **pandas** provides (`import pandas as pd`)\n",
    "* Loaded in some additional functionality from a different package that **pandas** relies on called **NumPy** (`import numpy as np`)\n",
    "\n",
    "Importantly, `pd` is now the alias (new name) for the entire `pandas` library and `np` is the alias for the `numpy` library. Instead of having to type `pandas.something` or `numpy.something` to access a given function, you can now just type `pd` or `np`. \n",
    "\n",
    "So what exactly is [**pandas**](http://pandas.pydata.org) and why the funny name (we will talk about [**NumPy**](http://www.numpy.org) a bit later)?\n",
    "\n",
    "**pandas** is a Data Analysis Library written in and for the **Python** programming language and is a very loose acronym for **P**ython **An**alysis of **Da**taset**s** (or something like that anyway). \n",
    "\n",
    "It provides open source, easy-to-use data structures and data analysis tools.\n",
    "\n",
    "We will be using it exclusively for the next two days."
   ]
  },
  {
   "cell_type": "markdown",
   "metadata": {},
   "source": [
    "So, lets begin by loading in our first dataset, the Movielens 1M dataset.\n",
    "\n",
    "This is a file that contains ~1,000,000 movie ratings taken from a website where users can rate a variety of movies on a 1-5 rating scale. Each rating is comprised of the following information:\n",
    "\n",
    "* A user id, represented by a number (an `int`) \n",
    "* A movie id, also an `int` \n",
    "* A rating, an `int` that should vary from 1-5 (inclusive) \n",
    "* A timestamp, recording when the rating was made in seconds since UNIX epoch time (this is standardly set to 12:00AM January 1, 1970), also an `int`\n",
    "\n",
    "The records in this file are arranged in the following order and format:\n",
    "\n",
    "`UserID::MovieID::Rating::Timestamp`"
   ]
  },
  {
   "cell_type": "markdown",
   "metadata": {},
   "source": [
    "We will use the `read_csv` function in pandas and try to simply load the dataset **as is** into a variable (actually an object) called `ratingData` and see if that gets it into a usable format (it won't)."
   ]
  },
  {
   "cell_type": "code",
   "execution_count": 2,
   "metadata": {
    "collapsed": true
   },
   "outputs": [],
   "source": [
    "ratingData = pd.read_csv(\"./movieData/ratings.dat\")"
   ]
  },
  {
   "cell_type": "markdown",
   "metadata": {},
   "source": [
    "If you look at the documentation for `read_csv`, you'll see that it is very large and provides for lots of different functionality. \n",
    "\n",
    "As a first pass, we just passed the path to the file in as a ```string``` to the `read_csv` function, without any other arguments. "
   ]
  },
  {
   "cell_type": "markdown",
   "metadata": {},
   "source": [
    "Lets take a look at the first few rows and see what we get using the `head` function on our newly loaded dataset `ratingData`. \n",
    "\n",
    "The `head` function returns the first 5 rows by default of the DataFrame you call it on. You can change it to be a larger or smaller number by passing in a positive `integer` into `head` as an argument like so: `ratingData.head(100)`.\n",
    "\n",
    "The function `tail` does the exact same thing, except with the last records in the dataset."
   ]
  },
  {
   "cell_type": "code",
   "execution_count": 3,
   "metadata": {
    "collapsed": false
   },
   "outputs": [
    {
     "data": {
      "text/html": [
       "<div style=\"max-height:1000px;max-width:1500px;overflow:auto;\">\n",
       "<table border=\"1\" class=\"dataframe\">\n",
       "  <thead>\n",
       "    <tr style=\"text-align: right;\">\n",
       "      <th></th>\n",
       "      <th>1::1193::5::978300760</th>\n",
       "    </tr>\n",
       "  </thead>\n",
       "  <tbody>\n",
       "    <tr>\n",
       "      <th>0</th>\n",
       "      <td>  1::661::3::978302109</td>\n",
       "    </tr>\n",
       "    <tr>\n",
       "      <th>1</th>\n",
       "      <td>  1::914::3::978301968</td>\n",
       "    </tr>\n",
       "    <tr>\n",
       "      <th>2</th>\n",
       "      <td> 1::3408::4::978300275</td>\n",
       "    </tr>\n",
       "    <tr>\n",
       "      <th>3</th>\n",
       "      <td> 1::2355::5::978824291</td>\n",
       "    </tr>\n",
       "    <tr>\n",
       "      <th>4</th>\n",
       "      <td> 1::1197::3::978302268</td>\n",
       "    </tr>\n",
       "  </tbody>\n",
       "</table>\n",
       "</div>"
      ],
      "text/plain": [
       "   1::1193::5::978300760\n",
       "0   1::661::3::978302109\n",
       "1   1::914::3::978301968\n",
       "2  1::3408::4::978300275\n",
       "3  1::2355::5::978824291\n",
       "4  1::1197::3::978302268"
      ]
     },
     "execution_count": 3,
     "metadata": {},
     "output_type": "execute_result"
    }
   ],
   "source": [
    "ratingData.head()"
   ]
  },
  {
   "cell_type": "markdown",
   "metadata": {},
   "source": [
    "Ok, well that looks terrible.\n",
    "Lets diagnose the problems we see and make it unterrible: \n",
    "\n",
    "1. Everything is in a single column (so we can't separately look at ratings, user ids,movie ids, or timestamps)!\n",
    "2. The first row is used as the name of the only column (we call this the **header**), which is no good, as the first record shouldn't be the header, but an actual record.\n",
    "3. The timestamp is in a format that doesn't really tell us anything useful about when the ratings occurred.\n",
    "\n",
    "So, lets use some of the additional functionality of `read_csv` to load this dataset in cleanly, and hopefully that will solve problems **1 and 2**."
   ]
  },
  {
   "cell_type": "code",
   "execution_count": 3,
   "metadata": {
    "collapsed": false
   },
   "outputs": [
    {
     "name": "stderr",
     "output_type": "stream",
     "text": [
      "/usr/local/lib/python2.7/site-packages/pandas/io/parsers.py:639: ParserWarning: Falling back to the 'python' engine because the 'c' engine does not support regex separators; you can avoid this warning by specifying engine='python'.\n",
      "  ParserWarning)\n"
     ]
    }
   ],
   "source": [
    "ratingData = pd.read_csv(\"./movieData/ratings.dat\",sep = \"::\",names = ['UserID','MovieID','Rating','Timestamp'])"
   ]
  },
  {
   "cell_type": "markdown",
   "metadata": {},
   "source": [
    "Don't worry about the `ParserWarning:` message (if you get one) as it doesn't affect what we are doing, and lets just take a look at the data now. I'll explain exactly what I did below."
   ]
  },
  {
   "cell_type": "code",
   "execution_count": 4,
   "metadata": {
    "collapsed": false
   },
   "outputs": [
    {
     "data": {
      "text/html": [
       "<div style=\"max-height:1000px;max-width:1500px;overflow:auto;\">\n",
       "<table border=\"1\" class=\"dataframe\">\n",
       "  <thead>\n",
       "    <tr style=\"text-align: right;\">\n",
       "      <th></th>\n",
       "      <th>UserID</th>\n",
       "      <th>MovieID</th>\n",
       "      <th>Rating</th>\n",
       "      <th>Timestamp</th>\n",
       "    </tr>\n",
       "  </thead>\n",
       "  <tbody>\n",
       "    <tr>\n",
       "      <th>0</th>\n",
       "      <td> 1</td>\n",
       "      <td> 1193</td>\n",
       "      <td> 5</td>\n",
       "      <td> 978300760</td>\n",
       "    </tr>\n",
       "    <tr>\n",
       "      <th>1</th>\n",
       "      <td> 1</td>\n",
       "      <td>  661</td>\n",
       "      <td> 3</td>\n",
       "      <td> 978302109</td>\n",
       "    </tr>\n",
       "    <tr>\n",
       "      <th>2</th>\n",
       "      <td> 1</td>\n",
       "      <td>  914</td>\n",
       "      <td> 3</td>\n",
       "      <td> 978301968</td>\n",
       "    </tr>\n",
       "    <tr>\n",
       "      <th>3</th>\n",
       "      <td> 1</td>\n",
       "      <td> 3408</td>\n",
       "      <td> 4</td>\n",
       "      <td> 978300275</td>\n",
       "    </tr>\n",
       "    <tr>\n",
       "      <th>4</th>\n",
       "      <td> 1</td>\n",
       "      <td> 2355</td>\n",
       "      <td> 5</td>\n",
       "      <td> 978824291</td>\n",
       "    </tr>\n",
       "  </tbody>\n",
       "</table>\n",
       "</div>"
      ],
      "text/plain": [
       "   UserID  MovieID  Rating  Timestamp\n",
       "0       1     1193       5  978300760\n",
       "1       1      661       3  978302109\n",
       "2       1      914       3  978301968\n",
       "3       1     3408       4  978300275\n",
       "4       1     2355       5  978824291"
      ]
     },
     "execution_count": 4,
     "metadata": {},
     "output_type": "execute_result"
    }
   ],
   "source": [
    "ratingData.head()"
   ]
  },
  {
   "cell_type": "markdown",
   "metadata": {},
   "source": [
    "MUCH BETTER!\n",
    "\n",
    "So, WTF did we just do?\n",
    "\n",
    "The function `read_csv` has lots of functionality, as I had mentioned (and as you saw when you pulled up its documentation). One of its options is called `sep`, and allows you to provide your own separator for dividing the columns that you have in your dataset. \n",
    "\n",
    "The default separator for `read_csv` is the comma (`,`), since `csv` stands for **c**omma **s**eparated **v**alues. \n",
    "\n",
    "However, since `::` separated the fields in this dataset, we supplied that as an argument (again, as a `string`) to the argument `sep` instead.\n",
    "\n",
    "A separate argument, `names`, allows you to pass in your own list of names, again as `strings`, to `read_csv` to be treated as the column names (or the **header**) of the dataset. Since we knew what the names for the columns should be, we put them in.\n",
    "\n",
    "Now that our dataset looks more reasonable, lets do a couple brief sanity checks and then fix issue **3.**"
   ]
  },
  {
   "cell_type": "markdown",
   "metadata": {},
   "source": [
    "Lets do a sanity check and make sure that:\n",
    "\n",
    "1. All our data is in the format that we expect (everything is an `int`).\n",
    "2. The ratings range across the values we expect (1-5 and nothing else).\n",
    "\n",
    "The property `dtypes` is accessible from our `ratingData` object, and tells us the types of the data in all of our columns (which addresses **1.**)."
   ]
  },
  {
   "cell_type": "code",
   "execution_count": 77,
   "metadata": {
    "collapsed": false
   },
   "outputs": [
    {
     "data": {
      "text/plain": [
       "UserID       int64\n",
       "MovieID      int64\n",
       "Rating       int64\n",
       "Timestamp    int64\n",
       "dtype: object"
      ]
     },
     "execution_count": 77,
     "metadata": {},
     "output_type": "execute_result"
    }
   ],
   "source": [
    "ratingData.dtypes"
   ]
  },
  {
   "cell_type": "markdown",
   "metadata": {},
   "source": [
    "Ok, so everything appears to be an `int` as `int64` is an `integer` (positive or negative whole number) data type that can represent very large numbers.\n",
    "\n",
    "As an important aside about **pandas**, all the values in a given column have to be of the same type. So, **if even one value was not a whole number, (1.0 for example), the values for the entire column would be inferred to be something else (either a `float64` or an `object` if any of the entries were `strings`).**\n",
    "\n",
    "Now let's address **2.** by looking at all of the unique entries in the `Rating` column using `unique` (we expect there to be 5 unique values, 1-5 inclusive)."
   ]
  },
  {
   "cell_type": "code",
   "execution_count": 78,
   "metadata": {
    "collapsed": false
   },
   "outputs": [
    {
     "data": {
      "text/plain": [
       "array([5, 3, 4, 2, 1])"
      ]
     },
     "execution_count": 78,
     "metadata": {},
     "output_type": "execute_result"
    }
   ],
   "source": [
    "ratingData.Rating.unique()"
   ]
  },
  {
   "cell_type": "markdown",
   "metadata": {},
   "source": [
    "As long as your column names do not contain strange characters (spaces and escape characters like !\\/), you can simply access the values in a column by doing `dataFrameName.columnName` where `dataFrameName` is the name of your `DataFrame` object and `columnName` is the name of your column.\n",
    "\n",
    "The function `unique` is accessible from our `ratingData` object, and simply returns all of the unique values within our column of choice as a `List`."
   ]
  },
  {
   "cell_type": "markdown",
   "metadata": {},
   "source": [
    "However, if your dataset contains weird column names, you have another way of accessing columns:"
   ]
  },
  {
   "cell_type": "code",
   "execution_count": null,
   "metadata": {
    "collapsed": false
   },
   "outputs": [],
   "source": [
    "ratingData[\"Rating\"].unique()"
   ]
  },
  {
   "cell_type": "markdown",
   "metadata": {},
   "source": [
    "In this way of accessing the `Rating` column, we have to pass the name of the column as a `string` (in quotes \"\").\n",
    "\n",
    "What if we wanted to access multiple columns? Here's how you would do that (this is the only way):"
   ]
  },
  {
   "cell_type": "code",
   "execution_count": 80,
   "metadata": {
    "collapsed": false
   },
   "outputs": [
    {
     "data": {
      "text/html": [
       "<div style=\"max-height:1000px;max-width:1500px;overflow:auto;\">\n",
       "<table border=\"1\" class=\"dataframe\">\n",
       "  <thead>\n",
       "    <tr style=\"text-align: right;\">\n",
       "      <th></th>\n",
       "      <th>Rating</th>\n",
       "      <th>UserID</th>\n",
       "    </tr>\n",
       "  </thead>\n",
       "  <tbody>\n",
       "    <tr>\n",
       "      <th>0      </th>\n",
       "      <td> 5</td>\n",
       "      <td>    1</td>\n",
       "    </tr>\n",
       "    <tr>\n",
       "      <th>1      </th>\n",
       "      <td> 3</td>\n",
       "      <td>    1</td>\n",
       "    </tr>\n",
       "    <tr>\n",
       "      <th>2      </th>\n",
       "      <td> 3</td>\n",
       "      <td>    1</td>\n",
       "    </tr>\n",
       "    <tr>\n",
       "      <th>3      </th>\n",
       "      <td> 4</td>\n",
       "      <td>    1</td>\n",
       "    </tr>\n",
       "    <tr>\n",
       "      <th>4      </th>\n",
       "      <td> 5</td>\n",
       "      <td>    1</td>\n",
       "    </tr>\n",
       "    <tr>\n",
       "      <th>5      </th>\n",
       "      <td> 3</td>\n",
       "      <td>    1</td>\n",
       "    </tr>\n",
       "    <tr>\n",
       "      <th>6      </th>\n",
       "      <td> 5</td>\n",
       "      <td>    1</td>\n",
       "    </tr>\n",
       "    <tr>\n",
       "      <th>7      </th>\n",
       "      <td> 5</td>\n",
       "      <td>    1</td>\n",
       "    </tr>\n",
       "    <tr>\n",
       "      <th>8      </th>\n",
       "      <td> 4</td>\n",
       "      <td>    1</td>\n",
       "    </tr>\n",
       "    <tr>\n",
       "      <th>9      </th>\n",
       "      <td> 4</td>\n",
       "      <td>    1</td>\n",
       "    </tr>\n",
       "    <tr>\n",
       "      <th>10     </th>\n",
       "      <td> 5</td>\n",
       "      <td>    1</td>\n",
       "    </tr>\n",
       "    <tr>\n",
       "      <th>11     </th>\n",
       "      <td> 4</td>\n",
       "      <td>    1</td>\n",
       "    </tr>\n",
       "    <tr>\n",
       "      <th>12     </th>\n",
       "      <td> 4</td>\n",
       "      <td>    1</td>\n",
       "    </tr>\n",
       "    <tr>\n",
       "      <th>13     </th>\n",
       "      <td> 4</td>\n",
       "      <td>    1</td>\n",
       "    </tr>\n",
       "    <tr>\n",
       "      <th>14     </th>\n",
       "      <td> 5</td>\n",
       "      <td>    1</td>\n",
       "    </tr>\n",
       "    <tr>\n",
       "      <th>15     </th>\n",
       "      <td> 4</td>\n",
       "      <td>    1</td>\n",
       "    </tr>\n",
       "    <tr>\n",
       "      <th>16     </th>\n",
       "      <td> 3</td>\n",
       "      <td>    1</td>\n",
       "    </tr>\n",
       "    <tr>\n",
       "      <th>17     </th>\n",
       "      <td> 4</td>\n",
       "      <td>    1</td>\n",
       "    </tr>\n",
       "    <tr>\n",
       "      <th>18     </th>\n",
       "      <td> 5</td>\n",
       "      <td>    1</td>\n",
       "    </tr>\n",
       "    <tr>\n",
       "      <th>19     </th>\n",
       "      <td> 4</td>\n",
       "      <td>    1</td>\n",
       "    </tr>\n",
       "    <tr>\n",
       "      <th>20     </th>\n",
       "      <td> 3</td>\n",
       "      <td>    1</td>\n",
       "    </tr>\n",
       "    <tr>\n",
       "      <th>21     </th>\n",
       "      <td> 3</td>\n",
       "      <td>    1</td>\n",
       "    </tr>\n",
       "    <tr>\n",
       "      <th>22     </th>\n",
       "      <td> 5</td>\n",
       "      <td>    1</td>\n",
       "    </tr>\n",
       "    <tr>\n",
       "      <th>23     </th>\n",
       "      <td> 5</td>\n",
       "      <td>    1</td>\n",
       "    </tr>\n",
       "    <tr>\n",
       "      <th>24     </th>\n",
       "      <td> 3</td>\n",
       "      <td>    1</td>\n",
       "    </tr>\n",
       "    <tr>\n",
       "      <th>25     </th>\n",
       "      <td> 5</td>\n",
       "      <td>    1</td>\n",
       "    </tr>\n",
       "    <tr>\n",
       "      <th>26     </th>\n",
       "      <td> 4</td>\n",
       "      <td>    1</td>\n",
       "    </tr>\n",
       "    <tr>\n",
       "      <th>27     </th>\n",
       "      <td> 4</td>\n",
       "      <td>    1</td>\n",
       "    </tr>\n",
       "    <tr>\n",
       "      <th>28     </th>\n",
       "      <td> 4</td>\n",
       "      <td>    1</td>\n",
       "    </tr>\n",
       "    <tr>\n",
       "      <th>29     </th>\n",
       "      <td> 3</td>\n",
       "      <td>    1</td>\n",
       "    </tr>\n",
       "    <tr>\n",
       "      <th>...</th>\n",
       "      <td>...</td>\n",
       "      <td>...</td>\n",
       "    </tr>\n",
       "    <tr>\n",
       "      <th>1000179</th>\n",
       "      <td> 4</td>\n",
       "      <td> 6040</td>\n",
       "    </tr>\n",
       "    <tr>\n",
       "      <th>1000180</th>\n",
       "      <td> 3</td>\n",
       "      <td> 6040</td>\n",
       "    </tr>\n",
       "    <tr>\n",
       "      <th>1000181</th>\n",
       "      <td> 4</td>\n",
       "      <td> 6040</td>\n",
       "    </tr>\n",
       "    <tr>\n",
       "      <th>1000182</th>\n",
       "      <td> 4</td>\n",
       "      <td> 6040</td>\n",
       "    </tr>\n",
       "    <tr>\n",
       "      <th>1000183</th>\n",
       "      <td> 4</td>\n",
       "      <td> 6040</td>\n",
       "    </tr>\n",
       "    <tr>\n",
       "      <th>1000184</th>\n",
       "      <td> 4</td>\n",
       "      <td> 6040</td>\n",
       "    </tr>\n",
       "    <tr>\n",
       "      <th>1000185</th>\n",
       "      <td> 1</td>\n",
       "      <td> 6040</td>\n",
       "    </tr>\n",
       "    <tr>\n",
       "      <th>1000186</th>\n",
       "      <td> 5</td>\n",
       "      <td> 6040</td>\n",
       "    </tr>\n",
       "    <tr>\n",
       "      <th>1000187</th>\n",
       "      <td> 1</td>\n",
       "      <td> 6040</td>\n",
       "    </tr>\n",
       "    <tr>\n",
       "      <th>1000188</th>\n",
       "      <td> 4</td>\n",
       "      <td> 6040</td>\n",
       "    </tr>\n",
       "    <tr>\n",
       "      <th>1000189</th>\n",
       "      <td> 5</td>\n",
       "      <td> 6040</td>\n",
       "    </tr>\n",
       "    <tr>\n",
       "      <th>1000190</th>\n",
       "      <td> 4</td>\n",
       "      <td> 6040</td>\n",
       "    </tr>\n",
       "    <tr>\n",
       "      <th>1000191</th>\n",
       "      <td> 4</td>\n",
       "      <td> 6040</td>\n",
       "    </tr>\n",
       "    <tr>\n",
       "      <th>1000192</th>\n",
       "      <td> 5</td>\n",
       "      <td> 6040</td>\n",
       "    </tr>\n",
       "    <tr>\n",
       "      <th>1000193</th>\n",
       "      <td> 4</td>\n",
       "      <td> 6040</td>\n",
       "    </tr>\n",
       "    <tr>\n",
       "      <th>1000194</th>\n",
       "      <td> 5</td>\n",
       "      <td> 6040</td>\n",
       "    </tr>\n",
       "    <tr>\n",
       "      <th>1000195</th>\n",
       "      <td> 2</td>\n",
       "      <td> 6040</td>\n",
       "    </tr>\n",
       "    <tr>\n",
       "      <th>1000196</th>\n",
       "      <td> 4</td>\n",
       "      <td> 6040</td>\n",
       "    </tr>\n",
       "    <tr>\n",
       "      <th>1000197</th>\n",
       "      <td> 3</td>\n",
       "      <td> 6040</td>\n",
       "    </tr>\n",
       "    <tr>\n",
       "      <th>1000198</th>\n",
       "      <td> 3</td>\n",
       "      <td> 6040</td>\n",
       "    </tr>\n",
       "    <tr>\n",
       "      <th>1000199</th>\n",
       "      <td> 5</td>\n",
       "      <td> 6040</td>\n",
       "    </tr>\n",
       "    <tr>\n",
       "      <th>1000200</th>\n",
       "      <td> 5</td>\n",
       "      <td> 6040</td>\n",
       "    </tr>\n",
       "    <tr>\n",
       "      <th>1000201</th>\n",
       "      <td> 4</td>\n",
       "      <td> 6040</td>\n",
       "    </tr>\n",
       "    <tr>\n",
       "      <th>1000202</th>\n",
       "      <td> 4</td>\n",
       "      <td> 6040</td>\n",
       "    </tr>\n",
       "    <tr>\n",
       "      <th>1000203</th>\n",
       "      <td> 3</td>\n",
       "      <td> 6040</td>\n",
       "    </tr>\n",
       "    <tr>\n",
       "      <th>1000204</th>\n",
       "      <td> 1</td>\n",
       "      <td> 6040</td>\n",
       "    </tr>\n",
       "    <tr>\n",
       "      <th>1000205</th>\n",
       "      <td> 5</td>\n",
       "      <td> 6040</td>\n",
       "    </tr>\n",
       "    <tr>\n",
       "      <th>1000206</th>\n",
       "      <td> 5</td>\n",
       "      <td> 6040</td>\n",
       "    </tr>\n",
       "    <tr>\n",
       "      <th>1000207</th>\n",
       "      <td> 4</td>\n",
       "      <td> 6040</td>\n",
       "    </tr>\n",
       "    <tr>\n",
       "      <th>1000208</th>\n",
       "      <td> 4</td>\n",
       "      <td> 6040</td>\n",
       "    </tr>\n",
       "  </tbody>\n",
       "</table>\n",
       "<p>1000209 rows × 2 columns</p>\n",
       "</div>"
      ],
      "text/plain": [
       "         Rating  UserID\n",
       "0             5       1\n",
       "1             3       1\n",
       "2             3       1\n",
       "3             4       1\n",
       "4             5       1\n",
       "5             3       1\n",
       "6             5       1\n",
       "7             5       1\n",
       "8             4       1\n",
       "9             4       1\n",
       "10            5       1\n",
       "11            4       1\n",
       "12            4       1\n",
       "13            4       1\n",
       "14            5       1\n",
       "15            4       1\n",
       "16            3       1\n",
       "17            4       1\n",
       "18            5       1\n",
       "19            4       1\n",
       "20            3       1\n",
       "21            3       1\n",
       "22            5       1\n",
       "23            5       1\n",
       "24            3       1\n",
       "25            5       1\n",
       "26            4       1\n",
       "27            4       1\n",
       "28            4       1\n",
       "29            3       1\n",
       "...         ...     ...\n",
       "1000179       4    6040\n",
       "1000180       3    6040\n",
       "1000181       4    6040\n",
       "1000182       4    6040\n",
       "1000183       4    6040\n",
       "1000184       4    6040\n",
       "1000185       1    6040\n",
       "1000186       5    6040\n",
       "1000187       1    6040\n",
       "1000188       4    6040\n",
       "1000189       5    6040\n",
       "1000190       4    6040\n",
       "1000191       4    6040\n",
       "1000192       5    6040\n",
       "1000193       4    6040\n",
       "1000194       5    6040\n",
       "1000195       2    6040\n",
       "1000196       4    6040\n",
       "1000197       3    6040\n",
       "1000198       3    6040\n",
       "1000199       5    6040\n",
       "1000200       5    6040\n",
       "1000201       4    6040\n",
       "1000202       4    6040\n",
       "1000203       3    6040\n",
       "1000204       1    6040\n",
       "1000205       5    6040\n",
       "1000206       5    6040\n",
       "1000207       4    6040\n",
       "1000208       4    6040\n",
       "\n",
       "[1000209 rows x 2 columns]"
      ]
     },
     "execution_count": 80,
     "metadata": {},
     "output_type": "execute_result"
    }
   ],
   "source": [
    "ratingData[[\"Rating\",\"UserID\"]]\n",
    "##OR\n",
    "multipleColumns = [\"Rating\",\"UserID\"]\n",
    "ratingData[multipleColumns]"
   ]
  },
  {
   "cell_type": "markdown",
   "metadata": {},
   "source": [
    "In the multi-column case, you must pass the columns you are interested in as a `List` of `string` values (or as a `variable` that points to that list)."
   ]
  },
  {
   "cell_type": "markdown",
   "metadata": {},
   "source": [
    "Now, on to fixing issue **3**.\n",
    "\n",
    "**pandas** has pretty fantastic date conversion functionality, as long as you know the format of the date data you are using. We know the format of our `Timestamp` column, so we are good to go.\n",
    "\n",
    "As a refresher, it was seconds since epoch time (12:00AM January 1, 1970).\n",
    "\n",
    "The pandas library has a function called `to_datetime` that, when given a column, and some optional parameters, converts the timestamp into nice, prettily formatted text.\n",
    "\n",
    "Lets create a new column called `FormattedTimestamp` by formatting our `Timestamp` column:"
   ]
  },
  {
   "cell_type": "code",
   "execution_count": 5,
   "metadata": {
    "collapsed": false
   },
   "outputs": [],
   "source": [
    "ratingData['FormattedTimestamp'] = pd.to_datetime(ratingData.Timestamp,unit = 's')"
   ]
  },
  {
   "cell_type": "markdown",
   "metadata": {},
   "source": [
    "Ok, there is a lot going on here, we are creating a new column `FormattedTimestamp` from a computation on another column, so lets work through it. \n",
    "\n",
    "To create a new column, you just use the same syntax as when you want to select a column, except you use a name that isn't found in the dataset's column list. \n",
    "\n",
    "Everything following the `=` sign in the expression is what you want to put into that new column.\n",
    "\n",
    "And what we did following the equals sign is:\n",
    "\n",
    "1. We passed the `Timestamp` column of our ratingData dataset as a mandatory parameter.\n",
    "2. We supplied an optional string parameter called `unit` with the unit of our data as a `string`.\n",
    "\n",
    "(Look at the documentation, and you can see there is lots more stuff you can do with `to_datetime`!).\n",
    "\n",
    "Now, we can simply remove the old `Timestamp` column, since we don't need it anymore!\n",
    "\n",
    "To do so, you simply pass the name of the dataframe and the column you are trying to delete to the `del` function:"
   ]
  },
  {
   "cell_type": "code",
   "execution_count": 6,
   "metadata": {
    "collapsed": false
   },
   "outputs": [
    {
     "name": "stdout",
     "output_type": "stream",
     "text": [
      "Columns before removal:  Index([u'UserID', u'MovieID', u'Rating', u'Timestamp', u'FormattedTimestamp'], dtype='object')\n",
      "Columns after removal:  Index([u'UserID', u'MovieID', u'Rating', u'FormattedTimestamp'], dtype='object')\n"
     ]
    }
   ],
   "source": [
    "print \"Columns before removal: \", ratingData.columns\n",
    "del ratingData['Timestamp']\n",
    "print \"Columns after removal: \", ratingData.columns"
   ]
  },
  {
   "cell_type": "markdown",
   "metadata": {},
   "source": [
    "The `del` operation simply deletes the columns you specify from the given `DataFrame`.\n",
    "\n",
    "One more thing about dates before we move on, once you've got them converted to the pretty format we saw above, you can access all kinds of information from each date by calling the `dt` module from within the column that stores your dates.\n",
    "\n",
    "So, as an example, getting the year of every row in our dataset is as simple as:"
   ]
  },
  {
   "cell_type": "code",
   "execution_count": 7,
   "metadata": {
    "collapsed": false
   },
   "outputs": [
    {
     "data": {
      "text/plain": [
       "0     2000\n",
       "1     2000\n",
       "2     2000\n",
       "3     2000\n",
       "4     2001\n",
       "5     2000\n",
       "6     2000\n",
       "7     2000\n",
       "8     2000\n",
       "9     2000\n",
       "10    2001\n",
       "11    2000\n",
       "12    2000\n",
       "13    2000\n",
       "14    2000\n",
       "...\n",
       "1000194    2000\n",
       "1000195    2000\n",
       "1000196    2000\n",
       "1000197    2000\n",
       "1000198    2000\n",
       "1000199    2000\n",
       "1000200    2000\n",
       "1000201    2000\n",
       "1000202    2000\n",
       "1000203    2000\n",
       "1000204    2000\n",
       "1000205    2000\n",
       "1000206    2000\n",
       "1000207    2000\n",
       "1000208    2000\n",
       "Length: 1000209, dtype: int64"
      ]
     },
     "execution_count": 7,
     "metadata": {},
     "output_type": "execute_result"
    }
   ],
   "source": [
    "ratingData.FormattedTimestamp.dt.year"
   ]
  },
  {
   "cell_type": "markdown",
   "metadata": {},
   "source": [
    "Other properties (like day, hour, day of month, etc.) are available as well.\n",
    "\n",
    "Again, just check the [timestamp documentation.](http://pandas.pydata.org/pandas-docs/stable/timeseries.html)."
   ]
  },
  {
   "cell_type": "markdown",
   "metadata": {},
   "source": [
    "One note about the outputs of calling these datetime **properties.** When you call the property on a single value (like a single row) or on an entire column you will get a `Series` object returned to you, which is the **pandas** representation of a single column.\n",
    "\n",
    "`Series` objects are different from `DataFrame` objects (which we've been working with exclusively thus far) because they can be appended (attached) as new columns to your dataset (which is already a `DataFrame` object) without any problems.\n",
    "\n",
    "So if you want to store the `year` of every row in a new column called `year` then do:"
   ]
  },
  {
   "cell_type": "code",
   "execution_count": 29,
   "metadata": {
    "collapsed": false
   },
   "outputs": [],
   "source": [
    "ratingData[\"year\"] = ratingData.FormattedTimestamp.dt.year"
   ]
  },
  {
   "cell_type": "markdown",
   "metadata": {},
   "source": [
    "Let's move on and get a better feel for our dataset now.\n",
    "\n",
    "What if we wanted to know the exact shape of our dataset? That is, the *exact* number of rows and columns found in it? (I told you there were ~1,000,000 ratings here, but exactly how many are there?\n",
    "\n",
    "We can use another **property** that is available in our `ratingData` object called `shape`:"
   ]
  },
  {
   "cell_type": "code",
   "execution_count": 7,
   "metadata": {
    "collapsed": false
   },
   "outputs": [
    {
     "data": {
      "text/plain": [
       "(1000209, 5)"
      ]
     },
     "execution_count": 7,
     "metadata": {},
     "output_type": "execute_result"
    }
   ],
   "source": [
    "ratingData.shape"
   ]
  },
  {
   "cell_type": "markdown",
   "metadata": {},
   "source": [
    "The `shape` property (which doesn't have any documentation, unfortunately), tells us the number of dimensions and the number of values in each dimension in our dataset (we can have 1, 2, or more dimensions in our dataset, after all), as a tuple (a very common datatype in **Python** that is of a fixed size and cannot be changed)."
   ]
  },
  {
   "cell_type": "markdown",
   "metadata": {},
   "source": [
    "As a brief aside, you saw that I just said **property** and not **function** right? \n",
    "\n",
    "That means, this value is available to us as part of the dataset intrinsically and cannot be changed based on inputs (in CS parlance, it is read-only), and doesn't have to be called like `unique(), head(), tail(), max(), mean()` and all the other functions that are re-computed on the dataset because they can effectively change! \n",
    "\n",
    "(Another example property that is available to you and that you've already used is `dtypes`)"
   ]
  },
  {
   "cell_type": "markdown",
   "metadata": {},
   "source": [
    "Ok, back to `shape`.\n",
    "\n",
    "The number of dimensions in our dataset is the arity of the tuple (the number of commas + 1) and the numbers between commas tell us the number of distinct values in that dimension. So the **arity is 2 because all we have are rows and columns.** \n",
    "\n",
    "So, we have **1,000,209 distinct values in the first dimension** (here they are our ratings, or **rows**) and **4 distinct values in the second dimension** (here the second dimension is our **columns**, and is as we expect, since we just added a new column and deleted an old one)."
   ]
  },
  {
   "cell_type": "markdown",
   "metadata": {},
   "source": [
    "Now that you have a bit of **pandas** functionality at your disposal, you should give me the answer to the following questions by writing a bit of code:\n",
    "\n",
    "1. How many users are there in the dataset?\n",
    "2. How many movies are in the dataset?\n",
    "3. How many unique times are in the dataset?\n",
    "\n",
    "**Hint: All you need is the `unique()` function and the `shape` property to answer these questions!**"
   ]
  },
  {
   "cell_type": "code",
   "execution_count": null,
   "metadata": {
    "collapsed": false
   },
   "outputs": [],
   "source": [
    "##WRITE YOUR CODE HERE, replace \"pass\" with your code in all 3 cases\n",
    "numUsers = pass\n",
    "numMovies = pass\n",
    "numTimes = pass\n",
    "\n",
    "print \"There are\",numUsers[0],\"unique users,\",numMovies[0],\\\n",
    "\" unique movies, and\",numTimes[0],\"unique times in this dataset.\""
   ]
  },
  {
   "cell_type": "markdown",
   "metadata": {},
   "source": [
    "Awesome! You've written your first bit of code using **pandas** and have actually answered some useful questions about this dataset! Pats on the back all around, and lets keep exploring!"
   ]
  },
  {
   "cell_type": "markdown",
   "metadata": {},
   "source": [
    "Now, let's look at the ratings in the dataset to get a feel for their central values and spread:"
   ]
  },
  {
   "cell_type": "code",
   "execution_count": null,
   "metadata": {
    "collapsed": false
   },
   "outputs": [],
   "source": [
    "print \"The average rating in the dataset is:\",ratingData.Rating.mean()\n",
    "print \"The middle rating in the dataset is:\",ratingData.Rating.median()\n",
    "print \"The standard deviation of the ratings is:\",ratingData.Rating.std()"
   ]
  },
  {
   "cell_type": "markdown",
   "metadata": {},
   "source": [
    "So it looks like the people in our dataset don't like to rate movies too low, as the movies have  an average rating >3 (which is supposed to be average on a 1-5 scale).\n",
    "\n",
    "The functions `mean`,`median`, and `std` compute exactly what you expect (the mean, median, and standard deviation {or spread} of a given set of values) and can even be applied to the entire dataset (although in our case, that doesnt make too much sense as all the other columns, except `Timestamp` are numeric mappings of categorical data)."
   ]
  },
  {
   "cell_type": "code",
   "execution_count": null,
   "metadata": {
    "collapsed": false
   },
   "outputs": [],
   "source": [
    "ratingData.mean()"
   ]
  },
  {
   "cell_type": "code",
   "execution_count": null,
   "metadata": {
    "collapsed": false
   },
   "outputs": [],
   "source": [
    "ratingData.median()"
   ]
  },
  {
   "cell_type": "code",
   "execution_count": null,
   "metadata": {
    "collapsed": false
   },
   "outputs": [],
   "source": [
    "ratingData.std()"
   ]
  },
  {
   "cell_type": "markdown",
   "metadata": {},
   "source": [
    "Other descriptive stats can be computed as well (min/max, sum, variance, skew, kurtosis, etc.). Just take a look at the [descriptive statistics](http://pandas.pydata.org/pandas-docs/stable/basics.html#descriptive-statistics) documentation!  "
   ]
  },
  {
   "cell_type": "markdown",
   "metadata": {},
   "source": [
    "Now time for a little trick! \n",
    "\n",
    "If you want all these basic statistics and a few more, just use the `describe` function, which works just like the others mentioned above (you can call it on just a single column, or the whole dataset)."
   ]
  },
  {
   "cell_type": "code",
   "execution_count": 9,
   "metadata": {
    "collapsed": false
   },
   "outputs": [
    {
     "data": {
      "text/plain": [
       "count    1000209.000000\n",
       "mean           3.581564\n",
       "std            1.117102\n",
       "min            1.000000\n",
       "25%            3.000000\n",
       "50%            4.000000\n",
       "75%            4.000000\n",
       "max            5.000000\n",
       "Name: Rating, dtype: float64"
      ]
     },
     "execution_count": 9,
     "metadata": {},
     "output_type": "execute_result"
    }
   ],
   "source": [
    "ratingData.Rating.describe()"
   ]
  },
  {
   "cell_type": "markdown",
   "metadata": {},
   "source": [
    "Now lets learn how to subselect values within dataframes.\n",
    "\n",
    "Subselection in **pandas** works along the following very common pattern:\n",
    "\n",
    "1. You create a condition that can be evaluated to either **true** or **false** for every row in the dataset and store the outcome in a variable (this is traditionally called a **mask**).\n",
    "2. You apply that **mask** onto your `DataFrame` (dataset).\n",
    "\n",
    "Let's try this subselection + application with the ratings in our dataset by only getting all of the really low ratings (lets say low ratings are those that are < 3) in our dataset.\n",
    "\n",
    "We will create a mask that expresses our \"crappy ratings\" condition, and then apply that mask to our dataset."
   ]
  },
  {
   "cell_type": "code",
   "execution_count": 88,
   "metadata": {
    "collapsed": true
   },
   "outputs": [],
   "source": [
    "crappyRatingMask = ratingData.Rating < 3\n",
    "crappyRatings = ratingData[crappyRatingMask]"
   ]
  },
  {
   "cell_type": "code",
   "execution_count": 91,
   "metadata": {
    "collapsed": false
   },
   "outputs": [
    {
     "name": "stdout",
     "output_type": "stream",
     "text": [
      "[2 1]\n"
     ]
    },
    {
     "data": {
      "text/html": [
       "<div style=\"max-height:1000px;max-width:1500px;overflow:auto;\">\n",
       "<table border=\"1\" class=\"dataframe\">\n",
       "  <thead>\n",
       "    <tr style=\"text-align: right;\">\n",
       "      <th></th>\n",
       "      <th>UserID</th>\n",
       "      <th>MovieID</th>\n",
       "      <th>Rating</th>\n",
       "      <th>FormattedTimestamp</th>\n",
       "    </tr>\n",
       "  </thead>\n",
       "  <tbody>\n",
       "    <tr>\n",
       "      <th>67  </th>\n",
       "      <td>  2</td>\n",
       "      <td> 1213</td>\n",
       "      <td> 2</td>\n",
       "      <td>2000-12-31 21:34:18</td>\n",
       "    </tr>\n",
       "    <tr>\n",
       "      <th>73  </th>\n",
       "      <td>  2</td>\n",
       "      <td>  434</td>\n",
       "      <td> 2</td>\n",
       "      <td>2000-12-31 22:02:54</td>\n",
       "    </tr>\n",
       "    <tr>\n",
       "      <th>75  </th>\n",
       "      <td>  2</td>\n",
       "      <td> 3107</td>\n",
       "      <td> 2</td>\n",
       "      <td>2000-12-31 22:00:02</td>\n",
       "    </tr>\n",
       "    <tr>\n",
       "      <th>83  </th>\n",
       "      <td>  2</td>\n",
       "      <td>  902</td>\n",
       "      <td> 2</td>\n",
       "      <td>2000-12-31 21:41:45</td>\n",
       "    </tr>\n",
       "    <tr>\n",
       "      <th>91  </th>\n",
       "      <td>  2</td>\n",
       "      <td> 3256</td>\n",
       "      <td> 2</td>\n",
       "      <td>2000-12-31 21:57:19</td>\n",
       "    </tr>\n",
       "    <tr>\n",
       "      <th>114 </th>\n",
       "      <td>  2</td>\n",
       "      <td> 3699</td>\n",
       "      <td> 2</td>\n",
       "      <td>2000-12-31 21:46:13</td>\n",
       "    </tr>\n",
       "    <tr>\n",
       "      <th>125 </th>\n",
       "      <td>  2</td>\n",
       "      <td> 2427</td>\n",
       "      <td> 2</td>\n",
       "      <td>2000-12-31 21:58:33</td>\n",
       "    </tr>\n",
       "    <tr>\n",
       "      <th>133 </th>\n",
       "      <td>  2</td>\n",
       "      <td>   95</td>\n",
       "      <td> 2</td>\n",
       "      <td>2000-12-31 22:02:23</td>\n",
       "    </tr>\n",
       "    <tr>\n",
       "      <th>148 </th>\n",
       "      <td>  2</td>\n",
       "      <td>   21</td>\n",
       "      <td> 1</td>\n",
       "      <td>2000-12-31 21:57:19</td>\n",
       "    </tr>\n",
       "    <tr>\n",
       "      <th>151 </th>\n",
       "      <td>  2</td>\n",
       "      <td> 1090</td>\n",
       "      <td> 2</td>\n",
       "      <td>2000-12-31 21:36:20</td>\n",
       "    </tr>\n",
       "    <tr>\n",
       "      <th>174 </th>\n",
       "      <td>  2</td>\n",
       "      <td> 1968</td>\n",
       "      <td> 2</td>\n",
       "      <td>2000-12-31 21:41:21</td>\n",
       "    </tr>\n",
       "    <tr>\n",
       "      <th>178 </th>\n",
       "      <td>  2</td>\n",
       "      <td> 1245</td>\n",
       "      <td> 2</td>\n",
       "      <td>2000-12-31 21:46:40</td>\n",
       "    </tr>\n",
       "    <tr>\n",
       "      <th>180 </th>\n",
       "      <td>  2</td>\n",
       "      <td> 3893</td>\n",
       "      <td> 1</td>\n",
       "      <td>2000-12-31 21:52:15</td>\n",
       "    </tr>\n",
       "    <tr>\n",
       "      <th>183 </th>\n",
       "      <td>  3</td>\n",
       "      <td> 1641</td>\n",
       "      <td> 2</td>\n",
       "      <td>2000-12-31 21:33:50</td>\n",
       "    </tr>\n",
       "    <tr>\n",
       "      <th>200 </th>\n",
       "      <td>  3</td>\n",
       "      <td> 3619</td>\n",
       "      <td> 2</td>\n",
       "      <td>2000-12-31 21:30:01</td>\n",
       "    </tr>\n",
       "    <tr>\n",
       "      <th>205 </th>\n",
       "      <td>  3</td>\n",
       "      <td> 1261</td>\n",
       "      <td> 1</td>\n",
       "      <td>2000-12-31 21:21:03</td>\n",
       "    </tr>\n",
       "    <tr>\n",
       "      <th>208 </th>\n",
       "      <td>  3</td>\n",
       "      <td> 1265</td>\n",
       "      <td> 2</td>\n",
       "      <td>2000-12-31 21:31:56</td>\n",
       "    </tr>\n",
       "    <tr>\n",
       "      <th>224 </th>\n",
       "      <td>  3</td>\n",
       "      <td> 2617</td>\n",
       "      <td> 2</td>\n",
       "      <td>2000-12-31 21:23:57</td>\n",
       "    </tr>\n",
       "    <tr>\n",
       "      <th>241 </th>\n",
       "      <td>  4</td>\n",
       "      <td> 1196</td>\n",
       "      <td> 2</td>\n",
       "      <td>2000-12-31 20:23:19</td>\n",
       "    </tr>\n",
       "    <tr>\n",
       "      <th>249 </th>\n",
       "      <td>  4</td>\n",
       "      <td> 3527</td>\n",
       "      <td> 1</td>\n",
       "      <td>2000-12-31 20:20:08</td>\n",
       "    </tr>\n",
       "    <tr>\n",
       "      <th>258 </th>\n",
       "      <td>  5</td>\n",
       "      <td>  288</td>\n",
       "      <td> 2</td>\n",
       "      <td>2000-12-31 07:09:45</td>\n",
       "    </tr>\n",
       "    <tr>\n",
       "      <th>262 </th>\n",
       "      <td>  5</td>\n",
       "      <td> 2268</td>\n",
       "      <td> 2</td>\n",
       "      <td>2000-12-31 07:00:33</td>\n",
       "    </tr>\n",
       "    <tr>\n",
       "      <th>264 </th>\n",
       "      <td>  5</td>\n",
       "      <td>  860</td>\n",
       "      <td> 2</td>\n",
       "      <td>2000-12-31 06:34:53</td>\n",
       "    </tr>\n",
       "    <tr>\n",
       "      <th>268 </th>\n",
       "      <td>  5</td>\n",
       "      <td> 2916</td>\n",
       "      <td> 1</td>\n",
       "      <td>2000-12-31 06:54:05</td>\n",
       "    </tr>\n",
       "    <tr>\n",
       "      <th>272 </th>\n",
       "      <td>  5</td>\n",
       "      <td>  501</td>\n",
       "      <td> 1</td>\n",
       "      <td>2000-12-31 06:26:41</td>\n",
       "    </tr>\n",
       "    <tr>\n",
       "      <th>273 </th>\n",
       "      <td>  5</td>\n",
       "      <td> 3578</td>\n",
       "      <td> 2</td>\n",
       "      <td>2000-12-31 06:23:23</td>\n",
       "    </tr>\n",
       "    <tr>\n",
       "      <th>276 </th>\n",
       "      <td>  5</td>\n",
       "      <td> 3793</td>\n",
       "      <td> 2</td>\n",
       "      <td>2000-12-31 06:12:50</td>\n",
       "    </tr>\n",
       "    <tr>\n",
       "      <th>280 </th>\n",
       "      <td>  5</td>\n",
       "      <td> 2058</td>\n",
       "      <td> 1</td>\n",
       "      <td>2000-12-31 06:55:40</td>\n",
       "    </tr>\n",
       "    <tr>\n",
       "      <th>290 </th>\n",
       "      <td>  5</td>\n",
       "      <td> 3079</td>\n",
       "      <td> 2</td>\n",
       "      <td>2000-12-31 07:02:42</td>\n",
       "    </tr>\n",
       "    <tr>\n",
       "      <th>293 </th>\n",
       "      <td>  5</td>\n",
       "      <td>  150</td>\n",
       "      <td> 2</td>\n",
       "      <td>2000-12-31 06:56:03</td>\n",
       "    </tr>\n",
       "    <tr>\n",
       "      <th>...</th>\n",
       "      <td>...</td>\n",
       "      <td>...</td>\n",
       "      <td>...</td>\n",
       "      <td>...</td>\n",
       "    </tr>\n",
       "    <tr>\n",
       "      <th>435 </th>\n",
       "      <td>  5</td>\n",
       "      <td> 1747</td>\n",
       "      <td> 2</td>\n",
       "      <td>2000-12-31 06:54:23</td>\n",
       "    </tr>\n",
       "    <tr>\n",
       "      <th>439 </th>\n",
       "      <td>  5</td>\n",
       "      <td> 1966</td>\n",
       "      <td> 2</td>\n",
       "      <td>2000-12-31 06:58:51</td>\n",
       "    </tr>\n",
       "    <tr>\n",
       "      <th>441 </th>\n",
       "      <td>  5</td>\n",
       "      <td>  353</td>\n",
       "      <td> 2</td>\n",
       "      <td>2000-12-31 07:08:24</td>\n",
       "    </tr>\n",
       "    <tr>\n",
       "      <th>448 </th>\n",
       "      <td>  5</td>\n",
       "      <td>  356</td>\n",
       "      <td> 1</td>\n",
       "      <td>2000-12-31 05:38:32</td>\n",
       "    </tr>\n",
       "    <tr>\n",
       "      <th>449 </th>\n",
       "      <td>  5</td>\n",
       "      <td>  357</td>\n",
       "      <td> 2</td>\n",
       "      <td>2000-12-31 06:57:09</td>\n",
       "    </tr>\n",
       "    <tr>\n",
       "      <th>463 </th>\n",
       "      <td>  6</td>\n",
       "      <td>  296</td>\n",
       "      <td> 2</td>\n",
       "      <td>2000-12-31 04:36:19</td>\n",
       "    </tr>\n",
       "    <tr>\n",
       "      <th>471 </th>\n",
       "      <td>  6</td>\n",
       "      <td> 2858</td>\n",
       "      <td> 1</td>\n",
       "      <td>2000-12-31 04:26:49</td>\n",
       "    </tr>\n",
       "    <tr>\n",
       "      <th>575 </th>\n",
       "      <td>  8</td>\n",
       "      <td> 2490</td>\n",
       "      <td> 2</td>\n",
       "      <td>2000-12-31 02:21:33</td>\n",
       "    </tr>\n",
       "    <tr>\n",
       "      <th>594 </th>\n",
       "      <td>  8</td>\n",
       "      <td> 2429</td>\n",
       "      <td> 2</td>\n",
       "      <td>2000-12-31 03:04:50</td>\n",
       "    </tr>\n",
       "    <tr>\n",
       "      <th>623 </th>\n",
       "      <td>  8</td>\n",
       "      <td>  393</td>\n",
       "      <td> 2</td>\n",
       "      <td>2000-12-31 02:18:58</td>\n",
       "    </tr>\n",
       "    <tr>\n",
       "      <th>628 </th>\n",
       "      <td>  8</td>\n",
       "      <td> 3173</td>\n",
       "      <td> 2</td>\n",
       "      <td>2000-12-31 03:06:52</td>\n",
       "    </tr>\n",
       "    <tr>\n",
       "      <th>659 </th>\n",
       "      <td>  8</td>\n",
       "      <td> 2600</td>\n",
       "      <td> 2</td>\n",
       "      <td>2000-12-31 02:23:11</td>\n",
       "    </tr>\n",
       "    <tr>\n",
       "      <th>675 </th>\n",
       "      <td>  8</td>\n",
       "      <td> 2320</td>\n",
       "      <td> 2</td>\n",
       "      <td>2000-12-31 03:03:22</td>\n",
       "    </tr>\n",
       "    <tr>\n",
       "      <th>682 </th>\n",
       "      <td>  8</td>\n",
       "      <td> 1810</td>\n",
       "      <td> 2</td>\n",
       "      <td>2000-12-31 02:50:31</td>\n",
       "    </tr>\n",
       "    <tr>\n",
       "      <th>696 </th>\n",
       "      <td>  9</td>\n",
       "      <td>  861</td>\n",
       "      <td> 2</td>\n",
       "      <td>2000-12-31 01:37:45</td>\n",
       "    </tr>\n",
       "    <tr>\n",
       "      <th>720 </th>\n",
       "      <td>  9</td>\n",
       "      <td> 1552</td>\n",
       "      <td> 2</td>\n",
       "      <td>2000-12-31 01:18:09</td>\n",
       "    </tr>\n",
       "    <tr>\n",
       "      <th>732 </th>\n",
       "      <td>  9</td>\n",
       "      <td> 3301</td>\n",
       "      <td> 2</td>\n",
       "      <td>2000-12-31 01:21:58</td>\n",
       "    </tr>\n",
       "    <tr>\n",
       "      <th>740 </th>\n",
       "      <td>  9</td>\n",
       "      <td> 3452</td>\n",
       "      <td> 2</td>\n",
       "      <td>2000-12-31 01:22:26</td>\n",
       "    </tr>\n",
       "    <tr>\n",
       "      <th>754 </th>\n",
       "      <td>  9</td>\n",
       "      <td> 3826</td>\n",
       "      <td> 2</td>\n",
       "      <td>2000-12-31 01:22:38</td>\n",
       "    </tr>\n",
       "    <tr>\n",
       "      <th>756 </th>\n",
       "      <td>  9</td>\n",
       "      <td> 3755</td>\n",
       "      <td> 2</td>\n",
       "      <td>2000-12-31 01:20:13</td>\n",
       "    </tr>\n",
       "    <tr>\n",
       "      <th>757 </th>\n",
       "      <td>  9</td>\n",
       "      <td> 2599</td>\n",
       "      <td> 2</td>\n",
       "      <td>2000-12-31 01:25:52</td>\n",
       "    </tr>\n",
       "    <tr>\n",
       "      <th>783 </th>\n",
       "      <td>  9</td>\n",
       "      <td> 3484</td>\n",
       "      <td> 2</td>\n",
       "      <td>2000-12-31 01:22:58</td>\n",
       "    </tr>\n",
       "    <tr>\n",
       "      <th>830 </th>\n",
       "      <td> 10</td>\n",
       "      <td> 3439</td>\n",
       "      <td> 2</td>\n",
       "      <td>2000-12-31 02:31:34</td>\n",
       "    </tr>\n",
       "    <tr>\n",
       "      <th>834 </th>\n",
       "      <td> 10</td>\n",
       "      <td>  223</td>\n",
       "      <td> 2</td>\n",
       "      <td>2000-12-31 01:25:00</td>\n",
       "    </tr>\n",
       "    <tr>\n",
       "      <th>885 </th>\n",
       "      <td> 10</td>\n",
       "      <td> 3525</td>\n",
       "      <td> 2</td>\n",
       "      <td>2000-12-31 01:35:00</td>\n",
       "    </tr>\n",
       "    <tr>\n",
       "      <th>915 </th>\n",
       "      <td> 10</td>\n",
       "      <td>  180</td>\n",
       "      <td> 2</td>\n",
       "      <td>2000-12-31 01:39:26</td>\n",
       "    </tr>\n",
       "    <tr>\n",
       "      <th>975 </th>\n",
       "      <td> 10</td>\n",
       "      <td> 1884</td>\n",
       "      <td> 2</td>\n",
       "      <td>2000-12-31 02:29:32</td>\n",
       "    </tr>\n",
       "    <tr>\n",
       "      <th>992 </th>\n",
       "      <td> 10</td>\n",
       "      <td> 3703</td>\n",
       "      <td> 2</td>\n",
       "      <td>2000-12-31 01:40:05</td>\n",
       "    </tr>\n",
       "    <tr>\n",
       "      <th>995 </th>\n",
       "      <td> 10</td>\n",
       "      <td> 3704</td>\n",
       "      <td> 2</td>\n",
       "      <td>2000-12-31 02:06:04</td>\n",
       "    </tr>\n",
       "    <tr>\n",
       "      <th>1015</th>\n",
       "      <td> 10</td>\n",
       "      <td> 3066</td>\n",
       "      <td> 2</td>\n",
       "      <td>2000-12-31 01:41:06</td>\n",
       "    </tr>\n",
       "  </tbody>\n",
       "</table>\n",
       "<p>100 rows × 4 columns</p>\n",
       "</div>"
      ],
      "text/plain": [
       "      UserID  MovieID  Rating  FormattedTimestamp\n",
       "67         2     1213       2 2000-12-31 21:34:18\n",
       "73         2      434       2 2000-12-31 22:02:54\n",
       "75         2     3107       2 2000-12-31 22:00:02\n",
       "83         2      902       2 2000-12-31 21:41:45\n",
       "91         2     3256       2 2000-12-31 21:57:19\n",
       "114        2     3699       2 2000-12-31 21:46:13\n",
       "125        2     2427       2 2000-12-31 21:58:33\n",
       "133        2       95       2 2000-12-31 22:02:23\n",
       "148        2       21       1 2000-12-31 21:57:19\n",
       "151        2     1090       2 2000-12-31 21:36:20\n",
       "174        2     1968       2 2000-12-31 21:41:21\n",
       "178        2     1245       2 2000-12-31 21:46:40\n",
       "180        2     3893       1 2000-12-31 21:52:15\n",
       "183        3     1641       2 2000-12-31 21:33:50\n",
       "200        3     3619       2 2000-12-31 21:30:01\n",
       "205        3     1261       1 2000-12-31 21:21:03\n",
       "208        3     1265       2 2000-12-31 21:31:56\n",
       "224        3     2617       2 2000-12-31 21:23:57\n",
       "241        4     1196       2 2000-12-31 20:23:19\n",
       "249        4     3527       1 2000-12-31 20:20:08\n",
       "258        5      288       2 2000-12-31 07:09:45\n",
       "262        5     2268       2 2000-12-31 07:00:33\n",
       "264        5      860       2 2000-12-31 06:34:53\n",
       "268        5     2916       1 2000-12-31 06:54:05\n",
       "272        5      501       1 2000-12-31 06:26:41\n",
       "273        5     3578       2 2000-12-31 06:23:23\n",
       "276        5     3793       2 2000-12-31 06:12:50\n",
       "280        5     2058       1 2000-12-31 06:55:40\n",
       "290        5     3079       2 2000-12-31 07:02:42\n",
       "293        5      150       2 2000-12-31 06:56:03\n",
       "...      ...      ...     ...                 ...\n",
       "435        5     1747       2 2000-12-31 06:54:23\n",
       "439        5     1966       2 2000-12-31 06:58:51\n",
       "441        5      353       2 2000-12-31 07:08:24\n",
       "448        5      356       1 2000-12-31 05:38:32\n",
       "449        5      357       2 2000-12-31 06:57:09\n",
       "463        6      296       2 2000-12-31 04:36:19\n",
       "471        6     2858       1 2000-12-31 04:26:49\n",
       "575        8     2490       2 2000-12-31 02:21:33\n",
       "594        8     2429       2 2000-12-31 03:04:50\n",
       "623        8      393       2 2000-12-31 02:18:58\n",
       "628        8     3173       2 2000-12-31 03:06:52\n",
       "659        8     2600       2 2000-12-31 02:23:11\n",
       "675        8     2320       2 2000-12-31 03:03:22\n",
       "682        8     1810       2 2000-12-31 02:50:31\n",
       "696        9      861       2 2000-12-31 01:37:45\n",
       "720        9     1552       2 2000-12-31 01:18:09\n",
       "732        9     3301       2 2000-12-31 01:21:58\n",
       "740        9     3452       2 2000-12-31 01:22:26\n",
       "754        9     3826       2 2000-12-31 01:22:38\n",
       "756        9     3755       2 2000-12-31 01:20:13\n",
       "757        9     2599       2 2000-12-31 01:25:52\n",
       "783        9     3484       2 2000-12-31 01:22:58\n",
       "830       10     3439       2 2000-12-31 02:31:34\n",
       "834       10      223       2 2000-12-31 01:25:00\n",
       "885       10     3525       2 2000-12-31 01:35:00\n",
       "915       10      180       2 2000-12-31 01:39:26\n",
       "975       10     1884       2 2000-12-31 02:29:32\n",
       "992       10     3703       2 2000-12-31 01:40:05\n",
       "995       10     3704       2 2000-12-31 02:06:04\n",
       "1015      10     3066       2 2000-12-31 01:41:06\n",
       "\n",
       "[100 rows x 4 columns]"
      ]
     },
     "execution_count": 91,
     "metadata": {},
     "output_type": "execute_result"
    }
   ],
   "source": [
    "print crappyRatings.Rating.unique() # This is a sanity check to make sure that our filtered data contains only low ratings\n",
    "crappyRatings.head(20)"
   ]
  },
  {
   "cell_type": "markdown",
   "metadata": {},
   "source": [
    "Awesome, this worked as expected!\n",
    "How many of these crappy ratings are there? (Fill in what is in **pass** so that numCrappyRatings returns a number)"
   ]
  },
  {
   "cell_type": "code",
   "execution_count": null,
   "metadata": {
    "collapsed": false
   },
   "outputs": [],
   "source": [
    "numCrappyRatings = pass\n",
    "print \"There were\",numCrappyRatings,\"ratings below 3.\""
   ]
  },
  {
   "cell_type": "markdown",
   "metadata": {},
   "source": [
    "Now it is time for you to show how much you've learned. Give me the answers to the following questions:\n",
    "\n",
    "1. What was the average rating in January?\n",
    "* What was the average crappy rating in January?\n",
    "\n",
    "**Hint:** Although there are lots of ways you can tackle these questions (many of which you will learn soon). I suggest you use the following procedure:\n",
    "\n",
    "1. Create a new column in `ratingData` and call it \"month\", so that it tells you the month of every row\n",
    "* Create a new dataset of:\n",
    "  1. all January records and store it in `januaryRatings`\n",
    "  * create a mask of crappy ratings using that dataset called `crappyJanuaryRatingsMask`\n",
    "  * apply that januaryCrappyRatingsMask to your dataset and store it in a new dataset called `crappyJanuaryRatings`\n",
    "  * crappy January records by creating a mask from the new column\n",
    "  * compute the mean of the `Rating` column for both `januaryRatings` and `crappyJanuaryRatings`"
   ]
  },
  {
   "cell_type": "code",
   "execution_count": 14,
   "metadata": {
    "collapsed": false
   },
   "outputs": [
    {
     "data": {
      "text/plain": [
       "0     12\n",
       "1     12\n",
       "2     12\n",
       "3     12\n",
       "4      1\n",
       "5     12\n",
       "6     12\n",
       "7     12\n",
       "8     12\n",
       "9     12\n",
       "10     1\n",
       "11    12\n",
       "12    12\n",
       "13    12\n",
       "14    12\n",
       "...\n",
       "1000194    7\n",
       "1000195    4\n",
       "1000196    4\n",
       "1000197    4\n",
       "1000198    4\n",
       "1000199    4\n",
       "1000200    4\n",
       "1000201    5\n",
       "1000202    4\n",
       "1000203    4\n",
       "1000204    4\n",
       "1000205    4\n",
       "1000206    4\n",
       "1000207    4\n",
       "1000208    4\n",
       "Name: month, Length: 1000209, dtype: int64"
      ]
     },
     "execution_count": 14,
     "metadata": {},
     "output_type": "execute_result"
    }
   ],
   "source": [
    "ratingData[\"month\"] = pass\n",
    "januaryRatings = pass\n",
    "crappyJanuaryRatingsMask = pass\n",
    "crappyJanuaryRatings = januaryRatings[crappyJanuaryRatingsMask]\n"
   ]
  },
  {
   "cell_type": "markdown",
   "metadata": {},
   "source": [
    "Ok, now that you know how to do some basic subselection and calculations on data, we are going to do something a bit more complicated, and start subdividing our data into groups to be able to answer some more general questions about our dataset.\n",
    "\n",
    "Lets say you wanted to know or do the following:\n",
    "\n",
    "1. **In what month did users rate the most movies?**\n",
    "2. **What month had the highest average rating?**\n",
    "3. **Remove users with too few ratings (lets say < 30) and reanswer these same questions**\n",
    "\n",
    "Our approach here will be:\n",
    "\n",
    "* Use the `groupby` functionality of **pandas** to create subgroups of our ratings based on either the month the ratings were given or on the userid\n",
    "* Apply an aggregating function to these groups to return either:\n",
    "  * The `size` of each group (since the `size` of each group is simply the number of ratings in that month)\n",
    "  * The `mean` of the rating column within each group\n",
    "  * A `True`/`False` depending on whether the group (when grouping on userid) is large enough (has enough ratings), applying that as a filter on the groups, and passing that back to filter the original `DataFrame` we have."
   ]
  },
  {
   "cell_type": "markdown",
   "metadata": {},
   "source": [
    "The `groupby` function in **pandas** is analagous to the grouping operations you may be familiar with if you've ever used any **SQL** variants. \n",
    "\n",
    "A generic **SQL** translation of **1.**, for example, would look something like:\n",
    "\n",
    "```\n",
    "SELECT month,numRatings FROM (SELECT month,size(month) AS numRatings\n",
    "FROM ratingData\n",
    "GROUP BY month) WHERE numRatings = MAX(numRatings)\n",
    "```"
   ]
  },
  {
   "cell_type": "markdown",
   "metadata": {},
   "source": [
    "Grouping can get very complicated, but as a first pass you can think of it as a way to split your dataset into non-overlapping subsets along any axis (along rows or columns, in our case). \n",
    "\n",
    "The values along which you **group** your dataset are traditionally called **keys**, so **each key should be unique to each group, and each group can have at most one key associated with it** (although the key for identifying each group can be really complicated).\n",
    "\n",
    "Once you've grouped your dataset, the `GroupBy` object isn't too useful by itself. It becomes useful when you apply a **transformation** to it and get a new dataset back. \n",
    "\n",
    "We typically call this **transformation** an **aggregation**, as we are getting some aggregate value back for each group.\n",
    "\n",
    "The **aggregation** functions we will be using for questions **1.,2.** are `size` and `mean`."
   ]
  },
  {
   "cell_type": "markdown",
   "metadata": {},
   "source": [
    "So, enough explaining, lets get to some hacking.\n",
    "\n",
    "Lets address grouping in the context of answering our first question:\n",
    "\n",
    "1. **In what month did users rate the most movies?**\n",
    "\n",
    "In **pandas**, to create groups, you must create a `GroupBy` object (more on what that is later) from your `DataFrame` object (your dataset) by passing the values along which you want to group to the `groupby` function.\n",
    "\n",
    "We want to **groupby** the **month** column and store it:"
   ]
  },
  {
   "cell_type": "code",
   "execution_count": 15,
   "metadata": {
    "collapsed": false
   },
   "outputs": [],
   "source": [
    "monthGroups = ratingData.groupby(\"month\")"
   ]
  },
  {
   "cell_type": "markdown",
   "metadata": {},
   "source": [
    "And then we want to get the number of records (rows) in each group in our `monthGroups` object using the `size` function (which is accessible from this object):"
   ]
  },
  {
   "cell_type": "code",
   "execution_count": 16,
   "metadata": {
    "collapsed": false
   },
   "outputs": [
    {
     "data": {
      "text/plain": [
       "month\n",
       "1         23072\n",
       "2         12128\n",
       "3          8537\n",
       "4         19407\n",
       "5         74278\n",
       "6         61110\n",
       "7         97004\n",
       "8        188674\n",
       "9         56791\n",
       "10        45500\n",
       "11       295461\n",
       "12       118247\n",
       "dtype: int64"
      ]
     },
     "execution_count": 16,
     "metadata": {},
     "output_type": "execute_result"
    }
   ],
   "source": [
    "ratingsPerMonth = monthGroups.size()\n",
    "ratingsPerMonth #this will simply print the result inside of this notebook so we can see it\n",
    "#to print to the screen outside of the notebook, you would have to say \"print ratingsPerMonth\""
   ]
  },
  {
   "cell_type": "markdown",
   "metadata": {},
   "source": [
    "And just to make it nice and clean, we will simply output the month with the largest number of ratings using the `max` function:"
   ]
  },
  {
   "cell_type": "code",
   "execution_count": 17,
   "metadata": {
    "collapsed": false
   },
   "outputs": [
    {
     "data": {
      "text/plain": [
       "month\n",
       "11       295461\n",
       "dtype: int64"
      ]
     },
     "execution_count": 17,
     "metadata": {},
     "output_type": "execute_result"
    }
   ],
   "source": [
    "highestRating = ratingsPerMonth[ratingsPerMonth==ratingsPerMonth.max()]\n",
    "highestRating #same as above, print to notebook without having to say \"print highestRating\""
   ]
  },
  {
   "cell_type": "markdown",
   "metadata": {},
   "source": [
    "Got it? Good!\n",
    "\n",
    "One more thing before you try it yourself. Once you've created a `groupby` object, you don't have to select everything in the object to perform an aggregation, and can subselect a given column within each group (**Hint, Hint!**)\n",
    "\n",
    "Now you try answering question **2.**:\n",
    "\n",
    "2. **What was the average rating given to movies in each month of the year?**\n",
    "\n",
    "Fill in some code for `avgMonthlyRatings` and `highestAvgRating`, removing the `pass` in both cases:"
   ]
  },
  {
   "cell_type": "code",
   "execution_count": 152,
   "metadata": {
    "collapsed": false
   },
   "outputs": [
    {
     "data": {
      "text/plain": [
       "month\n",
       "1        3.542996\n",
       "2        3.523664\n",
       "3        3.456952\n",
       "4        3.522028\n",
       "5        3.601847\n",
       "6        3.616528\n",
       "7        3.617985\n",
       "8        3.566315\n",
       "9        3.602279\n",
       "10       3.609143\n",
       "11       3.571737\n",
       "12       3.581435\n",
       "Name: Rating, dtype: float64"
      ]
     },
     "execution_count": 152,
     "metadata": {},
     "output_type": "execute_result"
    }
   ],
   "source": [
    "avgMonthlyRatings = pass\n",
    "print avgMonthlyRatings\n",
    "highestAvgRating = pass\n",
    "highestAvgRating"
   ]
  },
  {
   "cell_type": "markdown",
   "metadata": {},
   "source": [
    "These aggregations are already implemented in the `GroupBy` object and can be called directly from the object, but this is not generally the way this is handled.\n",
    "\n",
    "Under the hood, **pandas** is passing the function we apply (`mean` or `size` in our case) to another function called `aggregate` and that function is actually doing the heavy lifting. \n",
    "\n",
    "So, what is actually happening when we wrote our code to answer question **1.** above like this:\n",
    "\n",
    "`ratingsPerMonth = monthGroups.size()`\n",
    "\n",
    "Was actually being implemented more like this:\n",
    "\n",
    "``ratingsPerMonth = monthGroups.aggregate(size())``\n",
    "\n",
    "So, this means that whenever we want to do more complicated transformations or reductions of our data, we should supply our function(s) of interest to `aggregate` or the shorhand `agg` function."
   ]
  },
  {
   "cell_type": "markdown",
   "metadata": {},
   "source": [
    "A couple more explanations before we tackle filtering for answering question **3.**\n",
    "\n",
    "You can pass multiple functions to `aggregate` as a `List`, if you want multiple transformations applied to the data, like so:"
   ]
  },
  {
   "cell_type": "code",
   "execution_count": 18,
   "metadata": {
    "collapsed": false
   },
   "outputs": [
    {
     "data": {
      "text/html": [
       "<div style=\"max-height:1000px;max-width:1500px;overflow:auto;\">\n",
       "<table border=\"1\" class=\"dataframe\">\n",
       "  <thead>\n",
       "    <tr style=\"text-align: right;\">\n",
       "      <th></th>\n",
       "      <th>mean</th>\n",
       "      <th>size</th>\n",
       "      <th>std</th>\n",
       "    </tr>\n",
       "    <tr>\n",
       "      <th>month</th>\n",
       "      <th></th>\n",
       "      <th></th>\n",
       "      <th></th>\n",
       "    </tr>\n",
       "  </thead>\n",
       "  <tbody>\n",
       "    <tr>\n",
       "      <th>1 </th>\n",
       "      <td> 3.542996</td>\n",
       "      <td>  23072</td>\n",
       "      <td> 1.075643</td>\n",
       "    </tr>\n",
       "    <tr>\n",
       "      <th>2 </th>\n",
       "      <td> 3.523664</td>\n",
       "      <td>  12128</td>\n",
       "      <td> 1.089588</td>\n",
       "    </tr>\n",
       "    <tr>\n",
       "      <th>3 </th>\n",
       "      <td> 3.456952</td>\n",
       "      <td>   8537</td>\n",
       "      <td> 1.079460</td>\n",
       "    </tr>\n",
       "    <tr>\n",
       "      <th>4 </th>\n",
       "      <td> 3.522028</td>\n",
       "      <td>  19407</td>\n",
       "      <td> 1.096929</td>\n",
       "    </tr>\n",
       "    <tr>\n",
       "      <th>5 </th>\n",
       "      <td> 3.601847</td>\n",
       "      <td>  74278</td>\n",
       "      <td> 1.137355</td>\n",
       "    </tr>\n",
       "    <tr>\n",
       "      <th>6 </th>\n",
       "      <td> 3.616528</td>\n",
       "      <td>  61110</td>\n",
       "      <td> 1.110452</td>\n",
       "    </tr>\n",
       "    <tr>\n",
       "      <th>7 </th>\n",
       "      <td> 3.617985</td>\n",
       "      <td>  97004</td>\n",
       "      <td> 1.092208</td>\n",
       "    </tr>\n",
       "    <tr>\n",
       "      <th>8 </th>\n",
       "      <td> 3.566315</td>\n",
       "      <td> 188674</td>\n",
       "      <td> 1.122584</td>\n",
       "    </tr>\n",
       "    <tr>\n",
       "      <th>9 </th>\n",
       "      <td> 3.602279</td>\n",
       "      <td>  56791</td>\n",
       "      <td> 1.113047</td>\n",
       "    </tr>\n",
       "    <tr>\n",
       "      <th>10</th>\n",
       "      <td> 3.609143</td>\n",
       "      <td>  45500</td>\n",
       "      <td> 1.087170</td>\n",
       "    </tr>\n",
       "    <tr>\n",
       "      <th>11</th>\n",
       "      <td> 3.571737</td>\n",
       "      <td> 295461</td>\n",
       "      <td> 1.129646</td>\n",
       "    </tr>\n",
       "    <tr>\n",
       "      <th>12</th>\n",
       "      <td> 3.581435</td>\n",
       "      <td> 118247</td>\n",
       "      <td> 1.115202</td>\n",
       "    </tr>\n",
       "  </tbody>\n",
       "</table>\n",
       "</div>"
      ],
      "text/plain": [
       "           mean    size       std\n",
       "month                            \n",
       "1      3.542996   23072  1.075643\n",
       "2      3.523664   12128  1.089588\n",
       "3      3.456952    8537  1.079460\n",
       "4      3.522028   19407  1.096929\n",
       "5      3.601847   74278  1.137355\n",
       "6      3.616528   61110  1.110452\n",
       "7      3.617985   97004  1.092208\n",
       "8      3.566315  188674  1.122584\n",
       "9      3.602279   56791  1.113047\n",
       "10     3.609143   45500  1.087170\n",
       "11     3.571737  295461  1.129646\n",
       "12     3.581435  118247  1.115202"
      ]
     },
     "execution_count": 18,
     "metadata": {},
     "output_type": "execute_result"
    }
   ],
   "source": [
    "monthGroups.Rating.agg([np.mean,np.size,np.std])"
   ]
  },
  {
   "cell_type": "markdown",
   "metadata": {},
   "source": [
    "In all of these cases, you will notice that we have to call the functions using the **NumPy** module (but using the `np` alias), which was installed when you got **pandas** working on your system (since **NumPy** is a dependency of **pandas** and gives **pandas** all of the math and matrix wrangling functionality it relies on behind the scenes).\n",
    "\n",
    "**NumPy** is a really powerful matrix and math library in **Python** and has lots of functionality we won't go into here, so if you're interested, head over to their [website](http://www.numpy.org) to learn more!\n",
    "\n",
    "Now, lets move on to filtering."
   ]
  },
  {
   "cell_type": "markdown",
   "metadata": {},
   "source": [
    "Lets go through how to answer question **3.**:\n",
    "\n",
    "* **Remove users with too few ratings (lets say < 30) and reanswer these same questions**\n",
    "\n",
    "Here is our pipeline:\n",
    "\n",
    "1. `groupby ratingData on \"UserId\"` and call this new `GroupBy` object `userGroups`\n",
    "* `filter` so that only groups (users) containing > 30 ratings are kept in a new `DataFrame`, called `filteredRatings`\n",
    "* `groupby filteredRatings on \"month\"` and call this new `GroupBy` object `filteredMonthGroups`\n",
    "* recompute `mean` and `size` statistics on the `Rating` column in `filteredMonthGroups` and store it in a variable called `filteredMonthAggs`\n",
    "* use `max` to see if the month when the largest rating mean and rating size have changed"
   ]
  },
  {
   "cell_type": "code",
   "execution_count": 19,
   "metadata": {
    "collapsed": true
   },
   "outputs": [],
   "source": [
    "userGroups = ratingData.groupby(\"UserID\")"
   ]
  },
  {
   "cell_type": "markdown",
   "metadata": {},
   "source": [
    "This first step is very similar to what we did before, except we are grouping on a different column, `UserID`.\n",
    "\n",
    "Now comes the more challenging part, using `filter`, and involves learning a bit about **anonymous functions**. Here goes:"
   ]
  },
  {
   "cell_type": "code",
   "execution_count": 25,
   "metadata": {
    "collapsed": false
   },
   "outputs": [],
   "source": [
    "filteredRatings = userGroups.filter(lambda x: x.Rating.size >= 30)"
   ]
  },
  {
   "cell_type": "markdown",
   "metadata": {},
   "source": [
    "**AAAAA WTF IS THAT? lambda? x? What are these things?**\n",
    "\n",
    "Ok, lets take a breath and work through this...\n",
    "\n",
    "The `filter` function takes a function as an input and requires that the function you pass to it return either `True` or `False` on a per-group basis. \n",
    "\n",
    "It then returns a new `DataFrame` object, sorted into the groups you grouped on initially, with all of the groups removed that don't satisfy the constraints of the function you passed to it (that is, removing those groups that, when the function is applied to them, return `False`)."
   ]
  },
  {
   "cell_type": "markdown",
   "metadata": {},
   "source": [
    "So, why are we using this weird `lambda` thing? \n",
    "\n",
    "Well, `lambda` is the keyword for creating an **anonymous function** in **Python**.\n",
    "\n",
    "**anonymous functions** are functions that you define within some restricted place that:\n",
    "\n",
    "1. Usually accomplish some very minimal functionality\n",
    "2. Don't need the syntactic sugar that functions usually come with because of 1. and to maintain the compactness (and hopefully clarity) of your code.\n",
    "\n",
    "To declare an anonymous function you:\n",
    "\n",
    "1. type `lambda`, followed by\n",
    "* arbitrary names for the parameters that function accepts (x,y, etc.) separated by commas, followed by\n",
    "* a colon, which tells **Python** that we are done with specifying the parameters, followed by\n",
    "* the expression that defines how the function operates on the parameters. This expression will dictate what the function returns.\n",
    "\n",
    "So:\n",
    "`lambda x: x.Rating.size >= 30` means:\n",
    "\n",
    "1. **This function accepts a single parameter (in our case the group) arbitrarily called x.**\n",
    "* **It operates on this parameter, x, by finding some attribute in it called \"Rating\" (which it definitely has from earlier steps) and checking whether its size property is greater than or equal to 30.**\n",
    "* **Because this function is checking a condition, it will return either `True` or `False` for every parameter you pass to it**\n",
    "\n",
    "If you understand that, you grok **anonymous functions**."
   ]
  },
  {
   "cell_type": "markdown",
   "metadata": {},
   "source": [
    "**However, if you don't understand WTF just happened, you can actually write your own function, and just pass it directly to the filter!**\n",
    "\n",
    "So, instead of:\n",
    "\n",
    "`filteredRatings = userGroups.filter(lambda x: x.Rating.size >= 30)`\n",
    "\n",
    "You can do this (they are functionally equivalent!):\n",
    "```\n",
    "def filterFewestRatings(dataset):\n",
    "    return dataset.Rating.size >= 30\n",
    "    \n",
    "filteredRatings = userGroups.filter(filterFewestRatings)\n",
    "```\n",
    "\n",
    "Here, we've replaced the variable `x` in the anonymous function with a more easily understood variable `dataset` in the named (non-anonymous) function `filterFewestRatings`. This has the same exact functionality as the **anonymous function**, but is clearly more code to write. \n",
    "\n",
    "**It's your choice as to how you want to implement small functions like this.**"
   ]
  },
  {
   "cell_type": "markdown",
   "metadata": {},
   "source": [
    "Lets look at filtered ratings and see how many ratings and users we eliminated before we recompute our answers:"
   ]
  },
  {
   "cell_type": "code",
   "execution_count": 193,
   "metadata": {
    "collapsed": false
   },
   "outputs": [
    {
     "name": "stdout",
     "output_type": "stream",
     "text": [
      "Original number of ratings: 1000209\n",
      "Filtered number of ratings: 980300\n",
      "Fraction of ratings eliminated: 0.0199048398885\n"
     ]
    }
   ],
   "source": [
    "print \"Original number of ratings:\",ratingData.shape[0]\n",
    "print \"Filtered number of ratings:\",filteredRatings.shape[0]\n",
    "print \"Fraction of ratings eliminated:\",(1.0-float(filteredRatings.shape[0])/ratingData.shape[0])"
   ]
  },
  {
   "cell_type": "code",
   "execution_count": 194,
   "metadata": {
    "collapsed": false
   },
   "outputs": [
    {
     "name": "stdout",
     "output_type": "stream",
     "text": [
      "Original number of users: 6040\n",
      "Filtered number of users: 5231\n",
      "Fraction of users eliminated: 0.133940397351\n"
     ]
    }
   ],
   "source": [
    "print \"Original number of users:\",ratingData.UserID.unique().size\n",
    "print \"Filtered number of users:\",filteredRatings.UserID.unique().size\n",
    "print \"Fraction of users eliminated:\",(1.0-float(filteredRatings.UserID.unique().size)/ratingData.UserID.unique().size)"
   ]
  },
  {
   "cell_type": "markdown",
   "metadata": {},
   "source": [
    "So we got rid of about 2% of the ratings, but over 13% of the users!\n",
    "\n",
    "Now that we've filtered, you should be able to do the rest and recompute the answers:"
   ]
  },
  {
   "cell_type": "code",
   "execution_count": 200,
   "metadata": {
    "collapsed": false
   },
   "outputs": [
    {
     "data": {
      "text/plain": [
       "(940925, 5)"
      ]
     },
     "execution_count": 200,
     "metadata": {},
     "output_type": "execute_result"
    }
   ],
   "source": [
    "filteredMonthGroups = pass\n",
    "filteredMonthAggs = pass"
   ]
  },
  {
   "cell_type": "markdown",
   "metadata": {},
   "source": [
    "To hammer all of this home, try to answer the following:\n",
    "\n",
    "**What was the ID of the average highest-rated movie in the first half of the year for those movies that were rated at least 50 times within that timespan?**\n",
    "\n",
    "Fill in the next cell by replacing the `pass` (or make more cells if you need to) and tell me when you know the answer (but quietly, so you don't tell everyone else!)."
   ]
  },
  {
   "cell_type": "code",
   "execution_count": null,
   "metadata": {
    "collapsed": true
   },
   "outputs": [],
   "source": [
    "pass"
   ]
  },
  {
   "cell_type": "markdown",
   "metadata": {},
   "source": [
    "A couple more data analysis functions before I set you loose on a completely new dataset!\n",
    "\n",
    "**pandas** provides some pretty cool basic statistical functionality apart from the really simple functions we've used so far (like `mean`, `std`, `max`, and `size`).\n",
    "\n",
    "What I'm talking about are statistical functions that compare two variables, specifically  **covariance** and **correlation**. \n",
    "\n",
    "Briefly, **covariance** is a way to tell whether two variables tend to move in the same or opposite directions, but cannot measure the absolute strength of this relationship (if two variables show positive covariance, it means that as one increases, so does the other one, and vice versa). \n",
    "\n",
    "**Correlation** on the other hand, can tell you both whether two variables tend to move with or against each other, and how strong this relationship between them is.\n",
    "\n",
    "I will be showing you a fairly contrived example here, but you will be using this functionality in the actual assignment you'll be working on.\n",
    "\n",
    "I will keep this short and sweet, because I know you are dying to get started on your own!\n",
    "\n",
    "To correlate two columns using the standard pearson correlation in **pandas** simply do something like this, where we correlate `month` with `Rating`:"
   ]
  },
  {
   "cell_type": "code",
   "execution_count": 205,
   "metadata": {
    "collapsed": false
   },
   "outputs": [
    {
     "data": {
      "text/plain": [
       "0.00097862025825141258"
      ]
     },
     "execution_count": 205,
     "metadata": {},
     "output_type": "execute_result"
    }
   ],
   "source": [
    "ratingData.month.corr(ratingData.Rating)"
   ]
  },
  {
   "cell_type": "markdown",
   "metadata": {},
   "source": [
    "If you want to get the full correlation matrix among all variables that are of a numeric type, just call `corr` on the whole `DataFrame`. **pandas** will know to only make the correlations among numeric columns only and will exclude all non-numeric columns from the resulting correlation matrix:"
   ]
  },
  {
   "cell_type": "code",
   "execution_count": 206,
   "metadata": {
    "collapsed": false
   },
   "outputs": [
    {
     "data": {
      "text/html": [
       "<div style=\"max-height:1000px;max-width:1500px;overflow:auto;\">\n",
       "<table border=\"1\" class=\"dataframe\">\n",
       "  <thead>\n",
       "    <tr style=\"text-align: right;\">\n",
       "      <th></th>\n",
       "      <th>UserID</th>\n",
       "      <th>MovieID</th>\n",
       "      <th>Rating</th>\n",
       "      <th>month</th>\n",
       "    </tr>\n",
       "  </thead>\n",
       "  <tbody>\n",
       "    <tr>\n",
       "      <th>UserID</th>\n",
       "      <td> 1.000000</td>\n",
       "      <td>-0.017739</td>\n",
       "      <td> 0.012303</td>\n",
       "      <td>-0.633559</td>\n",
       "    </tr>\n",
       "    <tr>\n",
       "      <th>MovieID</th>\n",
       "      <td>-0.017739</td>\n",
       "      <td> 1.000000</td>\n",
       "      <td>-0.064042</td>\n",
       "      <td>-0.003123</td>\n",
       "    </tr>\n",
       "    <tr>\n",
       "      <th>Rating</th>\n",
       "      <td> 0.012303</td>\n",
       "      <td>-0.064042</td>\n",
       "      <td> 1.000000</td>\n",
       "      <td> 0.000979</td>\n",
       "    </tr>\n",
       "    <tr>\n",
       "      <th>month</th>\n",
       "      <td>-0.633559</td>\n",
       "      <td>-0.003123</td>\n",
       "      <td> 0.000979</td>\n",
       "      <td> 1.000000</td>\n",
       "    </tr>\n",
       "  </tbody>\n",
       "</table>\n",
       "</div>"
      ],
      "text/plain": [
       "           UserID   MovieID    Rating     month\n",
       "UserID   1.000000 -0.017739  0.012303 -0.633559\n",
       "MovieID -0.017739  1.000000 -0.064042 -0.003123\n",
       "Rating   0.012303 -0.064042  1.000000  0.000979\n",
       "month   -0.633559 -0.003123  0.000979  1.000000"
      ]
     },
     "execution_count": 206,
     "metadata": {},
     "output_type": "execute_result"
    }
   ],
   "source": [
    "ratingData.corr()"
   ]
  },
  {
   "cell_type": "markdown",
   "metadata": {},
   "source": [
    "Obviously, this is a contrived example because **the only truly numeric column here is Rating** all the other columns (except for `FormattedTimestamp`) are numeric labels for categorical items. \n",
    "\n",
    "What this means is that there is no way we can actually say that one `UserID` is greater than some other `UserID` because the mapping from the actual user's identity to the `UserID` number associated with them is arbitrary, and the same thing applies to every other numeric column here except for `Rating`. \n",
    "\n",
    "And because we can't rank any of the entries in the other columns in any meaningful way, **the correlation between them is meaningless.** \n",
    "\n",
    "I simply wanted to show you how you would do this, given the right situation (which you will experience shortly!)."
   ]
  },
  {
   "cell_type": "markdown",
   "metadata": {},
   "source": [
    "OK, now you've worked through a single dataset and learned a little **pandas**.\n",
    "\n",
    "The next notebook will be a complete assignment that you will have to work through, showcasing what you've learned so far!"
   ]
  }
 ],
 "metadata": {
  "kernelspec": {
   "display_name": "Python 2",
   "language": "python",
   "name": "python2"
  },
  "language_info": {
   "codemirror_mode": {
    "name": "ipython",
    "version": 2
   },
   "file_extension": ".py",
   "mimetype": "text/x-python",
   "name": "python",
   "nbconvert_exporter": "python",
   "pygments_lexer": "ipython2",
   "version": "2.7.6"
  }
 },
 "nbformat": 4,
 "nbformat_minor": 0
}
