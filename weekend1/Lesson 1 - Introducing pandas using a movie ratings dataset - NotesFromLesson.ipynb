{
 "cells": [
  {
   "cell_type": "markdown",
   "metadata": {},
   "source": [
    "As is almost always the case when working with **Python**, we are going to need more than just its basic functionality available to us as we develop our analytical pipelines. \n",
    "\n",
    "In order to have this additional functionality available (being able to use **pandas**), we will rely on a  couple `import` statements.\n",
    "\n",
    "Here they are:"
   ]
  },
  {
   "cell_type": "code",
   "execution_count": 2,
   "metadata": {
    "collapsed": false
   },
   "outputs": [],
   "source": [
    "import pandas as pd\n",
    "import numpy as np"
   ]
  },
  {
   "cell_type": "markdown",
   "metadata": {},
   "source": [
    "The code above did two things:\n",
    "\n",
    "* Loaded in all of the functionality that **pandas** provides (`import pandas as pd`)\n",
    "* Loaded in some additional functionality from a different package that **pandas** relies on called **NumPy** (`import numpy as np`)\n",
    "\n",
    "Importantly, `pd` is now the alias (new name) for the entire `pandas` library and `np` is the alias for the `numpy` library. Instead of having to type `pandas.something` or `numpy.something` to access a given function, you can now just type `pd` or `np`. \n",
    "\n",
    "So what exactly is [**pandas**](http://pandas.pydata.org) and why the funny name (we will talk about [**NumPy**](http://www.numpy.org) a bit later)?\n",
    "\n",
    "**pandas** is a Data Analysis Library written in and for the **Python** programming language and is a very loose acronym for **P**ython **An**alysis of **Da**taset**s** (or something like that anyway). \n",
    "\n",
    "It provides open source, easy-to-use data structures and data analysis tools.\n",
    "\n",
    "We will be using it exclusively for the next two days."
   ]
  },
  {
   "cell_type": "markdown",
   "metadata": {},
   "source": [
    "Lets get started by first learning about the "
   ]
  },
  {
   "cell_type": "markdown",
   "metadata": {},
   "source": [
    "So, lets begin by loading in our first dataset, the Movielens 1M dataset.\n",
    "\n",
    "This is a file that contains ~1,000,000 movie ratings taken from a website where users can rate a variety of movies on a 1-5 rating scale. Each rating is comprised of the following information:\n",
    "\n",
    "* A user id, represented by a number (an `int`) \n",
    "* A movie id, also an `int` \n",
    "* A rating, an `int` that should vary from 1-5 (inclusive) \n",
    "* A timestamp, recording when the rating was made in seconds since UNIX epoch time (this is standardly set to 12:00AM January 1, 1970), also an `int`\n",
    "\n",
    "The records in this file are arranged in the following order and format:\n",
    "\n",
    "`UserID::MovieID::Rating::Timestamp`"
   ]
  },
  {
   "cell_type": "markdown",
   "metadata": {},
   "source": [
    "We will use the `read_csv` function in pandas and try to simply load the dataset **as is** into a variable (actually an object) called `ratingData` and see if that gets it into a usable format (it won't)."
   ]
  },
  {
   "cell_type": "code",
   "execution_count": 3,
   "metadata": {
    "collapsed": false
   },
   "outputs": [],
   "source": [
    "ratingData = pd.read_csv(\"./movieData/ratings.dat\")"
   ]
  },
  {
   "cell_type": "markdown",
   "metadata": {},
   "source": [
    "If you look at the documentation for `read_csv`, you'll see that it is very large and provides for lots of different functionality. \n",
    "\n",
    "As a first pass, we just passed the path to the file in as a ```string``` to the `read_csv` function, without any other arguments. "
   ]
  },
  {
   "cell_type": "markdown",
   "metadata": {},
   "source": [
    "Lets take a look at the first few rows and see what we get using the `head` function on our newly loaded dataset `ratingData`. \n",
    "\n",
    "The `head` function returns the first 5 rows by default of the DataFrame you call it on. You can change it to be a larger or smaller number by passing in a positive `integer` into `head` as an argument like so: `ratingData.head(100)`.\n",
    "\n",
    "The function `tail` does the exact same thing, except with the last records in the dataset."
   ]
  },
  {
   "cell_type": "code",
   "execution_count": 7,
   "metadata": {
    "collapsed": false
   },
   "outputs": [
    {
     "data": {
      "text/html": [
       "<div style=\"max-height:1000px;max-width:1500px;overflow:auto;\">\n",
       "<table border=\"1\" class=\"dataframe\">\n",
       "  <thead>\n",
       "    <tr style=\"text-align: right;\">\n",
       "      <th></th>\n",
       "      <th>1::1193::5::978300760</th>\n",
       "    </tr>\n",
       "  </thead>\n",
       "  <tbody>\n",
       "    <tr>\n",
       "      <th>0 </th>\n",
       "      <td>  1::661::3::978302109</td>\n",
       "    </tr>\n",
       "    <tr>\n",
       "      <th>1 </th>\n",
       "      <td>  1::914::3::978301968</td>\n",
       "    </tr>\n",
       "    <tr>\n",
       "      <th>2 </th>\n",
       "      <td> 1::3408::4::978300275</td>\n",
       "    </tr>\n",
       "    <tr>\n",
       "      <th>3 </th>\n",
       "      <td> 1::2355::5::978824291</td>\n",
       "    </tr>\n",
       "    <tr>\n",
       "      <th>4 </th>\n",
       "      <td> 1::1197::3::978302268</td>\n",
       "    </tr>\n",
       "    <tr>\n",
       "      <th>5 </th>\n",
       "      <td> 1::1287::5::978302039</td>\n",
       "    </tr>\n",
       "    <tr>\n",
       "      <th>6 </th>\n",
       "      <td> 1::2804::5::978300719</td>\n",
       "    </tr>\n",
       "    <tr>\n",
       "      <th>7 </th>\n",
       "      <td>  1::594::4::978302268</td>\n",
       "    </tr>\n",
       "    <tr>\n",
       "      <th>8 </th>\n",
       "      <td>  1::919::4::978301368</td>\n",
       "    </tr>\n",
       "    <tr>\n",
       "      <th>9 </th>\n",
       "      <td>  1::595::5::978824268</td>\n",
       "    </tr>\n",
       "    <tr>\n",
       "      <th>10</th>\n",
       "      <td>  1::938::4::978301752</td>\n",
       "    </tr>\n",
       "    <tr>\n",
       "      <th>11</th>\n",
       "      <td> 1::2398::4::978302281</td>\n",
       "    </tr>\n",
       "    <tr>\n",
       "      <th>12</th>\n",
       "      <td> 1::2918::4::978302124</td>\n",
       "    </tr>\n",
       "    <tr>\n",
       "      <th>13</th>\n",
       "      <td> 1::1035::5::978301753</td>\n",
       "    </tr>\n",
       "    <tr>\n",
       "      <th>14</th>\n",
       "      <td> 1::2791::4::978302188</td>\n",
       "    </tr>\n",
       "    <tr>\n",
       "      <th>15</th>\n",
       "      <td> 1::2687::3::978824268</td>\n",
       "    </tr>\n",
       "    <tr>\n",
       "      <th>16</th>\n",
       "      <td> 1::2018::4::978301777</td>\n",
       "    </tr>\n",
       "    <tr>\n",
       "      <th>17</th>\n",
       "      <td> 1::3105::5::978301713</td>\n",
       "    </tr>\n",
       "    <tr>\n",
       "      <th>18</th>\n",
       "      <td> 1::2797::4::978302039</td>\n",
       "    </tr>\n",
       "    <tr>\n",
       "      <th>19</th>\n",
       "      <td> 1::2321::3::978302205</td>\n",
       "    </tr>\n",
       "  </tbody>\n",
       "</table>\n",
       "</div>"
      ],
      "text/plain": [
       "    1::1193::5::978300760\n",
       "0    1::661::3::978302109\n",
       "1    1::914::3::978301968\n",
       "2   1::3408::4::978300275\n",
       "3   1::2355::5::978824291\n",
       "4   1::1197::3::978302268\n",
       "5   1::1287::5::978302039\n",
       "6   1::2804::5::978300719\n",
       "7    1::594::4::978302268\n",
       "8    1::919::4::978301368\n",
       "9    1::595::5::978824268\n",
       "10   1::938::4::978301752\n",
       "11  1::2398::4::978302281\n",
       "12  1::2918::4::978302124\n",
       "13  1::1035::5::978301753\n",
       "14  1::2791::4::978302188\n",
       "15  1::2687::3::978824268\n",
       "16  1::2018::4::978301777\n",
       "17  1::3105::5::978301713\n",
       "18  1::2797::4::978302039\n",
       "19  1::2321::3::978302205"
      ]
     },
     "execution_count": 7,
     "metadata": {},
     "output_type": "execute_result"
    }
   ],
   "source": [
    "ratingData.head(20)"
   ]
  },
  {
   "cell_type": "markdown",
   "metadata": {},
   "source": [
    "Ok, well that looks terrible.\n",
    "Lets diagnose the problems we see and make it unterrible: \n",
    "\n",
    "1. Everything is in a single column (so we can't separately look at ratings, user ids,movie ids, or timestamps)!\n",
    "2. The first row is used as the name of the only column (we call this the **header**), which is no good, as the first record shouldn't be the header, but an actual record.\n",
    "3. The timestamp is in a format that doesn't really tell us anything useful about when the ratings occurred.\n",
    "\n",
    "So, lets use some of the additional functionality of `read_csv` to load this dataset in cleanly, and hopefully that will solve problems **1 and 2**."
   ]
  },
  {
   "cell_type": "code",
   "execution_count": 8,
   "metadata": {
    "collapsed": false
   },
   "outputs": [
    {
     "name": "stderr",
     "output_type": "stream",
     "text": [
      "/usr/local/lib/python2.7/site-packages/pandas/io/parsers.py:639: ParserWarning: Falling back to the 'python' engine because the 'c' engine does not support regex separators; you can avoid this warning by specifying engine='python'.\n",
      "  ParserWarning)\n"
     ]
    }
   ],
   "source": [
    "ratingData = pd.read_csv(\"./movieData/ratings.dat\",sep = \"::\",names = ['UserID','MovieID','Rating','Timestamp'])"
   ]
  },
  {
   "cell_type": "markdown",
   "metadata": {},
   "source": [
    "Don't worry about the `ParserWarning:` message (if you get one) as it doesn't affect what we are doing, and lets just take a look at the data now. I'll explain exactly what I did below."
   ]
  },
  {
   "cell_type": "code",
   "execution_count": 9,
   "metadata": {
    "collapsed": false
   },
   "outputs": [
    {
     "data": {
      "text/html": [
       "<div style=\"max-height:1000px;max-width:1500px;overflow:auto;\">\n",
       "<table border=\"1\" class=\"dataframe\">\n",
       "  <thead>\n",
       "    <tr style=\"text-align: right;\">\n",
       "      <th></th>\n",
       "      <th>UserID</th>\n",
       "      <th>MovieID</th>\n",
       "      <th>Rating</th>\n",
       "      <th>Timestamp</th>\n",
       "    </tr>\n",
       "  </thead>\n",
       "  <tbody>\n",
       "    <tr>\n",
       "      <th>0</th>\n",
       "      <td> 1</td>\n",
       "      <td> 1193</td>\n",
       "      <td> 5</td>\n",
       "      <td> 978300760</td>\n",
       "    </tr>\n",
       "    <tr>\n",
       "      <th>1</th>\n",
       "      <td> 1</td>\n",
       "      <td>  661</td>\n",
       "      <td> 3</td>\n",
       "      <td> 978302109</td>\n",
       "    </tr>\n",
       "    <tr>\n",
       "      <th>2</th>\n",
       "      <td> 1</td>\n",
       "      <td>  914</td>\n",
       "      <td> 3</td>\n",
       "      <td> 978301968</td>\n",
       "    </tr>\n",
       "    <tr>\n",
       "      <th>3</th>\n",
       "      <td> 1</td>\n",
       "      <td> 3408</td>\n",
       "      <td> 4</td>\n",
       "      <td> 978300275</td>\n",
       "    </tr>\n",
       "    <tr>\n",
       "      <th>4</th>\n",
       "      <td> 1</td>\n",
       "      <td> 2355</td>\n",
       "      <td> 5</td>\n",
       "      <td> 978824291</td>\n",
       "    </tr>\n",
       "  </tbody>\n",
       "</table>\n",
       "</div>"
      ],
      "text/plain": [
       "   UserID  MovieID  Rating  Timestamp\n",
       "0       1     1193       5  978300760\n",
       "1       1      661       3  978302109\n",
       "2       1      914       3  978301968\n",
       "3       1     3408       4  978300275\n",
       "4       1     2355       5  978824291"
      ]
     },
     "execution_count": 9,
     "metadata": {},
     "output_type": "execute_result"
    }
   ],
   "source": [
    "ratingData.head()"
   ]
  },
  {
   "cell_type": "code",
   "execution_count": 11,
   "metadata": {
    "collapsed": false
   },
   "outputs": [
    {
     "data": {
      "text/html": [
       "<div style=\"max-height:1000px;max-width:1500px;overflow:auto;\">\n",
       "<table border=\"1\" class=\"dataframe\">\n",
       "  <thead>\n",
       "    <tr style=\"text-align: right;\">\n",
       "      <th></th>\n",
       "      <th>UserID</th>\n",
       "      <th>MovieID</th>\n",
       "      <th>Rating</th>\n",
       "      <th>Timestamp</th>\n",
       "    </tr>\n",
       "  </thead>\n",
       "  <tbody>\n",
       "    <tr>\n",
       "      <th>1000189</th>\n",
       "      <td> 6040</td>\n",
       "      <td> 2010</td>\n",
       "      <td> 5</td>\n",
       "      <td> 957716795</td>\n",
       "    </tr>\n",
       "    <tr>\n",
       "      <th>1000190</th>\n",
       "      <td> 6040</td>\n",
       "      <td> 2011</td>\n",
       "      <td> 4</td>\n",
       "      <td> 956716113</td>\n",
       "    </tr>\n",
       "    <tr>\n",
       "      <th>1000191</th>\n",
       "      <td> 6040</td>\n",
       "      <td> 3751</td>\n",
       "      <td> 4</td>\n",
       "      <td> 964828782</td>\n",
       "    </tr>\n",
       "    <tr>\n",
       "      <th>1000192</th>\n",
       "      <td> 6040</td>\n",
       "      <td> 2019</td>\n",
       "      <td> 5</td>\n",
       "      <td> 956703977</td>\n",
       "    </tr>\n",
       "    <tr>\n",
       "      <th>1000193</th>\n",
       "      <td> 6040</td>\n",
       "      <td>  541</td>\n",
       "      <td> 4</td>\n",
       "      <td> 956715288</td>\n",
       "    </tr>\n",
       "    <tr>\n",
       "      <th>1000194</th>\n",
       "      <td> 6040</td>\n",
       "      <td> 1077</td>\n",
       "      <td> 5</td>\n",
       "      <td> 964828799</td>\n",
       "    </tr>\n",
       "    <tr>\n",
       "      <th>1000195</th>\n",
       "      <td> 6040</td>\n",
       "      <td> 1079</td>\n",
       "      <td> 2</td>\n",
       "      <td> 956715648</td>\n",
       "    </tr>\n",
       "    <tr>\n",
       "      <th>1000196</th>\n",
       "      <td> 6040</td>\n",
       "      <td>  549</td>\n",
       "      <td> 4</td>\n",
       "      <td> 956704746</td>\n",
       "    </tr>\n",
       "    <tr>\n",
       "      <th>1000197</th>\n",
       "      <td> 6040</td>\n",
       "      <td> 2020</td>\n",
       "      <td> 3</td>\n",
       "      <td> 956715288</td>\n",
       "    </tr>\n",
       "    <tr>\n",
       "      <th>1000198</th>\n",
       "      <td> 6040</td>\n",
       "      <td> 2021</td>\n",
       "      <td> 3</td>\n",
       "      <td> 956716374</td>\n",
       "    </tr>\n",
       "    <tr>\n",
       "      <th>1000199</th>\n",
       "      <td> 6040</td>\n",
       "      <td> 2022</td>\n",
       "      <td> 5</td>\n",
       "      <td> 956716207</td>\n",
       "    </tr>\n",
       "    <tr>\n",
       "      <th>1000200</th>\n",
       "      <td> 6040</td>\n",
       "      <td> 2028</td>\n",
       "      <td> 5</td>\n",
       "      <td> 956704519</td>\n",
       "    </tr>\n",
       "    <tr>\n",
       "      <th>1000201</th>\n",
       "      <td> 6040</td>\n",
       "      <td> 1080</td>\n",
       "      <td> 4</td>\n",
       "      <td> 957717322</td>\n",
       "    </tr>\n",
       "    <tr>\n",
       "      <th>1000202</th>\n",
       "      <td> 6040</td>\n",
       "      <td> 1089</td>\n",
       "      <td> 4</td>\n",
       "      <td> 956704996</td>\n",
       "    </tr>\n",
       "    <tr>\n",
       "      <th>1000203</th>\n",
       "      <td> 6040</td>\n",
       "      <td> 1090</td>\n",
       "      <td> 3</td>\n",
       "      <td> 956715518</td>\n",
       "    </tr>\n",
       "    <tr>\n",
       "      <th>1000204</th>\n",
       "      <td> 6040</td>\n",
       "      <td> 1091</td>\n",
       "      <td> 1</td>\n",
       "      <td> 956716541</td>\n",
       "    </tr>\n",
       "    <tr>\n",
       "      <th>1000205</th>\n",
       "      <td> 6040</td>\n",
       "      <td> 1094</td>\n",
       "      <td> 5</td>\n",
       "      <td> 956704887</td>\n",
       "    </tr>\n",
       "    <tr>\n",
       "      <th>1000206</th>\n",
       "      <td> 6040</td>\n",
       "      <td>  562</td>\n",
       "      <td> 5</td>\n",
       "      <td> 956704746</td>\n",
       "    </tr>\n",
       "    <tr>\n",
       "      <th>1000207</th>\n",
       "      <td> 6040</td>\n",
       "      <td> 1096</td>\n",
       "      <td> 4</td>\n",
       "      <td> 956715648</td>\n",
       "    </tr>\n",
       "    <tr>\n",
       "      <th>1000208</th>\n",
       "      <td> 6040</td>\n",
       "      <td> 1097</td>\n",
       "      <td> 4</td>\n",
       "      <td> 956715569</td>\n",
       "    </tr>\n",
       "  </tbody>\n",
       "</table>\n",
       "</div>"
      ],
      "text/plain": [
       "         UserID  MovieID  Rating  Timestamp\n",
       "1000189    6040     2010       5  957716795\n",
       "1000190    6040     2011       4  956716113\n",
       "1000191    6040     3751       4  964828782\n",
       "1000192    6040     2019       5  956703977\n",
       "1000193    6040      541       4  956715288\n",
       "1000194    6040     1077       5  964828799\n",
       "1000195    6040     1079       2  956715648\n",
       "1000196    6040      549       4  956704746\n",
       "1000197    6040     2020       3  956715288\n",
       "1000198    6040     2021       3  956716374\n",
       "1000199    6040     2022       5  956716207\n",
       "1000200    6040     2028       5  956704519\n",
       "1000201    6040     1080       4  957717322\n",
       "1000202    6040     1089       4  956704996\n",
       "1000203    6040     1090       3  956715518\n",
       "1000204    6040     1091       1  956716541\n",
       "1000205    6040     1094       5  956704887\n",
       "1000206    6040      562       5  956704746\n",
       "1000207    6040     1096       4  956715648\n",
       "1000208    6040     1097       4  956715569"
      ]
     },
     "execution_count": 11,
     "metadata": {},
     "output_type": "execute_result"
    }
   ],
   "source": [
    "# try putting a number in between the parentheses () in the .head() function below\n",
    "#YOUR CODE HERE\n",
    "ratingData.tail(20)"
   ]
  },
  {
   "cell_type": "markdown",
   "metadata": {},
   "source": [
    "MUCH BETTER!\n",
    "\n",
    "So, what did we just do?\n",
    "\n",
    "The function `read_csv` has lots of functionality, as I had mentioned (and as you saw when you pulled up its documentation). One of its options is called `sep`, and allows you to provide your own separator for dividing the columns that you have in your dataset. \n",
    "\n",
    "The default separator for `read_csv` is the comma (`,`), since `csv` stands for **c**omma **s**eparated **v**alues. \n",
    "\n",
    "However, since `::` separated the fields in this dataset, we supplied that as an argument (again, as a `string`) to the argument `sep` instead.\n",
    "\n",
    "A separate argument, `names`, allows you to pass in your own list of names, again as `strings`, to `read_csv` to be treated as the column names (or the **header**) of the dataset. Since we knew what the names for the columns should be, we put them in.\n",
    "\n",
    "Now that our dataset looks more reasonable, lets do a couple brief sanity checks and then fix issue **3.**"
   ]
  },
  {
   "cell_type": "markdown",
   "metadata": {},
   "source": [
    "Lets do a sanity check and make sure that:\n",
    "\n",
    "1. All our data is in the format that we expect (everything is an `int`).\n",
    "2. The ratings range across the values we expect (1-5 and nothing else).\n",
    "\n",
    "The property `dtypes` is accessible from our `ratingData` object, and tells us the types of the data in all of our columns (which addresses **1.**)."
   ]
  },
  {
   "cell_type": "code",
   "execution_count": 12,
   "metadata": {
    "collapsed": false
   },
   "outputs": [
    {
     "data": {
      "text/plain": [
       "UserID       int64\n",
       "MovieID      int64\n",
       "Rating       int64\n",
       "Timestamp    int64\n",
       "dtype: object"
      ]
     },
     "execution_count": 12,
     "metadata": {},
     "output_type": "execute_result"
    }
   ],
   "source": [
    "ratingData.dtypes"
   ]
  },
  {
   "cell_type": "markdown",
   "metadata": {},
   "source": [
    "Ok, so everything appears to be an `int` as `int64` is an `integer` (positive or negative whole number) data type that can represent very large numbers.\n",
    "\n",
    "As an important aside about **pandas**, all the values in a given column have to be of the same type. So, **if even one value was not a whole number, (1.0 for example), the values for the entire column would be inferred to be something else (either a `float64` or an `object` if any of the entries were `strings`).**\n",
    "\n",
    "Now let's address **2.** by looking at all of the unique entries in the `Rating` column using `unique` (we expect there to be 5 unique values, 1-5 inclusive)."
   ]
  },
  {
   "cell_type": "code",
   "execution_count": 15,
   "metadata": {
    "collapsed": false
   },
   "outputs": [
    {
     "data": {
      "text/plain": [
       "array([1193,  661,  914, ..., 2845, 3607, 2909])"
      ]
     },
     "execution_count": 15,
     "metadata": {},
     "output_type": "execute_result"
    }
   ],
   "source": [
    "ratingData[\"MovieID\"]"
   ]
  },
  {
   "cell_type": "markdown",
   "metadata": {},
   "source": [
    "As long as your column names do not contain strange characters (spaces and escape characters like !\\/), you can simply access the values in a column by doing `dataFrameName.columnName` where `dataFrameName` is the name of your `DataFrame` object and `columnName` is the name of your column.\n",
    "\n",
    "The function `unique` is accessible from our `ratingData` object, and simply returns all of the unique values within our column of choice as a `List`."
   ]
  },
  {
   "cell_type": "markdown",
   "metadata": {},
   "source": [
    "However, if your dataset contains weird column names, you have another way of accessing columns:"
   ]
  },
  {
   "cell_type": "code",
   "execution_count": 17,
   "metadata": {
    "collapsed": false
   },
   "outputs": [
    {
     "data": {
      "text/plain": [
       "array([5, 3, 4, 2, 1])"
      ]
     },
     "execution_count": 17,
     "metadata": {},
     "output_type": "execute_result"
    }
   ],
   "source": [
    "ratingData.Rating.unique()"
   ]
  },
  {
   "cell_type": "code",
   "execution_count": null,
   "metadata": {
    "collapsed": true
   },
   "outputs": [],
   "source": [
    "# try calling the .unique() function by using other column names in the dataset.\n",
    "# Data science is all about getting to know your data, so get to know the unique values of the columns in the dataset!\n",
    "#YOUR CODE HERE\n",
    "\n"
   ]
  },
  {
   "cell_type": "markdown",
   "metadata": {},
   "source": [
    "In this way of accessing the `Rating` column, we have to pass the name of the column as a `string` (in quotes \"\").\n",
    "\n",
    "What if we wanted to access multiple columns? Here's how you would do that (this is the only way):"
   ]
  },
  {
   "cell_type": "code",
   "execution_count": 18,
   "metadata": {
    "collapsed": false
   },
   "outputs": [
    {
     "data": {
      "text/html": [
       "<div style=\"max-height:1000px;max-width:1500px;overflow:auto;\">\n",
       "<table border=\"1\" class=\"dataframe\">\n",
       "  <thead>\n",
       "    <tr style=\"text-align: right;\">\n",
       "      <th></th>\n",
       "      <th>Rating</th>\n",
       "      <th>UserID</th>\n",
       "    </tr>\n",
       "  </thead>\n",
       "  <tbody>\n",
       "    <tr>\n",
       "      <th>0      </th>\n",
       "      <td> 5</td>\n",
       "      <td>    1</td>\n",
       "    </tr>\n",
       "    <tr>\n",
       "      <th>1      </th>\n",
       "      <td> 3</td>\n",
       "      <td>    1</td>\n",
       "    </tr>\n",
       "    <tr>\n",
       "      <th>2      </th>\n",
       "      <td> 3</td>\n",
       "      <td>    1</td>\n",
       "    </tr>\n",
       "    <tr>\n",
       "      <th>3      </th>\n",
       "      <td> 4</td>\n",
       "      <td>    1</td>\n",
       "    </tr>\n",
       "    <tr>\n",
       "      <th>4      </th>\n",
       "      <td> 5</td>\n",
       "      <td>    1</td>\n",
       "    </tr>\n",
       "    <tr>\n",
       "      <th>5      </th>\n",
       "      <td> 3</td>\n",
       "      <td>    1</td>\n",
       "    </tr>\n",
       "    <tr>\n",
       "      <th>6      </th>\n",
       "      <td> 5</td>\n",
       "      <td>    1</td>\n",
       "    </tr>\n",
       "    <tr>\n",
       "      <th>7      </th>\n",
       "      <td> 5</td>\n",
       "      <td>    1</td>\n",
       "    </tr>\n",
       "    <tr>\n",
       "      <th>8      </th>\n",
       "      <td> 4</td>\n",
       "      <td>    1</td>\n",
       "    </tr>\n",
       "    <tr>\n",
       "      <th>9      </th>\n",
       "      <td> 4</td>\n",
       "      <td>    1</td>\n",
       "    </tr>\n",
       "    <tr>\n",
       "      <th>10     </th>\n",
       "      <td> 5</td>\n",
       "      <td>    1</td>\n",
       "    </tr>\n",
       "    <tr>\n",
       "      <th>11     </th>\n",
       "      <td> 4</td>\n",
       "      <td>    1</td>\n",
       "    </tr>\n",
       "    <tr>\n",
       "      <th>12     </th>\n",
       "      <td> 4</td>\n",
       "      <td>    1</td>\n",
       "    </tr>\n",
       "    <tr>\n",
       "      <th>13     </th>\n",
       "      <td> 4</td>\n",
       "      <td>    1</td>\n",
       "    </tr>\n",
       "    <tr>\n",
       "      <th>14     </th>\n",
       "      <td> 5</td>\n",
       "      <td>    1</td>\n",
       "    </tr>\n",
       "    <tr>\n",
       "      <th>15     </th>\n",
       "      <td> 4</td>\n",
       "      <td>    1</td>\n",
       "    </tr>\n",
       "    <tr>\n",
       "      <th>16     </th>\n",
       "      <td> 3</td>\n",
       "      <td>    1</td>\n",
       "    </tr>\n",
       "    <tr>\n",
       "      <th>17     </th>\n",
       "      <td> 4</td>\n",
       "      <td>    1</td>\n",
       "    </tr>\n",
       "    <tr>\n",
       "      <th>18     </th>\n",
       "      <td> 5</td>\n",
       "      <td>    1</td>\n",
       "    </tr>\n",
       "    <tr>\n",
       "      <th>19     </th>\n",
       "      <td> 4</td>\n",
       "      <td>    1</td>\n",
       "    </tr>\n",
       "    <tr>\n",
       "      <th>20     </th>\n",
       "      <td> 3</td>\n",
       "      <td>    1</td>\n",
       "    </tr>\n",
       "    <tr>\n",
       "      <th>21     </th>\n",
       "      <td> 3</td>\n",
       "      <td>    1</td>\n",
       "    </tr>\n",
       "    <tr>\n",
       "      <th>22     </th>\n",
       "      <td> 5</td>\n",
       "      <td>    1</td>\n",
       "    </tr>\n",
       "    <tr>\n",
       "      <th>23     </th>\n",
       "      <td> 5</td>\n",
       "      <td>    1</td>\n",
       "    </tr>\n",
       "    <tr>\n",
       "      <th>24     </th>\n",
       "      <td> 3</td>\n",
       "      <td>    1</td>\n",
       "    </tr>\n",
       "    <tr>\n",
       "      <th>25     </th>\n",
       "      <td> 5</td>\n",
       "      <td>    1</td>\n",
       "    </tr>\n",
       "    <tr>\n",
       "      <th>26     </th>\n",
       "      <td> 4</td>\n",
       "      <td>    1</td>\n",
       "    </tr>\n",
       "    <tr>\n",
       "      <th>27     </th>\n",
       "      <td> 4</td>\n",
       "      <td>    1</td>\n",
       "    </tr>\n",
       "    <tr>\n",
       "      <th>28     </th>\n",
       "      <td> 4</td>\n",
       "      <td>    1</td>\n",
       "    </tr>\n",
       "    <tr>\n",
       "      <th>29     </th>\n",
       "      <td> 3</td>\n",
       "      <td>    1</td>\n",
       "    </tr>\n",
       "    <tr>\n",
       "      <th>...</th>\n",
       "      <td>...</td>\n",
       "      <td>...</td>\n",
       "    </tr>\n",
       "    <tr>\n",
       "      <th>1000179</th>\n",
       "      <td> 4</td>\n",
       "      <td> 6040</td>\n",
       "    </tr>\n",
       "    <tr>\n",
       "      <th>1000180</th>\n",
       "      <td> 3</td>\n",
       "      <td> 6040</td>\n",
       "    </tr>\n",
       "    <tr>\n",
       "      <th>1000181</th>\n",
       "      <td> 4</td>\n",
       "      <td> 6040</td>\n",
       "    </tr>\n",
       "    <tr>\n",
       "      <th>1000182</th>\n",
       "      <td> 4</td>\n",
       "      <td> 6040</td>\n",
       "    </tr>\n",
       "    <tr>\n",
       "      <th>1000183</th>\n",
       "      <td> 4</td>\n",
       "      <td> 6040</td>\n",
       "    </tr>\n",
       "    <tr>\n",
       "      <th>1000184</th>\n",
       "      <td> 4</td>\n",
       "      <td> 6040</td>\n",
       "    </tr>\n",
       "    <tr>\n",
       "      <th>1000185</th>\n",
       "      <td> 1</td>\n",
       "      <td> 6040</td>\n",
       "    </tr>\n",
       "    <tr>\n",
       "      <th>1000186</th>\n",
       "      <td> 5</td>\n",
       "      <td> 6040</td>\n",
       "    </tr>\n",
       "    <tr>\n",
       "      <th>1000187</th>\n",
       "      <td> 1</td>\n",
       "      <td> 6040</td>\n",
       "    </tr>\n",
       "    <tr>\n",
       "      <th>1000188</th>\n",
       "      <td> 4</td>\n",
       "      <td> 6040</td>\n",
       "    </tr>\n",
       "    <tr>\n",
       "      <th>1000189</th>\n",
       "      <td> 5</td>\n",
       "      <td> 6040</td>\n",
       "    </tr>\n",
       "    <tr>\n",
       "      <th>1000190</th>\n",
       "      <td> 4</td>\n",
       "      <td> 6040</td>\n",
       "    </tr>\n",
       "    <tr>\n",
       "      <th>1000191</th>\n",
       "      <td> 4</td>\n",
       "      <td> 6040</td>\n",
       "    </tr>\n",
       "    <tr>\n",
       "      <th>1000192</th>\n",
       "      <td> 5</td>\n",
       "      <td> 6040</td>\n",
       "    </tr>\n",
       "    <tr>\n",
       "      <th>1000193</th>\n",
       "      <td> 4</td>\n",
       "      <td> 6040</td>\n",
       "    </tr>\n",
       "    <tr>\n",
       "      <th>1000194</th>\n",
       "      <td> 5</td>\n",
       "      <td> 6040</td>\n",
       "    </tr>\n",
       "    <tr>\n",
       "      <th>1000195</th>\n",
       "      <td> 2</td>\n",
       "      <td> 6040</td>\n",
       "    </tr>\n",
       "    <tr>\n",
       "      <th>1000196</th>\n",
       "      <td> 4</td>\n",
       "      <td> 6040</td>\n",
       "    </tr>\n",
       "    <tr>\n",
       "      <th>1000197</th>\n",
       "      <td> 3</td>\n",
       "      <td> 6040</td>\n",
       "    </tr>\n",
       "    <tr>\n",
       "      <th>1000198</th>\n",
       "      <td> 3</td>\n",
       "      <td> 6040</td>\n",
       "    </tr>\n",
       "    <tr>\n",
       "      <th>1000199</th>\n",
       "      <td> 5</td>\n",
       "      <td> 6040</td>\n",
       "    </tr>\n",
       "    <tr>\n",
       "      <th>1000200</th>\n",
       "      <td> 5</td>\n",
       "      <td> 6040</td>\n",
       "    </tr>\n",
       "    <tr>\n",
       "      <th>1000201</th>\n",
       "      <td> 4</td>\n",
       "      <td> 6040</td>\n",
       "    </tr>\n",
       "    <tr>\n",
       "      <th>1000202</th>\n",
       "      <td> 4</td>\n",
       "      <td> 6040</td>\n",
       "    </tr>\n",
       "    <tr>\n",
       "      <th>1000203</th>\n",
       "      <td> 3</td>\n",
       "      <td> 6040</td>\n",
       "    </tr>\n",
       "    <tr>\n",
       "      <th>1000204</th>\n",
       "      <td> 1</td>\n",
       "      <td> 6040</td>\n",
       "    </tr>\n",
       "    <tr>\n",
       "      <th>1000205</th>\n",
       "      <td> 5</td>\n",
       "      <td> 6040</td>\n",
       "    </tr>\n",
       "    <tr>\n",
       "      <th>1000206</th>\n",
       "      <td> 5</td>\n",
       "      <td> 6040</td>\n",
       "    </tr>\n",
       "    <tr>\n",
       "      <th>1000207</th>\n",
       "      <td> 4</td>\n",
       "      <td> 6040</td>\n",
       "    </tr>\n",
       "    <tr>\n",
       "      <th>1000208</th>\n",
       "      <td> 4</td>\n",
       "      <td> 6040</td>\n",
       "    </tr>\n",
       "  </tbody>\n",
       "</table>\n",
       "<p>1000209 rows × 2 columns</p>\n",
       "</div>"
      ],
      "text/plain": [
       "         Rating  UserID\n",
       "0             5       1\n",
       "1             3       1\n",
       "2             3       1\n",
       "3             4       1\n",
       "4             5       1\n",
       "5             3       1\n",
       "6             5       1\n",
       "7             5       1\n",
       "8             4       1\n",
       "9             4       1\n",
       "10            5       1\n",
       "11            4       1\n",
       "12            4       1\n",
       "13            4       1\n",
       "14            5       1\n",
       "15            4       1\n",
       "16            3       1\n",
       "17            4       1\n",
       "18            5       1\n",
       "19            4       1\n",
       "20            3       1\n",
       "21            3       1\n",
       "22            5       1\n",
       "23            5       1\n",
       "24            3       1\n",
       "25            5       1\n",
       "26            4       1\n",
       "27            4       1\n",
       "28            4       1\n",
       "29            3       1\n",
       "...         ...     ...\n",
       "1000179       4    6040\n",
       "1000180       3    6040\n",
       "1000181       4    6040\n",
       "1000182       4    6040\n",
       "1000183       4    6040\n",
       "1000184       4    6040\n",
       "1000185       1    6040\n",
       "1000186       5    6040\n",
       "1000187       1    6040\n",
       "1000188       4    6040\n",
       "1000189       5    6040\n",
       "1000190       4    6040\n",
       "1000191       4    6040\n",
       "1000192       5    6040\n",
       "1000193       4    6040\n",
       "1000194       5    6040\n",
       "1000195       2    6040\n",
       "1000196       4    6040\n",
       "1000197       3    6040\n",
       "1000198       3    6040\n",
       "1000199       5    6040\n",
       "1000200       5    6040\n",
       "1000201       4    6040\n",
       "1000202       4    6040\n",
       "1000203       3    6040\n",
       "1000204       1    6040\n",
       "1000205       5    6040\n",
       "1000206       5    6040\n",
       "1000207       4    6040\n",
       "1000208       4    6040\n",
       "\n",
       "[1000209 rows x 2 columns]"
      ]
     },
     "execution_count": 18,
     "metadata": {},
     "output_type": "execute_result"
    }
   ],
   "source": [
    "ratingData[[\"Rating\",\"UserID\"]]\n",
    "##OR\n",
    "multipleColumns = [\"Rating\",\"UserID\"]\n",
    "ratingData[multipleColumns]\n",
    "\n",
    "ratingData"
   ]
  },
  {
   "cell_type": "markdown",
   "metadata": {},
   "source": [
    "In the multi-column case, you must pass the columns you are interested in as a `List` of `string` values (or as a `variable` that points to that list)."
   ]
  },
  {
   "cell_type": "code",
   "execution_count": 20,
   "metadata": {
    "collapsed": false
   },
   "outputs": [
    {
     "name": "stdout",
     "output_type": "stream",
     "text": [
      "0     978300760\n",
      "1     978302109\n",
      "2     978301968\n",
      "3     978300275\n",
      "4     978824291\n",
      "5     978302268\n",
      "6     978302039\n",
      "7     978300719\n",
      "8     978302268\n",
      "9     978301368\n",
      "10    978824268\n",
      "11    978301752\n",
      "12    978302281\n",
      "13    978302124\n",
      "14    978301753\n",
      "...\n",
      "1000194    964828799\n",
      "1000195    956715648\n",
      "1000196    956704746\n",
      "1000197    956715288\n",
      "1000198    956716374\n",
      "1000199    956716207\n",
      "1000200    956704519\n",
      "1000201    957717322\n",
      "1000202    956704996\n",
      "1000203    956715518\n",
      "1000204    956716541\n",
      "1000205    956704887\n",
      "1000206    956704746\n",
      "1000207    956715648\n",
      "1000208    956715569\n",
      "Name: Timestamp, Length: 1000209, dtype: int64\n"
     ]
    }
   ],
   "source": [
    "# pass in other multiple columns in as column names into the ratingData object\n",
    "#YOUR CODE HERE\n",
    "timestamps = ratingData[\"Timestamp\"]\n",
    "print timestamps"
   ]
  },
  {
   "cell_type": "markdown",
   "metadata": {},
   "source": [
    "Now, on to fixing issue **3**.\n",
    "\n",
    "**pandas** has pretty fantastic date conversion functionality, as long as you know the format of the date data you are using. We know the format of our `Timestamp` column, so we are good to go.\n",
    "\n",
    "As a refresher, it was seconds since epoch time (12:00AM January 1, 1970).\n",
    "\n",
    "The pandas library has a function called `to_datetime` that, when given a column, and some optional parameters, converts the timestamp into nice, prettily formatted text.\n",
    "\n",
    "Lets create a new column called `FormattedTimestamp` by formatting our `Timestamp` column:"
   ]
  },
  {
   "cell_type": "code",
   "execution_count": 25,
   "metadata": {
    "collapsed": false
   },
   "outputs": [
    {
     "data": {
      "text/plain": [
       "0    2000-12-31 22:12:40\n",
       "1    2000-12-31 22:35:09\n",
       "2    2000-12-31 22:32:48\n",
       "3    2000-12-31 22:04:35\n",
       "4    2001-01-06 23:38:11\n",
       "5    2000-12-31 22:37:48\n",
       "6    2000-12-31 22:33:59\n",
       "7    2000-12-31 22:11:59\n",
       "8    2000-12-31 22:37:48\n",
       "9    2000-12-31 22:22:48\n",
       "10   2001-01-06 23:37:48\n",
       "11   2000-12-31 22:29:12\n",
       "12   2000-12-31 22:38:01\n",
       "13   2000-12-31 22:35:24\n",
       "14   2000-12-31 22:29:13\n",
       "...\n",
       "1000194   2000-07-28 23:59:59\n",
       "1000195   2000-04-26 02:20:48\n",
       "1000196   2000-04-25 23:19:06\n",
       "1000197   2000-04-26 02:14:48\n",
       "1000198   2000-04-26 02:32:54\n",
       "1000199   2000-04-26 02:30:07\n",
       "1000200   2000-04-25 23:15:19\n",
       "1000201   2000-05-07 16:35:22\n",
       "1000202   2000-04-25 23:23:16\n",
       "1000203   2000-04-26 02:18:38\n",
       "1000204   2000-04-26 02:35:41\n",
       "1000205   2000-04-25 23:21:27\n",
       "1000206   2000-04-25 23:19:06\n",
       "1000207   2000-04-26 02:20:48\n",
       "1000208   2000-04-26 02:19:29\n",
       "Name: FormattedTimestamp, Length: 1000209, dtype: datetime64[ns]"
      ]
     },
     "execution_count": 25,
     "metadata": {},
     "output_type": "execute_result"
    }
   ],
   "source": [
    "#ratingData['FormattedTimestamp'] = pd.to_datetime(ratingData.Timestamp,unit = 's')\n",
    "ratingData.FormattedTimestamp"
   ]
  },
  {
   "cell_type": "code",
   "execution_count": 22,
   "metadata": {
    "collapsed": false
   },
   "outputs": [
    {
     "data": {
      "text/plain": [
       "0    2000-12-31 22:12:40\n",
       "1    2000-12-31 22:35:09\n",
       "2    2000-12-31 22:32:48\n",
       "3    2000-12-31 22:04:35\n",
       "4    2001-01-06 23:38:11\n",
       "5    2000-12-31 22:37:48\n",
       "6    2000-12-31 22:33:59\n",
       "7    2000-12-31 22:11:59\n",
       "8    2000-12-31 22:37:48\n",
       "9    2000-12-31 22:22:48\n",
       "10   2001-01-06 23:37:48\n",
       "11   2000-12-31 22:29:12\n",
       "12   2000-12-31 22:38:01\n",
       "13   2000-12-31 22:35:24\n",
       "14   2000-12-31 22:29:13\n",
       "...\n",
       "1000194   2000-07-28 23:59:59\n",
       "1000195   2000-04-26 02:20:48\n",
       "1000196   2000-04-25 23:19:06\n",
       "1000197   2000-04-26 02:14:48\n",
       "1000198   2000-04-26 02:32:54\n",
       "1000199   2000-04-26 02:30:07\n",
       "1000200   2000-04-25 23:15:19\n",
       "1000201   2000-05-07 16:35:22\n",
       "1000202   2000-04-25 23:23:16\n",
       "1000203   2000-04-26 02:18:38\n",
       "1000204   2000-04-26 02:35:41\n",
       "1000205   2000-04-25 23:21:27\n",
       "1000206   2000-04-25 23:19:06\n",
       "1000207   2000-04-26 02:20:48\n",
       "1000208   2000-04-26 02:19:29\n",
       "Name: FormattedTimestamp, Length: 1000209, dtype: datetime64[ns]"
      ]
     },
     "execution_count": 22,
     "metadata": {},
     "output_type": "execute_result"
    }
   ],
   "source": [
    "ratingData.FormattedTimestamp"
   ]
  },
  {
   "cell_type": "markdown",
   "metadata": {},
   "source": [
    "Ok, there is a lot going on here, we are creating a new column `FormattedTimestamp` from a computation on another column, so lets work through it. \n",
    "\n",
    "To create a new column, you just use the same syntax as when you want to select a column, except you use a name that isn't found in the dataset's column list. \n",
    "\n",
    "Everything following the `=` sign in the expression is what you want to put into that new column.\n",
    "\n",
    "And what we did following the equals sign is:\n",
    "\n",
    "1. We passed the `Timestamp` column of our ratingData dataset as a mandatory parameter.\n",
    "2. We supplied an optional string parameter called `unit` with the unit of our data as a `string`.\n",
    "\n",
    "(Look at the documentation, and you can see there is lots more stuff you can do with `to_datetime`!).\n",
    "\n",
    "Now, we can simply remove the old `Timestamp` column, since we don't need it anymore!\n",
    "\n",
    "To do so, you simply pass the name of the dataframe and the column you are trying to delete to the `del` function:"
   ]
  },
  {
   "cell_type": "code",
   "execution_count": 27,
   "metadata": {
    "collapsed": false
   },
   "outputs": [
    {
     "name": "stdout",
     "output_type": "stream",
     "text": [
      "Columns before removal:  Index([u'UserID', u'MovieID', u'Rating', u'FormattedTimestamp'], dtype='object')\n"
     ]
    },
    {
     "ename": "KeyError",
     "evalue": "'Timestamp'",
     "output_type": "error",
     "traceback": [
      "\u001b[0;31m---------------------------------------------------------------------------\u001b[0m",
      "\u001b[0;31mKeyError\u001b[0m                                  Traceback (most recent call last)",
      "\u001b[0;32m<ipython-input-27-5bc847efa401>\u001b[0m in \u001b[0;36m<module>\u001b[0;34m()\u001b[0m\n\u001b[1;32m      1\u001b[0m \u001b[0;32mprint\u001b[0m \u001b[0;34m\"Columns before removal: \"\u001b[0m\u001b[0;34m,\u001b[0m \u001b[0mratingData\u001b[0m\u001b[0;34m.\u001b[0m\u001b[0mcolumns\u001b[0m\u001b[0;34m\u001b[0m\u001b[0m\n\u001b[0;32m----> 2\u001b[0;31m \u001b[0;32mdel\u001b[0m \u001b[0mratingData\u001b[0m\u001b[0;34m[\u001b[0m\u001b[0;34m'Timestamp'\u001b[0m\u001b[0;34m]\u001b[0m\u001b[0;34m\u001b[0m\u001b[0m\n\u001b[0m\u001b[1;32m      3\u001b[0m \u001b[0;32mprint\u001b[0m \u001b[0;34m\"Columns after removal: \"\u001b[0m\u001b[0;34m,\u001b[0m \u001b[0mratingData\u001b[0m\u001b[0;34m.\u001b[0m\u001b[0mcolumns\u001b[0m\u001b[0;34m\u001b[0m\u001b[0m\n",
      "\u001b[0;32m/usr/local/lib/python2.7/site-packages/pandas/core/generic.pyc\u001b[0m in \u001b[0;36m__delitem__\u001b[0;34m(self, key)\u001b[0m\n\u001b[1;32m   1305\u001b[0m             \u001b[0;31m# there was no match, this call should raise the appropriate\u001b[0m\u001b[0;34m\u001b[0m\u001b[0;34m\u001b[0m\u001b[0m\n\u001b[1;32m   1306\u001b[0m             \u001b[0;31m# exception:\u001b[0m\u001b[0;34m\u001b[0m\u001b[0;34m\u001b[0m\u001b[0m\n\u001b[0;32m-> 1307\u001b[0;31m             \u001b[0mself\u001b[0m\u001b[0;34m.\u001b[0m\u001b[0m_data\u001b[0m\u001b[0;34m.\u001b[0m\u001b[0mdelete\u001b[0m\u001b[0;34m(\u001b[0m\u001b[0mkey\u001b[0m\u001b[0;34m)\u001b[0m\u001b[0;34m\u001b[0m\u001b[0m\n\u001b[0m\u001b[1;32m   1308\u001b[0m \u001b[0;34m\u001b[0m\u001b[0m\n\u001b[1;32m   1309\u001b[0m         \u001b[0;32mtry\u001b[0m\u001b[0;34m:\u001b[0m\u001b[0;34m\u001b[0m\u001b[0m\n",
      "\u001b[0;32m/usr/local/lib/python2.7/site-packages/pandas/core/internals.pyc\u001b[0m in \u001b[0;36mdelete\u001b[0;34m(self, item)\u001b[0m\n\u001b[1;32m   2905\u001b[0m         \u001b[0mDelete\u001b[0m \u001b[0mselected\u001b[0m \u001b[0mitem\u001b[0m \u001b[0;34m(\u001b[0m\u001b[0mitems\u001b[0m \u001b[0;32mif\u001b[0m \u001b[0mnon\u001b[0m\u001b[0;34m-\u001b[0m\u001b[0munique\u001b[0m\u001b[0;34m)\u001b[0m \u001b[0;32min\u001b[0m\u001b[0;34m-\u001b[0m\u001b[0mplace\u001b[0m\u001b[0;34m.\u001b[0m\u001b[0;34m\u001b[0m\u001b[0m\n\u001b[1;32m   2906\u001b[0m         \"\"\"\n\u001b[0;32m-> 2907\u001b[0;31m         \u001b[0mindexer\u001b[0m \u001b[0;34m=\u001b[0m \u001b[0mself\u001b[0m\u001b[0;34m.\u001b[0m\u001b[0mitems\u001b[0m\u001b[0;34m.\u001b[0m\u001b[0mget_loc\u001b[0m\u001b[0;34m(\u001b[0m\u001b[0mitem\u001b[0m\u001b[0;34m)\u001b[0m\u001b[0;34m\u001b[0m\u001b[0m\n\u001b[0m\u001b[1;32m   2908\u001b[0m \u001b[0;34m\u001b[0m\u001b[0m\n\u001b[1;32m   2909\u001b[0m         \u001b[0mis_deleted\u001b[0m \u001b[0;34m=\u001b[0m \u001b[0mnp\u001b[0m\u001b[0;34m.\u001b[0m\u001b[0mzeros\u001b[0m\u001b[0;34m(\u001b[0m\u001b[0mself\u001b[0m\u001b[0;34m.\u001b[0m\u001b[0mshape\u001b[0m\u001b[0;34m[\u001b[0m\u001b[0;36m0\u001b[0m\u001b[0;34m]\u001b[0m\u001b[0;34m,\u001b[0m \u001b[0mdtype\u001b[0m\u001b[0;34m=\u001b[0m\u001b[0mnp\u001b[0m\u001b[0;34m.\u001b[0m\u001b[0mbool_\u001b[0m\u001b[0;34m)\u001b[0m\u001b[0;34m\u001b[0m\u001b[0m\n",
      "\u001b[0;32m/usr/local/lib/python2.7/site-packages/pandas/core/index.pyc\u001b[0m in \u001b[0;36mget_loc\u001b[0;34m(self, key)\u001b[0m\n\u001b[1;32m   1400\u001b[0m         \u001b[0mloc\u001b[0m \u001b[0;34m:\u001b[0m \u001b[0mint\u001b[0m \u001b[0;32mif\u001b[0m \u001b[0munique\u001b[0m \u001b[0mindex\u001b[0m\u001b[0;34m,\u001b[0m \u001b[0mpossibly\u001b[0m \u001b[0mslice\u001b[0m \u001b[0;32mor\u001b[0m \u001b[0mmask\u001b[0m \u001b[0;32mif\u001b[0m \u001b[0;32mnot\u001b[0m\u001b[0;34m\u001b[0m\u001b[0m\n\u001b[1;32m   1401\u001b[0m         \"\"\"\n\u001b[0;32m-> 1402\u001b[0;31m         \u001b[0;32mreturn\u001b[0m \u001b[0mself\u001b[0m\u001b[0;34m.\u001b[0m\u001b[0m_engine\u001b[0m\u001b[0;34m.\u001b[0m\u001b[0mget_loc\u001b[0m\u001b[0;34m(\u001b[0m\u001b[0m_values_from_object\u001b[0m\u001b[0;34m(\u001b[0m\u001b[0mkey\u001b[0m\u001b[0;34m)\u001b[0m\u001b[0;34m)\u001b[0m\u001b[0;34m\u001b[0m\u001b[0m\n\u001b[0m\u001b[1;32m   1403\u001b[0m \u001b[0;34m\u001b[0m\u001b[0m\n\u001b[1;32m   1404\u001b[0m     \u001b[0;32mdef\u001b[0m \u001b[0mget_value\u001b[0m\u001b[0;34m(\u001b[0m\u001b[0mself\u001b[0m\u001b[0;34m,\u001b[0m \u001b[0mseries\u001b[0m\u001b[0;34m,\u001b[0m \u001b[0mkey\u001b[0m\u001b[0;34m)\u001b[0m\u001b[0;34m:\u001b[0m\u001b[0;34m\u001b[0m\u001b[0m\n",
      "\u001b[0;32mpandas/index.pyx\u001b[0m in \u001b[0;36mpandas.index.IndexEngine.get_loc (pandas/index.c:3807)\u001b[0;34m()\u001b[0m\n",
      "\u001b[0;32mpandas/index.pyx\u001b[0m in \u001b[0;36mpandas.index.IndexEngine.get_loc (pandas/index.c:3687)\u001b[0;34m()\u001b[0m\n",
      "\u001b[0;32mpandas/hashtable.pyx\u001b[0m in \u001b[0;36mpandas.hashtable.PyObjectHashTable.get_item (pandas/hashtable.c:12310)\u001b[0;34m()\u001b[0m\n",
      "\u001b[0;32mpandas/hashtable.pyx\u001b[0m in \u001b[0;36mpandas.hashtable.PyObjectHashTable.get_item (pandas/hashtable.c:12261)\u001b[0;34m()\u001b[0m\n",
      "\u001b[0;31mKeyError\u001b[0m: 'Timestamp'"
     ]
    }
   ],
   "source": [
    "print \"Columns before removal: \", ratingData.columns\n",
    "del ratingData[\"Timestamp\"]\n",
    "print \"Columns after removal: \", ratingData.columns"
   ]
  },
  {
   "cell_type": "markdown",
   "metadata": {},
   "source": [
    "The `del` operation simply deletes the columns you specify from the given `DataFrame`.\n",
    "\n",
    "One more thing about dates before we move on, once you've got them converted to the pretty format we saw above, you can access all kinds of information from each date by calling the `dt` module from within the column that stores your dates.\n",
    "\n",
    "So, as an example, getting the year of every row in our dataset is as simple as:"
   ]
  },
  {
   "cell_type": "code",
   "execution_count": 32,
   "metadata": {
    "collapsed": false
   },
   "outputs": [
    {
     "data": {
      "text/plain": [
       "0     31\n",
       "1     31\n",
       "2     31\n",
       "3     31\n",
       "4      6\n",
       "5     31\n",
       "6     31\n",
       "7     31\n",
       "8     31\n",
       "9     31\n",
       "10     6\n",
       "11    31\n",
       "12    31\n",
       "13    31\n",
       "14    31\n",
       "...\n",
       "1000194    28\n",
       "1000195    26\n",
       "1000196    25\n",
       "1000197    26\n",
       "1000198    26\n",
       "1000199    26\n",
       "1000200    25\n",
       "1000201     7\n",
       "1000202    25\n",
       "1000203    26\n",
       "1000204    26\n",
       "1000205    25\n",
       "1000206    25\n",
       "1000207    26\n",
       "1000208    26\n",
       "Length: 1000209, dtype: int64"
      ]
     },
     "execution_count": 32,
     "metadata": {},
     "output_type": "execute_result"
    }
   ],
   "source": [
    "ratingData.FormattedTimestamp.dt.day"
   ]
  },
  {
   "cell_type": "markdown",
   "metadata": {},
   "source": [
    "Other properties (like day, hour, day of month, etc.) are available as well.\n",
    "\n",
    "Again, just check the [timestamp documentation.](http://pandas.pydata.org/pandas-docs/stable/timeseries.html)."
   ]
  },
  {
   "cell_type": "code",
   "execution_count": null,
   "metadata": {
    "collapsed": true
   },
   "outputs": [],
   "source": [
    "#try using the other functions found in the dt module: call ratingData.FormattedTimestamp.dt. and the Tab key\n",
    "#to see what else is offered\n",
    "#YOUR CODE HERE\n",
    "\n",
    "\n"
   ]
  },
  {
   "cell_type": "markdown",
   "metadata": {},
   "source": [
    "One note about the outputs of calling these datetime **properties.** When you call the property on a single value (like a single row) or on an entire column you will get a `Series` object returned to you, which is the **pandas** representation of a single column.\n",
    "\n",
    "`Series` objects are different from `DataFrame` objects (which we've been working with exclusively thus far) because they can be appended (attached) as new columns to your dataset (which is already a `DataFrame` object) without any problems.\n",
    "\n",
    "So if you want to store the `year` of every row in a new column called `year` then do:"
   ]
  },
  {
   "cell_type": "code",
   "execution_count": 33,
   "metadata": {
    "collapsed": false
   },
   "outputs": [],
   "source": [
    "ratingData[\"year\"] = ratingData.FormattedTimestamp.dt.year"
   ]
  },
  {
   "cell_type": "code",
   "execution_count": 35,
   "metadata": {
    "collapsed": false
   },
   "outputs": [],
   "source": [
    "#make another column called \"month\" and call the appropriate function to store the month of each rating\n",
    "#do the same thing for \"day\", just to get a good handle on the kinds of things you can do\n",
    "#YOUR CODE HERE\n",
    "\n",
    "ratingData[\"month\"] = ratingData.FormattedTimestamp.dt.month"
   ]
  },
  {
   "cell_type": "code",
   "execution_count": 41,
   "metadata": {
    "collapsed": false
   },
   "outputs": [
    {
     "data": {
      "text/plain": [
       "'0.15.2'"
      ]
     },
     "execution_count": 41,
     "metadata": {},
     "output_type": "execute_result"
    }
   ],
   "source": [
    "pd.__version__"
   ]
  },
  {
   "cell_type": "markdown",
   "metadata": {},
   "source": [
    "Let's move on and get a better feel for our dataset now.\n",
    "\n",
    "What if we wanted to know the exact shape of our dataset? That is, the *exact* number of rows and columns found in it? (I told you there were ~1,000,000 ratings here, but exactly how many are there?\n",
    "\n",
    "We can use another **property** that is available in our `ratingData` object called `shape`:"
   ]
  },
  {
   "cell_type": "code",
   "execution_count": 38,
   "metadata": {
    "collapsed": false
   },
   "outputs": [],
   "source": [
    "(numRows,numColumns) = ratingData.shape"
   ]
  },
  {
   "cell_type": "code",
   "execution_count": 40,
   "metadata": {
    "collapsed": false
   },
   "outputs": [
    {
     "name": "stdout",
     "output_type": "stream",
     "text": [
      "1000209\n",
      "6\n"
     ]
    }
   ],
   "source": [
    "print numRows\n",
    "print numColumns"
   ]
  },
  {
   "cell_type": "markdown",
   "metadata": {},
   "source": [
    "The `shape` property (which doesn't have any documentation, unfortunately), tells us the number of dimensions and the number of values in each dimension in our dataset (we can have 1, 2, or more dimensions in our dataset, after all), as a tuple (a very common datatype in **Python** that is of a fixed size and cannot be changed)."
   ]
  },
  {
   "cell_type": "markdown",
   "metadata": {},
   "source": [
    "As a brief aside, you saw that I just said **property** and not **function** right? \n",
    "\n",
    "That means, this value is available to us as part of the dataset intrinsically and cannot be changed based on inputs (in CS parlance, it is read-only), and doesn't have to be called like `unique(), head(), tail(), max(), mean()` and all the other functions that are re-computed on the dataset because they can effectively change! \n",
    "\n",
    "(Another example property that is available to you and that you've already used is `dtypes`)"
   ]
  },
  {
   "cell_type": "markdown",
   "metadata": {},
   "source": [
    "Ok, back to `shape`.\n",
    "\n",
    "The number of dimensions in our dataset is the arity of the tuple (the number of commas + 1) and the numbers between commas tell us the number of distinct values in that dimension. So the **arity is 2 because all we have are rows and columns.** \n",
    "\n",
    "So, we have **1,000,209 distinct values in the first dimension** (here they are our ratings, or **rows**) and **4 distinct values in the second dimension** (here the second dimension is our **columns**, and is as we expect, since we just added a new column and deleted an old one)."
   ]
  },
  {
   "cell_type": "markdown",
   "metadata": {},
   "source": [
    "Now that you have a bit of **pandas** functionality at your disposal, you should give me the answer to the following questions by writing a bit of code:\n",
    "\n",
    "1. How many users are there in the dataset?\n",
    "2. How many movies are in the dataset?\n",
    "3. How many unique times are in the dataset?\n",
    "\n",
    "**Hint: All you need is the `unique()` function and the `shape` property to answer these questions!**"
   ]
  },
  {
   "cell_type": "code",
   "execution_count": 42,
   "metadata": {
    "collapsed": false
   },
   "outputs": [
    {
     "name": "stdout",
     "output_type": "stream",
     "text": [
      "There are 6040 unique users, 3706  unique movies, and 458455 unique times in this dataset.\n"
     ]
    }
   ],
   "source": [
    "##WRITE YOUR CODE HERE, replace \"pass\" with your code in all 3 cases\n",
    "numUsers = ratingData.UserID.unique().shape\n",
    "numMovies = ratingData.MovieID.unique().shape\n",
    "numTimes = ratingData.FormattedTimestamp.unique().shape\n",
    "\n",
    "print \"There are\",numUsers[0],\"unique users,\",numMovies[0],\\\n",
    "\" unique movies, and\",numTimes[0],\"unique times in this dataset.\""
   ]
  },
  {
   "cell_type": "code",
   "execution_count": null,
   "metadata": {
    "collapsed": true
   },
   "outputs": [],
   "source": [
    "ratingData.FormattedTimestamp"
   ]
  },
  {
   "cell_type": "markdown",
   "metadata": {},
   "source": [
    "Awesome! You've written your first bit of code using **pandas** and have actually answered some useful questions about this dataset! Pats on the back all around, and lets keep exploring!"
   ]
  },
  {
   "cell_type": "markdown",
   "metadata": {},
   "source": [
    "Now, let's look at the ratings in the dataset to get a feel for their central values and spread:"
   ]
  },
  {
   "cell_type": "code",
   "execution_count": 43,
   "metadata": {
    "collapsed": false
   },
   "outputs": [
    {
     "name": "stdout",
     "output_type": "stream",
     "text": [
      "The average rating in the dataset is: 3.58156445303\n",
      "The middle rating in the dataset is: 4.0\n",
      "The standard deviation of the ratings is: 1.11710184538\n"
     ]
    }
   ],
   "source": [
    "print \"The average rating in the dataset is:\",ratingData.Rating.mean()\n",
    "print \"The middle rating in the dataset is:\",ratingData.Rating.median()\n",
    "print \"The standard deviation of the ratings is:\",ratingData.Rating.std()"
   ]
  },
  {
   "cell_type": "markdown",
   "metadata": {},
   "source": [
    "So it looks like the people in our dataset don't like to rate movies too low, as the movies have  an average rating >3 (which is supposed to be average on a 1-5 scale).\n",
    "\n",
    "The functions `mean`,`median`, and `std` compute exactly what you expect (the mean, median, and standard deviation {or spread} of a given set of values) and can even be applied to the entire dataset (although in our case, that doesnt make too much sense as all the other columns, except `Timestamp` are numeric mappings of categorical data)."
   ]
  },
  {
   "cell_type": "code",
   "execution_count": 44,
   "metadata": {
    "collapsed": false
   },
   "outputs": [
    {
     "data": {
      "text/plain": [
       "UserID     3024.512348\n",
       "MovieID    1865.539898\n",
       "Rating        3.581564\n",
       "year       2000.126168\n",
       "month         8.710371\n",
       "dtype: float64"
      ]
     },
     "execution_count": 44,
     "metadata": {},
     "output_type": "execute_result"
    }
   ],
   "source": [
    "ratingData.mean()"
   ]
  },
  {
   "cell_type": "code",
   "execution_count": 45,
   "metadata": {
    "collapsed": false
   },
   "outputs": [
    {
     "data": {
      "text/plain": [
       "UserID     3070\n",
       "MovieID    1835\n",
       "Rating        4\n",
       "year       2000\n",
       "month         9\n",
       "dtype: float64"
      ]
     },
     "execution_count": 45,
     "metadata": {},
     "output_type": "execute_result"
    }
   ],
   "source": [
    "ratingData.median()"
   ]
  },
  {
   "cell_type": "code",
   "execution_count": 47,
   "metadata": {
    "collapsed": false
   },
   "outputs": [
    {
     "data": {
      "text/plain": [
       "UserID                                  1\n",
       "MovieID                                 1\n",
       "Rating                                  1\n",
       "FormattedTimestamp    2000-04-25 23:05:32\n",
       "year                                 2000\n",
       "month                                   1\n",
       "dtype: object"
      ]
     },
     "execution_count": 47,
     "metadata": {},
     "output_type": "execute_result"
    }
   ],
   "source": [
    "ratingData.min()"
   ]
  },
  {
   "cell_type": "markdown",
   "metadata": {},
   "source": [
    "Other descriptive stats can be computed as well (min/max, sum, variance, skew, kurtosis, etc.). Just take a look at the [descriptive statistics](http://pandas.pydata.org/pandas-docs/stable/basics.html#descriptive-statistics) documentation!  "
   ]
  },
  {
   "cell_type": "code",
   "execution_count": null,
   "metadata": {
    "collapsed": true
   },
   "outputs": [],
   "source": [
    "#Look at the descriptive statistics documentation and print a couple more descriptive stats on just the \n",
    "#\"Rating\" column. You get to choose what stats you want to print\n",
    "#YOUR CODE HERE\n",
    "\n",
    "\n"
   ]
  },
  {
   "cell_type": "markdown",
   "metadata": {},
   "source": [
    "Now time for a little trick! \n",
    "\n",
    "If you want all these basic statistics and a few more, just use the `describe` function, which works just like the others mentioned above (you can call it on just a single column, or the whole dataset)."
   ]
  },
  {
   "cell_type": "code",
   "execution_count": 51,
   "metadata": {
    "collapsed": false
   },
   "outputs": [
    {
     "data": {
      "text/plain": [
       "4    348971\n",
       "3    261197\n",
       "5    226310\n",
       "2    107557\n",
       "1     56174\n",
       "dtype: int64"
      ]
     },
     "execution_count": 51,
     "metadata": {},
     "output_type": "execute_result"
    }
   ],
   "source": [
    "ratingData.Rating.value_counts()"
   ]
  },
  {
   "cell_type": "markdown",
   "metadata": {},
   "source": [
    "Now lets learn how to subselect values within dataframes.\n",
    "\n",
    "Subselection in **pandas** works along the following very common pattern:\n",
    "\n",
    "1. You create a condition that can be evaluated to either **true** or **false** for every row in the dataset and store the outcome in a variable (this is traditionally called a **mask**).\n",
    "2. You apply that **mask** onto your `DataFrame` (dataset).\n",
    "\n",
    "Let's try this subselection + application with the ratings in our dataset by only getting all of the really low ratings (lets say low ratings are those that are < 3) in our dataset.\n",
    "\n",
    "We will create a mask that expresses our \"crappy ratings\" condition, and then apply that mask to our dataset."
   ]
  },
  {
   "cell_type": "code",
   "execution_count": 53,
   "metadata": {
    "collapsed": false
   },
   "outputs": [],
   "source": [
    "crappyRatingMask = ratingData.Rating < 3\n",
    "#crappyRatingMask\n",
    "crappyRatings = ratingData[crappyRatingMask]"
   ]
  },
  {
   "cell_type": "code",
   "execution_count": 57,
   "metadata": {
    "collapsed": false
   },
   "outputs": [
    {
     "data": {
      "text/plain": [
       "array([2, 1])"
      ]
     },
     "execution_count": 57,
     "metadata": {},
     "output_type": "execute_result"
    }
   ],
   "source": [
    "crappyRatings.Rating.unique()"
   ]
  },
  {
   "cell_type": "raw",
   "metadata": {},
   "source": []
  },
  {
   "cell_type": "code",
   "execution_count": 91,
   "metadata": {
    "collapsed": false
   },
   "outputs": [
    {
     "name": "stdout",
     "output_type": "stream",
     "text": [
      "[2 1]\n"
     ]
    },
    {
     "data": {
      "text/html": [
       "<div style=\"max-height:1000px;max-width:1500px;overflow:auto;\">\n",
       "<table border=\"1\" class=\"dataframe\">\n",
       "  <thead>\n",
       "    <tr style=\"text-align: right;\">\n",
       "      <th></th>\n",
       "      <th>UserID</th>\n",
       "      <th>MovieID</th>\n",
       "      <th>Rating</th>\n",
       "      <th>FormattedTimestamp</th>\n",
       "    </tr>\n",
       "  </thead>\n",
       "  <tbody>\n",
       "    <tr>\n",
       "      <th>67  </th>\n",
       "      <td>  2</td>\n",
       "      <td> 1213</td>\n",
       "      <td> 2</td>\n",
       "      <td>2000-12-31 21:34:18</td>\n",
       "    </tr>\n",
       "    <tr>\n",
       "      <th>73  </th>\n",
       "      <td>  2</td>\n",
       "      <td>  434</td>\n",
       "      <td> 2</td>\n",
       "      <td>2000-12-31 22:02:54</td>\n",
       "    </tr>\n",
       "    <tr>\n",
       "      <th>75  </th>\n",
       "      <td>  2</td>\n",
       "      <td> 3107</td>\n",
       "      <td> 2</td>\n",
       "      <td>2000-12-31 22:00:02</td>\n",
       "    </tr>\n",
       "    <tr>\n",
       "      <th>83  </th>\n",
       "      <td>  2</td>\n",
       "      <td>  902</td>\n",
       "      <td> 2</td>\n",
       "      <td>2000-12-31 21:41:45</td>\n",
       "    </tr>\n",
       "    <tr>\n",
       "      <th>91  </th>\n",
       "      <td>  2</td>\n",
       "      <td> 3256</td>\n",
       "      <td> 2</td>\n",
       "      <td>2000-12-31 21:57:19</td>\n",
       "    </tr>\n",
       "    <tr>\n",
       "      <th>114 </th>\n",
       "      <td>  2</td>\n",
       "      <td> 3699</td>\n",
       "      <td> 2</td>\n",
       "      <td>2000-12-31 21:46:13</td>\n",
       "    </tr>\n",
       "    <tr>\n",
       "      <th>125 </th>\n",
       "      <td>  2</td>\n",
       "      <td> 2427</td>\n",
       "      <td> 2</td>\n",
       "      <td>2000-12-31 21:58:33</td>\n",
       "    </tr>\n",
       "    <tr>\n",
       "      <th>133 </th>\n",
       "      <td>  2</td>\n",
       "      <td>   95</td>\n",
       "      <td> 2</td>\n",
       "      <td>2000-12-31 22:02:23</td>\n",
       "    </tr>\n",
       "    <tr>\n",
       "      <th>148 </th>\n",
       "      <td>  2</td>\n",
       "      <td>   21</td>\n",
       "      <td> 1</td>\n",
       "      <td>2000-12-31 21:57:19</td>\n",
       "    </tr>\n",
       "    <tr>\n",
       "      <th>151 </th>\n",
       "      <td>  2</td>\n",
       "      <td> 1090</td>\n",
       "      <td> 2</td>\n",
       "      <td>2000-12-31 21:36:20</td>\n",
       "    </tr>\n",
       "    <tr>\n",
       "      <th>174 </th>\n",
       "      <td>  2</td>\n",
       "      <td> 1968</td>\n",
       "      <td> 2</td>\n",
       "      <td>2000-12-31 21:41:21</td>\n",
       "    </tr>\n",
       "    <tr>\n",
       "      <th>178 </th>\n",
       "      <td>  2</td>\n",
       "      <td> 1245</td>\n",
       "      <td> 2</td>\n",
       "      <td>2000-12-31 21:46:40</td>\n",
       "    </tr>\n",
       "    <tr>\n",
       "      <th>180 </th>\n",
       "      <td>  2</td>\n",
       "      <td> 3893</td>\n",
       "      <td> 1</td>\n",
       "      <td>2000-12-31 21:52:15</td>\n",
       "    </tr>\n",
       "    <tr>\n",
       "      <th>183 </th>\n",
       "      <td>  3</td>\n",
       "      <td> 1641</td>\n",
       "      <td> 2</td>\n",
       "      <td>2000-12-31 21:33:50</td>\n",
       "    </tr>\n",
       "    <tr>\n",
       "      <th>200 </th>\n",
       "      <td>  3</td>\n",
       "      <td> 3619</td>\n",
       "      <td> 2</td>\n",
       "      <td>2000-12-31 21:30:01</td>\n",
       "    </tr>\n",
       "    <tr>\n",
       "      <th>205 </th>\n",
       "      <td>  3</td>\n",
       "      <td> 1261</td>\n",
       "      <td> 1</td>\n",
       "      <td>2000-12-31 21:21:03</td>\n",
       "    </tr>\n",
       "    <tr>\n",
       "      <th>208 </th>\n",
       "      <td>  3</td>\n",
       "      <td> 1265</td>\n",
       "      <td> 2</td>\n",
       "      <td>2000-12-31 21:31:56</td>\n",
       "    </tr>\n",
       "    <tr>\n",
       "      <th>224 </th>\n",
       "      <td>  3</td>\n",
       "      <td> 2617</td>\n",
       "      <td> 2</td>\n",
       "      <td>2000-12-31 21:23:57</td>\n",
       "    </tr>\n",
       "    <tr>\n",
       "      <th>241 </th>\n",
       "      <td>  4</td>\n",
       "      <td> 1196</td>\n",
       "      <td> 2</td>\n",
       "      <td>2000-12-31 20:23:19</td>\n",
       "    </tr>\n",
       "    <tr>\n",
       "      <th>249 </th>\n",
       "      <td>  4</td>\n",
       "      <td> 3527</td>\n",
       "      <td> 1</td>\n",
       "      <td>2000-12-31 20:20:08</td>\n",
       "    </tr>\n",
       "    <tr>\n",
       "      <th>258 </th>\n",
       "      <td>  5</td>\n",
       "      <td>  288</td>\n",
       "      <td> 2</td>\n",
       "      <td>2000-12-31 07:09:45</td>\n",
       "    </tr>\n",
       "    <tr>\n",
       "      <th>262 </th>\n",
       "      <td>  5</td>\n",
       "      <td> 2268</td>\n",
       "      <td> 2</td>\n",
       "      <td>2000-12-31 07:00:33</td>\n",
       "    </tr>\n",
       "    <tr>\n",
       "      <th>264 </th>\n",
       "      <td>  5</td>\n",
       "      <td>  860</td>\n",
       "      <td> 2</td>\n",
       "      <td>2000-12-31 06:34:53</td>\n",
       "    </tr>\n",
       "    <tr>\n",
       "      <th>268 </th>\n",
       "      <td>  5</td>\n",
       "      <td> 2916</td>\n",
       "      <td> 1</td>\n",
       "      <td>2000-12-31 06:54:05</td>\n",
       "    </tr>\n",
       "    <tr>\n",
       "      <th>272 </th>\n",
       "      <td>  5</td>\n",
       "      <td>  501</td>\n",
       "      <td> 1</td>\n",
       "      <td>2000-12-31 06:26:41</td>\n",
       "    </tr>\n",
       "    <tr>\n",
       "      <th>273 </th>\n",
       "      <td>  5</td>\n",
       "      <td> 3578</td>\n",
       "      <td> 2</td>\n",
       "      <td>2000-12-31 06:23:23</td>\n",
       "    </tr>\n",
       "    <tr>\n",
       "      <th>276 </th>\n",
       "      <td>  5</td>\n",
       "      <td> 3793</td>\n",
       "      <td> 2</td>\n",
       "      <td>2000-12-31 06:12:50</td>\n",
       "    </tr>\n",
       "    <tr>\n",
       "      <th>280 </th>\n",
       "      <td>  5</td>\n",
       "      <td> 2058</td>\n",
       "      <td> 1</td>\n",
       "      <td>2000-12-31 06:55:40</td>\n",
       "    </tr>\n",
       "    <tr>\n",
       "      <th>290 </th>\n",
       "      <td>  5</td>\n",
       "      <td> 3079</td>\n",
       "      <td> 2</td>\n",
       "      <td>2000-12-31 07:02:42</td>\n",
       "    </tr>\n",
       "    <tr>\n",
       "      <th>293 </th>\n",
       "      <td>  5</td>\n",
       "      <td>  150</td>\n",
       "      <td> 2</td>\n",
       "      <td>2000-12-31 06:56:03</td>\n",
       "    </tr>\n",
       "    <tr>\n",
       "      <th>...</th>\n",
       "      <td>...</td>\n",
       "      <td>...</td>\n",
       "      <td>...</td>\n",
       "      <td>...</td>\n",
       "    </tr>\n",
       "    <tr>\n",
       "      <th>435 </th>\n",
       "      <td>  5</td>\n",
       "      <td> 1747</td>\n",
       "      <td> 2</td>\n",
       "      <td>2000-12-31 06:54:23</td>\n",
       "    </tr>\n",
       "    <tr>\n",
       "      <th>439 </th>\n",
       "      <td>  5</td>\n",
       "      <td> 1966</td>\n",
       "      <td> 2</td>\n",
       "      <td>2000-12-31 06:58:51</td>\n",
       "    </tr>\n",
       "    <tr>\n",
       "      <th>441 </th>\n",
       "      <td>  5</td>\n",
       "      <td>  353</td>\n",
       "      <td> 2</td>\n",
       "      <td>2000-12-31 07:08:24</td>\n",
       "    </tr>\n",
       "    <tr>\n",
       "      <th>448 </th>\n",
       "      <td>  5</td>\n",
       "      <td>  356</td>\n",
       "      <td> 1</td>\n",
       "      <td>2000-12-31 05:38:32</td>\n",
       "    </tr>\n",
       "    <tr>\n",
       "      <th>449 </th>\n",
       "      <td>  5</td>\n",
       "      <td>  357</td>\n",
       "      <td> 2</td>\n",
       "      <td>2000-12-31 06:57:09</td>\n",
       "    </tr>\n",
       "    <tr>\n",
       "      <th>463 </th>\n",
       "      <td>  6</td>\n",
       "      <td>  296</td>\n",
       "      <td> 2</td>\n",
       "      <td>2000-12-31 04:36:19</td>\n",
       "    </tr>\n",
       "    <tr>\n",
       "      <th>471 </th>\n",
       "      <td>  6</td>\n",
       "      <td> 2858</td>\n",
       "      <td> 1</td>\n",
       "      <td>2000-12-31 04:26:49</td>\n",
       "    </tr>\n",
       "    <tr>\n",
       "      <th>575 </th>\n",
       "      <td>  8</td>\n",
       "      <td> 2490</td>\n",
       "      <td> 2</td>\n",
       "      <td>2000-12-31 02:21:33</td>\n",
       "    </tr>\n",
       "    <tr>\n",
       "      <th>594 </th>\n",
       "      <td>  8</td>\n",
       "      <td> 2429</td>\n",
       "      <td> 2</td>\n",
       "      <td>2000-12-31 03:04:50</td>\n",
       "    </tr>\n",
       "    <tr>\n",
       "      <th>623 </th>\n",
       "      <td>  8</td>\n",
       "      <td>  393</td>\n",
       "      <td> 2</td>\n",
       "      <td>2000-12-31 02:18:58</td>\n",
       "    </tr>\n",
       "    <tr>\n",
       "      <th>628 </th>\n",
       "      <td>  8</td>\n",
       "      <td> 3173</td>\n",
       "      <td> 2</td>\n",
       "      <td>2000-12-31 03:06:52</td>\n",
       "    </tr>\n",
       "    <tr>\n",
       "      <th>659 </th>\n",
       "      <td>  8</td>\n",
       "      <td> 2600</td>\n",
       "      <td> 2</td>\n",
       "      <td>2000-12-31 02:23:11</td>\n",
       "    </tr>\n",
       "    <tr>\n",
       "      <th>675 </th>\n",
       "      <td>  8</td>\n",
       "      <td> 2320</td>\n",
       "      <td> 2</td>\n",
       "      <td>2000-12-31 03:03:22</td>\n",
       "    </tr>\n",
       "    <tr>\n",
       "      <th>682 </th>\n",
       "      <td>  8</td>\n",
       "      <td> 1810</td>\n",
       "      <td> 2</td>\n",
       "      <td>2000-12-31 02:50:31</td>\n",
       "    </tr>\n",
       "    <tr>\n",
       "      <th>696 </th>\n",
       "      <td>  9</td>\n",
       "      <td>  861</td>\n",
       "      <td> 2</td>\n",
       "      <td>2000-12-31 01:37:45</td>\n",
       "    </tr>\n",
       "    <tr>\n",
       "      <th>720 </th>\n",
       "      <td>  9</td>\n",
       "      <td> 1552</td>\n",
       "      <td> 2</td>\n",
       "      <td>2000-12-31 01:18:09</td>\n",
       "    </tr>\n",
       "    <tr>\n",
       "      <th>732 </th>\n",
       "      <td>  9</td>\n",
       "      <td> 3301</td>\n",
       "      <td> 2</td>\n",
       "      <td>2000-12-31 01:21:58</td>\n",
       "    </tr>\n",
       "    <tr>\n",
       "      <th>740 </th>\n",
       "      <td>  9</td>\n",
       "      <td> 3452</td>\n",
       "      <td> 2</td>\n",
       "      <td>2000-12-31 01:22:26</td>\n",
       "    </tr>\n",
       "    <tr>\n",
       "      <th>754 </th>\n",
       "      <td>  9</td>\n",
       "      <td> 3826</td>\n",
       "      <td> 2</td>\n",
       "      <td>2000-12-31 01:22:38</td>\n",
       "    </tr>\n",
       "    <tr>\n",
       "      <th>756 </th>\n",
       "      <td>  9</td>\n",
       "      <td> 3755</td>\n",
       "      <td> 2</td>\n",
       "      <td>2000-12-31 01:20:13</td>\n",
       "    </tr>\n",
       "    <tr>\n",
       "      <th>757 </th>\n",
       "      <td>  9</td>\n",
       "      <td> 2599</td>\n",
       "      <td> 2</td>\n",
       "      <td>2000-12-31 01:25:52</td>\n",
       "    </tr>\n",
       "    <tr>\n",
       "      <th>783 </th>\n",
       "      <td>  9</td>\n",
       "      <td> 3484</td>\n",
       "      <td> 2</td>\n",
       "      <td>2000-12-31 01:22:58</td>\n",
       "    </tr>\n",
       "    <tr>\n",
       "      <th>830 </th>\n",
       "      <td> 10</td>\n",
       "      <td> 3439</td>\n",
       "      <td> 2</td>\n",
       "      <td>2000-12-31 02:31:34</td>\n",
       "    </tr>\n",
       "    <tr>\n",
       "      <th>834 </th>\n",
       "      <td> 10</td>\n",
       "      <td>  223</td>\n",
       "      <td> 2</td>\n",
       "      <td>2000-12-31 01:25:00</td>\n",
       "    </tr>\n",
       "    <tr>\n",
       "      <th>885 </th>\n",
       "      <td> 10</td>\n",
       "      <td> 3525</td>\n",
       "      <td> 2</td>\n",
       "      <td>2000-12-31 01:35:00</td>\n",
       "    </tr>\n",
       "    <tr>\n",
       "      <th>915 </th>\n",
       "      <td> 10</td>\n",
       "      <td>  180</td>\n",
       "      <td> 2</td>\n",
       "      <td>2000-12-31 01:39:26</td>\n",
       "    </tr>\n",
       "    <tr>\n",
       "      <th>975 </th>\n",
       "      <td> 10</td>\n",
       "      <td> 1884</td>\n",
       "      <td> 2</td>\n",
       "      <td>2000-12-31 02:29:32</td>\n",
       "    </tr>\n",
       "    <tr>\n",
       "      <th>992 </th>\n",
       "      <td> 10</td>\n",
       "      <td> 3703</td>\n",
       "      <td> 2</td>\n",
       "      <td>2000-12-31 01:40:05</td>\n",
       "    </tr>\n",
       "    <tr>\n",
       "      <th>995 </th>\n",
       "      <td> 10</td>\n",
       "      <td> 3704</td>\n",
       "      <td> 2</td>\n",
       "      <td>2000-12-31 02:06:04</td>\n",
       "    </tr>\n",
       "    <tr>\n",
       "      <th>1015</th>\n",
       "      <td> 10</td>\n",
       "      <td> 3066</td>\n",
       "      <td> 2</td>\n",
       "      <td>2000-12-31 01:41:06</td>\n",
       "    </tr>\n",
       "  </tbody>\n",
       "</table>\n",
       "<p>100 rows × 4 columns</p>\n",
       "</div>"
      ],
      "text/plain": [
       "      UserID  MovieID  Rating  FormattedTimestamp\n",
       "67         2     1213       2 2000-12-31 21:34:18\n",
       "73         2      434       2 2000-12-31 22:02:54\n",
       "75         2     3107       2 2000-12-31 22:00:02\n",
       "83         2      902       2 2000-12-31 21:41:45\n",
       "91         2     3256       2 2000-12-31 21:57:19\n",
       "114        2     3699       2 2000-12-31 21:46:13\n",
       "125        2     2427       2 2000-12-31 21:58:33\n",
       "133        2       95       2 2000-12-31 22:02:23\n",
       "148        2       21       1 2000-12-31 21:57:19\n",
       "151        2     1090       2 2000-12-31 21:36:20\n",
       "174        2     1968       2 2000-12-31 21:41:21\n",
       "178        2     1245       2 2000-12-31 21:46:40\n",
       "180        2     3893       1 2000-12-31 21:52:15\n",
       "183        3     1641       2 2000-12-31 21:33:50\n",
       "200        3     3619       2 2000-12-31 21:30:01\n",
       "205        3     1261       1 2000-12-31 21:21:03\n",
       "208        3     1265       2 2000-12-31 21:31:56\n",
       "224        3     2617       2 2000-12-31 21:23:57\n",
       "241        4     1196       2 2000-12-31 20:23:19\n",
       "249        4     3527       1 2000-12-31 20:20:08\n",
       "258        5      288       2 2000-12-31 07:09:45\n",
       "262        5     2268       2 2000-12-31 07:00:33\n",
       "264        5      860       2 2000-12-31 06:34:53\n",
       "268        5     2916       1 2000-12-31 06:54:05\n",
       "272        5      501       1 2000-12-31 06:26:41\n",
       "273        5     3578       2 2000-12-31 06:23:23\n",
       "276        5     3793       2 2000-12-31 06:12:50\n",
       "280        5     2058       1 2000-12-31 06:55:40\n",
       "290        5     3079       2 2000-12-31 07:02:42\n",
       "293        5      150       2 2000-12-31 06:56:03\n",
       "...      ...      ...     ...                 ...\n",
       "435        5     1747       2 2000-12-31 06:54:23\n",
       "439        5     1966       2 2000-12-31 06:58:51\n",
       "441        5      353       2 2000-12-31 07:08:24\n",
       "448        5      356       1 2000-12-31 05:38:32\n",
       "449        5      357       2 2000-12-31 06:57:09\n",
       "463        6      296       2 2000-12-31 04:36:19\n",
       "471        6     2858       1 2000-12-31 04:26:49\n",
       "575        8     2490       2 2000-12-31 02:21:33\n",
       "594        8     2429       2 2000-12-31 03:04:50\n",
       "623        8      393       2 2000-12-31 02:18:58\n",
       "628        8     3173       2 2000-12-31 03:06:52\n",
       "659        8     2600       2 2000-12-31 02:23:11\n",
       "675        8     2320       2 2000-12-31 03:03:22\n",
       "682        8     1810       2 2000-12-31 02:50:31\n",
       "696        9      861       2 2000-12-31 01:37:45\n",
       "720        9     1552       2 2000-12-31 01:18:09\n",
       "732        9     3301       2 2000-12-31 01:21:58\n",
       "740        9     3452       2 2000-12-31 01:22:26\n",
       "754        9     3826       2 2000-12-31 01:22:38\n",
       "756        9     3755       2 2000-12-31 01:20:13\n",
       "757        9     2599       2 2000-12-31 01:25:52\n",
       "783        9     3484       2 2000-12-31 01:22:58\n",
       "830       10     3439       2 2000-12-31 02:31:34\n",
       "834       10      223       2 2000-12-31 01:25:00\n",
       "885       10     3525       2 2000-12-31 01:35:00\n",
       "915       10      180       2 2000-12-31 01:39:26\n",
       "975       10     1884       2 2000-12-31 02:29:32\n",
       "992       10     3703       2 2000-12-31 01:40:05\n",
       "995       10     3704       2 2000-12-31 02:06:04\n",
       "1015      10     3066       2 2000-12-31 01:41:06\n",
       "\n",
       "[100 rows x 4 columns]"
      ]
     },
     "execution_count": 91,
     "metadata": {},
     "output_type": "execute_result"
    }
   ],
   "source": [
    "print crappyRatings.Rating.unique() # This is a sanity check to make sure that our filtered data contains only low ratings\n",
    "crappyRatings.head(20)"
   ]
  },
  {
   "cell_type": "markdown",
   "metadata": {},
   "source": [
    "Awesome, this worked as expected!\n",
    "How many of these crappy ratings are there? (Fill in what is in **pass** so that numCrappyRatings returns a number)"
   ]
  },
  {
   "cell_type": "code",
   "execution_count": 58,
   "metadata": {
    "collapsed": false
   },
   "outputs": [
    {
     "name": "stdout",
     "output_type": "stream",
     "text": [
      "There were 163731 ratings below 3.\n"
     ]
    }
   ],
   "source": [
    "numCrappyRatings = crappyRatings.shape[0]\n",
    "print \"There were\",numCrappyRatings,\"ratings below 3.\""
   ]
  },
  {
   "cell_type": "code",
   "execution_count": 60,
   "metadata": {
    "collapsed": false
   },
   "outputs": [
    {
     "data": {
      "text/plain": [
       "95452"
      ]
     },
     "execution_count": 60,
     "metadata": {},
     "output_type": "execute_result"
    }
   ],
   "source": [
    "#make another mask that filters out ratings that happened in 2000\n",
    "#YOUR CODE HERE\n",
    "\n",
    "notin2000 = ratingData.year != 2000\n",
    "ratingData[notin2000].shape[0]"
   ]
  },
  {
   "cell_type": "markdown",
   "metadata": {},
   "source": [
    "Now it is time for you to show how much you've learned. Give me the answers to the following questions:\n",
    "\n",
    "1. What was the average rating in January?\n",
    "* What was the average crappy rating in January?\n",
    "\n",
    "**Hint:** Although there are lots of ways you can tackle these questions (many of which you will learn soon). I suggest you use the following procedure:\n",
    "\n",
    "1. Create a new column in `ratingData` and call it \"month\", so that it tells you the month of every row\n",
    "* Create a new dataset of:\n",
    "  1. all January records and store it in `januaryRatings`\n",
    "  * create a mask of crappy ratings using that dataset called `crappyJanuaryRatingsMask`\n",
    "  * apply that `crappyJanuaryRatingsMask` to your dataset and store it in a new dataset called `crappyJanuaryRatings`\n",
    "  * compute the mean of the `Rating` column for both `januaryRatings` and `crappyJanuaryRatings`"
   ]
  },
  {
   "cell_type": "code",
   "execution_count": 64,
   "metadata": {
    "collapsed": false
   },
   "outputs": [
    {
     "name": "stdout",
     "output_type": "stream",
     "text": [
      "3.54299583911\n",
      "1.69825970549\n"
     ]
    }
   ],
   "source": [
    "#YOUR CODE HERE\n",
    "januaryMask = ratingData.month==1\n",
    "print ratingData[januaryMask].Rating.mean()\n",
    "\n",
    "crappyJanuaryMask = crappyRatings.month==1\n",
    "print crappyRatings[crappyJanuaryMask].Rating.mean()"
   ]
  },
  {
   "cell_type": "markdown",
   "metadata": {},
   "source": [
    "Ok, now that you know how to do some basic subselection, sorting, and calculations on data, we are going to do something a bit more complicated, and start subdividing our data into groups to be able to answer some more general questions about our dataset.\n",
    "\n",
    "Once you have this functionality down, you will be able to: \n",
    "\n",
    "1. Answer more interesting kinds of questions\n",
    "* Answer the questions above using fewer lines of code \n",
    "\n",
    "Lets say you wanted to know or do the following:\n",
    "\n",
    "1. **In what month did users rate the most movies?**\n",
    "2. **What month had the highest average rating?**\n",
    "3. **Remove users with too few ratings (lets say < 30) and reanswer these same questions**\n",
    "\n",
    "Our approach here will be:\n",
    "\n",
    "* Learn to use the `groupby` functionality of **pandas** to create subgroups of our ratings based on either the `month` the ratings were given or on the `UserID` of the rater.\n",
    "* Apply an aggregating function to these groups to return:\n",
    "  * The `size` of each group (since the `size` of each group is either the number of ratings in that `month` or the number of ratings for that `UserID`)\n",
    "  * The `mean` of the `Rating` column within each group\n",
    "  * A filtered version of the original dataset so that only the groups that are large enough (when grouping on `UserID`, those users that have made enough ratings) are returned."
   ]
  },
  {
   "cell_type": "markdown",
   "metadata": {},
   "source": [
    "Ok, now that you know how to do some basic subselection, sorting, and calculations on data, we are going to do something a bit more complicated, and start subdividing our data into groups to be able to answer some more general questions about our dataset.\n",
    "\n",
    "Once you have this functionality down, you will be able to: \n",
    "\n",
    "1. Answer more interesting kinds of questions\n",
    "* Answer the questions above using fewer lines of code \n",
    "\n",
    "Lets say you wanted to know or do the following:\n",
    "\n",
    "1. **In what month did users rate the most movies?**\n",
    "2. **What month had the highest average rating?**\n",
    "3. **Remove users with too few ratings (lets say < 30) and reanswer these same questions**\n",
    "\n",
    "Our approach here will be:\n",
    "\n",
    "* Learn to use the `groupby` functionality of **pandas** to create subgroups of our ratings based on either the `month` the ratings were given or on the `UserID` of the rater.\n",
    "* Apply an aggregating function to these groups to return:\n",
    "  * The `size` of each group (since the `size` of each group is either the number of ratings in that `month` or the number of ratings for that `UserID`)\n",
    "  * The `mean` of the `Rating` column within each group\n",
    "  * A filtered version of the original dataset so that only the groups that are large enough (when grouping on `UserID`, those users that have made enough ratings) are returned."
   ]
  },
  {
   "cell_type": "markdown",
   "metadata": {},
   "source": [
    "The `groupby` function in **pandas** is analagous to the grouping operations you may be familiar with if you've ever used any **SQL** variants. \n",
    "\n",
    "A generic **SQL** translation of **1.**, for example, would look something like:\n",
    "\n",
    "```\n",
    "SELECT month,numRatings FROM (SELECT month,size(month) AS numRatings\n",
    "FROM ratingData\n",
    "GROUP BY month) WHERE numRatings = MAX(numRatings)\n",
    "```\n",
    "\n",
    "(If this looks like wizardry, don't worry, I'm just trying to show this to those users that are familiar with SQL and any of its variants; this is the only SQL you will see all weekend!)"
   ]
  },
  {
   "cell_type": "markdown",
   "metadata": {},
   "source": [
    "Grouping can get very complicated, but as a first pass you can think of it as a way to split your dataset into non-overlapping subsets along any axis (along rows or columns, in our case). \n",
    "\n",
    "The values along which you **group** your dataset are traditionally called **keys**, so **each key should be unique to each group, and each group can have at most one key associated with it** (although the key for identifying each group can be really complicated).\n",
    "\n",
    "Once you've grouped your dataset, the `GroupBy` object isn't too useful by itself. It becomes useful when you apply a **transformation** to it and get a new dataset back. \n",
    "\n",
    "We typically call this **transformation** an **aggregation**, as we are getting some aggregate value back for each group.\n",
    "\n",
    "The **aggregation** functions we will be using for questions **1.,2.** are `size` and `mean`."
   ]
  },
  {
   "cell_type": "markdown",
   "metadata": {},
   "source": [
    "So, enough explaining, lets get to some hacking.\n",
    "\n",
    "Lets address grouping in the context of answering our first question:\n",
    "\n",
    "1. **In what month did users rate the most movies?**\n",
    "\n",
    "In **pandas**, to create groups, you must create a `GroupBy` object (more on what that is later) from your `DataFrame` object (your dataset) by passing the values along which you want to group to the `groupby` function.\n",
    "\n",
    "We want to **groupby** the **month** column and store it:"
   ]
  },
  {
   "cell_type": "code",
   "execution_count": 66,
   "metadata": {
    "collapsed": false
   },
   "outputs": [],
   "source": [
    "monthGroups = ratingData.groupby(\"month\")"
   ]
  },
  {
   "cell_type": "code",
   "execution_count": 67,
   "metadata": {
    "collapsed": false
   },
   "outputs": [
    {
     "data": {
      "text/plain": [
       "<pandas.core.groupby.DataFrameGroupBy object at 0x10ec9fe10>"
      ]
     },
     "execution_count": 67,
     "metadata": {},
     "output_type": "execute_result"
    }
   ],
   "source": [
    "#try to print monthGroups\n",
    "#what do you get?\n",
    "#YOUR CODE HERE\n",
    "\n",
    "monthGroups"
   ]
  },
  {
   "cell_type": "markdown",
   "metadata": {},
   "source": [
    "And then we want to get the number of records (rows) in each group in our `monthGroups` object using the `size` function (which is accessible from this object):"
   ]
  },
  {
   "cell_type": "code",
   "execution_count": 68,
   "metadata": {
    "collapsed": false
   },
   "outputs": [
    {
     "data": {
      "text/plain": [
       "month\n",
       "1         23072\n",
       "2         12128\n",
       "3          8537\n",
       "4         19407\n",
       "5         74278\n",
       "6         61110\n",
       "7         97004\n",
       "8        188674\n",
       "9         56791\n",
       "10        45500\n",
       "11       295461\n",
       "12       118247\n",
       "dtype: int64"
      ]
     },
     "execution_count": 68,
     "metadata": {},
     "output_type": "execute_result"
    }
   ],
   "source": [
    "ratingsPerMonth = monthGroups.size()\n",
    "ratingsPerMonth #this will simply print the result inside of this notebook so we can see it\n",
    "#to print to the screen outside of the notebook, you would have to say \"print ratingsPerMonth\""
   ]
  },
  {
   "cell_type": "markdown",
   "metadata": {},
   "source": [
    "And just to make it nice and clean, we will simply output the month with the largest number of ratings using the `max` function:"
   ]
  },
  {
   "cell_type": "code",
   "execution_count": 17,
   "metadata": {
    "collapsed": false
   },
   "outputs": [
    {
     "data": {
      "text/plain": [
       "month\n",
       "11       295461\n",
       "dtype: int64"
      ]
     },
     "execution_count": 17,
     "metadata": {},
     "output_type": "execute_result"
    }
   ],
   "source": [
    "monthWithMostRatings = ratingsPerMonth[ratingsPerMonth==ratingsPerMonth.max()]\n",
    "monthWithMostRatings #same as above, print to notebook without having to say \"print highestRating\""
   ]
  },
  {
   "cell_type": "markdown",
   "metadata": {},
   "source": [
    "Got it? Good!\n",
    "\n",
    "One more thing before you try it yourself. Once you've created a `groupby` object, you don't have to select everything in the object to perform an aggregation, and can subselect a given column within each group (**Hint, Hint!**)\n",
    "\n",
    "Now you try answering question **2.**:\n",
    "\n",
    "2. **What was the average rating given to movies in each month of the year?**\n",
    "\n",
    "Fill in some code for `avgMonthlyRatings` and `highestAvgRating`, removing the `pass` in both cases (remember to use the `monthGroups` object!):"
   ]
  },
  {
   "cell_type": "code",
   "execution_count": 72,
   "metadata": {
    "collapsed": false
   },
   "outputs": [
    {
     "data": {
      "text/plain": [
       "month\n",
       "7        3.617985\n",
       "Name: Rating, dtype: float64"
      ]
     },
     "execution_count": 72,
     "metadata": {},
     "output_type": "execute_result"
    }
   ],
   "source": [
    "avgMonthlyRatings = monthGroups[\"Rating\"].mean()\n",
    "\n",
    "avgMonthlyRatings[avgMonthlyRatings==avgMonthlyRatings.max()]\n",
    "#avgMonthlyRatings = pass\n",
    "#print avgMonthlyRatings\n",
    "#highestAvgRating = pass\n",
    "#highestAvgRating"
   ]
  },
  {
   "cell_type": "markdown",
   "metadata": {},
   "source": [
    "These aggregations are already implemented in the `GroupBy` object and can be called directly from the object, but this is not generally the way this is handled.\n",
    "\n",
    "Under the hood, **pandas** is passing the function we apply (`mean` or `size` in our case) to another function called `aggregate` and that function is actually doing the heavy lifting. \n",
    "\n",
    "So, what is actually happening when we wrote our code to answer question **1.** above like this:\n",
    "\n",
    "`ratingsPerMonth = monthGroups.size()`\n",
    "\n",
    "Was actually being implemented more like this:\n",
    "\n",
    "``ratingsPerMonth = monthGroups.aggregate(size())``\n",
    "\n",
    "So, this means that whenever we want to do more complicated transformations or reductions of our data, we should supply our function(s) of interest to `aggregate` or the shorhand `agg` function."
   ]
  },
  {
   "cell_type": "markdown",
   "metadata": {},
   "source": [
    "A couple more explanations before we tackle filtering for answering question **3.**\n",
    "\n",
    "You can pass multiple functions to `aggregate` as a `List`, if you want multiple transformations applied to the data, like so:"
   ]
  },
  {
   "cell_type": "code",
   "execution_count": 73,
   "metadata": {
    "collapsed": false
   },
   "outputs": [
    {
     "data": {
      "text/html": [
       "<div style=\"max-height:1000px;max-width:1500px;overflow:auto;\">\n",
       "<table border=\"1\" class=\"dataframe\">\n",
       "  <thead>\n",
       "    <tr style=\"text-align: right;\">\n",
       "      <th></th>\n",
       "      <th>mean</th>\n",
       "      <th>size</th>\n",
       "      <th>std</th>\n",
       "    </tr>\n",
       "    <tr>\n",
       "      <th>month</th>\n",
       "      <th></th>\n",
       "      <th></th>\n",
       "      <th></th>\n",
       "    </tr>\n",
       "  </thead>\n",
       "  <tbody>\n",
       "    <tr>\n",
       "      <th>1 </th>\n",
       "      <td> 3.542996</td>\n",
       "      <td>  23072</td>\n",
       "      <td> 1.075643</td>\n",
       "    </tr>\n",
       "    <tr>\n",
       "      <th>2 </th>\n",
       "      <td> 3.523664</td>\n",
       "      <td>  12128</td>\n",
       "      <td> 1.089588</td>\n",
       "    </tr>\n",
       "    <tr>\n",
       "      <th>3 </th>\n",
       "      <td> 3.456952</td>\n",
       "      <td>   8537</td>\n",
       "      <td> 1.079460</td>\n",
       "    </tr>\n",
       "    <tr>\n",
       "      <th>4 </th>\n",
       "      <td> 3.522028</td>\n",
       "      <td>  19407</td>\n",
       "      <td> 1.096929</td>\n",
       "    </tr>\n",
       "    <tr>\n",
       "      <th>5 </th>\n",
       "      <td> 3.601847</td>\n",
       "      <td>  74278</td>\n",
       "      <td> 1.137355</td>\n",
       "    </tr>\n",
       "    <tr>\n",
       "      <th>6 </th>\n",
       "      <td> 3.616528</td>\n",
       "      <td>  61110</td>\n",
       "      <td> 1.110452</td>\n",
       "    </tr>\n",
       "    <tr>\n",
       "      <th>7 </th>\n",
       "      <td> 3.617985</td>\n",
       "      <td>  97004</td>\n",
       "      <td> 1.092208</td>\n",
       "    </tr>\n",
       "    <tr>\n",
       "      <th>8 </th>\n",
       "      <td> 3.566315</td>\n",
       "      <td> 188674</td>\n",
       "      <td> 1.122584</td>\n",
       "    </tr>\n",
       "    <tr>\n",
       "      <th>9 </th>\n",
       "      <td> 3.602279</td>\n",
       "      <td>  56791</td>\n",
       "      <td> 1.113047</td>\n",
       "    </tr>\n",
       "    <tr>\n",
       "      <th>10</th>\n",
       "      <td> 3.609143</td>\n",
       "      <td>  45500</td>\n",
       "      <td> 1.087170</td>\n",
       "    </tr>\n",
       "    <tr>\n",
       "      <th>11</th>\n",
       "      <td> 3.571737</td>\n",
       "      <td> 295461</td>\n",
       "      <td> 1.129646</td>\n",
       "    </tr>\n",
       "    <tr>\n",
       "      <th>12</th>\n",
       "      <td> 3.581435</td>\n",
       "      <td> 118247</td>\n",
       "      <td> 1.115202</td>\n",
       "    </tr>\n",
       "  </tbody>\n",
       "</table>\n",
       "</div>"
      ],
      "text/plain": [
       "           mean    size       std\n",
       "month                            \n",
       "1      3.542996   23072  1.075643\n",
       "2      3.523664   12128  1.089588\n",
       "3      3.456952    8537  1.079460\n",
       "4      3.522028   19407  1.096929\n",
       "5      3.601847   74278  1.137355\n",
       "6      3.616528   61110  1.110452\n",
       "7      3.617985   97004  1.092208\n",
       "8      3.566315  188674  1.122584\n",
       "9      3.602279   56791  1.113047\n",
       "10     3.609143   45500  1.087170\n",
       "11     3.571737  295461  1.129646\n",
       "12     3.581435  118247  1.115202"
      ]
     },
     "execution_count": 73,
     "metadata": {},
     "output_type": "execute_result"
    }
   ],
   "source": [
    "monthGroups.Rating.agg([np.mean,np.size,np.std])"
   ]
  },
  {
   "cell_type": "markdown",
   "metadata": {},
   "source": [
    "In all of these cases, you will notice that we have to call the functions using the **NumPy** module (but using the `np` alias), which was installed when you got **pandas** working on your system (since **NumPy** is a dependency of **pandas** and gives **pandas** all of the math and matrix wrangling functionality it relies on behind the scenes).\n",
    "\n",
    "**NumPy** is a really powerful matrix and math library in **Python** and has lots of functionality we won't go into here, so if you're interested, head over to their [website](http://www.numpy.org) to learn more!\n",
    "\n",
    "Now, lets move on to filtering."
   ]
  },
  {
   "cell_type": "markdown",
   "metadata": {},
   "source": [
    "Lets go through how to answer question **3.**:\n",
    "\n",
    "* **Remove users with too few ratings (lets say < 30) and reanswer these same questions**\n",
    "\n",
    "Here is our pipeline:\n",
    "\n",
    "1. `groupby ratingData on \"UserId\"` and call this new `GroupBy` object `userGroups`\n",
    "* `filter` so that only groups (users) containing > 30 ratings are kept in a new `DataFrame`, called `filteredRatings`\n",
    "* `groupby filteredRatings on \"month\"` and call this new `GroupBy` object `filteredMonthGroups`\n",
    "* recompute `mean` and `size` statistics on the `Rating` column in `filteredMonthGroups` and store it in a variable called `filteredMonthAggs`\n",
    "* use `max` to see if the month when the largest rating mean and rating size have changed"
   ]
  },
  {
   "cell_type": "code",
   "execution_count": 76,
   "metadata": {
    "collapsed": true
   },
   "outputs": [],
   "source": [
    "userGroups = ratingData.groupby(\"UserID\")"
   ]
  },
  {
   "cell_type": "markdown",
   "metadata": {},
   "source": [
    "This first step is very similar to what we did before, except we are grouping on a different column, `UserID`.\n",
    "\n",
    "Now comes the more challenging part, using `filter`, and involves learning a bit about **anonymous functions**. Here goes:"
   ]
  },
  {
   "cell_type": "code",
   "execution_count": 74,
   "metadata": {
    "collapsed": true
   },
   "outputs": [],
   "source": [
    "def enoughRatings(currGroup):\n",
    "    return currGroup.Rating.size >= 30"
   ]
  },
  {
   "cell_type": "code",
   "execution_count": 77,
   "metadata": {
    "collapsed": false
   },
   "outputs": [],
   "source": [
    "filteredRatings = userGroups.filter(lambda currGroup: currGroup.Rating.size >= 30)\n",
    "filteredRatings2 = userGroups.filter(enoughRatings)"
   ]
  },
  {
   "cell_type": "code",
   "execution_count": 81,
   "metadata": {
    "collapsed": false
   },
   "outputs": [
    {
     "name": "stdout",
     "output_type": "stream",
     "text": [
      "(982040, 6)\n",
      "(982040, 6)\n"
     ]
    }
   ],
   "source": [
    "print filteredRatings.shape\n",
    "print filteredRatings2.shape"
   ]
  },
  {
   "cell_type": "markdown",
   "metadata": {},
   "source": [
    "**AAAAA WHAT IS THAT? lambda? x? What are these things?**\n",
    "\n",
    "Ok, lets take a breath and work through this...\n",
    "\n",
    "The `filter` function takes a function as an input and requires that the function you pass to it return either `True` or `False` on a per-group basis. \n",
    "\n",
    "It then returns a new `DataFrame` object, sorted into the groups you grouped on initially, with all of the groups removed that don't satisfy the constraints of the function you passed to it (that is, removing those groups that, when the function is applied to them, return `False`)."
   ]
  },
  {
   "cell_type": "markdown",
   "metadata": {},
   "source": [
    "So, why are we using this weird `lambda` thing? \n",
    "\n",
    "Well, `lambda` is the keyword for creating an **anonymous function** in **Python**.\n",
    "\n",
    "**anonymous functions** are functions that you define within some restricted place that:\n",
    "\n",
    "1. Usually accomplish some very minimal functionality\n",
    "2. Don't need the syntactic sugar that functions usually come with because of 1. and to maintain the compactness (and hopefully clarity) of your code.\n",
    "\n",
    "To declare an anonymous function you:\n",
    "\n",
    "1. type `lambda`, followed by\n",
    "* arbitrary names for the parameters that function accepts (x,y, etc.) separated by commas, followed by\n",
    "* a colon, which tells **Python** that we are done with specifying the parameters, followed by\n",
    "* the expression that defines how the function operates on the parameters. This expression will dictate what the function returns.\n",
    "\n",
    "So:\n",
    "`lambda x: x.Rating.size >= 30` means:\n",
    "\n",
    "1. **This function accepts a single parameter (in our case the group) arbitrarily called x.**\n",
    "* **It operates on this parameter, x, by finding some attribute in it called \"Rating\" (which it definitely has from earlier steps) and checking whether its size property is greater than or equal to 30.**\n",
    "* **Because this function is checking a condition, it will return either `True` or `False` for every parameter you pass to it**\n",
    "\n",
    "If you understand that, you grok **anonymous functions**."
   ]
  },
  {
   "cell_type": "markdown",
   "metadata": {},
   "source": [
    "**However, if you don't understand WTF just happened, you can actually write your own function, and just pass it directly to the filter!**\n",
    "\n",
    "So, instead of:\n",
    "\n",
    "`filteredRatings = userGroups.filter(lambda x: x.Rating.size >= 30)`\n",
    "\n",
    "You can do this (they are functionally equivalent!):\n",
    "```\n",
    "def filterFewestRatings(dataset):\n",
    "    return dataset.Rating.size >= 30\n",
    "    \n",
    "filteredRatings = userGroups.filter(filterFewestRatings)\n",
    "```\n",
    "\n",
    "Here, we've replaced the variable `x` in the anonymous function with a more easily understood variable `dataset` in the named (non-anonymous) function `filterFewestRatings`. This has the same exact functionality as the **anonymous function**, but is clearly more code to write. \n",
    "\n",
    "**It's your choice as to how you want to implement small functions like this.**"
   ]
  },
  {
   "cell_type": "markdown",
   "metadata": {},
   "source": [
    "Lets look at filtered ratings and see how many ratings and users we eliminated before we recompute our answers:"
   ]
  },
  {
   "cell_type": "code",
   "execution_count": 82,
   "metadata": {
    "collapsed": false
   },
   "outputs": [
    {
     "name": "stdout",
     "output_type": "stream",
     "text": [
      "Original number of ratings: 1000209\n",
      "Filtered number of ratings: 982040\n",
      "Fraction of ratings eliminated: 0.0181652034725\n"
     ]
    }
   ],
   "source": [
    "print \"Original number of ratings:\",ratingData.shape[0]\n",
    "print \"Filtered number of ratings:\",filteredRatings.shape[0]\n",
    "print \"Fraction of ratings eliminated:\",(1.0-float(filteredRatings.shape[0])/ratingData.shape[0])"
   ]
  },
  {
   "cell_type": "code",
   "execution_count": 83,
   "metadata": {
    "collapsed": false
   },
   "outputs": [
    {
     "name": "stdout",
     "output_type": "stream",
     "text": [
      "Original number of users: 6040\n",
      "Filtered number of users: 5289\n",
      "Fraction of users eliminated: 0.124337748344\n"
     ]
    }
   ],
   "source": [
    "print \"Original number of users:\",ratingData.UserID.unique().size\n",
    "print \"Filtered number of users:\",filteredRatings.UserID.unique().size\n",
    "print \"Fraction of users eliminated:\",(1.0-float(filteredRatings.UserID.unique().size)/ratingData.UserID.unique().size)"
   ]
  },
  {
   "cell_type": "markdown",
   "metadata": {},
   "source": [
    "So we got rid of about 2% of the ratings, but over 12% of the users!\n",
    "\n",
    "Now that we've filtered, you should be able to do the rest and recompute the answers:"
   ]
  },
  {
   "cell_type": "code",
   "execution_count": 84,
   "metadata": {
    "collapsed": false
   },
   "outputs": [],
   "source": [
    "filteredMonthGroups = filteredRatings.groupby(\"month\")\n",
    "filteredMonthAggs = filteredMonthGroups.Rating.agg([np.mean,np.median,np.std,np.max])"
   ]
  },
  {
   "cell_type": "code",
   "execution_count": 85,
   "metadata": {
    "collapsed": false
   },
   "outputs": [
    {
     "data": {
      "text/html": [
       "<div style=\"max-height:1000px;max-width:1500px;overflow:auto;\">\n",
       "<table border=\"1\" class=\"dataframe\">\n",
       "  <thead>\n",
       "    <tr style=\"text-align: right;\">\n",
       "      <th></th>\n",
       "      <th>mean</th>\n",
       "      <th>median</th>\n",
       "      <th>std</th>\n",
       "      <th>amax</th>\n",
       "    </tr>\n",
       "    <tr>\n",
       "      <th>month</th>\n",
       "      <th></th>\n",
       "      <th></th>\n",
       "      <th></th>\n",
       "      <th></th>\n",
       "    </tr>\n",
       "  </thead>\n",
       "  <tbody>\n",
       "    <tr>\n",
       "      <th>1 </th>\n",
       "      <td> 3.540490</td>\n",
       "      <td> 4</td>\n",
       "      <td> 1.074986</td>\n",
       "      <td> 5</td>\n",
       "    </tr>\n",
       "    <tr>\n",
       "      <th>2 </th>\n",
       "      <td> 3.521995</td>\n",
       "      <td> 4</td>\n",
       "      <td> 1.089586</td>\n",
       "      <td> 5</td>\n",
       "    </tr>\n",
       "    <tr>\n",
       "      <th>3 </th>\n",
       "      <td> 3.452294</td>\n",
       "      <td> 4</td>\n",
       "      <td> 1.079984</td>\n",
       "      <td> 5</td>\n",
       "    </tr>\n",
       "    <tr>\n",
       "      <th>4 </th>\n",
       "      <td> 3.518530</td>\n",
       "      <td> 4</td>\n",
       "      <td> 1.096383</td>\n",
       "      <td> 5</td>\n",
       "    </tr>\n",
       "    <tr>\n",
       "      <th>5 </th>\n",
       "      <td> 3.600756</td>\n",
       "      <td> 4</td>\n",
       "      <td> 1.137382</td>\n",
       "      <td> 5</td>\n",
       "    </tr>\n",
       "    <tr>\n",
       "      <th>6 </th>\n",
       "      <td> 3.614453</td>\n",
       "      <td> 4</td>\n",
       "      <td> 1.109368</td>\n",
       "      <td> 5</td>\n",
       "    </tr>\n",
       "    <tr>\n",
       "      <th>7 </th>\n",
       "      <td> 3.614583</td>\n",
       "      <td> 4</td>\n",
       "      <td> 1.091591</td>\n",
       "      <td> 5</td>\n",
       "    </tr>\n",
       "    <tr>\n",
       "      <th>8 </th>\n",
       "      <td> 3.564065</td>\n",
       "      <td> 4</td>\n",
       "      <td> 1.122199</td>\n",
       "      <td> 5</td>\n",
       "    </tr>\n",
       "    <tr>\n",
       "      <th>9 </th>\n",
       "      <td> 3.600072</td>\n",
       "      <td> 4</td>\n",
       "      <td> 1.112411</td>\n",
       "      <td> 5</td>\n",
       "    </tr>\n",
       "    <tr>\n",
       "      <th>10</th>\n",
       "      <td> 3.606638</td>\n",
       "      <td> 4</td>\n",
       "      <td> 1.086538</td>\n",
       "      <td> 5</td>\n",
       "    </tr>\n",
       "    <tr>\n",
       "      <th>11</th>\n",
       "      <td> 3.567622</td>\n",
       "      <td> 4</td>\n",
       "      <td> 1.129048</td>\n",
       "      <td> 5</td>\n",
       "    </tr>\n",
       "    <tr>\n",
       "      <th>12</th>\n",
       "      <td> 3.576482</td>\n",
       "      <td> 4</td>\n",
       "      <td> 1.115246</td>\n",
       "      <td> 5</td>\n",
       "    </tr>\n",
       "  </tbody>\n",
       "</table>\n",
       "</div>"
      ],
      "text/plain": [
       "           mean  median       std  amax\n",
       "month                                  \n",
       "1      3.540490       4  1.074986     5\n",
       "2      3.521995       4  1.089586     5\n",
       "3      3.452294       4  1.079984     5\n",
       "4      3.518530       4  1.096383     5\n",
       "5      3.600756       4  1.137382     5\n",
       "6      3.614453       4  1.109368     5\n",
       "7      3.614583       4  1.091591     5\n",
       "8      3.564065       4  1.122199     5\n",
       "9      3.600072       4  1.112411     5\n",
       "10     3.606638       4  1.086538     5\n",
       "11     3.567622       4  1.129048     5\n",
       "12     3.576482       4  1.115246     5"
      ]
     },
     "execution_count": 85,
     "metadata": {},
     "output_type": "execute_result"
    }
   ],
   "source": [
    "filteredMonthAggs"
   ]
  },
  {
   "cell_type": "markdown",
   "metadata": {},
   "source": [
    "To hammer all of this home, try to answer the following:\n",
    "\n",
    "**What were the ID(s) of the average highest-rated movie in the first half of the year for those movies that were rated at least 5 times within that timespan?**\n",
    "\n",
    "Fill in the next cell by replacing the `pass` (or make more cells if you need to) and tell me when you know the answer (but quietly, so you don't tell everyone else!)."
   ]
  },
  {
   "cell_type": "code",
   "execution_count": 86,
   "metadata": {
    "collapsed": true
   },
   "outputs": [],
   "source": [
    "ratingsFromFirstSixMonths = ratingData[ratingData.month<=6]\n",
    "firstSixMonthMovieGroups = ratingsFromFirstSixMonths.groupby(\"MovieID\")\n",
    "filteredMoviesFromFirstSixMonths = firstSixMonthMovieGroups.filter(lambda x: x.size>=5)\n",
    "avgMovieRatingsFromFirstSixMonths = filteredMoviesFromFirstSixMonths.groupby(\"MovieID\").Rating.mean()\n",
    "highestRatedMovies = avgMovieRatingsFromFirstSixMonths[avgMovieRatingsFromFirstSixMonths==avgMovieRatingsFromFirstSixMonths.max()]"
   ]
  },
  {
   "cell_type": "code",
   "execution_count": 87,
   "metadata": {
    "collapsed": false
   },
   "outputs": [
    {
     "data": {
      "text/plain": [
       "MovieID\n",
       "53         5\n",
       "106        5\n",
       "598        5\n",
       "823        5\n",
       "854        5\n",
       "939        5\n",
       "985        5\n",
       "1026       5\n",
       "1420       5\n",
       "1741       5\n",
       "1795       5\n",
       "2304       5\n",
       "2332       5\n",
       "2776       5\n",
       "3232       5\n",
       "3382       5\n",
       "3410       5\n",
       "3607       5\n",
       "3609       5\n",
       "3656       5\n",
       "3778       5\n",
       "3888       5\n",
       "Name: Rating, dtype: float64"
      ]
     },
     "execution_count": 87,
     "metadata": {},
     "output_type": "execute_result"
    }
   ],
   "source": [
    "highestRatedMovies"
   ]
  },
  {
   "cell_type": "markdown",
   "metadata": {},
   "source": [
    "A couple more data analysis functions before I set you loose on a completely new dataset!\n",
    "\n",
    "**pandas** provides some pretty cool basic statistical functionality apart from the really simple functions we've used so far (like `mean`, `std`, `max`, and `size`).\n",
    "\n",
    "What I'm talking about are statistical functions that compare two variables, specifically  **covariance** and **correlation**. \n",
    "\n",
    "Briefly, **covariance** is a way to tell whether two variables tend to move in the same or opposite directions, but cannot measure the absolute strength of this relationship (if two variables show positive covariance, it means that as one increases, so does the other one, and vice versa). \n",
    "\n",
    "**Correlation** on the other hand, can tell you both whether two variables tend to move with or against each other, and how strong this relationship between them is.\n",
    "\n",
    "I will be showing you a fairly contrived example here, but you will be using this functionality in the actual assignment you'll be working on.\n",
    "\n",
    "I will keep this short and sweet, because I know you are dying to get started on your own!\n",
    "\n",
    "To correlate two columns using the standard pearson correlation in **pandas** simply do something like this, where we correlate `month` with `Rating`:"
   ]
  },
  {
   "cell_type": "code",
   "execution_count": 88,
   "metadata": {
    "collapsed": false
   },
   "outputs": [
    {
     "data": {
      "text/plain": [
       "-0.0010186797292071009"
      ]
     },
     "execution_count": 88,
     "metadata": {},
     "output_type": "execute_result"
    }
   ],
   "source": [
    "ratingData.month.corr(ratingData.Rating,method=\"spearman\")"
   ]
  },
  {
   "cell_type": "markdown",
   "metadata": {},
   "source": [
    "If you want to get the full correlation matrix among all variables that are of a numeric type, just call `corr` on the whole `DataFrame`. **pandas** will know to only make the correlations among numeric columns only and will exclude all non-numeric columns from the resulting correlation matrix:"
   ]
  },
  {
   "cell_type": "code",
   "execution_count": 206,
   "metadata": {
    "collapsed": false
   },
   "outputs": [
    {
     "data": {
      "text/html": [
       "<div style=\"max-height:1000px;max-width:1500px;overflow:auto;\">\n",
       "<table border=\"1\" class=\"dataframe\">\n",
       "  <thead>\n",
       "    <tr style=\"text-align: right;\">\n",
       "      <th></th>\n",
       "      <th>UserID</th>\n",
       "      <th>MovieID</th>\n",
       "      <th>Rating</th>\n",
       "      <th>month</th>\n",
       "    </tr>\n",
       "  </thead>\n",
       "  <tbody>\n",
       "    <tr>\n",
       "      <th>UserID</th>\n",
       "      <td> 1.000000</td>\n",
       "      <td>-0.017739</td>\n",
       "      <td> 0.012303</td>\n",
       "      <td>-0.633559</td>\n",
       "    </tr>\n",
       "    <tr>\n",
       "      <th>MovieID</th>\n",
       "      <td>-0.017739</td>\n",
       "      <td> 1.000000</td>\n",
       "      <td>-0.064042</td>\n",
       "      <td>-0.003123</td>\n",
       "    </tr>\n",
       "    <tr>\n",
       "      <th>Rating</th>\n",
       "      <td> 0.012303</td>\n",
       "      <td>-0.064042</td>\n",
       "      <td> 1.000000</td>\n",
       "      <td> 0.000979</td>\n",
       "    </tr>\n",
       "    <tr>\n",
       "      <th>month</th>\n",
       "      <td>-0.633559</td>\n",
       "      <td>-0.003123</td>\n",
       "      <td> 0.000979</td>\n",
       "      <td> 1.000000</td>\n",
       "    </tr>\n",
       "  </tbody>\n",
       "</table>\n",
       "</div>"
      ],
      "text/plain": [
       "           UserID   MovieID    Rating     month\n",
       "UserID   1.000000 -0.017739  0.012303 -0.633559\n",
       "MovieID -0.017739  1.000000 -0.064042 -0.003123\n",
       "Rating   0.012303 -0.064042  1.000000  0.000979\n",
       "month   -0.633559 -0.003123  0.000979  1.000000"
      ]
     },
     "execution_count": 206,
     "metadata": {},
     "output_type": "execute_result"
    }
   ],
   "source": [
    "ratingData.corr()"
   ]
  },
  {
   "cell_type": "markdown",
   "metadata": {},
   "source": [
    "Obviously, this is a contrived example because **the only truly numeric column here is Rating** all the other columns (except for `FormattedTimestamp`) are numeric labels for categorical items. \n",
    "\n",
    "What this means is that there is no way we can actually say that one `UserID` is greater than some other `UserID` because the mapping from the actual user's identity to the `UserID` number associated with them is arbitrary, and the same thing applies to every other numeric column here except for `Rating`. \n",
    "\n",
    "And because we can't rank any of the entries in the other columns in any meaningful way, **the correlation between them is meaningless.** \n",
    "\n",
    "I simply wanted to show you how you would do this, given the right situation (which you will experience shortly!)."
   ]
  },
  {
   "cell_type": "markdown",
   "metadata": {},
   "source": [
    "To consolidate what you've learned answer the following questions about this dataset:\n",
    "\n",
    "1. Which user rated the most movies?\n",
    "* Which movie id got the highest average rating?\n",
    "* Which movie id had the most varied rating?\n",
    "  * Of those movies that have been rated at least 5 times?\n",
    "* In which month were raters the most generous on average?\n",
    "* Which month had the most variation in ratings?\n",
    "* Which user had the most variation in ratings?\n",
    "* On what day of the week did users rate the most movies?\n",
    "* Which hour in the day did users rate the most movies?\n",
    "* What hour in the day had the highest average movie rating?\n",
    "* Which user gave movies the highest average rating?"
   ]
  },
  {
   "cell_type": "code",
   "execution_count": 114,
   "metadata": {
    "collapsed": false
   },
   "outputs": [
    {
     "name": "stdout",
     "output_type": "stream",
     "text": [
      "MovieID\n",
      "572        2.828427\n",
      "Name: Rating, dtype: float64\n"
     ]
    }
   ],
   "source": [
    "#3 Which movie id had the most varied rating?\n",
    "movieGroups = ratingData.groupby(\"MovieID\")\n",
    "stdsPerMovie = movieGroups[\"Rating\"].std()\n",
    "maxStdMovie = stdsPerMovie[stdsPerMovie==stdsPerMovie.max()]\n",
    "print maxStdMovie"
   ]
  },
  {
   "cell_type": "code",
   "execution_count": 115,
   "metadata": {
    "collapsed": false
   },
   "outputs": [
    {
     "name": "stdout",
     "output_type": "stream",
     "text": [
      "MovieID\n",
      "572        2.828427\n",
      "Name: Rating, dtype: float64\n"
     ]
    }
   ],
   "source": [
    "#Of those movies that have been rated at least 5 times?\n",
    "filteredRatings = movieGroups.filter(lambda x: x.size >= 5)\n",
    "filteredMovieGroups = filteredRatings.groupby(\"MovieID\")\n",
    "filteredStdsPerMovie = filteredMovieGroups[\"Rating\"].std()\n",
    "filteredMaxStdMovie = filteredStdsPerMovie[filteredStdsPerMovie==filteredStdsPerMovie.max()]\n",
    "print filteredMaxStdMovie"
   ]
  },
  {
   "cell_type": "code",
   "execution_count": 117,
   "metadata": {
    "collapsed": false
   },
   "outputs": [
    {
     "name": "stdout",
     "output_type": "stream",
     "text": [
      "month\n",
      "7        3.617985\n",
      "Name: Rating, dtype: float64\n",
      "month\n",
      "1        3.542996\n",
      "2        3.523664\n",
      "3        3.456952\n",
      "4        3.522028\n",
      "5        3.601847\n",
      "6        3.616528\n",
      "7        3.617985\n",
      "8        3.566315\n",
      "9        3.602279\n",
      "10       3.609143\n",
      "11       3.571737\n",
      "12       3.581435\n",
      "Name: Rating, dtype: float64\n"
     ]
    }
   ],
   "source": [
    "#4In which month were raters the most generous on average?\n",
    "monthGroups = ratingData.groupby(\"month\")\n",
    "meanMonthlyRatings = monthGroups.Rating.mean()\n",
    "maxMonthMask = meanMonthlyRatings == meanMonthlyRatings.max()\n",
    "print meanMonthlyRatings[maxMonthMask]\n",
    "print meanMonthlyRatings"
   ]
  },
  {
   "cell_type": "code",
   "execution_count": null,
   "metadata": {
    "collapsed": true
   },
   "outputs": [],
   "source": [
    "#5.Which month had the most variation in ratings?\n"
   ]
  },
  {
   "cell_type": "code",
   "execution_count": 118,
   "metadata": {
    "collapsed": false
   },
   "outputs": [
    {
     "name": "stdout",
     "output_type": "stream",
     "text": [
      "UserID\n",
      "87        1.861354\n",
      "Name: Rating, dtype: float64\n"
     ]
    }
   ],
   "source": [
    "#Which user had the most variation in ratings?\n",
    "userGroups = ratingData.groupby(\"UserID\")\n",
    "stdPerUser = userGroups.Rating.std()\n",
    "print stdPerUser[stdPerUser==stdPerUser.max()]"
   ]
  },
  {
   "cell_type": "code",
   "execution_count": 119,
   "metadata": {
    "collapsed": true
   },
   "outputs": [],
   "source": [
    "#On what day of the week did users rate the most movies?\n",
    "ratingData[\"dayOfWeek\"] = ratingData.FormattedTimestamp.dt.dayofweek\n",
    "moviesPerDayRated = ratingData.groupby(\"dayOfWeek\").Rating.size()\n",
    "print moviesPerDayRated[moviesPerDayRated==moviesPerDayRated.max()]"
   ]
  },
  {
   "cell_type": "code",
   "execution_count": 127,
   "metadata": {
    "collapsed": false
   },
   "outputs": [
    {
     "data": {
      "text/plain": [
       "array([22, 23, 21, 20,  6,  7,  5,  4,  3,  2,  1,  0, 18, 17, 15, 11,  8,\n",
       "       19, 14, 13, 16,  9, 12, 10])"
      ]
     },
     "execution_count": 127,
     "metadata": {},
     "output_type": "execute_result"
    }
   ],
   "source": [
    "#Which hour in the day did users rate the most movies?\n",
    "ratingData[\"hour\"] = ratingData.FormattedTimestamp.dt.hour\n",
    "moviesPerHourRated = ratingData.groupby(\"hour\").Rating.size()\n",
    "print moviesPerHourRated[moviesPerHourRated==moviesPerHourRated.max()]"
   ]
  },
  {
   "cell_type": "code",
   "execution_count": 128,
   "metadata": {
    "collapsed": false
   },
   "outputs": [
    {
     "name": "stdout",
     "output_type": "stream",
     "text": [
      "UserID\n",
      "283       4.962963\n",
      "Name: Rating, dtype: float64\n"
     ]
    }
   ],
   "source": [
    "#Which user gave movies the highest average rating?\n",
    "userGroups = ratingData.groupby(\"UserID\")\n",
    "avgRatingPerUser = userGroups.Rating.mean()\n",
    "print avgRatingPerUser[avgRatingPerUser==avgRatingPerUser.max()]"
   ]
  },
  {
   "cell_type": "code",
   "execution_count": 112,
   "metadata": {
    "collapsed": true
   },
   "outputs": [],
   "source": [
    "def max_minus_min_value(currGroup):\n",
    "    maxValue = np.max(currGroup)\n",
    "    minValue = np.min(currGroup)\n",
    "    return maxValue - minValue"
   ]
  },
  {
   "cell_type": "code",
   "execution_count": 113,
   "metadata": {
    "collapsed": false
   },
   "outputs": [
    {
     "data": {
      "text/plain": [
       "UserID\n",
       "1         2\n",
       "2         4\n",
       "3         4\n",
       "4         4\n",
       "5         4\n",
       "6         4\n",
       "7         2\n",
       "8         3\n",
       "9         3\n",
       "10        3\n",
       "11        4\n",
       "12        4\n",
       "13        4\n",
       "14        4\n",
       "15        4\n",
       "...\n",
       "6026      4\n",
       "6027      3\n",
       "6028      4\n",
       "6029      3\n",
       "6030      3\n",
       "6031      4\n",
       "6032      4\n",
       "6033      4\n",
       "6034      3\n",
       "6035      4\n",
       "6036      4\n",
       "6037      4\n",
       "6038      4\n",
       "6039      3\n",
       "6040      4\n",
       "Name: Rating, Length: 6040, dtype: float64"
      ]
     },
     "execution_count": 113,
     "metadata": {},
     "output_type": "execute_result"
    }
   ],
   "source": [
    "user_groups = ratingData.groupby(\"UserID\")\n",
    "user_groups[\"Rating\"].agg(max_minus_min_value)"
   ]
  },
  {
   "cell_type": "code",
   "execution_count": 93,
   "metadata": {
    "collapsed": false
   },
   "outputs": [
    {
     "data": {
      "text/plain": [
       "UserID\n",
       "4169      2314\n",
       "dtype: int64"
      ]
     },
     "execution_count": 93,
     "metadata": {},
     "output_type": "execute_result"
    }
   ],
   "source": [
    "numMoviesRatedPerUser = ratingData.groupby([\"UserID\"]).size()\n",
    "maxMoviesRatedMask = numMoviesRatedPerUser == numMoviesRatedPerUser.max()\n",
    "numMoviesRatedPerUser[maxMoviesRatedMask]"
   ]
  },
  {
   "cell_type": "code",
   "execution_count": 97,
   "metadata": {
    "collapsed": false
   },
   "outputs": [
    {
     "data": {
      "text/plain": [
       "MovieID\n",
       "787        5\n",
       "989        5\n",
       "1830       5\n",
       "3172       5\n",
       "3233       5\n",
       "3280       5\n",
       "3382       5\n",
       "3607       5\n",
       "3656       5\n",
       "3881       5\n",
       "Name: Rating, dtype: float64"
      ]
     },
     "execution_count": 97,
     "metadata": {},
     "output_type": "execute_result"
    }
   ],
   "source": [
    "#Which movie id got the highest average rating?\n",
    "ratingData[\"Rating\"] = ratingData.Rating.astype(float)\n",
    "movieGroups = ratingData.groupby(\"MovieID\")\n",
    "avgRatingPerMovie = movieGroups.Rating.mean()\n",
    "highestRatingMask = avgRatingPerMovie==avgRatingPerMovie.max()\n",
    "avgRatingPerMovie[highestRatingMask]"
   ]
  },
  {
   "cell_type": "code",
   "execution_count": 105,
   "metadata": {
    "collapsed": false
   },
   "outputs": [
    {
     "name": "stdout",
     "output_type": "stream",
     "text": [
      "3706\n",
      "3706\n"
     ]
    }
   ],
   "source": [
    "print len(ratingData.MovieID.unique())\n",
    "print ratingData.MovieID.unique().shape[0]"
   ]
  },
  {
   "cell_type": "markdown",
   "metadata": {},
   "source": [
    "OK, now you've worked through a single dataset and learned a little **pandas**.\n",
    "\n",
    "The next notebook will be a complete assignment that you will have to work through, showcasing what you've learned so far!"
   ]
  }
 ],
 "metadata": {
  "kernelspec": {
   "display_name": "Python 2",
   "language": "python",
   "name": "python2"
  },
  "language_info": {
   "codemirror_mode": {
    "name": "ipython",
    "version": 2
   },
   "file_extension": ".py",
   "mimetype": "text/x-python",
   "name": "python",
   "nbconvert_exporter": "python",
   "pygments_lexer": "ipython2",
   "version": "2.7.9"
  }
 },
 "nbformat": 4,
 "nbformat_minor": 0
}
