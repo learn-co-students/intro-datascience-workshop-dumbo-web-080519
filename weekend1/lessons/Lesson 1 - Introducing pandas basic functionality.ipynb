{
 "cells": [
  {
   "cell_type": "markdown",
   "metadata": {},
   "source": [
    "Ok, now that we have the basics of **IPython Notebooks** down, lets get to work!"
   ]
  },
  {
   "cell_type": "markdown",
   "metadata": {},
   "source": [
    "As is almost always the case when working with **Python**, we are going to need more than just its basic functionality available to us as we develop our analytical pipelines. \n",
    "\n",
    "In order to have this additional functionality available (being able to use **pandas**), we will rely on a  couple `import` statements.\n",
    "\n",
    "Here they are:"
   ]
  },
  {
   "cell_type": "code",
   "execution_count": 1,
   "metadata": {
    "collapsed": true
   },
   "outputs": [],
   "source": [
    "import pandas as pd\n",
    "import numpy as np"
   ]
  },
  {
   "cell_type": "markdown",
   "metadata": {},
   "source": [
    "The code above did two things:\n",
    "\n",
    "* Loaded in all of the functionality that **pandas** provides (`import pandas as pd`)\n",
    "* Loaded in some additional functionality from a different package that **pandas** relies on called **NumPy** (`import numpy as np`)\n",
    "\n",
    "Importantly, `pd` is now the alias (new name) for the entire `pandas` library and `np` is the alias for the `numpy` library. Instead of having to type `pandas.something` or `numpy.something` to access a given function, you can now just type `pd` or `np`. \n",
    "\n",
    "So what exactly is [**pandas**](http://pandas.pydata.org) and why the funny name (we will talk about [**NumPy**](http://www.numpy.org) a bit later)?\n",
    "\n",
    "**pandas** is a Data Analysis Library written in and for the **Python** programming language and is a very loose acronym for **P**ython **An**alysis of **Da**taset**s** (or something like that anyway). \n",
    "\n",
    "It provides open source, easy-to-use data structures and data analysis tools.\n",
    "\n",
    "We will be using it exclusively for the next two days."
   ]
  },
  {
   "cell_type": "markdown",
   "metadata": {},
   "source": [
    "Before we get started with an actual dataset, lets make a dummy dataset and just understand the basics of the two main kinds of objects we will be working with in **pandas**, `Series` and `DataFrame` objects.\n",
    "\n",
    "Here is an example `Series` stored in a variable we will call `example_series`:"
   ]
  },
  {
   "cell_type": "code",
   "execution_count": 2,
   "metadata": {
    "collapsed": false
   },
   "outputs": [
    {
     "name": "stdout",
     "output_type": "stream",
     "text": [
      "a    0\n",
      "b    1\n",
      "c    2\n",
      "d    3\n",
      "e    4\n",
      "dtype: int64\n"
     ]
    }
   ],
   "source": [
    "example_series = pd.Series(range(5), index=['a', 'b', 'c', 'd', 'e'])\n",
    "print example_series"
   ]
  },
  {
   "cell_type": "markdown",
   "metadata": {},
   "source": [
    "From the **pandas** documentation, a `Series` is \"a one-dimensional labeled array capable of holding any data type (integers, strings, floating point numbers, Python objects, etc.).\"\n",
    "\n",
    "This means that it is simply a table with a single column (that doesn't have a name) and an `index`, which is a pointer that identifies every single row in that `Series`.\n",
    "\n",
    "In our case, `example_series` contains 5 rows, whose values are the integers from 0-4 (inclusive) and whose index values are the letters a-e (inclusive)."
   ]
  },
  {
   "cell_type": "markdown",
   "metadata": {},
   "source": [
    "To create a `Series` object you call `pd.Series(data,index)` where `data` is the data you want stored, and `index` is **optional**, so if you don't provide it, it will be made for you:"
   ]
  },
  {
   "cell_type": "code",
   "execution_count": 4,
   "metadata": {
    "collapsed": false
   },
   "outputs": [
    {
     "name": "stdout",
     "output_type": "stream",
     "text": [
      "0    0\n",
      "1    1\n",
      "2    2\n",
      "3    3\n",
      "4    4\n",
      "dtype: int64\n"
     ]
    }
   ],
   "source": [
    "example_series_no_index_given = pd.Series(range(5))\n",
    "print example_series_no_index_given"
   ]
  },
  {
   "cell_type": "markdown",
   "metadata": {},
   "source": [
    "By default, when you don't provide an `index` **pandas** constructs one for you, starting at 0 and ending at the number of rows found in the `Series` minus 1. \n",
    "\n",
    "To access just the values or just the index in the `Series` object, you can call `index` or `values` on the objects you just created:"
   ]
  },
  {
   "cell_type": "code",
   "execution_count": 11,
   "metadata": {
    "collapsed": false
   },
   "outputs": [
    {
     "name": "stdout",
     "output_type": "stream",
     "text": [
      "[0 1 2 3 4]\n",
      "Index([u'a', u'b', u'c', u'd', u'e'], dtype='object')\n",
      "Int64Index([0, 1, 2, 3, 4], dtype='int64')\n"
     ]
    }
   ],
   "source": [
    "print example_series.values\n",
    "print example_series.index\n",
    "print example_series_no_index_given.index"
   ]
  },
  {
   "cell_type": "markdown",
   "metadata": {},
   "source": [
    "As you can see, the indices of the two objects we just created are different and of different type (one is an `int` and the other is `object`).\n",
    "\n",
    "This is just **pandas** way of saying this is a type that it knows isnt a number or a `DateTime` (this is for timeseries, we will cover them later).\n",
    "\n",
    "You can access values in a `Series` by their `index`:"
   ]
  },
  {
   "cell_type": "code",
   "execution_count": 14,
   "metadata": {
    "collapsed": false
   },
   "outputs": [
    {
     "name": "stdout",
     "output_type": "stream",
     "text": [
      "0\n",
      "0\n"
     ]
    }
   ],
   "source": [
    "print example_series['a']\n",
    "print example_series_no_index_given[0]"
   ]
  },
  {
   "cell_type": "markdown",
   "metadata": {},
   "source": [
    "Or by their position in the `Series`, including multiple positions at a time:"
   ]
  },
  {
   "cell_type": "code",
   "execution_count": 6,
   "metadata": {
    "collapsed": false
   },
   "outputs": [
    {
     "name": "stdout",
     "output_type": "stream",
     "text": [
      "A single value:  0\n"
     ]
    }
   ],
   "source": [
    "print \"A single value: \", example_series[0]"
   ]
  },
  {
   "cell_type": "markdown",
   "metadata": {},
   "source": [
    "When you access multiple rows, you get a series back instead of a single number:"
   ]
  },
  {
   "cell_type": "code",
   "execution_count": 7,
   "metadata": {
    "collapsed": false
   },
   "outputs": [
    {
     "name": "stdout",
     "output_type": "stream",
     "text": [
      "A series in return: \n",
      "a    0\n",
      "b    1\n",
      "dtype: int64\n"
     ]
    }
   ],
   "source": [
    "print \"A series in return: \\n\", example_series[0:2]"
   ]
  },
  {
   "cell_type": "markdown",
   "metadata": {},
   "source": [
    "You can also rearrange the values in a `Series` when you query it:"
   ]
  },
  {
   "cell_type": "code",
   "execution_count": 24,
   "metadata": {
    "collapsed": false
   },
   "outputs": [
    {
     "name": "stdout",
     "output_type": "stream",
     "text": [
      "A series rearranged: \n",
      "d    3\n",
      "a    0\n",
      "c    2\n",
      "dtype: int64\n"
     ]
    }
   ],
   "source": [
    "print \"A series rearranged: \\n\", example_series[['d','a','c']]"
   ]
  },
  {
   "cell_type": "markdown",
   "metadata": {},
   "source": [
    "When working with `Series` objects, you can do all sorts of math and selections on them (as long as the values in the object are numbers!):"
   ]
  },
  {
   "cell_type": "code",
   "execution_count": 30,
   "metadata": {
    "collapsed": false
   },
   "outputs": [
    {
     "name": "stdout",
     "output_type": "stream",
     "text": [
      "Multiplying every value in the series * 2: \n",
      "a    0\n",
      "b    2\n",
      "c    4\n",
      "d    6\n",
      "e    8\n",
      "dtype: int64 \n",
      "\n",
      "Get those indices in the Series that have values greater than 1: \n",
      "a    False\n",
      "b    False\n",
      "c     True\n",
      "d     True\n",
      "e     True\n",
      "dtype: bool \n",
      "\n",
      "Select those values in the Series that have values greater than 1: \n",
      "c    2\n",
      "d    3\n",
      "e    4\n",
      "dtype: int64\n"
     ]
    }
   ],
   "source": [
    "print \"Multiplying every value in the series * 2: \\n\", example_series * 2,\"\\n\"\n",
    "print \"Get those indices in the Series that have values greater than 1: \\n\",\\\n",
    "example_series > 1, \"\\n\"\n",
    "print \"Select those values in the Series that have values greater than 1: \\n\",\\\n",
    "example_series[example_series > 1]"
   ]
  },
  {
   "cell_type": "markdown",
   "metadata": {},
   "source": [
    "**Whenever you extract a single column from a `DataFrame` object, or whenever you compute some values on a `DataFrame` object that are only a single column, you will always get a `Series` back in return.**\n",
    "\n",
    "In the backend, a `Series` object is essentially a **Python** `dict` object (which you should have practiced with in the pre-work!) where the `keys` are the index values in the `Series` and the `values` of the `dict` are the actual values stored in the `Series`.\n",
    "\n",
    "This is important to understand for the remainder of the course. If you only get a single column, its a `Series` (represented as a `dict` in the background). If there are multiple columns together, you get a `DataFrame`. "
   ]
  },
  {
   "cell_type": "markdown",
   "metadata": {},
   "source": [
    "So let's talk about `DataFrame` objects now. \n",
    "\n",
    "Here is an example `DataFrame` object:"
   ]
  },
  {
   "cell_type": "code",
   "execution_count": 48,
   "metadata": {
    "collapsed": false
   },
   "outputs": [
    {
     "name": "stdout",
     "output_type": "stream",
     "text": [
      "An example dataframe:\n"
     ]
    },
    {
     "data": {
      "text/html": [
       "<div style=\"max-height:1000px;max-width:1500px;overflow:auto;\">\n",
       "<table border=\"1\" class=\"dataframe\">\n",
       "  <thead>\n",
       "    <tr style=\"text-align: right;\">\n",
       "      <th></th>\n",
       "      <th>one</th>\n",
       "      <th>two</th>\n",
       "    </tr>\n",
       "  </thead>\n",
       "  <tbody>\n",
       "    <tr>\n",
       "      <th>a</th>\n",
       "      <td>0</td>\n",
       "      <td>aa</td>\n",
       "    </tr>\n",
       "    <tr>\n",
       "      <th>b</th>\n",
       "      <td>1</td>\n",
       "      <td>oo</td>\n",
       "    </tr>\n",
       "    <tr>\n",
       "      <th>c</th>\n",
       "      <td>2</td>\n",
       "      <td>ee</td>\n",
       "    </tr>\n",
       "    <tr>\n",
       "      <th>d</th>\n",
       "      <td>NaN</td>\n",
       "      <td>ii</td>\n",
       "    </tr>\n",
       "    <tr>\n",
       "      <th>e</th>\n",
       "      <td>3</td>\n",
       "      <td>yy</td>\n",
       "    </tr>\n",
       "  </tbody>\n",
       "</table>\n",
       "</div>"
      ],
      "text/plain": [
       "   one two\n",
       "a    0  aa\n",
       "b    1  oo\n",
       "c    2  ee\n",
       "d  NaN  ii\n",
       "e    3  yy"
      ]
     },
     "execution_count": 48,
     "metadata": {},
     "output_type": "execute_result"
    }
   ],
   "source": [
    "d = {'one': pd.Series(range(4), index=['a','b','c','e']),\n",
    "    'two': pd.Series(['aa','oo','ee','ii',\"yy\"],index=['a','b','c','d','e'])}\n",
    "example_df = pd.DataFrame(d)\n",
    "print \"An example dataframe:\"\n",
    "example_df"
   ]
  },
  {
   "cell_type": "markdown",
   "metadata": {},
   "source": [
    "`example_df` is a `DataFrame` that contains 2 columns, `one` and `two`. They have different datatypes and an `index` that is non-numeric:"
   ]
  },
  {
   "cell_type": "code",
   "execution_count": 49,
   "metadata": {
    "collapsed": false
   },
   "outputs": [
    {
     "name": "stdout",
     "output_type": "stream",
     "text": [
      "The datatypes for the columns in the DataFrame: \n",
      "one    float64\n",
      "two     object\n",
      "dtype: object \n",
      "\n",
      "The index of the DataFrame: \n",
      "Index([u'a', u'b', u'c', u'd', u'e'], dtype='object')\n",
      "The values in the DataFrame: \n",
      "[[0.0 'aa']\n",
      " [1.0 'oo']\n",
      " [2.0 'ee']\n",
      " [nan 'ii']\n",
      " [3.0 'yy']]\n"
     ]
    }
   ],
   "source": [
    "print \"The datatypes for the columns in the DataFrame: \\n\", example_df.dtypes ,\"\\n\"\n",
    "print \"The index of the DataFrame: \\n\", example_df.index\n",
    "print \"The values in the DataFrame: \\n\", example_df.values"
   ]
  },
  {
   "cell_type": "markdown",
   "metadata": {},
   "source": [
    "Also, notice that in the case of our example `DataFrame`, one of the elements is labeled `NaN` because although the index was created (for the second column), no value was supplied for that index in the first column. By default, **pandas** is smart and automatically fills in `NaN` for that value (this stands for \"not a number\" and is the default way that it handles nulls). "
   ]
  },
  {
   "cell_type": "markdown",
   "metadata": {},
   "source": [
    "As an aside, the `u` before each letter in the `index` tells you that the characters are encoded using the UNICODE format. This is a common format that allows one to represent more symbols than just ASCII can handle (things like characters in non-European languages, characters with accents, non-standard symbols, etc.)\n",
    "\n",
    "You can also access the column names directly:"
   ]
  },
  {
   "cell_type": "code",
   "execution_count": 38,
   "metadata": {
    "collapsed": false
   },
   "outputs": [
    {
     "data": {
      "text/plain": [
       "Index([u'one', u'two'], dtype='object')"
      ]
     },
     "execution_count": 38,
     "metadata": {},
     "output_type": "execute_result"
    }
   ],
   "source": [
    "example_df.columns"
   ]
  },
  {
   "cell_type": "markdown",
   "metadata": {},
   "source": [
    "And you can access the values in a column by passing the column name to the dataframe:"
   ]
  },
  {
   "cell_type": "code",
   "execution_count": 39,
   "metadata": {
    "collapsed": false
   },
   "outputs": [
    {
     "data": {
      "text/plain": [
       "a     0\n",
       "b     1\n",
       "c     2\n",
       "d   NaN\n",
       "Name: one, dtype: float64"
      ]
     },
     "execution_count": 39,
     "metadata": {},
     "output_type": "execute_result"
    }
   ],
   "source": [
    "example_df[\"one\"]"
   ]
  },
  {
   "cell_type": "markdown",
   "metadata": {},
   "source": [
    "You can also access all the values in a set of rows and columns by their index.\n",
    "\n",
    "To do so, you have to treat the values in the dataframe as part of a 2-d grid and access the specific elements you want directly. If you want the whole row or column, use `:`. \n",
    "\n",
    "Here is an example where I simply am getting all of the values in the first column just as I had done above (remember, in Python indexing starts from 0, not 1):"
   ]
  },
  {
   "cell_type": "code",
   "execution_count": 36,
   "metadata": {
    "collapsed": false
   },
   "outputs": [
    {
     "data": {
      "text/plain": [
       "a     0\n",
       "b     1\n",
       "c     2\n",
       "d   NaN\n",
       "Name: one, dtype: float64"
      ]
     },
     "execution_count": 36,
     "metadata": {},
     "output_type": "execute_result"
    }
   ],
   "source": [
    "example_df.ix[:,0]"
   ]
  },
  {
   "cell_type": "markdown",
   "metadata": {},
   "source": [
    "And here is how I would access only the first two rows in the second column of the dataframe by either calling the column or via indexing on the values:"
   ]
  },
  {
   "cell_type": "code",
   "execution_count": 40,
   "metadata": {
    "collapsed": false
   },
   "outputs": [
    {
     "name": "stdout",
     "output_type": "stream",
     "text": [
      "Calling the specific column: \n",
      "a    aa\n",
      "b    oo\n",
      "Name: two, dtype: object \n",
      "\n",
      "Using pure indexing on the values: \n",
      "a    aa\n",
      "b    oo\n",
      "Name: two, dtype: object\n"
     ]
    }
   ],
   "source": [
    "print \"Calling the specific column: \\n\", example_df[\"two\"][0:2],\"\\n\"\n",
    "print \"Using pure indexing on the values: \\n\", example_df.ix[0:2,1]"
   ]
  },
  {
   "cell_type": "markdown",
   "metadata": {},
   "source": [
    "Also, keep in mind that `0:2` actually means the indices at 0 and 1, excluding 2. \n",
    "\n",
    "If you want to go from some index to the end, use `::`. \n",
    "\n",
    "So, here is a way to get all of the rows in the first column from the 3rd row on (again, I will show you two ways of doing it):"
   ]
  },
  {
   "cell_type": "code",
   "execution_count": 41,
   "metadata": {
    "collapsed": false
   },
   "outputs": [
    {
     "name": "stdout",
     "output_type": "stream",
     "text": [
      "Access via column name: \n",
      "c     2\n",
      "d   NaN\n",
      "Name: one, dtype: float64 \n",
      "\n",
      "Pure indexing: \n",
      "c     2\n",
      "d   NaN\n",
      "Name: one, dtype: float64\n"
     ]
    }
   ],
   "source": [
    "print \"Access via column name: \\n\", example_df[\"one\"][2::],\"\\n\"\n",
    "print \"Pure indexing: \\n\", example_df.ix[2::,0]"
   ]
  },
  {
   "cell_type": "markdown",
   "metadata": {},
   "source": [
    "And this is how you would get all of the values in every column from the 3rd row down:"
   ]
  },
  {
   "cell_type": "code",
   "execution_count": 43,
   "metadata": {
    "collapsed": false
   },
   "outputs": [
    {
     "name": "stdout",
     "output_type": "stream",
     "text": [
      "   one two\n",
      "c    2  ee\n",
      "d  NaN  ii\n"
     ]
    },
    {
     "data": {
      "text/html": [
       "<div style=\"max-height:1000px;max-width:1500px;overflow:auto;\">\n",
       "<table border=\"1\" class=\"dataframe\">\n",
       "  <thead>\n",
       "    <tr style=\"text-align: right;\">\n",
       "      <th></th>\n",
       "      <th>one</th>\n",
       "      <th>two</th>\n",
       "    </tr>\n",
       "  </thead>\n",
       "  <tbody>\n",
       "    <tr>\n",
       "      <th>c</th>\n",
       "      <td>2</td>\n",
       "      <td>ee</td>\n",
       "    </tr>\n",
       "    <tr>\n",
       "      <th>d</th>\n",
       "      <td>NaN</td>\n",
       "      <td>ii</td>\n",
       "    </tr>\n",
       "  </tbody>\n",
       "</table>\n",
       "</div>"
      ],
      "text/plain": [
       "   one two\n",
       "c    2  ee\n",
       "d  NaN  ii"
      ]
     },
     "execution_count": 43,
     "metadata": {},
     "output_type": "execute_result"
    }
   ],
   "source": [
    "print \"Calling via access on the dataframe: \\n\", example_df[2::], \"\\n\"\n",
    "print example_df.ix[2::,:]"
   ]
  },
  {
   "cell_type": "markdown",
   "metadata": {},
   "source": [
    "If by now you are starting to grok how you accesss data via pure data indexing, then you should quickly see that the following two ways to access all the data in our example dataframe are functionally equivalent:"
   ]
  },
  {
   "cell_type": "code",
   "execution_count": 24,
   "metadata": {
    "collapsed": false
   },
   "outputs": [
    {
     "name": "stdout",
     "output_type": "stream",
     "text": [
      "This is one way to get the whole dataframe: \n",
      "   one two\n",
      "a    0  aa\n",
      "b    1  oo\n",
      "c    2  ee\n",
      "d  NaN  ii \n",
      "\n",
      "And this one is equivalent: \n",
      "   one two\n",
      "a    0  aa\n",
      "b    1  oo\n",
      "c    2  ee\n",
      "d  NaN  ii\n"
     ]
    }
   ],
   "source": [
    "print \"This is one way to get the whole dataframe: \\n\", example_df,\"\\n\"\n",
    "print \"And this one is equivalent: \\n\", example_df.ix[:,:]"
   ]
  },
  {
   "cell_type": "markdown",
   "metadata": {},
   "source": [
    "Selecting and performing math on columns within a `DataFrame` object works identically to how it does in a `Series`, except you need to be careful that the type of the column youre working on matches the operation youre trying to perform:"
   ]
  },
  {
   "cell_type": "code",
   "execution_count": 34,
   "metadata": {
    "collapsed": false
   },
   "outputs": [
    {
     "data": {
      "text/plain": [
       "a     0\n",
       "b     2\n",
       "c     4\n",
       "d   NaN\n",
       "Name: one, dtype: float64"
      ]
     },
     "execution_count": 34,
     "metadata": {},
     "output_type": "execute_result"
    }
   ],
   "source": [
    "example_df[\"one\"] * 2"
   ]
  },
  {
   "cell_type": "markdown",
   "metadata": {},
   "source": [
    "Because sometimes the behavior it gives you is not what you want, if you don't understand what you're doing:"
   ]
  },
  {
   "cell_type": "code",
   "execution_count": 46,
   "metadata": {
    "collapsed": false
   },
   "outputs": [
    {
     "data": {
      "text/plain": [
       "a    aaaa\n",
       "b    oooo\n",
       "c    eeee\n",
       "d    iiii\n",
       "Name: two, dtype: object"
      ]
     },
     "execution_count": 46,
     "metadata": {},
     "output_type": "execute_result"
    }
   ],
   "source": [
    "example_df[\"two\"] * 2"
   ]
  },
  {
   "cell_type": "markdown",
   "metadata": {},
   "source": [
    "What does all of this mean? How do `DataFrame` and `Series` objects relate to each other? \n",
    "\n",
    "A `DataFrame` is essentially a collection of `Series` objects, all having the same indices. \n",
    "\n",
    "Again, straight from the [**pandas documentation**](http://pandas.pydata.org/pandas-docs/stable/dsintro.html#dataframe):\n",
    "\n",
    "\"...`DataFrame` is a 2-dimensional labeled data structure with columns of potentially different types. You can think of it like a spreadsheet or SQL table, or a `dict` of `Series` objects.\"\n",
    "\n",
    "So, at bottom, what we will be doing for this workshop is learning how to manipulate **Python** `dict` objects in a variety of useful ways.\n",
    "\n",
    "This is just a basic prelude to get you to understand what we are going to be dealing with."
   ]
  },
  {
   "cell_type": "markdown",
   "metadata": {},
   "source": [
    "Just to get some practice with `DataFrame` and `Series` objects, do the following:\n",
    "\n",
    "1. Get all of the values in the first column of `example_df`\n",
    "*  Get all of the values in the second column of `example_df`\n",
    "*  Get all of the values less than 2 in `example_df` and in `example_series`\n",
    "*  Get the value found in the 4th row of the second column in `example_df`\n",
    "*  Get the values in every column from the 4th row on in `example_df`\n",
    "*  Divide every value in `example_series` by 3"
   ]
  },
  {
   "cell_type": "code",
   "execution_count": null,
   "metadata": {
    "collapsed": true
   },
   "outputs": [],
   "source": [
    "##YOUR CODE HERE"
   ]
  }
 ],
 "metadata": {
  "kernelspec": {
   "display_name": "Python 2",
   "language": "python",
   "name": "python2"
  },
  "language_info": {
   "codemirror_mode": {
    "name": "ipython",
    "version": 2
   },
   "file_extension": ".py",
   "mimetype": "text/x-python",
   "name": "python",
   "nbconvert_exporter": "python",
   "pygments_lexer": "ipython2",
   "version": "2.7.9"
  }
 },
 "nbformat": 4,
 "nbformat_minor": 0
}
