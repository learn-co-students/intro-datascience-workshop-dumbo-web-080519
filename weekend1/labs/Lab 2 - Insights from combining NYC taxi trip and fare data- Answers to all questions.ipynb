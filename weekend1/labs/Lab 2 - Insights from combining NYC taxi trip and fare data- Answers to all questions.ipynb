{
 "cells": [
  {
   "cell_type": "markdown",
   "metadata": {},
   "source": [
    "For this lab, you are going to be combining the fare data you used in **Lab 1** with some trip data about those same exact taxi rides.\n",
    "\n",
    "Here is the schema of the trip dataset, found in `trip_data_1_trimmed.csv`:\n",
    "\n",
    "* `medallion`: The ID of the cab being operated\n",
    "* `hack_license`: The ID of the person operating the cab\n",
    "* `vendor_id`: The type of vendor operating the cab, can either be `CMT` or `VTS`, no clue what these two types mean\n",
    "* `rate_code`: Designates the kind of ride this is, must be `1` through `6`, any other number is incorrect\n",
    "* `store_and_fwd_flag`: Can be either `Y`,`N`, or Nan\n",
    "* `pickup_datetime`: The time when the ride started\n",
    "* `dropoff_datetime`: The time when the ride ended\n",
    "* `passenger_count`: The number of passengers during the ride\n",
    "* `trip_time_in_secs`: How long the trip took\n",
    "* `trip_distance`: Distance of the trip, to the nearest 1/10 mile\n",
    "* `pickup_longitude`: Longitude of pickup location\n",
    "* `pickup_latitude`: Latitude of pickup location\n",
    "* `dropoff_longitude`: Longitude of dropoff location\n",
    "* `dropoff_latitude`: Latitude of dropoff location\n",
    "\n",
    "And here is the schema for the fare dataset, as a refresher (you're going to be using it too :)), found in `fare_data_1_trimmed.csv`:\n",
    "\n",
    "* `medallion`: The ID of the cab being operated\n",
    "* `hack_license`: The ID of the person operating the cab\n",
    "* `vendor_id`: The type of vendor operating the cab, can either be `CMT` or `VTS`, no clue what these two types mean\n",
    "* `pickup_datetime`: The time when the ride started\n",
    "* `payment_type`: How the trip was paid, `UNK` stands for unknown, I have no idea what `NOC` stands for, but lets assume its some known way to pay\n",
    "* `fare_amount`: Base fare cost of the trip\n",
    "* `surcharge`: Additional charges that are not tolls\n",
    "* `mta_tax`: The mta has to get its cut, right? :)\n",
    "* `tip_amount`: How generous the rider(s) decided to be\n",
    "* `tolls_amount`: How much money you had to pay in tolls\n",
    "* `total_amount`: How much the trip cost, all in\n",
    "\n",
    "One final piece of information you will need, the approximate latitude/longitude bounds of a bounding box centered around each borough in NYC:\n",
    "\n",
    "* Queens,40.800760,40.542920,-73.700272,-73.962616\n",
    "* Manhattan,40.874663,40.701293,-73.910759,-74.018721\n",
    "* Bronx,40.915255,40.785743,-73.765274,-73.933406\n",
    "* Brooklyn,40.739877,40.57042,-73.864754,-74.04344\n",
    "* Staten Island,40.651812,40.477399,-74.034547,-74.259090"
   ]
  },
  {
   "cell_type": "markdown",
   "metadata": {},
   "source": [
    "So, as was the case with the last lab, you are going to be tasked with answering a whole slew of questions about these data, except the questions here should be significantly more challenging.\n",
    "\n",
    "Before beginning, please:\n",
    "\n",
    "1. Remove any rides that did not have an appropriate `rate_code` \n",
    "* Convert pickup and dropoff locations from latitude/longitude to (approximate) borough. This will be very challening. I suggest the following approach, although you can try others:\n",
    "  1. Calculate the exact center of each borough's bounding box and store each in a new variable (you should have one of these per borough, so 5 variables)\n",
    "  * Find the distance from the given ride's pickup/dropoff location and the center of each borough found in A. \n",
    "  * Pick the borough that had the smallest distance from the given location to its bounding box center. (this is messy because it ignores cases where the start/end location isn't in the 5 boroughs, but its the best we can do with the information you're provided)\n",
    "* Once this is done, join the `trip_data` and `fare_data` datasets together. You will need to join the datasets on more than one column, but you will have to figure out what those columns are!"
   ]
  },
  {
   "cell_type": "markdown",
   "metadata": {},
   "source": [
    "Once you've gotten the preprocessing out of the way, answer the following questions:\n",
    "\n",
    "1. What was the most common borough start location?\n",
    "  * End location?\n",
    "  * Pair of start/end locations? Excluding manhattan/manhattan?\n",
    "* Which driver (`hack_license`) carried the most passengers, on average?\n",
    "* Which driver had the highest tip percentage, on average, for those drivers that made at least 5 trips in the dataset?\n",
    "* Was there any relationship between (correlation) when a taxi ride ended (get the closest minute within the day) and the tip percentage on the fare?\n",
    "* Did the trip time correlate with the cost of the trip?\n",
    "  * What about the tip amount?\n",
    "* Which cab tended to generate the most revenue, on average, when picking people up in Manhattan?\n",
    "* What was the average cost of all of the trips that originated in Brooklyn?\n",
    "* Which driver made the most money overall? Assume the only money made was from tips.\n",
    "  * Which driver made the most money on average?\n",
    "  * Which driver made the most money in each borough?\n",
    "* What was the average trip distance and trip cost for intra-borough (same starting/ending borough) trips?\n",
    "  1. For inter-borough (different starting/ending borough) trips?\n",
    "* Which borough had the cheapest tippers (had the smallest average tip percentage)? Assume that if a trip starts within some borough, then that trip belongs in that borough.\n",
    "* Which driver logged the most miles in this dataset?\n",
    "* What was the average toll amount for intra-borough rides? For inter-borough  rides?"
   ]
  },
  {
   "cell_type": "code",
   "execution_count": 4,
   "metadata": {
    "collapsed": true
   },
   "outputs": [],
   "source": [
    "import pandas as pd\n",
    "import numpy as np\n",
    "import math as math\n",
    "from geopy.distance import great_circle"
   ]
  },
  {
   "cell_type": "code",
   "execution_count": 7,
   "metadata": {
    "collapsed": true
   },
   "outputs": [],
   "source": [
    "queensCenter = ((40.800760+40.542920)/2,(-73.700272-73.962616)/2)\n",
    "brookCenter = ((40.739877+40.57042)/2,(-73.864754-74.04344)/2)\n",
    "bronxCenter = ((40.915255+40.785743)/2,(-73.765274-73.933406)/2)\n",
    "manhattanCenter = ((40.874663+40.701293)/2,(-73.910759-74.018721)/2)\n",
    "siCenter = ((40.651812+40.477399)/2,(-74.034547-74.259090)/2)\n",
    "boroughDict = {}\n",
    "boroughDict[\"queens\"] = queensCenter\n",
    "boroughDict[\"brooklyn\"] = brookCenter\n",
    "boroughDict[\"bronx\"] = bronxCenter\n",
    "boroughDict[\"manhattan\"] = manhattanCenter\n",
    "boroughDict[\"staten\"] = siCenter"
   ]
  },
  {
   "cell_type": "code",
   "execution_count": 8,
   "metadata": {
    "collapsed": true
   },
   "outputs": [],
   "source": [
    "def get_closest_borough(latitude,longitude,max_dist = 20):\n",
    "    global boroughDict\n",
    "    borough_distances = {borough:great_circle(boroughDict[borough],(latitude,longitude)).miles for borough in boroughDict}\n",
    "    min_borough = min(borough_distances, key=borough_distances.get)\n",
    "    if borough_distances[min_borough] < max_dist:\n",
    "        return min_borough \n",
    "    else:\n",
    "        return \"outside_nyc\""
   ]
  },
  {
   "cell_type": "code",
   "execution_count": 9,
   "metadata": {
    "collapsed": true
   },
   "outputs": [],
   "source": [
    "tripData = pd.read_csv(\"/Users/sfogelson/code/flatiron_school/intro-datascience-workshop/weekend1/nycTaxiData/trip_data_1_trimmed.csv\")"
   ]
  },
  {
   "cell_type": "code",
   "execution_count": 10,
   "metadata": {
    "collapsed": true
   },
   "outputs": [],
   "source": [
    "fareData = pd.read_csv(\"/Users/sfogelson/code/flatiron_school/intro-datascience-workshop/weekend1/nycTaxiData/trip_fare_1_trimmed.csv\")"
   ]
  },
  {
   "cell_type": "code",
   "execution_count": 12,
   "metadata": {
    "collapsed": false
   },
   "outputs": [],
   "source": [
    "trip_and_fare_data = tripData.merge(fareData,on=[\"medallion\",\"hack_license\",\"vendor_id\",\"pickup_datetime\"])\n",
    "del tripData\n",
    "del fareData"
   ]
  },
  {
   "cell_type": "code",
   "execution_count": 14,
   "metadata": {
    "collapsed": false
   },
   "outputs": [
    {
     "data": {
      "text/plain": [
       "Index([u'medallion', u'hack_license', u'vendor_id', u'rate_code', u'store_and_fwd_flag', u'pickup_datetime', u'dropoff_datetime', u'passenger_count', u'trip_time_in_secs', u'trip_distance', u'pickup_longitude', u'pickup_latitude', u'dropoff_longitude', u'dropoff_latitude', u'payment_type', u'fare_amount', u'surcharge', u'mta_tax', u'tip_amount', u'tolls_amount', u'total_amount'], dtype='object')"
      ]
     },
     "execution_count": 14,
     "metadata": {},
     "output_type": "execute_result"
    }
   ],
   "source": [
    "#test_df = trip_and_fare_data.head()\n",
    "test_df.columns"
   ]
  },
  {
   "cell_type": "code",
   "execution_count": 23,
   "metadata": {
    "collapsed": false
   },
   "outputs": [],
   "source": [
    "trip_and_fare_data[\"borough_start\"] = [get_closest_borough(lat,lon) for lat,lon in trip_and_fare_data[['pickup_latitude','pickup_longitude']].values]\n",
    "trip_and_fare_data[\"borough_end\"] = [get_closest_borough(lat,lon) for lat,lon in trip_and_fare_data[['dropoff_latitude','dropoff_longitude']].values]"
   ]
  },
  {
   "cell_type": "code",
   "execution_count": 28,
   "metadata": {
    "collapsed": false
   },
   "outputs": [
    {
     "data": {
      "text/plain": [
       "manhattan      4281466\n",
       "brooklyn        509705\n",
       "outside_nyc      93366\n",
       "queens           73612\n",
       "bronx            32389\n",
       "staten            9463\n",
       "dtype: int64"
      ]
     },
     "execution_count": 28,
     "metadata": {},
     "output_type": "execute_result"
    }
   ],
   "source": [
    "trip_and_fare_data.borough_end.value_counts()"
   ]
  },
  {
   "cell_type": "code",
   "execution_count": 8,
   "metadata": {
    "collapsed": true
   },
   "outputs": [],
   "source": [
    "#2. Which driver (`hack_license`) carried the most passengers, on average?\n",
    "passengers_per_driver = trip_and_fare_data.groupby(\"hack_license\")[\"passenger_count\"].mean()\n",
    "largest_avg_passengers = passengers_per_driver[passengers_per_driver==passengers_per_driver.max()]\n",
    "print \"The driver that carried the most passengers on average:\"\n",
    "print largest_avg_passengers"
   ]
  },
  {
   "cell_type": "code",
   "execution_count": 16,
   "metadata": {
    "collapsed": false
   },
   "outputs": [
    {
     "name": "stdout",
     "output_type": "stream",
     "text": [
      "The driver with the highest tip percentage was:\n",
      "hack_license\n",
      "3E0D0714047240704CB51E0EB3A0101C    0.3125\n",
      "Name: tip_amount, dtype: float64\n"
     ]
    }
   ],
   "source": [
    "#3. Which driver had the highest tip percentage, on average, for those drivers that made at least 5 trips in the dataset?\n",
    "#this will make all columns have the same value, tip percentage, for each row, so if you pick one column, its\n",
    "#values will be the same as any other column's\n",
    "filteredDrivers = trip_and_fare_data.groupby(\"hack_license\").filter(lambda x: x.size>=5).groupby(\"hack_license\")[[\"tip_amount\",\"total_amount\"]].agg(lambda x: np.mean(x.tip_amount/x.total_amount))[\"tip_amount\"]\n",
    "print \"The driver with the highest tip percentage was:\"\n",
    "print filteredDrivers[filteredDrivers==filteredDrivers.max()]"
   ]
  },
  {
   "cell_type": "code",
   "execution_count": 25,
   "metadata": {
    "collapsed": false
   },
   "outputs": [
    {
     "name": "stdout",
     "output_type": "stream",
     "text": [
      "The correlation between tip percentage and minute in the day was:\n",
      "0.00806605983931\n"
     ]
    }
   ],
   "source": [
    "#Was there any relationship between (correlation) when a taxi ride ended (get the closest minute within the day) \n",
    "#and the tip percentage on the fare?\n",
    "#trip_and_fare_data[\"pickup_datetime\"] = pd.to_datetime(trip_and_fare_data.pickup_datetime,unit='s')\n",
    "#trip_and_fare_data[\"dropoff_datetime\"] = pd.to_datetime(trip_and_fare_data.dropoff_datetime,unit='s')\n",
    "trip_and_fare_data[\"tip_percentage\"] = trip_and_fare_data.tip_amount/trip_and_fare_data.total_amount\n",
    "trip_and_fare_data[\"minute_in_day\"] = (trip_and_fare_data.dropoff_datetime.dt.hour*60)+trip_and_fare_data.dropoff_datetime.dt.minute\n",
    "print \"The correlation between tip percentage and minute in the day was:\"\n",
    "print trip_and_fare_data.minute_in_day.corr(trip_and_fare_data.tip_percentage)"
   ]
  },
  {
   "cell_type": "code",
   "execution_count": 28,
   "metadata": {
    "collapsed": false
   },
   "outputs": [
    {
     "name": "stdout",
     "output_type": "stream",
     "text": [
      "The correlation between trip time and trip cost was:\n",
      "0.771897747749\n",
      "The correlation between trip time and tip amount was:\n",
      "0.499344485629\n"
     ]
    }
   ],
   "source": [
    "#Did the trip time correlate with the cost of the trip?\n",
    "print \"The correlation between trip time and trip cost was:\"\n",
    "print trip_and_fare_data.trip_time_in_secs.corr(trip_and_fare_data.total_amount)\n",
    "  #What about the tip amount?\n",
    "print \"The correlation between trip time and tip amount was:\"\n",
    "print trip_and_fare_data.trip_time_in_secs.corr(trip_and_fare_data.tip_amount)"
   ]
  },
  {
   "cell_type": "code",
   "execution_count": 30,
   "metadata": {
    "collapsed": false
   },
   "outputs": [
    {
     "name": "stdout",
     "output_type": "stream",
     "text": [
      "The driver that made the most money in tips was:\n",
      "hack_license\n",
      "2BF7915E6DC6252344DA12975B2B3E06    1183.13\n",
      "Name: tip_amount, dtype: float64\n",
      "The driver that made the most money on average per trip:\n",
      "hack_license\n",
      "6C36C7C13C8B025DB8C66FA2E091D37F    14.25\n",
      "Name: tip_amount, dtype: float64\n"
     ]
    }
   ],
   "source": [
    "#Which driver made the most money overall? Assume the only money made was from tips.\n",
    "hack_groups = trip_and_fare_data.groupby(\"hack_license\")\n",
    "total_made_in_tips = hack_groups[\"tip_amount\"].sum()\n",
    "print \"The driver that made the most money in tips was:\"\n",
    "print total_made_in_tips[total_made_in_tips==total_made_in_tips.max()]\n",
    "#  * Which driver made the most money on average?\n",
    "avg_tips = hack_groups[\"tip_amount\"].mean()\n",
    "print \"The driver that made the most money on average per trip:\"\n",
    "print avg_tips[avg_tips==avg_tips.max()]"
   ]
  },
  {
   "cell_type": "code",
   "execution_count": 31,
   "metadata": {
    "collapsed": false
   },
   "outputs": [
    {
     "name": "stdout",
     "output_type": "stream",
     "text": [
      "The driver that logged the most miles was:\n",
      "hack_license\n",
      "1E94B13BB698BC3C98178429C45FDEED    1807.8\n",
      "Name: trip_distance, dtype: float64\n"
     ]
    }
   ],
   "source": [
    "# Which driver logged the most miles in this dataset?\n",
    "total_miles = hack_groups[\"trip_distance\"].sum()\n",
    "print \"The driver that logged the most miles was:\"\n",
    "print total_miles[total_miles==total_miles.max()]"
   ]
  }
 ],
 "metadata": {
  "kernelspec": {
   "display_name": "Python 2",
   "language": "python",
   "name": "python2"
  },
  "language_info": {
   "codemirror_mode": {
    "name": "ipython",
    "version": 2
   },
   "file_extension": ".py",
   "mimetype": "text/x-python",
   "name": "python",
   "nbconvert_exporter": "python",
   "pygments_lexer": "ipython2",
   "version": "2.7.9"
  }
 },
 "nbformat": 4,
 "nbformat_minor": 0
}
